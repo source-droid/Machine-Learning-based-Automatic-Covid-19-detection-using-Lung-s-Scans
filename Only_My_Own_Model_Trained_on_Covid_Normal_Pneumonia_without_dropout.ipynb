{
  "nbformat": 4,
  "nbformat_minor": 0,
  "metadata": {
    "colab": {
      "name": "Only_My_Own_Model_Trained_on_Covid_Normal_Pneumonia_without_dropout.ipynb",
      "provenance": [],
      "collapsed_sections": [],
      "toc_visible": true,
      "include_colab_link": true
    },
    "kernelspec": {
      "display_name": "Python 3",
      "language": "python",
      "name": "python3"
    },
    "language_info": {
      "codemirror_mode": {
        "name": "ipython",
        "version": 3
      },
      "file_extension": ".py",
      "mimetype": "text/x-python",
      "name": "python",
      "nbconvert_exporter": "python",
      "pygments_lexer": "ipython3",
      "version": "3.7.9"
    }
  },
  "cells": [
    {
      "cell_type": "markdown",
      "metadata": {
        "id": "view-in-github",
        "colab_type": "text"
      },
      "source": [
        "<a href=\"https://colab.research.google.com/github/source-droid/Machine-Learning-based-Automatic-Covid-19-detection-using-Lung-s-Scans/blob/main/Only_My_Own_Model_Trained_on_Covid_Normal_Pneumonia_without_dropout.ipynb\" target=\"_parent\"><img src=\"https://colab.research.google.com/assets/colab-badge.svg\" alt=\"Open In Colab\"/></a>"
      ]
    },
    {
      "cell_type": "markdown",
      "metadata": {
        "id": "uuTPWNPDzjSy"
      },
      "source": [
        "# Import Libaries"
      ]
    },
    {
      "cell_type": "code",
      "metadata": {
        "id": "QJV6HBlQzilc"
      },
      "source": [
        "from tensorflow.keras.models import Sequential\n",
        "from tensorflow.keras.layers import Dense, Conv2D, Flatten, Dropout, MaxPooling2D\n",
        "from tensorflow.keras.preprocessing.image import ImageDataGenerator\n",
        "import tensorflow as tf\n",
        "import numpy as np\n",
        "import matplotlib.pyplot as plt\n",
        "import matplotlib.image as mpimg\n",
        "import random\n",
        "from tensorflow.keras.utils import to_categorical\n",
        "\n",
        "import sklearn.metrics as metrics\n",
        "from sklearn.metrics import plot_confusion_matrix\n",
        "from sklearn.metrics import confusion_matrix \n",
        "from sklearn.metrics import roc_curve, auc"
      ],
      "execution_count": null,
      "outputs": []
    },
    {
      "cell_type": "code",
      "metadata": {
        "colab": {
          "base_uri": "https://localhost:8080/",
          "height": 35
        },
        "id": "JyzLwmjeuzHO",
        "outputId": "b23c9e63-7805-47b5-eadd-abe40b71a567"
      },
      "source": [
        "import sklearn\n",
        "sklearn.__version__"
      ],
      "execution_count": null,
      "outputs": [
        {
          "output_type": "execute_result",
          "data": {
            "application/vnd.google.colaboratory.intrinsic+json": {
              "type": "string"
            },
            "text/plain": [
              "'0.24.1'"
            ]
          },
          "metadata": {
            "tags": []
          },
          "execution_count": 2
        }
      ]
    },
    {
      "cell_type": "markdown",
      "metadata": {
        "id": "eDG8HGbgzqvh"
      },
      "source": [
        "## Clone Dataset"
      ]
    },
    {
      "cell_type": "code",
      "metadata": {
        "colab": {
          "base_uri": "https://localhost:8080/"
        },
        "id": "ZKCZlUBgzszt",
        "outputId": "b61418fb-0d62-42bd-a34a-b78f70ee5415"
      },
      "source": [
        "# Cloning Dataset on Colab\n",
        "! git clone https://github.com/source-droid/Covid-19-CXR-Dataset.git"
      ],
      "execution_count": null,
      "outputs": [
        {
          "output_type": "stream",
          "text": [
            "Cloning into 'Covid-19-CXR-Dataset'...\n",
            "remote: Enumerating objects: 4366, done.\u001b[K\n",
            "remote: Total 4366 (delta 0), reused 0 (delta 0), pack-reused 4366\u001b[K\n",
            "Receiving objects: 100% (4366/4366), 2.82 GiB | 25.49 MiB/s, done.\n",
            "Resolving deltas: 100% (4/4), done.\n",
            "Checking out files: 100% (4350/4350), done.\n"
          ],
          "name": "stdout"
        }
      ]
    },
    {
      "cell_type": "code",
      "metadata": {
        "id": "CxFKTwlL_CUX"
      },
      "source": [
        "size = 150 "
      ],
      "execution_count": null,
      "outputs": []
    },
    {
      "cell_type": "markdown",
      "metadata": {
        "id": "EK9AM7o00FI6"
      },
      "source": [
        "# Reading the Training images\n"
      ]
    },
    {
      "cell_type": "code",
      "metadata": {
        "colab": {
          "base_uri": "https://localhost:8080/"
        },
        "id": "-YLPEfV1zxRL",
        "outputId": "692976b5-a448-4633-d820-0440676b2082"
      },
      "source": [
        "#Reading Training Images For Covid and Normal\n",
        "\n",
        "\n",
        "import numpy as np \n",
        "import glob \n",
        "import cv2 \n",
        "path_l = glob.glob(\"/content/Covid-19-CXR-Dataset/train/Covid/*.*\")\n",
        "cv_img = [] \n",
        "for img in path_l:\n",
        "    \n",
        "    n = cv2.imread(img) \n",
        "   # n  = cv2.cvtColor(n, cv2.COLOR_BGR2GRAY) # BGR to Grayscale Conversion\n",
        "    n = cv2.resize(n,(size,size)) \n",
        "    cv_img.append(n) \n",
        "arrayl = np.asarray(cv_img) \n",
        "print(arrayl.shape) \n",
        "\n",
        "path_2 = glob.glob(\"/content/Covid-19-CXR-Dataset/train/Normal/*.*\")\n",
        "cv_img = []\n",
        "for img in path_2:\n",
        "    n = cv2.imread(img)\n",
        "    #n  = cv2.cvtColor(n, cv2.COLOR_BGR2GRAY) # BGR to Grayscale Conversion\n",
        "    n = cv2.resize(n,(size,size))\n",
        "    cv_img.append(n) \n",
        "array2 = np.asarray(cv_img) \n",
        "print(array2.shape) \n",
        "\n",
        "path_3 = glob.glob(\"/content/Covid-19-CXR-Dataset/train/Viral Pneumonia/*.*\")\n",
        "cv_img = []\n",
        "for img in path_3:\n",
        "    n = cv2.imread(img)\n",
        "    #n  = cv2.cvtColor(n, cv2.COLOR_BGR2GRAY) # BGR to Grayscale Conversion\n",
        "    n = cv2.resize(n,(size,size))\n",
        "    cv_img.append(n) \n",
        "array3 = np.asarray(cv_img) \n",
        "print(array3.shape) "
      ],
      "execution_count": null,
      "outputs": [
        {
          "output_type": "stream",
          "text": [
            "(1330, 150, 150, 3)\n",
            "(1072, 150, 150, 3)\n",
            "(1076, 150, 150, 3)\n"
          ],
          "name": "stdout"
        }
      ]
    },
    {
      "cell_type": "markdown",
      "metadata": {
        "id": "Nb1jJeY10vWR"
      },
      "source": [
        "# Reading the Testing images\n"
      ]
    },
    {
      "cell_type": "code",
      "metadata": {
        "colab": {
          "base_uri": "https://localhost:8080/"
        },
        "id": "dLv-0AdZ0lov",
        "outputId": "bc2216e2-a7c0-4ac5-953d-66a1f6a8c8d0"
      },
      "source": [
        "# Reading Testing Images For Covid and Normal\n",
        "import numpy as np \n",
        "import glob\n",
        "import cv2 \n",
        "\n",
        "path_l = glob.glob(\"/content/Covid-19-CXR-Dataset/test/Covid/*.*\") \n",
        "cv_img = [] \n",
        "for img in path_l:\n",
        "    n = cv2.imread(img) \n",
        "    #n  = cv2.cvtColor(n, cv2.COLOR_BGR2GRAY) # BGR to Grayscale Conversion\n",
        "    n = cv2.resize(n,(size,size))\n",
        "    cv_img.append(n)\n",
        "array4 = np.asarray(cv_img) \n",
        "print(array4.shape) \n",
        "\n",
        "path_2 = glob.glob(\"/content/Covid-19-CXR-Dataset/test/Normal/*.*\") \n",
        "cv_img = []\n",
        "for img in path_2:\n",
        "    n = cv2.imread(img) \n",
        "    #n  = cv2.cvtColor(n, cv2.COLOR_BGR2GRAY) # BGR to Grayscale Conversion\n",
        "    n = cv2.resize(n,(size,size)) \n",
        "    cv_img.append(n) \n",
        "array5 = np.asarray(cv_img)\n",
        "print(array5.shape) \n",
        "\n",
        "path_3 = glob.glob(\"/content/Covid-19-CXR-Dataset/test/Viral Pneumonia/*.*\") \n",
        "cv_img = []\n",
        "for img in path_3:\n",
        "    n = cv2.imread(img) \n",
        "    #n  = cv2.cvtColor(n, cv2.COLOR_BGR2GRAY) # BGR to Grayscale Conversion\n",
        "    n = cv2.resize(n,(size,size)) \n",
        "    cv_img.append(n) \n",
        "array6 = np.asarray(cv_img)\n",
        "print(array6.shape) \n"
      ],
      "execution_count": null,
      "outputs": [
        {
          "output_type": "stream",
          "text": [
            "(333, 150, 150, 3)\n",
            "(269, 150, 150, 3)\n",
            "(269, 150, 150, 3)\n"
          ],
          "name": "stdout"
        }
      ]
    },
    {
      "cell_type": "markdown",
      "metadata": {
        "id": "L_9TdPGeSgXc"
      },
      "source": [
        "# Dataset Details\n",
        "\n",
        "|           |Covid |Normal |Pneumonia|Total     |\n",
        "|:---------:|:---: |:-----:|:-------:|:--------:|\n",
        "|**Train**  |1330  |1072   |1076     |3478      |\n",
        "|**Test**   | 333  | 269   |269      |871       |\n",
        "|**Total**  |1663  |1341   |1345     |**4349**  |\n"
      ]
    },
    {
      "cell_type": "markdown",
      "metadata": {
        "id": "Su0rfWHU1Lcp"
      },
      "source": [
        "# Concatenating Covid and Normal arrays into one variable for train and test:"
      ]
    },
    {
      "cell_type": "code",
      "metadata": {
        "colab": {
          "base_uri": "https://localhost:8080/"
        },
        "id": "iRKk3yA00_M8",
        "outputId": "d43f50f2-0a46-419f-b539-76042582dacc"
      },
      "source": [
        "# Concatenating Covid and Normal arrays into one variable for train and test:\n",
        "Xtrain = np.concatenate((arrayl,array2,array3))\n",
        "\n",
        "Xtest = np.concatenate((array4,array5, array6))\n",
        "\n",
        "Xtrain.shape , Xtest.shape "
      ],
      "execution_count": null,
      "outputs": [
        {
          "output_type": "execute_result",
          "data": {
            "text/plain": [
              "((3478, 150, 150, 3), (871, 150, 150, 3))"
            ]
          },
          "metadata": {
            "tags": []
          },
          "execution_count": 7
        }
      ]
    },
    {
      "cell_type": "markdown",
      "metadata": {
        "id": "KXp4SYQk1aW6"
      },
      "source": [
        "# Creating labels for Normal and Covid 0 and 1 respectively equal to length of data for training data:"
      ]
    },
    {
      "cell_type": "code",
      "metadata": {
        "colab": {
          "base_uri": "https://localhost:8080/"
        },
        "id": "Zx6ExYVi1VPM",
        "outputId": "c4799e95-79f7-44ee-acbc-012c41689490"
      },
      "source": [
        "# Creating labels for Normal and Covid 0 and 1 respectively equal to length of data for training data:\n",
        "\n",
        "labels0 = np.zeros(len(arrayl)) \n",
        "labels1 = np.ones(len(array2)) \n",
        "labels2 = np.ones(len(array3)) \n",
        "for i in range(len(array3)):\n",
        "  labels2[i] = 2\n",
        "\n",
        "\n",
        "print('Normal labels : ',labels0 ,'Covid labels : ', labels1, 'Pneumonia : ', labels2) \n",
        "len(labels0) , len(labels1) , len(labels2)\n"
      ],
      "execution_count": null,
      "outputs": [
        {
          "output_type": "stream",
          "text": [
            "Normal labels :  [0. 0. 0. ... 0. 0. 0.] Covid labels :  [1. 1. 1. ... 1. 1. 1.] Pneumonia :  [2. 2. 2. ... 2. 2. 2.]\n"
          ],
          "name": "stdout"
        },
        {
          "output_type": "execute_result",
          "data": {
            "text/plain": [
              "(1330, 1072, 1076)"
            ]
          },
          "metadata": {
            "tags": []
          },
          "execution_count": 8
        }
      ]
    },
    {
      "cell_type": "markdown",
      "metadata": {
        "id": "AgCTlyrs3yxz"
      },
      "source": [
        "# Creating labels for Normal and Covid 0 and 1 respectively equal to length of data for testing data:"
      ]
    },
    {
      "cell_type": "code",
      "metadata": {
        "colab": {
          "base_uri": "https://localhost:8080/"
        },
        "id": "eW6tVsz-3toF",
        "outputId": "05c2b416-1923-479a-e53a-2a15f9f7cd5b"
      },
      "source": [
        "# Creating labels for Normal and Covid 0 and 1 respectively equal to length of data for testing data:\n",
        "\n",
        "labels0s = np.zeros(len(array4)) \n",
        "labels1s = np.ones(len(array5)) \n",
        "labels2s = np.ones(len(array6))\n",
        "for i in range(len(array6)):\n",
        "  labels2s[i] = 2\n",
        "\n",
        "print('Normal labels : ',labels0s ,'Covid labels : ', labels1s, 'Pneumonia : ', labels2s) \n",
        "len(labels0s) , len(labels1s), len(labels2s) "
      ],
      "execution_count": null,
      "outputs": [
        {
          "output_type": "stream",
          "text": [
            "Normal labels :  [0. 0. 0. 0. 0. 0. 0. 0. 0. 0. 0. 0. 0. 0. 0. 0. 0. 0. 0. 0. 0. 0. 0. 0.\n",
            " 0. 0. 0. 0. 0. 0. 0. 0. 0. 0. 0. 0. 0. 0. 0. 0. 0. 0. 0. 0. 0. 0. 0. 0.\n",
            " 0. 0. 0. 0. 0. 0. 0. 0. 0. 0. 0. 0. 0. 0. 0. 0. 0. 0. 0. 0. 0. 0. 0. 0.\n",
            " 0. 0. 0. 0. 0. 0. 0. 0. 0. 0. 0. 0. 0. 0. 0. 0. 0. 0. 0. 0. 0. 0. 0. 0.\n",
            " 0. 0. 0. 0. 0. 0. 0. 0. 0. 0. 0. 0. 0. 0. 0. 0. 0. 0. 0. 0. 0. 0. 0. 0.\n",
            " 0. 0. 0. 0. 0. 0. 0. 0. 0. 0. 0. 0. 0. 0. 0. 0. 0. 0. 0. 0. 0. 0. 0. 0.\n",
            " 0. 0. 0. 0. 0. 0. 0. 0. 0. 0. 0. 0. 0. 0. 0. 0. 0. 0. 0. 0. 0. 0. 0. 0.\n",
            " 0. 0. 0. 0. 0. 0. 0. 0. 0. 0. 0. 0. 0. 0. 0. 0. 0. 0. 0. 0. 0. 0. 0. 0.\n",
            " 0. 0. 0. 0. 0. 0. 0. 0. 0. 0. 0. 0. 0. 0. 0. 0. 0. 0. 0. 0. 0. 0. 0. 0.\n",
            " 0. 0. 0. 0. 0. 0. 0. 0. 0. 0. 0. 0. 0. 0. 0. 0. 0. 0. 0. 0. 0. 0. 0. 0.\n",
            " 0. 0. 0. 0. 0. 0. 0. 0. 0. 0. 0. 0. 0. 0. 0. 0. 0. 0. 0. 0. 0. 0. 0. 0.\n",
            " 0. 0. 0. 0. 0. 0. 0. 0. 0. 0. 0. 0. 0. 0. 0. 0. 0. 0. 0. 0. 0. 0. 0. 0.\n",
            " 0. 0. 0. 0. 0. 0. 0. 0. 0. 0. 0. 0. 0. 0. 0. 0. 0. 0. 0. 0. 0. 0. 0. 0.\n",
            " 0. 0. 0. 0. 0. 0. 0. 0. 0. 0. 0. 0. 0. 0. 0. 0. 0. 0. 0. 0. 0.] Covid labels :  [1. 1. 1. 1. 1. 1. 1. 1. 1. 1. 1. 1. 1. 1. 1. 1. 1. 1. 1. 1. 1. 1. 1. 1.\n",
            " 1. 1. 1. 1. 1. 1. 1. 1. 1. 1. 1. 1. 1. 1. 1. 1. 1. 1. 1. 1. 1. 1. 1. 1.\n",
            " 1. 1. 1. 1. 1. 1. 1. 1. 1. 1. 1. 1. 1. 1. 1. 1. 1. 1. 1. 1. 1. 1. 1. 1.\n",
            " 1. 1. 1. 1. 1. 1. 1. 1. 1. 1. 1. 1. 1. 1. 1. 1. 1. 1. 1. 1. 1. 1. 1. 1.\n",
            " 1. 1. 1. 1. 1. 1. 1. 1. 1. 1. 1. 1. 1. 1. 1. 1. 1. 1. 1. 1. 1. 1. 1. 1.\n",
            " 1. 1. 1. 1. 1. 1. 1. 1. 1. 1. 1. 1. 1. 1. 1. 1. 1. 1. 1. 1. 1. 1. 1. 1.\n",
            " 1. 1. 1. 1. 1. 1. 1. 1. 1. 1. 1. 1. 1. 1. 1. 1. 1. 1. 1. 1. 1. 1. 1. 1.\n",
            " 1. 1. 1. 1. 1. 1. 1. 1. 1. 1. 1. 1. 1. 1. 1. 1. 1. 1. 1. 1. 1. 1. 1. 1.\n",
            " 1. 1. 1. 1. 1. 1. 1. 1. 1. 1. 1. 1. 1. 1. 1. 1. 1. 1. 1. 1. 1. 1. 1. 1.\n",
            " 1. 1. 1. 1. 1. 1. 1. 1. 1. 1. 1. 1. 1. 1. 1. 1. 1. 1. 1. 1. 1. 1. 1. 1.\n",
            " 1. 1. 1. 1. 1. 1. 1. 1. 1. 1. 1. 1. 1. 1. 1. 1. 1. 1. 1. 1. 1. 1. 1. 1.\n",
            " 1. 1. 1. 1. 1.] Pneumonia :  [2. 2. 2. 2. 2. 2. 2. 2. 2. 2. 2. 2. 2. 2. 2. 2. 2. 2. 2. 2. 2. 2. 2. 2.\n",
            " 2. 2. 2. 2. 2. 2. 2. 2. 2. 2. 2. 2. 2. 2. 2. 2. 2. 2. 2. 2. 2. 2. 2. 2.\n",
            " 2. 2. 2. 2. 2. 2. 2. 2. 2. 2. 2. 2. 2. 2. 2. 2. 2. 2. 2. 2. 2. 2. 2. 2.\n",
            " 2. 2. 2. 2. 2. 2. 2. 2. 2. 2. 2. 2. 2. 2. 2. 2. 2. 2. 2. 2. 2. 2. 2. 2.\n",
            " 2. 2. 2. 2. 2. 2. 2. 2. 2. 2. 2. 2. 2. 2. 2. 2. 2. 2. 2. 2. 2. 2. 2. 2.\n",
            " 2. 2. 2. 2. 2. 2. 2. 2. 2. 2. 2. 2. 2. 2. 2. 2. 2. 2. 2. 2. 2. 2. 2. 2.\n",
            " 2. 2. 2. 2. 2. 2. 2. 2. 2. 2. 2. 2. 2. 2. 2. 2. 2. 2. 2. 2. 2. 2. 2. 2.\n",
            " 2. 2. 2. 2. 2. 2. 2. 2. 2. 2. 2. 2. 2. 2. 2. 2. 2. 2. 2. 2. 2. 2. 2. 2.\n",
            " 2. 2. 2. 2. 2. 2. 2. 2. 2. 2. 2. 2. 2. 2. 2. 2. 2. 2. 2. 2. 2. 2. 2. 2.\n",
            " 2. 2. 2. 2. 2. 2. 2. 2. 2. 2. 2. 2. 2. 2. 2. 2. 2. 2. 2. 2. 2. 2. 2. 2.\n",
            " 2. 2. 2. 2. 2. 2. 2. 2. 2. 2. 2. 2. 2. 2. 2. 2. 2. 2. 2. 2. 2. 2. 2. 2.\n",
            " 2. 2. 2. 2. 2.]\n"
          ],
          "name": "stdout"
        },
        {
          "output_type": "execute_result",
          "data": {
            "text/plain": [
              "(333, 269, 269)"
            ]
          },
          "metadata": {
            "tags": []
          },
          "execution_count": 9
        }
      ]
    },
    {
      "cell_type": "markdown",
      "metadata": {
        "id": "X7wOFD8T4IWi"
      },
      "source": [
        "# Concatenating the labels for Covid and Normal for training and testing:"
      ]
    },
    {
      "cell_type": "code",
      "metadata": {
        "colab": {
          "base_uri": "https://localhost:8080/"
        },
        "id": "FYYDig0u4DNN",
        "outputId": "210cb46e-86b9-404d-dbf8-e36db00d97ef"
      },
      "source": [
        "# Concatenating the labels for Covid and Normal for training and testing:\n",
        "ytrain = np.concatenate((labels0, labels1, labels2)) \n",
        "ytest = np.concatenate((labels0s, labels1s, labels2s)) \n",
        "ytrain.shape, ytest.shape \n"
      ],
      "execution_count": null,
      "outputs": [
        {
          "output_type": "execute_result",
          "data": {
            "text/plain": [
              "((3478,), (871,))"
            ]
          },
          "metadata": {
            "tags": []
          },
          "execution_count": 10
        }
      ]
    },
    {
      "cell_type": "markdown",
      "metadata": {
        "id": "oUIAK8Fr4UN7"
      },
      "source": [
        "# Splitting the dataset for validation data:"
      ]
    },
    {
      "cell_type": "code",
      "metadata": {
        "colab": {
          "base_uri": "https://localhost:8080/"
        },
        "id": "93K6DAb84RJt",
        "outputId": "d50fee8e-973b-41aa-e717-08c9643129f3"
      },
      "source": [
        "# Splitting the dataset for validation data:\n",
        "from sklearn.model_selection import train_test_split\n",
        "X_train,X_valid,y_train,y_valid = train_test_split(Xtrain,ytrain,test_size = 0.2, shuffle = True) \n",
        "X_train.shape, X_valid.shape, y_train.shape, y_valid.shape \n"
      ],
      "execution_count": null,
      "outputs": [
        {
          "output_type": "execute_result",
          "data": {
            "text/plain": [
              "((2782, 150, 150, 3), (696, 150, 150, 3), (2782,), (696,))"
            ]
          },
          "metadata": {
            "tags": []
          },
          "execution_count": 11
        }
      ]
    },
    {
      "cell_type": "markdown",
      "metadata": {
        "id": "UrWq1DJd4eOj"
      },
      "source": [
        "# Normalizing the data from 0 to 255 to 0 to 1:"
      ]
    },
    {
      "cell_type": "code",
      "metadata": {
        "id": "nQInwNYv4anO"
      },
      "source": [
        "# Normalizing the data from 0 to 255 to 0 to 1:\n",
        "X_train_norm = X_train/255 \n",
        "X_valid_norm = X_valid/255\n",
        "Xtest_norm = Xtest/255 \n"
      ],
      "execution_count": null,
      "outputs": []
    },
    {
      "cell_type": "code",
      "metadata": {
        "colab": {
          "base_uri": "https://localhost:8080/"
        },
        "id": "O1oSMZjQBFXK",
        "outputId": "e6548e12-7aaa-4d14-9f78-0e14fc36dbb7"
      },
      "source": [
        "X_train_norm.shape,X_valid_norm.shape,Xtest_norm.shape"
      ],
      "execution_count": null,
      "outputs": [
        {
          "output_type": "execute_result",
          "data": {
            "text/plain": [
              "((2782, 150, 150, 3), (696, 150, 150, 3), (871, 150, 150, 3))"
            ]
          },
          "metadata": {
            "tags": []
          },
          "execution_count": 13
        }
      ]
    },
    {
      "cell_type": "markdown",
      "metadata": {
        "id": "dS573cG04nN7"
      },
      "source": [
        "## Building the Model"
      ]
    },
    {
      "cell_type": "code",
      "metadata": {
        "colab": {
          "base_uri": "https://localhost:8080/"
        },
        "id": "7JleBiwO4hH-",
        "outputId": "345845ca-1baf-4da3-c731-29f4d71ccae9"
      },
      "source": [
        "# Model With Dropout Layer\n",
        "tf.random.set_seed(2)\n",
        "\n",
        "model1 = Sequential()\n",
        "\n",
        "# add the convolutional layer\n",
        "# filters, size of filters, padding, activation_function, inout_shape\n",
        "model1.add(Conv2D(32,(5,5), padding = 'SAME', activation = 'relu', input_shape = (size,size,3)))\n",
        "\n",
        "# pooling layer\n",
        "model1.add(MaxPooling2D(pool_size = (2,2)))\n",
        "\n",
        "# place a dropout layer\n",
        "model1.add(Dropout(0.5)) ## Minimizes the overfitting\n",
        "\n",
        "# add another convolutional layer\n",
        "model1.add(Conv2D(64,(5,5), padding = 'SAME', activation = 'relu'))\n",
        "\n",
        "# pooling layer\n",
        "model1.add(MaxPooling2D(pool_size = (2,2)))\n",
        "\n",
        "model1.add(Conv2D(64,(5,5), padding = 'SAME', activation = 'relu'))\n",
        "\n",
        "# pooling layer\n",
        "model1.add(MaxPooling2D(pool_size = (2,2)))\n",
        "\n",
        "# place a dropout layer\n",
        "model1.add(Dropout(0.5))\n",
        "\n",
        "# Flatten the image to 1 dimensional array\n",
        "model1.add(Flatten())\n",
        "\n",
        "# add a dense layer : amount of nodes, activation\n",
        "model1.add(Dense(256, activation = 'relu'))\n",
        "\n",
        "# place a dropout layer\n",
        "# 0.5 drop out rate is recommended, half input will be dropped at each update\n",
        "model1.add(Dropout(0.5))\n",
        "model1.add(Dense(3, activation = 'sigmoid'))\n",
        "model1.summary()\n",
        "\n",
        "# compile model\n",
        "from tensorflow.keras.optimizers import Adam # Adam is optimizer\n",
        "# Loss function definition\n",
        "model1.compile(Adam(lr = 0.001),loss = 'sparse_categorical_crossentropy', metrics = ['accuracy'])"
      ],
      "execution_count": null,
      "outputs": [
        {
          "output_type": "stream",
          "text": [
            "Model: \"sequential_1\"\n",
            "_________________________________________________________________\n",
            "Layer (type)                 Output Shape              Param #   \n",
            "=================================================================\n",
            "conv2d_3 (Conv2D)            (None, 150, 150, 32)      2432      \n",
            "_________________________________________________________________\n",
            "max_pooling2d_3 (MaxPooling2 (None, 75, 75, 32)        0         \n",
            "_________________________________________________________________\n",
            "dropout (Dropout)            (None, 75, 75, 32)        0         \n",
            "_________________________________________________________________\n",
            "conv2d_4 (Conv2D)            (None, 75, 75, 64)        51264     \n",
            "_________________________________________________________________\n",
            "max_pooling2d_4 (MaxPooling2 (None, 37, 37, 64)        0         \n",
            "_________________________________________________________________\n",
            "conv2d_5 (Conv2D)            (None, 37, 37, 64)        102464    \n",
            "_________________________________________________________________\n",
            "max_pooling2d_5 (MaxPooling2 (None, 18, 18, 64)        0         \n",
            "_________________________________________________________________\n",
            "dropout_1 (Dropout)          (None, 18, 18, 64)        0         \n",
            "_________________________________________________________________\n",
            "flatten_1 (Flatten)          (None, 20736)             0         \n",
            "_________________________________________________________________\n",
            "dense_2 (Dense)              (None, 256)               5308672   \n",
            "_________________________________________________________________\n",
            "dropout_2 (Dropout)          (None, 256)               0         \n",
            "_________________________________________________________________\n",
            "dense_3 (Dense)              (None, 3)                 771       \n",
            "=================================================================\n",
            "Total params: 5,465,603\n",
            "Trainable params: 5,465,603\n",
            "Non-trainable params: 0\n",
            "_________________________________________________________________\n"
          ],
          "name": "stdout"
        }
      ]
    },
    {
      "cell_type": "code",
      "metadata": {
        "colab": {
          "base_uri": "https://localhost:8080/"
        },
        "id": "m_Ud2FNwwkYr",
        "outputId": "bb6b45e9-0e93-4ce2-83be-5e4c8be6adc9"
      },
      "source": [
        "# Model With Dropout Layer\n",
        "tf.random.set_seed(2)\n",
        "\n",
        "model2 = Sequential()\n",
        "\n",
        "# add the convolutional layer\n",
        "# filters, size of filters, padding, activation_function, inout_shape\n",
        "model2.add(Conv2D(32,(5,5), padding = 'SAME', activation = 'relu', input_shape = (size,size,3)))\n",
        "\n",
        "# pooling layer\n",
        "model2.add(MaxPooling2D(pool_size = (2,2)))\n",
        "\n",
        "# place a dropout layer\n",
        "model2.add(Dropout(0.5)) ## Minimizes the overfitting\n",
        "\n",
        "# add another convolutional layer\n",
        "model2.add(Conv2D(64,(5,5), padding = 'SAME', activation = 'relu'))\n",
        "\n",
        "# pooling layer\n",
        "model2.add(MaxPooling2D(pool_size = (2,2)))\n",
        "\n",
        "\n",
        "\n",
        "\n",
        "\n",
        "\n",
        "# place a dropout layer\n",
        "model2.add(Dropout(0.5))\n",
        "\n",
        "# Flatten the image to 1 dimensional array\n",
        "model2.add(Flatten())\n",
        "\n",
        "# add a dense layer : amount of nodes, activation\n",
        "model2.add(Dense(256, activation = 'relu'))\n",
        "\n",
        "# place a dropout layer\n",
        "# 0.5 drop out rate is recommended, half input will be dropped at each update\n",
        "model2.add(Dropout(0.5))\n",
        "model2.add(Dense(3, activation = 'sigmoid'))\n",
        "model2.summary()\n",
        "\n",
        "# compile model\n",
        "from tensorflow.keras.optimizers import Adam # Adam is optimizer\n",
        "# Loss function definition\n",
        "model2.compile(Adam(lr = 0.001),loss = 'sparse_categorical_crossentropy', metrics = ['accuracy'])"
      ],
      "execution_count": null,
      "outputs": [
        {
          "output_type": "stream",
          "text": [
            "Model: \"sequential_3\"\n",
            "_________________________________________________________________\n",
            "Layer (type)                 Output Shape              Param #   \n",
            "=================================================================\n",
            "conv2d_9 (Conv2D)            (None, 150, 150, 32)      2432      \n",
            "_________________________________________________________________\n",
            "max_pooling2d_9 (MaxPooling2 (None, 75, 75, 32)        0         \n",
            "_________________________________________________________________\n",
            "dropout_6 (Dropout)          (None, 75, 75, 32)        0         \n",
            "_________________________________________________________________\n",
            "conv2d_10 (Conv2D)           (None, 75, 75, 64)        51264     \n",
            "_________________________________________________________________\n",
            "max_pooling2d_10 (MaxPooling (None, 37, 37, 64)        0         \n",
            "_________________________________________________________________\n",
            "dropout_7 (Dropout)          (None, 37, 37, 64)        0         \n",
            "_________________________________________________________________\n",
            "flatten_3 (Flatten)          (None, 87616)             0         \n",
            "_________________________________________________________________\n",
            "dense_6 (Dense)              (None, 256)               22429952  \n",
            "_________________________________________________________________\n",
            "dropout_8 (Dropout)          (None, 256)               0         \n",
            "_________________________________________________________________\n",
            "dense_7 (Dense)              (None, 3)                 771       \n",
            "=================================================================\n",
            "Total params: 22,484,419\n",
            "Trainable params: 22,484,419\n",
            "Non-trainable params: 0\n",
            "_________________________________________________________________\n"
          ],
          "name": "stdout"
        }
      ]
    },
    {
      "cell_type": "markdown",
      "metadata": {
        "id": "TRrXMG-H49-j"
      },
      "source": [
        "## Train the Model"
      ]
    },
    {
      "cell_type": "code",
      "metadata": {
        "colab": {
          "background_save": true,
          "base_uri": "https://localhost:8080/"
        },
        "id": "R9uST8cn45xO",
        "outputId": "9f412f3a-b0d0-4a31-f78d-48f60ddc3066"
      },
      "source": [
        "# train the model\n",
        "%%time\n",
        "model1_history = model1.fit(X_train_norm,y_train,epochs = 20,validation_data=(X_valid_norm,y_valid),verbose = 1)"
      ],
      "execution_count": null,
      "outputs": [
        {
          "output_type": "stream",
          "text": [
            "Epoch 1/20\n",
            "87/87 [==============================] - 237s 3s/step - loss: 1.1133 - accuracy: 0.5438 - val_loss: 0.4134 - val_accuracy: 0.8649\n",
            "Epoch 2/20\n",
            "87/87 [==============================] - 235s 3s/step - loss: 0.3381 - accuracy: 0.8733 - val_loss: 0.2216 - val_accuracy: 0.9282\n",
            "Epoch 3/20\n",
            "87/87 [==============================] - 236s 3s/step - loss: 0.2493 - accuracy: 0.9074 - val_loss: 0.1823 - val_accuracy: 0.9483\n",
            "Epoch 4/20\n",
            "87/87 [==============================] - 234s 3s/step - loss: 0.1922 - accuracy: 0.9219 - val_loss: 0.1804 - val_accuracy: 0.9397\n",
            "Epoch 5/20\n",
            "87/87 [==============================] - 235s 3s/step - loss: 0.1714 - accuracy: 0.9387 - val_loss: 0.1743 - val_accuracy: 0.9425\n",
            "Epoch 6/20\n",
            "87/87 [==============================] - 235s 3s/step - loss: 0.1489 - accuracy: 0.9492 - val_loss: 0.1398 - val_accuracy: 0.9468\n",
            "Epoch 7/20\n",
            "87/87 [==============================] - 235s 3s/step - loss: 0.1189 - accuracy: 0.9593 - val_loss: 0.1720 - val_accuracy: 0.9511\n",
            "Epoch 8/20\n",
            "87/87 [==============================] - 234s 3s/step - loss: 0.1457 - accuracy: 0.9428 - val_loss: 0.1770 - val_accuracy: 0.9440\n",
            "Epoch 9/20\n",
            "87/87 [==============================] - 234s 3s/step - loss: 0.1218 - accuracy: 0.9599 - val_loss: 0.1421 - val_accuracy: 0.9598\n",
            "Epoch 10/20\n",
            "87/87 [==============================] - 234s 3s/step - loss: 0.1044 - accuracy: 0.9648 - val_loss: 0.1358 - val_accuracy: 0.9526\n",
            "Epoch 11/20\n",
            "87/87 [==============================] - 235s 3s/step - loss: 0.1170 - accuracy: 0.9557 - val_loss: 0.1450 - val_accuracy: 0.9555\n",
            "Epoch 12/20\n",
            "87/87 [==============================] - 235s 3s/step - loss: 0.0977 - accuracy: 0.9608 - val_loss: 0.1209 - val_accuracy: 0.9598\n",
            "Epoch 13/20\n",
            "87/87 [==============================] - 235s 3s/step - loss: 0.0983 - accuracy: 0.9712 - val_loss: 0.1727 - val_accuracy: 0.9440\n",
            "Epoch 14/20\n",
            "87/87 [==============================] - 235s 3s/step - loss: 0.0750 - accuracy: 0.9701 - val_loss: 0.1255 - val_accuracy: 0.9626\n",
            "Epoch 15/20\n",
            "87/87 [==============================] - 234s 3s/step - loss: 0.0655 - accuracy: 0.9792 - val_loss: 0.1354 - val_accuracy: 0.9598\n",
            "Epoch 16/20\n",
            "87/87 [==============================] - 234s 3s/step - loss: 0.0767 - accuracy: 0.9693 - val_loss: 0.1159 - val_accuracy: 0.9641\n",
            "Epoch 17/20\n",
            "87/87 [==============================] - 235s 3s/step - loss: 0.0544 - accuracy: 0.9775 - val_loss: 0.1330 - val_accuracy: 0.9569\n",
            "Epoch 18/20\n",
            "87/87 [==============================] - 235s 3s/step - loss: 0.0670 - accuracy: 0.9718 - val_loss: 0.1416 - val_accuracy: 0.9612\n",
            "Epoch 19/20\n",
            "87/87 [==============================] - 235s 3s/step - loss: 0.0796 - accuracy: 0.9708 - val_loss: 0.1206 - val_accuracy: 0.9727\n",
            "Epoch 20/20\n",
            "87/87 [==============================] - 235s 3s/step - loss: 0.0616 - accuracy: 0.9756 - val_loss: 0.1166 - val_accuracy: 0.9641\n",
            "CPU times: user 2h 32min 19s, sys: 52.5 s, total: 2h 33min 12s\n",
            "Wall time: 1h 18min 20s\n"
          ],
          "name": "stdout"
        }
      ]
    },
    {
      "cell_type": "code",
      "metadata": {
        "id": "1aR1j1fYwyqK"
      },
      "source": [
        "# train the model\n",
        "%%time\n",
        "model2_history = model2.fit(X_train_norm,y_train,epochs = 20,validation_data=(X_valid_norm,y_valid),verbose = 1)"
      ],
      "execution_count": null,
      "outputs": []
    },
    {
      "cell_type": "markdown",
      "metadata": {
        "id": "2Q3y2pLHGK-4"
      },
      "source": [
        "# Evaluating the model"
      ]
    },
    {
      "cell_type": "code",
      "metadata": {
        "colab": {
          "base_uri": "https://localhost:8080/"
        },
        "id": "z2qSFhx55Jme",
        "outputId": "4c07761e-9599-43b0-9c3e-391e7ab6798f"
      },
      "source": [
        "# Evaluating the model:\n",
        "model1.evaluate(Xtest_norm,ytest,verbose= 1)"
      ],
      "execution_count": null,
      "outputs": [
        {
          "output_type": "stream",
          "text": [
            "28/28 [==============================] - 18s 647ms/step - loss: 0.3011 - accuracy: 0.9587\n"
          ],
          "name": "stdout"
        },
        {
          "output_type": "execute_result",
          "data": {
            "text/plain": [
              "[0.3010597229003906, 0.9586681723594666]"
            ]
          },
          "metadata": {
            "tags": []
          },
          "execution_count": 14
        }
      ]
    },
    {
      "cell_type": "code",
      "metadata": {
        "id": "zlyawqnBxV_D"
      },
      "source": [
        "# Evaluating the model:\n",
        "model2.evaluate(Xtest_norm,ytest,verbose= 1)"
      ],
      "execution_count": null,
      "outputs": []
    },
    {
      "cell_type": "markdown",
      "metadata": {
        "id": "bcZh5y1qHcWI"
      },
      "source": [
        "# Plot performance metrics"
      ]
    },
    {
      "cell_type": "code",
      "metadata": {
        "colab": {
          "base_uri": "https://localhost:8080/",
          "height": 350
        },
        "id": "sOjJ143hGO63",
        "outputId": "037b36d4-2adf-42ef-a930-0885b6004224"
      },
      "source": [
        "# plot the model accuracy and loss for the training and the validating set.\n",
        "# CNN Model\n",
        "from matplotlib import pyplot as plt\n",
        "fig, ax = plt.subplots(1, 2, figsize=(15, 5))\n",
        "ax = ax.ravel()\n",
        "\n",
        "for i, met in enumerate(['loss', 'accuracy']):\n",
        "    ax[i].plot(model1_history.history[met])\n",
        "    ax[i].plot(model1_history.history['val_' + met])\n",
        "    ax[i].set_title('CNN Model {}'.format(met))\n",
        "    ax[i].set_xlabel('epochs')\n",
        "    ax[i].set_ylabel(met)\n",
        "    ax[i].legend(['train', 'val'])"
      ],
      "execution_count": null,
      "outputs": [
        {
          "output_type": "display_data",
          "data": {
            "image/png": "[encoded data removed]",
            "text/plain": [
              "<Figure size 1080x360 with 2 Axes>"
            ]
          },
          "metadata": {
            "tags": []
          }
        }
      ]
    },
    {
      "cell_type": "code",
      "metadata": {
        "id": "nPjWWuaTxdED"
      },
      "source": [
        "# plot the model accuracy and loss for the training and the validating set.\n",
        "# CNN Model\n",
        "from matplotlib import pyplot as plt\n",
        "fig, ax = plt.subplots(1, 2, figsize=(15, 5))\n",
        "ax = ax.ravel()\n",
        "\n",
        "for i, met in enumerate(['loss', 'accuracy']):\n",
        "    ax[i].plot(model2_history.history[met])\n",
        "    ax[i].plot(model2_history.history['val_' + met])\n",
        "    ax[i].set_title('CNN Model {}'.format(met))\n",
        "    ax[i].set_xlabel('epochs')\n",
        "    ax[i].set_ylabel(met)\n",
        "    ax[i].legend(['train', 'val'])"
      ],
      "execution_count": null,
      "outputs": []
    },
    {
      "cell_type": "markdown",
      "metadata": {
        "id": "HiEPvCU5IYaC"
      },
      "source": [
        "# Confusion Matrix"
      ]
    },
    {
      "cell_type": "code",
      "metadata": {
        "colab": {
          "base_uri": "https://localhost:8080/",
          "height": 369
        },
        "id": "C55qu_-THl2p",
        "outputId": "bbf1be36-714b-4564-a681-2f9ab0c72ae7"
      },
      "source": [
        "pred  = model.predict_classes(Xtest_norm,verbose= 1)\n",
        "\n",
        "'''pred_normalized = []\n",
        "for i in range(len(pred)):\n",
        "  if(pred[i]<=0.5):\n",
        "    pred_normalized.append(1)\n",
        "  else:\n",
        "    pred_normalized.append(0)\n",
        "'''\n",
        "import seaborn as sns\n",
        "\n",
        "cm = confusion_matrix(ytest, pred)\n",
        "ax= plt.subplot()\n",
        "sns.heatmap(cm, annot=True, fmt='g', ax = ax); #annot=True to annotate cells\n",
        "\n",
        "# labels, title and ticks\n",
        "ax.set_xlabel('Predicted labels');ax.set_ylabel('True labels'); \n",
        "ax.set_title('Confusion Matrix'); \n",
        "ax.xaxis.set_ticklabels(['Covid', 'Normal', 'Pneumonia']); ax.yaxis.set_ticklabels(['Covid', 'Normal','Pneumonia']);\n"
      ],
      "execution_count": null,
      "outputs": [
        {
          "output_type": "stream",
          "text": [
            "/usr/local/lib/python3.7/dist-packages/tensorflow/python/keras/engine/sequential.py:450: UserWarning: `model.predict_classes()` is deprecated and will be removed after 2021-01-01. Please use instead:* `np.argmax(model.predict(x), axis=-1)`,   if your model does multi-class classification   (e.g. if it uses a `softmax` last-layer activation).* `(model.predict(x) > 0.5).astype(\"int32\")`,   if your model does binary classification   (e.g. if it uses a `sigmoid` last-layer activation).\n",
            "  warnings.warn('`model.predict_classes()` is deprecated and '\n"
          ],
          "name": "stderr"
        },
        {
          "output_type": "stream",
          "text": [
            "28/28 [==============================] - 18s 642ms/step\n"
          ],
          "name": "stdout"
        },
        {
          "output_type": "display_data",
          "data": {
            "image/png": "[encoded data removed]",
            "text/plain": [
              "<Figure size 432x288 with 2 Axes>"
            ]
          },
          "metadata": {
            "tags": [],
            "needs_background": "light"
          }
        }
      ]
    },
    {
      "cell_type": "code",
      "metadata": {
        "colab": {
          "base_uri": "https://localhost:8080/"
        },
        "id": "kmCF5k93jHT-",
        "outputId": "d54e0c51-3778-4b52-9113-401417d7fa7a"
      },
      "source": [
        "Class0_TP =323\n",
        "Class1_TP =260\n",
        "Class2_TP =252\n",
        "\n",
        "Class0_TN = 260+252\n",
        "Class1_TN = 323+252\n",
        "Class2_TN = 323+260\n",
        "\n",
        "Class0_FP =  1+5\n",
        "Class1_FP = 3+12\n",
        "Class2_FP = 7+8\n",
        "\n",
        "Class0_FN = 3+7\n",
        "Class1_FN = 1+8\n",
        "Class2_FN = 5+12\n",
        "\n",
        "# Over all Performance\n",
        "accuracy = (Class0_TP+Class1_TP+Class2_TP+Class0_TN+Class1_TN+Class2_TN)/(Class0_TP+Class1_TP+Class2_TP+Class0_TN+Class1_TN+Class2_TN+Class0_FP+Class1_FP+Class2_FP+Class0_FN+Class1_FN+Class2_FN) \n",
        "Specificity = (Class0_TN+Class1_TN+Class2_TN)/(Class0_TN+Class1_TN+Class2_TN+Class0_FP+Class1_FP+Class2_FP)\n",
        "sensitivity_recall = (Class0_TP+Class1_TP+Class2_TP)/(Class0_TP+Class1_TP+Class2_TP+Class0_FN+Class1_FN+Class2_FN)\n",
        "precision = (Class0_TP+Class1_TP+Class2_TP)/(Class0_TP+Class1_TP+Class2_TP+Class0_FP+Class1_FP+Class2_FP)\n",
        "F1_score = 2*(precision*sensitivity_recall)/(precision+sensitivity_recall)\n",
        "\n",
        "# Class 0 Performance\n",
        "Class0_accuracy = (Class0_TP+Class1_TP+Class2_TP+Class0_TN+Class1_TN+Class2_TN)/(Class0_TP+Class1_TP+Class2_TP+Class0_TN+Class1_TN+Class2_TN+Class0_FP+Class1_FP+Class2_FP+Class0_FN+Class1_FN+Class2_FN) \n",
        "# Specificity = TN/(TN+FP)\n",
        "Class0_Specificity = (Class1_TN+Class2_TN)/(Class1_TN+Class2_TN+Class0_FP)\n",
        "# Sensivity = TP/(TP+FN)\n",
        "Class0_sensitivity_recall = (Class0_TP)/(Class0_TP+Class0_FN)\n",
        "# Precision = TP/(TP+FP)\n",
        "Class0_precision = (Class0_TP)/(Class0_TP+Class0_FP)\n",
        "#  F1 Score = 2*(P*R)/(P+R)\n",
        "Class0_F1_score = 2*(Class0_precision*Class0_sensitivity_recall)/(Class0_precision+Class0_sensitivity_recall)\n",
        "\n",
        "# Class 1 Performance\n",
        "Class1_accuracy = (Class0_TP+Class1_TP+Class2_TP+Class0_TN+Class1_TN+Class2_TN)/(Class0_TP+Class1_TP+Class2_TP+Class0_TN+Class1_TN+Class2_TN+Class0_FP+Class1_FP+Class2_FP+Class0_FN+Class1_FN+Class2_FN) \n",
        "# Specificity = TN/(TN+FP)\n",
        "Class1_Specificity = (Class0_TN+Class2_TN)/(Class0_TN+Class2_TN+Class1_FP)\n",
        "# Sensivity = TP/(TP+FN)\n",
        "Class1_sensitivity_recall = (Class1_TP)/(Class1_TP+Class1_FN)\n",
        "# Precision = TP/(TP+FP)\n",
        "Class1_precision = (Class1_TP)/(Class1_TP+Class1_FP)\n",
        "#  F1 Score = 2*(P*R)/(P+R)\n",
        "Class1_F1_score = 2*(Class1_precision*Class1_sensitivity_recall)/(Class1_precision+Class1_sensitivity_recall)\n",
        "\n",
        "# Class 2 Performance\n",
        "Class2_accuracy = (Class0_TP+Class1_TP+Class2_TP+Class0_TN+Class1_TN+Class2_TN)/(Class0_TP+Class1_TP+Class2_TP+Class0_TN+Class1_TN+Class2_TN+Class0_FP+Class1_FP+Class2_FP+Class0_FN+Class1_FN+Class2_FN) \n",
        "# Specificity = TN/(TN+FP)\n",
        "Class2_Specificity = (Class1_TN+Class0_TN)/(Class1_TN+Class0_TN+Class2_FP)\n",
        "# Sensivity = TP/(TP+FN)\n",
        "Class2_sensitivity_recall = (Class2_TP)/(Class2_TP+Class2_FN)\n",
        "# Precision = TP/(TP+FP)\n",
        "Class2_precision = (Class2_TP)/(Class2_TP+Class2_FP)\n",
        "#  F1 Score = 2*(P*R)/(P+R)\n",
        "Class2_F1_score = 2*(Class2_precision*Class2_sensitivity_recall)/(Class2_precision+Class2_sensitivity_recall)\n",
        "\n",
        "\n",
        "from tabulate import tabulate\n",
        "print(tabulate([['Overall', accuracy*100, Specificity*100,sensitivity_recall*100, precision*100,F1_score*100],\n",
        "                ['Class 0', Class0_accuracy*100, Class0_Specificity*100,Class0_sensitivity_recall*100, Class0_precision*100,Class0_F1_score*100],\n",
        "                ['Class 1', Class1_accuracy*100, Class1_Specificity*100,Class1_sensitivity_recall*100, Class1_precision*100,Class1_F1_score*100],\n",
        "                ['Class 2', Class2_accuracy*100, Class2_Specificity*100,Class2_sensitivity_recall*100, Class2_precision*100,Class2_F1_score*100]], \n",
        "               headers=['accuracy', 'Specificity','sensitivity(recall)','precision','F1_score']))\n"
      ],
      "execution_count": null,
      "outputs": [
        {
          "output_type": "stream",
          "text": [
            "           accuracy    Specificity    sensitivity(recall)    precision    F1_score\n",
            "-------  ----------  -------------  ---------------------  -----------  ----------\n",
            "Overall     97.2061        97.8898                95.8668      95.8668     95.8668\n",
            "Class 0     97.2061        99.4845                96.997       98.1763     97.5831\n",
            "Class 1     97.2061        98.6486                96.6543      94.5455     95.5882\n",
            "Class 2     97.2061        98.6388                93.6803      94.382      94.0299\n"
          ],
          "name": "stdout"
        }
      ]
    },
    {
      "cell_type": "markdown",
      "metadata": {
        "id": "iwMJtNhDntVf"
      },
      "source": [
        ""
      ]
    },
    {
      "cell_type": "markdown",
      "metadata": {
        "id": "muGIpNjZTssN"
      },
      "source": [
        "## Saving The Model"
      ]
    },
    {
      "cell_type": "code",
      "metadata": {
        "id": "S8JlbjbqTyDA"
      },
      "source": [
        "model_save_name = 'C+N+P_With_Dropout_Epoch20.h5'\n",
        "path = F\"/content/gdrive/MyDrive/Temp/{model_save_name}\" \n",
        "model1.save(path)"
      ],
      "execution_count": null,
      "outputs": []
    },
    {
      "cell_type": "code",
      "metadata": {
        "id": "zH1KcoJgxyLX"
      },
      "source": [
        "model_save_name = 'C+N+P_With_Dropout_original_Epoch20.h5'\n",
        "path = F\"/content/gdrive/MyDrive/Temp/{model_save_name}\" \n",
        "model2.save(path)"
      ],
      "execution_count": null,
      "outputs": []
    },
    {
      "cell_type": "markdown",
      "metadata": {
        "id": "EK1AFaNiKohC"
      },
      "source": [
        "# Loading the Model"
      ]
    },
    {
      "cell_type": "code",
      "metadata": {
        "colab": {
          "base_uri": "https://localhost:8080/"
        },
        "id": "ObCleY2aKUyW",
        "outputId": "42d3317c-c2db-4bc6-9429-bcf5607ce02e"
      },
      "source": [
        "from google.colab import drive\n",
        "drive.mount('/content/gdrive')"
      ],
      "execution_count": null,
      "outputs": [
        {
          "output_type": "stream",
          "text": [
            "Mounted at /content/gdrive\n"
          ],
          "name": "stdout"
        }
      ]
    },
    {
      "cell_type": "code",
      "metadata": {
        "id": "98W-dU-vPOKW"
      },
      "source": [
        "from tensorflow.keras.models import load_model\n",
        "\n",
        "model = load_model('/content/gdrive/MyDrive/Temp/C+N+P_Without_Dropout_Epoch30.h5')"
      ],
      "execution_count": null,
      "outputs": []
    },
    {
      "cell_type": "code",
      "metadata": {
        "id": "Kbb6Ymdjcl5X"
      },
      "source": [
        ""
      ],
      "execution_count": null,
      "outputs": []
    },
    {
      "cell_type": "code",
      "metadata": {
        "id": "_fLeSViNcl2t"
      },
      "source": [
        ""
      ],
      "execution_count": null,
      "outputs": []
    },
    {
      "cell_type": "code",
      "metadata": {
        "id": "EqlwfxtEclz_"
      },
      "source": [
        ""
      ],
      "execution_count": null,
      "outputs": []
    },
    {
      "cell_type": "code",
      "metadata": {
        "id": "qtHg2Socclx2"
      },
      "source": [
        ""
      ],
      "execution_count": null,
      "outputs": []
    },
    {
      "cell_type": "code",
      "metadata": {
        "id": "ID6I3nmDclus"
      },
      "source": [
        ""
      ],
      "execution_count": null,
      "outputs": []
    },
    {
      "cell_type": "code",
      "metadata": {
        "id": "uHtmJUBte-ph"
      },
      "source": [
        ""
      ],
      "execution_count": null,
      "outputs": []
    },
    {
      "cell_type": "code",
      "metadata": {
        "id": "uLii-j1Ve-cx"
      },
      "source": [
        ""
      ],
      "execution_count": null,
      "outputs": []
    },
    {
      "cell_type": "code",
      "metadata": {
        "id": "gWpXC9Qge9di"
      },
      "source": [
        ""
      ],
      "execution_count": null,
      "outputs": []
    },
    {
      "cell_type": "markdown",
      "metadata": {
        "id": "iXblYekrqBZ8"
      },
      "source": [
        "# ROC"
      ]
    },
    {
      "cell_type": "code",
      "metadata": {
        "id": "tsQ9rWE9RQ0i",
        "colab": {
          "base_uri": "https://localhost:8080/"
        },
        "outputId": "879f4149-4e49-44ca-811e-e7c63686a37e"
      },
      "source": [
        "from sklearn.metrics import roc_curve, auc, roc_auc_score\n",
        "y_prob = model.predict_classes(Xtest_norm, verbose=1)\n",
        "\n",
        "# ROC\n",
        "fpr_keras, tpr_keras, thresholds_keras = roc_curve(ytest, y_prob, pos_label=2)\n",
        "\n",
        "# AUC\n",
        "auc_keras = auc(fpr_keras, tpr_keras)"
      ],
      "execution_count": null,
      "outputs": [
        {
          "output_type": "stream",
          "text": [
            "/usr/local/lib/python3.7/dist-packages/tensorflow/python/keras/engine/sequential.py:450: UserWarning: `model.predict_classes()` is deprecated and will be removed after 2021-01-01. Please use instead:* `np.argmax(model.predict(x), axis=-1)`,   if your model does multi-class classification   (e.g. if it uses a `softmax` last-layer activation).* `(model.predict(x) > 0.5).astype(\"int32\")`,   if your model does binary classification   (e.g. if it uses a `sigmoid` last-layer activation).\n",
            "  warnings.warn('`model.predict_classes()` is deprecated and '\n"
          ],
          "name": "stderr"
        },
        {
          "output_type": "stream",
          "text": [
            "28/28 [==============================] - 18s 641ms/step\n"
          ],
          "name": "stdout"
        }
      ]
    },
    {
      "cell_type": "code",
      "metadata": {
        "colab": {
          "base_uri": "https://localhost:8080/",
          "height": 573
        },
        "id": "rj6voZW4KUM2",
        "outputId": "e86bdef6-b1fa-432b-d02d-d601189c13fd"
      },
      "source": [
        "plt.figure(1)\n",
        "plt.plot([0, 1], [0, 1], 'k--')\n",
        "plt.plot(fpr_keras, tpr_keras, label='Keras (area = {:.3f})'.format(auc_keras))\n",
        "plt.xlabel('False positive rate')\n",
        "plt.ylabel('True positive rate')\n",
        "plt.title('ROC curve')\n",
        "plt.legend(loc='best')\n",
        "plt.show()\n",
        "# Zoom in view of the upper left corner.\n",
        "plt.figure(2)\n",
        "plt.xlim(0, 0.2)\n",
        "plt.ylim(0.8, 1)\n",
        "plt.plot([0, 1], [0, 1], 'k--')\n",
        "plt.plot(fpr_keras, tpr_keras, label='Keras (area = {:.3f})'.format(auc_keras))\n",
        "plt.xlabel('False positive rate')\n",
        "plt.ylabel('True positive rate')\n",
        "plt.title('ROC curve (zoomed in at top left)')\n",
        "plt.legend(loc='best')\n",
        "plt.show()"
      ],
      "execution_count": null,
      "outputs": [
        {
          "output_type": "display_data",
          "data": {
            "image/png": "[encoded data removed]",
            "text/plain": [
              "<Figure size 432x288 with 1 Axes>"
            ]
          },
          "metadata": {
            "tags": [],
            "needs_background": "light"
          }
        },
        {
          "output_type": "display_data",
          "data": {
            "image/png": "[encoded data removed]",
            "text/plain": [
              "<Figure size 432x288 with 1 Axes>"
            ]
          },
          "metadata": {
            "tags": [],
            "needs_background": "light"
          }
        }
      ]
    },
    {
      "cell_type": "markdown",
      "metadata": {
        "id": "PrRENkyNzqjw"
      },
      "source": [
        "# precision-recall curve and f1"
      ]
    },
    {
      "cell_type": "code",
      "metadata": {
        "id": "IMDcrK798XWF",
        "colab": {
          "base_uri": "https://localhost:8080/"
        },
        "outputId": "5668d0b8-d280-4421-b04f-434a01cd4a84"
      },
      "source": [
        "\n",
        "\n",
        "\n",
        "from sklearn.metrics import precision_recall_curve\n",
        "from sklearn.metrics import f1_score\n",
        "from sklearn.metrics import auc\n",
        "from matplotlib import pyplot\n",
        "\n",
        "prob = model.predict_classes(Xtest_norm)\n",
        "\n"
      ],
      "execution_count": null,
      "outputs": [
        {
          "output_type": "stream",
          "text": [
            "/usr/local/lib/python3.7/dist-packages/tensorflow/python/keras/engine/sequential.py:450: UserWarning: `model.predict_classes()` is deprecated and will be removed after 2021-01-01. Please use instead:* `np.argmax(model.predict(x), axis=-1)`,   if your model does multi-class classification   (e.g. if it uses a `softmax` last-layer activation).* `(model.predict(x) > 0.5).astype(\"int32\")`,   if your model does binary classification   (e.g. if it uses a `sigmoid` last-layer activation).\n",
            "  warnings.warn('`model.predict_classes()` is deprecated and '\n"
          ],
          "name": "stderr"
        }
      ]
    },
    {
      "cell_type": "code",
      "metadata": {
        "colab": {
          "base_uri": "https://localhost:8080/",
          "height": 279
        },
        "id": "xrNvfYg16ApH",
        "outputId": "629f0f68-0d36-44ac-f479-2618e08a86d6"
      },
      "source": [
        "lr_precision, lr_recall, _ = precision_recall_curve(ytest, prob, pos_label=2)\n",
        "# lr_f1, lr_auc = f1_score(ytest, prob), auc(lr_recall, lr_precision)\n",
        "# summarize scores\n",
        "# print('Logistic: f1=%.3f auc=%.3f' % (lr_f1, lr_auc))\n",
        "# plot the precision-recall curves\n",
        "no_skill = len(ytest[ytest==1]) / len(ytest)\n",
        "pyplot.plot([0, 1], [no_skill, no_skill], linestyle='--', label='No Skill')\n",
        "pyplot.plot(lr_recall, lr_precision, marker='.', label='CNN')\n",
        "# axis labels\n",
        "pyplot.xlabel('Recall')\n",
        "pyplot.ylabel('Precision')\n",
        "# show the legend\n",
        "pyplot.legend()\n",
        "# show the plot\n",
        "pyplot.show()"
      ],
      "execution_count": null,
      "outputs": [
        {
          "output_type": "display_data",
          "data": {
            "image/png": "[encoded data removed]",
            "text/plain": [
              "<Figure size 432x288 with 1 Axes>"
            ]
          },
          "metadata": {
            "tags": [],
            "needs_background": "light"
          }
        }
      ]
    },
    {
      "cell_type": "code",
      "metadata": {
        "id": "xmBFzEV78XDp"
      },
      "source": [
        ""
      ],
      "execution_count": null,
      "outputs": []
    },
    {
      "cell_type": "markdown",
      "metadata": {
        "id": "gsbsEQzawDOK"
      },
      "source": [
        "# classification_report"
      ]
    },
    {
      "cell_type": "code",
      "metadata": {
        "colab": {
          "base_uri": "https://localhost:8080/"
        },
        "id": "6EFYcenaKUGa",
        "outputId": "bdadaa0a-dece-44f1-cc32-9261372964e2"
      },
      "source": [
        "from sklearn.metrics import classification_report\n",
        "print(classification_report(ytest, pred))\n",
        "print(' covid19 = 0, normal = 1 , Pnuemonia = 2')"
      ],
      "execution_count": null,
      "outputs": [
        {
          "output_type": "stream",
          "text": [
            "              precision    recall  f1-score   support\n",
            "\n",
            "         0.0       0.98      0.97      0.98       333\n",
            "         1.0       0.95      0.97      0.96       269\n",
            "         2.0       0.94      0.94      0.94       269\n",
            "\n",
            "    accuracy                           0.96       871\n",
            "   macro avg       0.96      0.96      0.96       871\n",
            "weighted avg       0.96      0.96      0.96       871\n",
            "\n",
            " covid19 = 0, normal = 1 , Pnuemonia = 2\n"
          ],
          "name": "stdout"
        }
      ]
    },
    {
      "cell_type": "markdown",
      "metadata": {
        "id": "V7Mwfz98ylRb"
      },
      "source": [
        "## K-Fold cross validation\n"
      ]
    },
    {
      "cell_type": "code",
      "metadata": {
        "id": "Jw07WB-kKUDi"
      },
      "source": [
        "# Model With Dropout Layer\n",
        "\n",
        "\n",
        "def build_model():\n",
        "  model = Sequential()\n",
        "\n",
        "# add the convolutional layer\n",
        "# filters, size of filters, padding, activation_function, inout_shape\n",
        "  model.add(Conv2D(32,(5,5), padding = 'SAME', activation = 'relu', input_shape = (150,150,3)))\n",
        "\n",
        "  # pooling layer\n",
        "  model.add(MaxPooling2D(pool_size = (2,2)))\n",
        "\n",
        "  # place a dropout layer\n",
        "  #model.add(Dropout(0.5)) ## Minimizes the overfitting\n",
        "\n",
        "  # add another convolutional layer\n",
        "  model.add(Conv2D(64,(5,5), padding = 'SAME', activation = 'relu'))\n",
        "\n",
        "  # pooling layer\n",
        "  model.add(MaxPooling2D(pool_size = (2,2)))\n",
        "\n",
        "  # place a dropout layer\n",
        " # model.add(Dropout(0.5))\n",
        "\n",
        "  # Flatten the image to 1 dimensional array\n",
        "  model.add(Flatten())\n",
        "\n",
        "  # add a dense layer : amount of nodes, activation\n",
        "  model.add(Dense(256, activation = 'relu'))\n",
        "\n",
        "  # place a dropout layer\n",
        "  # 0.5 drop out rate is recommended, half input will be dropped at each update\n",
        " # model.add(Dropout(0.5))\n",
        "  model.add(Dense(3, activation = 'sigmoid'))\n",
        "\n",
        "  # compile model\n",
        "  from tensorflow.keras.optimizers import Adam # Adam is optimizer\n",
        "# Loss function definition\n",
        "  model.compile(Adam(lr = 0.001),loss = 'binary_crossentropy', metrics = ['accuracy'])\n",
        "  return model"
      ],
      "execution_count": null,
      "outputs": []
    },
    {
      "cell_type": "code",
      "metadata": {
        "colab": {
          "base_uri": "https://localhost:8080/"
        },
        "id": "6VVNwrG64o4u",
        "outputId": "37c5b6c5-96da-40c1-ad08-aa663d60fa84"
      },
      "source": [
        "X_train_norm.shape, y_train.shape"
      ],
      "execution_count": null,
      "outputs": [
        {
          "output_type": "execute_result",
          "data": {
            "text/plain": [
              "((2782, 150, 150, 3), (2782,))"
            ]
          },
          "metadata": {
            "tags": []
          },
          "execution_count": 72
        }
      ]
    },
    {
      "cell_type": "code",
      "metadata": {
        "id": "HrF2Xr0IKUAV"
      },
      "source": [
        "%%time\n",
        "\n",
        "from tensorflow.keras.wrappers.scikit_learn. import KerasClassifier\n",
        "from sklearn.model_selection import KFold, cross_val_score\n",
        "import time\n",
        "\n",
        "\n",
        "estimator= KerasClassifier(build_fn=build_model, epochs=30,verbose = 1)\n",
        "kfold= KFold(n_splits=5,shuffle=True)\n",
        "results= cross_val_score(estimator, X_train_norm, y_train, cv=kfold)\n",
        "print(\"Accuracies per K-Fold \", results)\n",
        "results.mean()"
      ],
      "execution_count": null,
      "outputs": []
    },
    {
      "cell_type": "code",
      "metadata": {
        "colab": {
          "base_uri": "https://localhost:8080/"
        },
        "id": "QvSHfM1TKT3M",
        "outputId": "919d7b55-1201-4d25-da9f-63879e348709"
      },
      "source": [
        "print(\"Accuracies per K-Fold \", results)\n",
        "results.mean()"
      ],
      "execution_count": null,
      "outputs": [
        {
          "output_type": "stream",
          "text": [
            "Accuracies per K-Fold  [0.98961037 0.98958331 0.984375   0.99479169 0.97916669]\n"
          ],
          "name": "stdout"
        },
        {
          "output_type": "execute_result",
          "data": {
            "text/plain": [
              "0.9875054121017456"
            ]
          },
          "metadata": {
            "tags": []
          },
          "execution_count": 13
        }
      ]
    },
    {
      "cell_type": "code",
      "metadata": {
        "colab": {
          "base_uri": "https://localhost:8080/"
        },
        "id": "uurmjm4pKT0f",
        "outputId": "c0d3d01e-1198-4757-9063-76407c0fe196"
      },
      "source": [
        "results.max()"
      ],
      "execution_count": null,
      "outputs": [
        {
          "output_type": "execute_result",
          "data": {
            "text/plain": [
              "0.9947916865348816"
            ]
          },
          "metadata": {
            "tags": []
          },
          "execution_count": 14
        }
      ]
    },
    {
      "cell_type": "code",
      "metadata": {
        "colab": {
          "base_uri": "https://localhost:8080/"
        },
        "id": "XAj-0d_xKTxe",
        "outputId": "50fbb03f-f34b-4217-86f5-b978e407a589"
      },
      "source": [
        "results.min()"
      ],
      "execution_count": null,
      "outputs": [
        {
          "output_type": "execute_result",
          "data": {
            "text/plain": [
              "0.9791666865348816"
            ]
          },
          "metadata": {
            "tags": []
          },
          "execution_count": 16
        }
      ]
    },
    {
      "cell_type": "code",
      "metadata": {
        "colab": {
          "base_uri": "https://localhost:8080/"
        },
        "id": "HRAZ-CEqKTuU",
        "outputId": "5f13599a-ca5b-4356-9bc8-403a04bf9988"
      },
      "source": [
        "results.std()"
      ],
      "execution_count": null,
      "outputs": [
        {
          "output_type": "execute_result",
          "data": {
            "text/plain": [
              "0.0053136081466382675"
            ]
          },
          "metadata": {
            "tags": []
          },
          "execution_count": 17
        }
      ]
    },
    {
      "cell_type": "code",
      "metadata": {
        "colab": {
          "base_uri": "https://localhost:8080/"
        },
        "id": "hljsaOnZKTlX",
        "outputId": "ed4801cd-d89d-4831-b6ae-4a941360a16d"
      },
      "source": [
        "%%time\n",
        "from sklearn.model_selection import cross_val_predict,\n",
        "from sklearn.metrics import confusion_matrix\n",
        "\n",
        "y_pred = cross_val_predict(estimator, Xtest_norm, ytest, cv=kfold)\n",
        "conf_mat = confusion_matrix(ytest, y_pred)"
      ],
      "execution_count": null,
      "outputs": [
        {
          "output_type": "stream",
          "text": [
            "Epoch 1/30\n",
            "16/16 [==============================] - 29s 2s/step - loss: 3.8997 - accuracy: 0.6156\n",
            "Epoch 2/30\n",
            "16/16 [==============================] - 28s 2s/step - loss: 0.3188 - accuracy: 0.8865\n",
            "Epoch 3/30\n",
            "16/16 [==============================] - 28s 2s/step - loss: 0.2302 - accuracy: 0.9229\n",
            "Epoch 4/30\n",
            "16/16 [==============================] - 28s 2s/step - loss: 0.1582 - accuracy: 0.9461\n",
            "Epoch 5/30\n",
            "16/16 [==============================] - 28s 2s/step - loss: 0.2082 - accuracy: 0.9086\n",
            "Epoch 6/30\n",
            "16/16 [==============================] - 28s 2s/step - loss: 0.1118 - accuracy: 0.9618\n",
            "Epoch 7/30\n",
            "16/16 [==============================] - 28s 2s/step - loss: 0.0612 - accuracy: 0.9718\n",
            "Epoch 8/30\n",
            "16/16 [==============================] - 28s 2s/step - loss: 0.0856 - accuracy: 0.9604\n",
            "Epoch 9/30\n",
            "16/16 [==============================] - 28s 2s/step - loss: 0.0953 - accuracy: 0.9627\n",
            "Epoch 10/30\n",
            "16/16 [==============================] - 28s 2s/step - loss: 0.0459 - accuracy: 0.9820\n",
            "Epoch 11/30\n",
            "16/16 [==============================] - 28s 2s/step - loss: 0.0782 - accuracy: 0.9682\n",
            "Epoch 12/30\n",
            "16/16 [==============================] - 28s 2s/step - loss: 0.0614 - accuracy: 0.9806\n",
            "Epoch 13/30\n",
            "16/16 [==============================] - 28s 2s/step - loss: 0.0555 - accuracy: 0.9851\n",
            "Epoch 14/30\n",
            "16/16 [==============================] - 28s 2s/step - loss: 0.1265 - accuracy: 0.9444\n",
            "Epoch 15/30\n",
            "16/16 [==============================] - 28s 2s/step - loss: 0.0894 - accuracy: 0.9660\n",
            "Epoch 16/30\n",
            "16/16 [==============================] - 28s 2s/step - loss: 0.0475 - accuracy: 0.9814\n",
            "Epoch 17/30\n",
            "16/16 [==============================] - 28s 2s/step - loss: 0.0550 - accuracy: 0.9893\n",
            "Epoch 18/30\n",
            "16/16 [==============================] - 28s 2s/step - loss: 0.0309 - accuracy: 0.9894\n",
            "Epoch 19/30\n",
            "16/16 [==============================] - 28s 2s/step - loss: 0.0408 - accuracy: 0.9895\n",
            "Epoch 20/30\n",
            "16/16 [==============================] - 28s 2s/step - loss: 0.0406 - accuracy: 0.9870\n",
            "Epoch 21/30\n",
            "16/16 [==============================] - 28s 2s/step - loss: 0.0477 - accuracy: 0.9812\n",
            "Epoch 22/30\n",
            "16/16 [==============================] - 28s 2s/step - loss: 0.1059 - accuracy: 0.9642\n",
            "Epoch 23/30\n",
            "16/16 [==============================] - 28s 2s/step - loss: 0.0788 - accuracy: 0.9685\n",
            "Epoch 24/30\n",
            "16/16 [==============================] - 28s 2s/step - loss: 0.0474 - accuracy: 0.9822\n",
            "Epoch 25/30\n",
            "16/16 [==============================] - 28s 2s/step - loss: 0.0619 - accuracy: 0.9756\n",
            "Epoch 26/30\n",
            "16/16 [==============================] - 28s 2s/step - loss: 0.0245 - accuracy: 0.9910\n",
            "Epoch 27/30\n",
            "16/16 [==============================] - 28s 2s/step - loss: 0.0120 - accuracy: 0.9961\n",
            "Epoch 28/30\n",
            "16/16 [==============================] - 28s 2s/step - loss: 0.0165 - accuracy: 0.9926\n",
            "Epoch 29/30\n",
            "16/16 [==============================] - 28s 2s/step - loss: 0.0078 - accuracy: 0.9987\n",
            "Epoch 30/30\n",
            "16/16 [==============================] - 28s 2s/step - loss: 0.0207 - accuracy: 0.9907\n"
          ],
          "name": "stdout"
        },
        {
          "output_type": "stream",
          "text": [
            "/usr/local/lib/python3.7/dist-packages/tensorflow/python/keras/engine/sequential.py:450: UserWarning: `model.predict_classes()` is deprecated and will be removed after 2021-01-01. Please use instead:* `np.argmax(model.predict(x), axis=-1)`,   if your model does multi-class classification   (e.g. if it uses a `softmax` last-layer activation).* `(model.predict(x) > 0.5).astype(\"int32\")`,   if your model does binary classification   (e.g. if it uses a `sigmoid` last-layer activation).\n",
            "  warnings.warn('`model.predict_classes()` is deprecated and '\n"
          ],
          "name": "stderr"
        },
        {
          "output_type": "stream",
          "text": [
            "4/4 [==============================] - 2s 482ms/step\n",
            "Epoch 1/30\n",
            "16/16 [==============================] - 29s 2s/step - loss: 4.4968 - accuracy: 0.5614\n",
            "Epoch 2/30\n",
            "16/16 [==============================] - 28s 2s/step - loss: 0.3095 - accuracy: 0.8582\n",
            "Epoch 3/30\n",
            "16/16 [==============================] - 28s 2s/step - loss: 0.1501 - accuracy: 0.9399\n",
            "Epoch 4/30\n",
            "16/16 [==============================] - 28s 2s/step - loss: 0.0992 - accuracy: 0.9690\n",
            "Epoch 5/30\n",
            "16/16 [==============================] - 28s 2s/step - loss: 0.0828 - accuracy: 0.9686\n",
            "Epoch 6/30\n",
            "16/16 [==============================] - 28s 2s/step - loss: 0.0625 - accuracy: 0.9820\n",
            "Epoch 7/30\n",
            "16/16 [==============================] - 28s 2s/step - loss: 0.0435 - accuracy: 0.9913\n",
            "Epoch 8/30\n",
            "16/16 [==============================] - 28s 2s/step - loss: 0.0573 - accuracy: 0.9840\n",
            "Epoch 9/30\n",
            "16/16 [==============================] - 28s 2s/step - loss: 0.0208 - accuracy: 0.9893\n",
            "Epoch 10/30\n",
            "16/16 [==============================] - 28s 2s/step - loss: 0.0461 - accuracy: 0.9889\n",
            "Epoch 11/30\n",
            "16/16 [==============================] - 28s 2s/step - loss: 0.0255 - accuracy: 0.9938\n",
            "Epoch 12/30\n",
            "16/16 [==============================] - 28s 2s/step - loss: 0.0463 - accuracy: 0.9836\n",
            "Epoch 13/30\n",
            "16/16 [==============================] - 28s 2s/step - loss: 0.0280 - accuracy: 0.9930\n",
            "Epoch 14/30\n",
            "16/16 [==============================] - 28s 2s/step - loss: 0.0364 - accuracy: 0.9897\n",
            "Epoch 15/30\n",
            "16/16 [==============================] - 28s 2s/step - loss: 0.0421 - accuracy: 0.9850\n",
            "Epoch 16/30\n",
            "16/16 [==============================] - 28s 2s/step - loss: 0.0296 - accuracy: 0.9957\n",
            "Epoch 17/30\n",
            "16/16 [==============================] - 28s 2s/step - loss: 0.0127 - accuracy: 0.9932\n",
            "Epoch 18/30\n",
            "16/16 [==============================] - 28s 2s/step - loss: 0.0134 - accuracy: 0.9948\n",
            "Epoch 19/30\n",
            "16/16 [==============================] - 28s 2s/step - loss: 0.0256 - accuracy: 0.9943\n",
            "Epoch 20/30\n",
            "16/16 [==============================] - 28s 2s/step - loss: 0.0225 - accuracy: 0.9906\n",
            "Epoch 21/30\n",
            "16/16 [==============================] - 28s 2s/step - loss: 0.0129 - accuracy: 0.9954\n",
            "Epoch 22/30\n",
            "16/16 [==============================] - 28s 2s/step - loss: 0.0061 - accuracy: 0.9987\n",
            "Epoch 23/30\n",
            "16/16 [==============================] - 28s 2s/step - loss: 0.0125 - accuracy: 0.9961\n",
            "Epoch 24/30\n",
            "16/16 [==============================] - 28s 2s/step - loss: 0.0081 - accuracy: 0.9990\n",
            "Epoch 25/30\n",
            "16/16 [==============================] - 28s 2s/step - loss: 0.0085 - accuracy: 0.9975\n",
            "Epoch 26/30\n",
            "16/16 [==============================] - 28s 2s/step - loss: 0.0096 - accuracy: 0.9975\n",
            "Epoch 27/30\n",
            "16/16 [==============================] - 28s 2s/step - loss: 0.0062 - accuracy: 0.9968\n",
            "Epoch 28/30\n",
            "16/16 [==============================] - 28s 2s/step - loss: 0.0072 - accuracy: 0.9960\n",
            "Epoch 29/30\n",
            "16/16 [==============================] - 28s 2s/step - loss: 0.0177 - accuracy: 0.9933\n",
            "Epoch 30/30\n",
            "16/16 [==============================] - 28s 2s/step - loss: 0.0137 - accuracy: 0.9933\n",
            "4/4 [==============================] - 2s 489ms/step\n",
            "Epoch 1/30\n",
            "16/16 [==============================] - 29s 2s/step - loss: 3.9598 - accuracy: 0.5666\n",
            "Epoch 2/30\n",
            "16/16 [==============================] - 28s 2s/step - loss: 0.3145 - accuracy: 0.8821\n",
            "Epoch 3/30\n",
            "16/16 [==============================] - 28s 2s/step - loss: 0.1539 - accuracy: 0.9388\n",
            "Epoch 4/30\n",
            "16/16 [==============================] - 29s 2s/step - loss: 0.1026 - accuracy: 0.9619\n",
            "Epoch 5/30\n",
            "16/16 [==============================] - 29s 2s/step - loss: 0.1527 - accuracy: 0.9317\n",
            "Epoch 6/30\n",
            "16/16 [==============================] - 29s 2s/step - loss: 0.1488 - accuracy: 0.9316\n",
            "Epoch 7/30\n",
            "16/16 [==============================] - 29s 2s/step - loss: 0.1054 - accuracy: 0.9576\n",
            "Epoch 8/30\n",
            "16/16 [==============================] - 30s 2s/step - loss: 0.0854 - accuracy: 0.9649\n",
            "Epoch 9/30\n",
            "16/16 [==============================] - 34s 2s/step - loss: 0.0854 - accuracy: 0.9759\n",
            "Epoch 10/30\n",
            "16/16 [==============================] - 31s 2s/step - loss: 0.0513 - accuracy: 0.9868\n",
            "Epoch 11/30\n",
            "16/16 [==============================] - 33s 2s/step - loss: 0.0705 - accuracy: 0.9798\n",
            "Epoch 12/30\n",
            "16/16 [==============================] - 35s 2s/step - loss: 0.0496 - accuracy: 0.9856\n",
            "Epoch 13/30\n",
            "16/16 [==============================] - 31s 2s/step - loss: 0.0801 - accuracy: 0.9828\n",
            "Epoch 14/30\n",
            "16/16 [==============================] - 30s 2s/step - loss: 0.0418 - accuracy: 0.9838\n",
            "Epoch 15/30\n",
            "16/16 [==============================] - 29s 2s/step - loss: 0.0741 - accuracy: 0.9691\n",
            "Epoch 16/30\n",
            "16/16 [==============================] - 30s 2s/step - loss: 0.0336 - accuracy: 0.9882\n",
            "Epoch 17/30\n",
            "16/16 [==============================] - 29s 2s/step - loss: 0.0403 - accuracy: 0.9784\n",
            "Epoch 18/30\n",
            "16/16 [==============================] - 30s 2s/step - loss: 0.0321 - accuracy: 0.9800\n",
            "Epoch 19/30\n",
            "16/16 [==============================] - 30s 2s/step - loss: 0.0350 - accuracy: 0.9912\n",
            "Epoch 20/30\n",
            "16/16 [==============================] - 30s 2s/step - loss: 0.0202 - accuracy: 0.9970\n",
            "Epoch 21/30\n",
            "16/16 [==============================] - 30s 2s/step - loss: 0.0228 - accuracy: 0.9962\n",
            "Epoch 22/30\n",
            "16/16 [==============================] - 30s 2s/step - loss: 0.0091 - accuracy: 0.9964\n",
            "Epoch 23/30\n",
            "16/16 [==============================] - 29s 2s/step - loss: 0.0142 - accuracy: 0.9965\n",
            "Epoch 24/30\n",
            "16/16 [==============================] - 30s 2s/step - loss: 0.0154 - accuracy: 0.9900\n",
            "Epoch 25/30\n",
            "16/16 [==============================] - 29s 2s/step - loss: 0.0207 - accuracy: 0.9904\n",
            "Epoch 26/30\n",
            "16/16 [==============================] - 30s 2s/step - loss: 0.0150 - accuracy: 0.9947\n",
            "Epoch 27/30\n",
            "16/16 [==============================] - 30s 2s/step - loss: 0.0107 - accuracy: 0.9921\n",
            "Epoch 28/30\n",
            "16/16 [==============================] - 29s 2s/step - loss: 0.0176 - accuracy: 0.9970\n",
            "Epoch 29/30\n",
            "16/16 [==============================] - 29s 2s/step - loss: 0.0054 - accuracy: 0.9995\n",
            "Epoch 30/30\n",
            "16/16 [==============================] - 29s 2s/step - loss: 0.0069 - accuracy: 0.9978\n",
            "4/4 [==============================] - 2s 491ms/step\n",
            "Epoch 1/30\n",
            "16/16 [==============================] - 29s 2s/step - loss: 4.4707 - accuracy: 0.5515\n",
            "Epoch 2/30\n",
            "16/16 [==============================] - 29s 2s/step - loss: 0.3279 - accuracy: 0.8443\n",
            "Epoch 3/30\n",
            "16/16 [==============================] - 29s 2s/step - loss: 0.1780 - accuracy: 0.9363\n",
            "Epoch 4/30\n",
            "16/16 [==============================] - 30s 2s/step - loss: 0.1607 - accuracy: 0.9315\n",
            "Epoch 5/30\n",
            "16/16 [==============================] - 30s 2s/step - loss: 0.1850 - accuracy: 0.9347\n",
            "Epoch 6/30\n",
            "16/16 [==============================] - 31s 2s/step - loss: 0.1233 - accuracy: 0.9584\n",
            "Epoch 7/30\n",
            "16/16 [==============================] - 30s 2s/step - loss: 0.1442 - accuracy: 0.9426\n",
            "Epoch 8/30\n",
            "16/16 [==============================] - 29s 2s/step - loss: 0.0832 - accuracy: 0.9729\n",
            "Epoch 9/30\n",
            "16/16 [==============================] - 29s 2s/step - loss: 0.0769 - accuracy: 0.9740\n",
            "Epoch 10/30\n",
            "16/16 [==============================] - 29s 2s/step - loss: 0.0630 - accuracy: 0.9795\n",
            "Epoch 11/30\n",
            "16/16 [==============================] - 29s 2s/step - loss: 0.0591 - accuracy: 0.9814\n",
            "Epoch 12/30\n",
            "16/16 [==============================] - 29s 2s/step - loss: 0.0612 - accuracy: 0.9734\n",
            "Epoch 13/30\n",
            "16/16 [==============================] - 29s 2s/step - loss: 0.0563 - accuracy: 0.9831\n",
            "Epoch 14/30\n",
            "16/16 [==============================] - 29s 2s/step - loss: 0.0213 - accuracy: 0.9926\n",
            "Epoch 15/30\n",
            "16/16 [==============================] - 29s 2s/step - loss: 0.0356 - accuracy: 0.9833\n",
            "Epoch 16/30\n",
            "16/16 [==============================] - 29s 2s/step - loss: 0.0582 - accuracy: 0.9784\n",
            "Epoch 17/30\n",
            "16/16 [==============================] - 29s 2s/step - loss: 0.0341 - accuracy: 0.9864\n",
            "Epoch 18/30\n",
            "16/16 [==============================] - 30s 2s/step - loss: 0.0326 - accuracy: 0.9939\n",
            "Epoch 19/30\n",
            "16/16 [==============================] - 29s 2s/step - loss: 0.0317 - accuracy: 0.9817\n",
            "Epoch 20/30\n",
            "16/16 [==============================] - 29s 2s/step - loss: 0.0464 - accuracy: 0.9901\n",
            "Epoch 21/30\n",
            "16/16 [==============================] - 29s 2s/step - loss: 0.0220 - accuracy: 0.9956\n",
            "Epoch 22/30\n",
            "16/16 [==============================] - 29s 2s/step - loss: 0.0161 - accuracy: 0.9962\n",
            "Epoch 23/30\n",
            "16/16 [==============================] - 30s 2s/step - loss: 0.0215 - accuracy: 0.9900\n",
            "Epoch 24/30\n",
            "16/16 [==============================] - 30s 2s/step - loss: 0.0141 - accuracy: 0.9933\n",
            "Epoch 25/30\n",
            "16/16 [==============================] - 30s 2s/step - loss: 0.0279 - accuracy: 0.9886\n",
            "Epoch 26/30\n",
            "16/16 [==============================] - 30s 2s/step - loss: 0.0423 - accuracy: 0.9880\n",
            "Epoch 27/30\n",
            "16/16 [==============================] - 30s 2s/step - loss: 0.0270 - accuracy: 0.9859\n",
            "Epoch 28/30\n",
            "16/16 [==============================] - 30s 2s/step - loss: 0.0353 - accuracy: 0.9914\n",
            "Epoch 29/30\n",
            "16/16 [==============================] - 29s 2s/step - loss: 0.0177 - accuracy: 0.9953\n",
            "Epoch 30/30\n",
            "16/16 [==============================] - 30s 2s/step - loss: 0.0089 - accuracy: 1.0000\n",
            "4/4 [==============================] - 2s 497ms/step\n",
            "Epoch 1/30\n",
            "16/16 [==============================] - 31s 2s/step - loss: 3.9894 - accuracy: 0.6026\n",
            "Epoch 2/30\n",
            "16/16 [==============================] - 31s 2s/step - loss: 0.2598 - accuracy: 0.8765\n",
            "Epoch 3/30\n",
            "16/16 [==============================] - 30s 2s/step - loss: 0.1404 - accuracy: 0.9486\n",
            "Epoch 4/30\n",
            "16/16 [==============================] - 30s 2s/step - loss: 0.1295 - accuracy: 0.9514\n",
            "Epoch 5/30\n",
            "16/16 [==============================] - 32s 2s/step - loss: 0.1583 - accuracy: 0.9484\n",
            "Epoch 6/30\n",
            "16/16 [==============================] - 30s 2s/step - loss: 0.0785 - accuracy: 0.9728\n",
            "Epoch 7/30\n",
            "16/16 [==============================] - 31s 2s/step - loss: 0.0893 - accuracy: 0.9671\n",
            "Epoch 8/30\n",
            "16/16 [==============================] - 30s 2s/step - loss: 0.0944 - accuracy: 0.9681\n",
            "Epoch 9/30\n",
            "16/16 [==============================] - 32s 2s/step - loss: 0.0994 - accuracy: 0.9630\n",
            "Epoch 10/30\n",
            "16/16 [==============================] - 30s 2s/step - loss: 0.0508 - accuracy: 0.9816\n",
            "Epoch 11/30\n",
            "16/16 [==============================] - 30s 2s/step - loss: 0.0709 - accuracy: 0.9767\n",
            "Epoch 12/30\n",
            "16/16 [==============================] - 30s 2s/step - loss: 0.0525 - accuracy: 0.9784\n",
            "Epoch 13/30\n",
            "16/16 [==============================] - 30s 2s/step - loss: 0.0327 - accuracy: 0.9824\n",
            "Epoch 14/30\n",
            "16/16 [==============================] - 30s 2s/step - loss: 0.0408 - accuracy: 0.9810\n",
            "Epoch 15/30\n",
            "16/16 [==============================] - 30s 2s/step - loss: 0.0532 - accuracy: 0.9786\n",
            "Epoch 16/30\n",
            "16/16 [==============================] - 30s 2s/step - loss: 0.0270 - accuracy: 0.9939\n",
            "Epoch 17/30\n",
            "16/16 [==============================] - 30s 2s/step - loss: 0.1962 - accuracy: 0.9670\n",
            "Epoch 18/30\n",
            "16/16 [==============================] - 30s 2s/step - loss: 0.1128 - accuracy: 0.9545\n",
            "Epoch 19/30\n",
            "16/16 [==============================] - 31s 2s/step - loss: 0.1229 - accuracy: 0.9599\n",
            "Epoch 20/30\n",
            "16/16 [==============================] - 30s 2s/step - loss: 0.0982 - accuracy: 0.9493\n",
            "Epoch 21/30\n",
            "16/16 [==============================] - 30s 2s/step - loss: 0.0946 - accuracy: 0.9523\n",
            "Epoch 22/30\n",
            "16/16 [==============================] - 29s 2s/step - loss: 0.0483 - accuracy: 0.9784\n",
            "Epoch 23/30\n",
            "16/16 [==============================] - 30s 2s/step - loss: 0.0412 - accuracy: 0.9800\n",
            "Epoch 24/30\n",
            "16/16 [==============================] - 30s 2s/step - loss: 0.0376 - accuracy: 0.9868\n",
            "Epoch 25/30\n",
            "16/16 [==============================] - 30s 2s/step - loss: 0.0485 - accuracy: 0.9794\n",
            "Epoch 26/30\n",
            "16/16 [==============================] - 30s 2s/step - loss: 0.0580 - accuracy: 0.9749\n",
            "Epoch 27/30\n",
            "16/16 [==============================] - 29s 2s/step - loss: 0.0291 - accuracy: 0.9920\n",
            "Epoch 28/30\n",
            "16/16 [==============================] - 29s 2s/step - loss: 0.0260 - accuracy: 0.9905\n",
            "Epoch 29/30\n",
            "16/16 [==============================] - 30s 2s/step - loss: 0.0194 - accuracy: 0.9957\n",
            "Epoch 30/30\n",
            "16/16 [==============================] - 29s 2s/step - loss: 0.0163 - accuracy: 0.9947\n",
            "4/4 [==============================] - 2s 496ms/step\n",
            "CPU times: user 2h 21min 13s, sys: 1min 16s, total: 2h 22min 30s\n",
            "Wall time: 1h 13min 14s\n"
          ],
          "name": "stdout"
        }
      ]
    },
    {
      "cell_type": "code",
      "metadata": {
        "id": "wcVeYsr4KTiS"
      },
      "source": [
        ""
      ],
      "execution_count": null,
      "outputs": []
    },
    {
      "cell_type": "code",
      "metadata": {
        "id": "ZPbCAME9KTfU"
      },
      "source": [
        ""
      ],
      "execution_count": null,
      "outputs": []
    },
    {
      "cell_type": "code",
      "metadata": {
        "id": "dkauMqROKTcT"
      },
      "source": [
        ""
      ],
      "execution_count": null,
      "outputs": []
    },
    {
      "cell_type": "code",
      "metadata": {
        "id": "tGXwwsMmKTZU"
      },
      "source": [
        ""
      ],
      "execution_count": null,
      "outputs": []
    },
    {
      "cell_type": "code",
      "metadata": {
        "id": "9UweL0zzKTWE"
      },
      "source": [
        ""
      ],
      "execution_count": null,
      "outputs": []
    },
    {
      "cell_type": "code",
      "metadata": {
        "id": "s0sm5wGyKTTj"
      },
      "source": [
        ""
      ],
      "execution_count": null,
      "outputs": []
    },
    {
      "cell_type": "code",
      "metadata": {
        "id": "QtUns9WdKTQg"
      },
      "source": [
        ""
      ],
      "execution_count": null,
      "outputs": []
    },
    {
      "cell_type": "code",
      "metadata": {
        "id": "TP86_o5rKTN0"
      },
      "source": [
        ""
      ],
      "execution_count": null,
      "outputs": []
    },
    {
      "cell_type": "code",
      "metadata": {
        "id": "YSanAZCyKTKm"
      },
      "source": [
        ""
      ],
      "execution_count": null,
      "outputs": []
    },
    {
      "cell_type": "code",
      "metadata": {
        "id": "ZerrbcJEKTHj"
      },
      "source": [
        ""
      ],
      "execution_count": null,
      "outputs": []
    },
    {
      "cell_type": "code",
      "metadata": {
        "id": "m9v8SlxPKTCP"
      },
      "source": [
        ""
      ],
      "execution_count": null,
      "outputs": []
    },
    {
      "cell_type": "code",
      "metadata": {
        "id": "MFmggwmxKS_a"
      },
      "source": [
        ""
      ],
      "execution_count": null,
      "outputs": []
    },
    {
      "cell_type": "code",
      "metadata": {
        "id": "Ozw_aTTNKS8h"
      },
      "source": [
        ""
      ],
      "execution_count": null,
      "outputs": []
    },
    {
      "cell_type": "code",
      "metadata": {
        "id": "eS5JamNYKS51"
      },
      "source": [
        ""
      ],
      "execution_count": null,
      "outputs": []
    },
    {
      "cell_type": "code",
      "metadata": {
        "id": "u-theTOQKS26"
      },
      "source": [
        ""
      ],
      "execution_count": null,
      "outputs": []
    },
    {
      "cell_type": "code",
      "metadata": {
        "id": "p5-T6A9PKS0W"
      },
      "source": [
        ""
      ],
      "execution_count": null,
      "outputs": []
    },
    {
      "cell_type": "code",
      "metadata": {
        "id": "yfzWT8u4KSxj"
      },
      "source": [
        ""
      ],
      "execution_count": null,
      "outputs": []
    },
    {
      "cell_type": "code",
      "metadata": {
        "id": "f2dzkzccKSu8"
      },
      "source": [
        ""
      ],
      "execution_count": null,
      "outputs": []
    },
    {
      "cell_type": "code",
      "metadata": {
        "id": "pyvbpbE4KSsK"
      },
      "source": [
        ""
      ],
      "execution_count": null,
      "outputs": []
    },
    {
      "cell_type": "code",
      "metadata": {
        "id": "22WC4FQ6KSpM"
      },
      "source": [
        ""
      ],
      "execution_count": null,
      "outputs": []
    },
    {
      "cell_type": "code",
      "metadata": {
        "id": "0_Dw2EBrKSl6"
      },
      "source": [
        ""
      ],
      "execution_count": null,
      "outputs": []
    },
    {
      "cell_type": "code",
      "metadata": {
        "id": "mEBY8H4pKSQ7"
      },
      "source": [
        ""
      ],
      "execution_count": null,
      "outputs": []
    },
    {
      "cell_type": "code",
      "metadata": {
        "id": "vdCGIB3CKSGa"
      },
      "source": [
        ""
      ],
      "execution_count": null,
      "outputs": []
    }
  ]
}