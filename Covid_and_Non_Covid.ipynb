{
  "nbformat": 4,
  "nbformat_minor": 0,
  "metadata": {
    "colab": {
      "name": "Covid and Non Covid.ipynb",
      "provenance": [],
      "collapsed_sections": [],
      "toc_visible": true,
      "authorship_tag": "ABX9TyPIRoMeoBocghwm8O5Jg02H",
      "include_colab_link": true
    },
    "kernelspec": {
      "name": "python3",
      "display_name": "Python 3"
    },
    "language_info": {
      "name": "python"
    },
    "accelerator": "GPU"
  },
  "cells": [
    {
      "cell_type": "markdown",
      "metadata": {
        "id": "view-in-github",
        "colab_type": "text"
      },
      "source": [
        "<a href=\"https://colab.research.google.com/github/source-droid/Machine-Learning-based-Automatic-Covid-19-detection-using-Lung-s-Scans/blob/main/Covid_and_Non_Covid.ipynb\" target=\"_parent\"><img src=\"https://colab.research.google.com/assets/colab-badge.svg\" alt=\"Open In Colab\"/></a>"
      ]
    },
    {
      "cell_type": "code",
      "metadata": {
        "id": "w6abtEppu87G"
      },
      "source": [
        ""
      ],
      "execution_count": null,
      "outputs": []
    },
    {
      "cell_type": "markdown",
      "metadata": {
        "id": "uuTPWNPDzjSy"
      },
      "source": [
        "# Import Libaries"
      ]
    },
    {
      "cell_type": "code",
      "metadata": {
        "id": "QJV6HBlQzilc"
      },
      "source": [
        "from tensorflow.keras.models import Sequential\n",
        "from tensorflow.keras.layers import Dense, Conv2D, Flatten, Dropout, MaxPooling2D\n",
        "from tensorflow.keras.preprocessing.image import ImageDataGenerator\n",
        "import tensorflow as tf\n",
        "import numpy as np\n",
        "import matplotlib.pyplot as plt\n",
        "import matplotlib.image as mpimg\n",
        "import random\n",
        "from tensorflow.keras.utils import to_categorical\n",
        "\n",
        "import sklearn.metrics as metrics\n",
        "from sklearn.metrics import plot_confusion_matrix\n",
        "from sklearn.metrics import confusion_matrix"
      ],
      "execution_count": 1,
      "outputs": []
    },
    {
      "cell_type": "markdown",
      "metadata": {
        "id": "eDG8HGbgzqvh"
      },
      "source": [
        "## Clone Dataset"
      ]
    },
    {
      "cell_type": "code",
      "metadata": {
        "colab": {
          "base_uri": "https://localhost:8080/"
        },
        "id": "ZKCZlUBgzszt",
        "outputId": "3e4c335c-8ba1-46e9-ff90-242dcc53786e"
      },
      "source": [
        "# Cloning Dataset on Colab\n",
        "! git clone https://github.com/source-droid/Covid-and-non-Covid.git"
      ],
      "execution_count": 2,
      "outputs": [
        {
          "output_type": "stream",
          "text": [
            "Cloning into 'Covid-and-non-Covid'...\n",
            "remote: Enumerating objects: 2634, done.\u001b[K\n",
            "remote: Total 2634 (delta 0), reused 0 (delta 0), pack-reused 2634\u001b[K\n",
            "Receiving objects: 100% (2634/2634), 1.54 GiB | 32.88 MiB/s, done.\n",
            "Checking out files: 100% (2629/2629), done.\n"
          ],
          "name": "stdout"
        }
      ]
    },
    {
      "cell_type": "markdown",
      "metadata": {
        "id": "EK9AM7o00FI6"
      },
      "source": [
        "# Reading the Training images\n"
      ]
    },
    {
      "cell_type": "code",
      "metadata": {
        "colab": {
          "base_uri": "https://localhost:8080/"
        },
        "id": "-YLPEfV1zxRL",
        "outputId": "fa1d5209-9929-4cb8-f99a-73da5ed19b60"
      },
      "source": [
        "#Reading Training Images For Covid and Normal\n",
        "import numpy as np \n",
        "import glob \n",
        "import cv2 \n",
        "path_l = glob.glob(\"/content/Covid-and-non-Covid/train/Covid/*.*\")\n",
        "cv_img = [] \n",
        "for img in path_l:\n",
        "    n = cv2.imread(img) \n",
        "    n = cv2.resize(n,(150,150)) \n",
        "    cv_img.append(n) \n",
        "arrayl = np.asarray(cv_img) \n",
        "print(arrayl.shape) \n",
        "\n",
        "path_2 = glob.glob(\"/content/Covid-and-non-Covid/train/non covid/*.*\")\n",
        "cv_img = []\n",
        "for img in path_2:\n",
        "    n = cv2.imread(img)\n",
        "    n = cv2.resize(n,(150,150))\n",
        "    cv_img.append(n) \n",
        "array2 = np.asarray(cv_img) \n",
        "print(array2.shape) "
      ],
      "execution_count": 3,
      "outputs": [
        {
          "output_type": "stream",
          "text": [
            "(870, 150, 150, 3)\n",
            "(997, 150, 150, 3)\n"
          ],
          "name": "stdout"
        }
      ]
    },
    {
      "cell_type": "markdown",
      "metadata": {
        "id": "Nb1jJeY10vWR"
      },
      "source": [
        "# Reading the Testing images\n"
      ]
    },
    {
      "cell_type": "code",
      "metadata": {
        "colab": {
          "base_uri": "https://localhost:8080/"
        },
        "id": "dLv-0AdZ0lov",
        "outputId": "f41ccc12-fed0-4519-d1a1-89e1015867ad"
      },
      "source": [
        "# Reading Testing Images For Covid and Normal\n",
        "import numpy as np \n",
        "import glob\n",
        "import cv2 \n",
        "\n",
        "path_l = glob.glob(\"/content/Covid-and-non-Covid/test/Covid/*.*\") \n",
        "cv_img = [] \n",
        "for img in path_l:\n",
        "    n = cv2.imread(img) \n",
        "    n = cv2.resize(n,(150,150))\n",
        "    cv_img.append(n)\n",
        "array3 = np.asarray(cv_img) \n",
        "print(array3.shape) \n",
        "\n",
        "path_2 = glob.glob(\"/content/Covid-and-non-Covid/test/non covid/*.*\") \n",
        "cv_img = []\n",
        "for img in path_2:\n",
        "    n = cv2.imread(img) \n",
        "    n = cv2.resize(n,(150,150)) \n",
        "    cv_img.append(n) \n",
        "array4 = np.asarray(cv_img)\n",
        "print(array4.shape) \n"
      ],
      "execution_count": 4,
      "outputs": [
        {
          "output_type": "stream",
          "text": [
            "(311, 150, 150, 3)\n",
            "(450, 150, 150, 3)\n"
          ],
          "name": "stdout"
        }
      ]
    },
    {
      "cell_type": "markdown",
      "metadata": {
        "id": "Su0rfWHU1Lcp"
      },
      "source": [
        "# Concatenating Covid and Normal arrays into one variable for train and test:"
      ]
    },
    {
      "cell_type": "code",
      "metadata": {
        "colab": {
          "base_uri": "https://localhost:8080/"
        },
        "id": "iRKk3yA00_M8",
        "outputId": "a50856c9-1373-4e26-b647-e1496c6dcd93"
      },
      "source": [
        "# Concatenating Covid and Normal arrays into one variable for train and test:\n",
        "Xtrain = np.concatenate((arrayl,array2))\n",
        "\n",
        "Xtest = np.concatenate((array3,array4))\n",
        "\n",
        "Xtrain.shape , Xtest.shape "
      ],
      "execution_count": 5,
      "outputs": [
        {
          "output_type": "execute_result",
          "data": {
            "text/plain": [
              "((1867, 150, 150, 3), (761, 150, 150, 3))"
            ]
          },
          "metadata": {
            "tags": []
          },
          "execution_count": 5
        }
      ]
    },
    {
      "cell_type": "markdown",
      "metadata": {
        "id": "KXp4SYQk1aW6"
      },
      "source": [
        "# Creating labels for Normal and Covid 0 and 1 respectively equal to length of data for training data:"
      ]
    },
    {
      "cell_type": "code",
      "metadata": {
        "colab": {
          "base_uri": "https://localhost:8080/"
        },
        "id": "Zx6ExYVi1VPM",
        "outputId": "d17c25c7-ca09-488e-8cff-a0931aba950d"
      },
      "source": [
        "# Creating labels for Normal and Covid 0 and 1 respectively equal to length of data for training data:\n",
        "\n",
        "labels0 = np.zeros(len(arrayl)) \n",
        "labels1 = np.ones(len(array2)) \n",
        "print('Normal labels : ',labels0 ,'Covid labels : ', labels1) \n",
        "len(labels0) , len(labels1) \n"
      ],
      "execution_count": 6,
      "outputs": [
        {
          "output_type": "stream",
          "text": [
            "Normal labels :  [0. 0. 0. 0. 0. 0. 0. 0. 0. 0. 0. 0. 0. 0. 0. 0. 0. 0. 0. 0. 0. 0. 0. 0.\n",
            " 0. 0. 0. 0. 0. 0. 0. 0. 0. 0. 0. 0. 0. 0. 0. 0. 0. 0. 0. 0. 0. 0. 0. 0.\n",
            " 0. 0. 0. 0. 0. 0. 0. 0. 0. 0. 0. 0. 0. 0. 0. 0. 0. 0. 0. 0. 0. 0. 0. 0.\n",
            " 0. 0. 0. 0. 0. 0. 0. 0. 0. 0. 0. 0. 0. 0. 0. 0. 0. 0. 0. 0. 0. 0. 0. 0.\n",
            " 0. 0. 0. 0. 0. 0. 0. 0. 0. 0. 0. 0. 0. 0. 0. 0. 0. 0. 0. 0. 0. 0. 0. 0.\n",
            " 0. 0. 0. 0. 0. 0. 0. 0. 0. 0. 0. 0. 0. 0. 0. 0. 0. 0. 0. 0. 0. 0. 0. 0.\n",
            " 0. 0. 0. 0. 0. 0. 0. 0. 0. 0. 0. 0. 0. 0. 0. 0. 0. 0. 0. 0. 0. 0. 0. 0.\n",
            " 0. 0. 0. 0. 0. 0. 0. 0. 0. 0. 0. 0. 0. 0. 0. 0. 0. 0. 0. 0. 0. 0. 0. 0.\n",
            " 0. 0. 0. 0. 0. 0. 0. 0. 0. 0. 0. 0. 0. 0. 0. 0. 0. 0. 0. 0. 0. 0. 0. 0.\n",
            " 0. 0. 0. 0. 0. 0. 0. 0. 0. 0. 0. 0. 0. 0. 0. 0. 0. 0. 0. 0. 0. 0. 0. 0.\n",
            " 0. 0. 0. 0. 0. 0. 0. 0. 0. 0. 0. 0. 0. 0. 0. 0. 0. 0. 0. 0. 0. 0. 0. 0.\n",
            " 0. 0. 0. 0. 0. 0. 0. 0. 0. 0. 0. 0. 0. 0. 0. 0. 0. 0. 0. 0. 0. 0. 0. 0.\n",
            " 0. 0. 0. 0. 0. 0. 0. 0. 0. 0. 0. 0. 0. 0. 0. 0. 0. 0. 0. 0. 0. 0. 0. 0.\n",
            " 0. 0. 0. 0. 0. 0. 0. 0. 0. 0. 0. 0. 0. 0. 0. 0. 0. 0. 0. 0. 0. 0. 0. 0.\n",
            " 0. 0. 0. 0. 0. 0. 0. 0. 0. 0. 0. 0. 0. 0. 0. 0. 0. 0. 0. 0. 0. 0. 0. 0.\n",
            " 0. 0. 0. 0. 0. 0. 0. 0. 0. 0. 0. 0. 0. 0. 0. 0. 0. 0. 0. 0. 0. 0. 0. 0.\n",
            " 0. 0. 0. 0. 0. 0. 0. 0. 0. 0. 0. 0. 0. 0. 0. 0. 0. 0. 0. 0. 0. 0. 0. 0.\n",
            " 0. 0. 0. 0. 0. 0. 0. 0. 0. 0. 0. 0. 0. 0. 0. 0. 0. 0. 0. 0. 0. 0. 0. 0.\n",
            " 0. 0. 0. 0. 0. 0. 0. 0. 0. 0. 0. 0. 0. 0. 0. 0. 0. 0. 0. 0. 0. 0. 0. 0.\n",
            " 0. 0. 0. 0. 0. 0. 0. 0. 0. 0. 0. 0. 0. 0. 0. 0. 0. 0. 0. 0. 0. 0. 0. 0.\n",
            " 0. 0. 0. 0. 0. 0. 0. 0. 0. 0. 0. 0. 0. 0. 0. 0. 0. 0. 0. 0. 0. 0. 0. 0.\n",
            " 0. 0. 0. 0. 0. 0. 0. 0. 0. 0. 0. 0. 0. 0. 0. 0. 0. 0. 0. 0. 0. 0. 0. 0.\n",
            " 0. 0. 0. 0. 0. 0. 0. 0. 0. 0. 0. 0. 0. 0. 0. 0. 0. 0. 0. 0. 0. 0. 0. 0.\n",
            " 0. 0. 0. 0. 0. 0. 0. 0. 0. 0. 0. 0. 0. 0. 0. 0. 0. 0. 0. 0. 0. 0. 0. 0.\n",
            " 0. 0. 0. 0. 0. 0. 0. 0. 0. 0. 0. 0. 0. 0. 0. 0. 0. 0. 0. 0. 0. 0. 0. 0.\n",
            " 0. 0. 0. 0. 0. 0. 0. 0. 0. 0. 0. 0. 0. 0. 0. 0. 0. 0. 0. 0. 0. 0. 0. 0.\n",
            " 0. 0. 0. 0. 0. 0. 0. 0. 0. 0. 0. 0. 0. 0. 0. 0. 0. 0. 0. 0. 0. 0. 0. 0.\n",
            " 0. 0. 0. 0. 0. 0. 0. 0. 0. 0. 0. 0. 0. 0. 0. 0. 0. 0. 0. 0. 0. 0. 0. 0.\n",
            " 0. 0. 0. 0. 0. 0. 0. 0. 0. 0. 0. 0. 0. 0. 0. 0. 0. 0. 0. 0. 0. 0. 0. 0.\n",
            " 0. 0. 0. 0. 0. 0. 0. 0. 0. 0. 0. 0. 0. 0. 0. 0. 0. 0. 0. 0. 0. 0. 0. 0.\n",
            " 0. 0. 0. 0. 0. 0. 0. 0. 0. 0. 0. 0. 0. 0. 0. 0. 0. 0. 0. 0. 0. 0. 0. 0.\n",
            " 0. 0. 0. 0. 0. 0. 0. 0. 0. 0. 0. 0. 0. 0. 0. 0. 0. 0. 0. 0. 0. 0. 0. 0.\n",
            " 0. 0. 0. 0. 0. 0. 0. 0. 0. 0. 0. 0. 0. 0. 0. 0. 0. 0. 0. 0. 0. 0. 0. 0.\n",
            " 0. 0. 0. 0. 0. 0. 0. 0. 0. 0. 0. 0. 0. 0. 0. 0. 0. 0. 0. 0. 0. 0. 0. 0.\n",
            " 0. 0. 0. 0. 0. 0. 0. 0. 0. 0. 0. 0. 0. 0. 0. 0. 0. 0. 0. 0. 0. 0. 0. 0.\n",
            " 0. 0. 0. 0. 0. 0. 0. 0. 0. 0. 0. 0. 0. 0. 0. 0. 0. 0. 0. 0. 0. 0. 0. 0.\n",
            " 0. 0. 0. 0. 0. 0.] Covid labels :  [1. 1. 1. 1. 1. 1. 1. 1. 1. 1. 1. 1. 1. 1. 1. 1. 1. 1. 1. 1. 1. 1. 1. 1.\n",
            " 1. 1. 1. 1. 1. 1. 1. 1. 1. 1. 1. 1. 1. 1. 1. 1. 1. 1. 1. 1. 1. 1. 1. 1.\n",
            " 1. 1. 1. 1. 1. 1. 1. 1. 1. 1. 1. 1. 1. 1. 1. 1. 1. 1. 1. 1. 1. 1. 1. 1.\n",
            " 1. 1. 1. 1. 1. 1. 1. 1. 1. 1. 1. 1. 1. 1. 1. 1. 1. 1. 1. 1. 1. 1. 1. 1.\n",
            " 1. 1. 1. 1. 1. 1. 1. 1. 1. 1. 1. 1. 1. 1. 1. 1. 1. 1. 1. 1. 1. 1. 1. 1.\n",
            " 1. 1. 1. 1. 1. 1. 1. 1. 1. 1. 1. 1. 1. 1. 1. 1. 1. 1. 1. 1. 1. 1. 1. 1.\n",
            " 1. 1. 1. 1. 1. 1. 1. 1. 1. 1. 1. 1. 1. 1. 1. 1. 1. 1. 1. 1. 1. 1. 1. 1.\n",
            " 1. 1. 1. 1. 1. 1. 1. 1. 1. 1. 1. 1. 1. 1. 1. 1. 1. 1. 1. 1. 1. 1. 1. 1.\n",
            " 1. 1. 1. 1. 1. 1. 1. 1. 1. 1. 1. 1. 1. 1. 1. 1. 1. 1. 1. 1. 1. 1. 1. 1.\n",
            " 1. 1. 1. 1. 1. 1. 1. 1. 1. 1. 1. 1. 1. 1. 1. 1. 1. 1. 1. 1. 1. 1. 1. 1.\n",
            " 1. 1. 1. 1. 1. 1. 1. 1. 1. 1. 1. 1. 1. 1. 1. 1. 1. 1. 1. 1. 1. 1. 1. 1.\n",
            " 1. 1. 1. 1. 1. 1. 1. 1. 1. 1. 1. 1. 1. 1. 1. 1. 1. 1. 1. 1. 1. 1. 1. 1.\n",
            " 1. 1. 1. 1. 1. 1. 1. 1. 1. 1. 1. 1. 1. 1. 1. 1. 1. 1. 1. 1. 1. 1. 1. 1.\n",
            " 1. 1. 1. 1. 1. 1. 1. 1. 1. 1. 1. 1. 1. 1. 1. 1. 1. 1. 1. 1. 1. 1. 1. 1.\n",
            " 1. 1. 1. 1. 1. 1. 1. 1. 1. 1. 1. 1. 1. 1. 1. 1. 1. 1. 1. 1. 1. 1. 1. 1.\n",
            " 1. 1. 1. 1. 1. 1. 1. 1. 1. 1. 1. 1. 1. 1. 1. 1. 1. 1. 1. 1. 1. 1. 1. 1.\n",
            " 1. 1. 1. 1. 1. 1. 1. 1. 1. 1. 1. 1. 1. 1. 1. 1. 1. 1. 1. 1. 1. 1. 1. 1.\n",
            " 1. 1. 1. 1. 1. 1. 1. 1. 1. 1. 1. 1. 1. 1. 1. 1. 1. 1. 1. 1. 1. 1. 1. 1.\n",
            " 1. 1. 1. 1. 1. 1. 1. 1. 1. 1. 1. 1. 1. 1. 1. 1. 1. 1. 1. 1. 1. 1. 1. 1.\n",
            " 1. 1. 1. 1. 1. 1. 1. 1. 1. 1. 1. 1. 1. 1. 1. 1. 1. 1. 1. 1. 1. 1. 1. 1.\n",
            " 1. 1. 1. 1. 1. 1. 1. 1. 1. 1. 1. 1. 1. 1. 1. 1. 1. 1. 1. 1. 1. 1. 1. 1.\n",
            " 1. 1. 1. 1. 1. 1. 1. 1. 1. 1. 1. 1. 1. 1. 1. 1. 1. 1. 1. 1. 1. 1. 1. 1.\n",
            " 1. 1. 1. 1. 1. 1. 1. 1. 1. 1. 1. 1. 1. 1. 1. 1. 1. 1. 1. 1. 1. 1. 1. 1.\n",
            " 1. 1. 1. 1. 1. 1. 1. 1. 1. 1. 1. 1. 1. 1. 1. 1. 1. 1. 1. 1. 1. 1. 1. 1.\n",
            " 1. 1. 1. 1. 1. 1. 1. 1. 1. 1. 1. 1. 1. 1. 1. 1. 1. 1. 1. 1. 1. 1. 1. 1.\n",
            " 1. 1. 1. 1. 1. 1. 1. 1. 1. 1. 1. 1. 1. 1. 1. 1. 1. 1. 1. 1. 1. 1. 1. 1.\n",
            " 1. 1. 1. 1. 1. 1. 1. 1. 1. 1. 1. 1. 1. 1. 1. 1. 1. 1. 1. 1. 1. 1. 1. 1.\n",
            " 1. 1. 1. 1. 1. 1. 1. 1. 1. 1. 1. 1. 1. 1. 1. 1. 1. 1. 1. 1. 1. 1. 1. 1.\n",
            " 1. 1. 1. 1. 1. 1. 1. 1. 1. 1. 1. 1. 1. 1. 1. 1. 1. 1. 1. 1. 1. 1. 1. 1.\n",
            " 1. 1. 1. 1. 1. 1. 1. 1. 1. 1. 1. 1. 1. 1. 1. 1. 1. 1. 1. 1. 1. 1. 1. 1.\n",
            " 1. 1. 1. 1. 1. 1. 1. 1. 1. 1. 1. 1. 1. 1. 1. 1. 1. 1. 1. 1. 1. 1. 1. 1.\n",
            " 1. 1. 1. 1. 1. 1. 1. 1. 1. 1. 1. 1. 1. 1. 1. 1. 1. 1. 1. 1. 1. 1. 1. 1.\n",
            " 1. 1. 1. 1. 1. 1. 1. 1. 1. 1. 1. 1. 1. 1. 1. 1. 1. 1. 1. 1. 1. 1. 1. 1.\n",
            " 1. 1. 1. 1. 1. 1. 1. 1. 1. 1. 1. 1. 1. 1. 1. 1. 1. 1. 1. 1. 1. 1. 1. 1.\n",
            " 1. 1. 1. 1. 1. 1. 1. 1. 1. 1. 1. 1. 1. 1. 1. 1. 1. 1. 1. 1. 1. 1. 1. 1.\n",
            " 1. 1. 1. 1. 1. 1. 1. 1. 1. 1. 1. 1. 1. 1. 1. 1. 1. 1. 1. 1. 1. 1. 1. 1.\n",
            " 1. 1. 1. 1. 1. 1. 1. 1. 1. 1. 1. 1. 1. 1. 1. 1. 1. 1. 1. 1. 1. 1. 1. 1.\n",
            " 1. 1. 1. 1. 1. 1. 1. 1. 1. 1. 1. 1. 1. 1. 1. 1. 1. 1. 1. 1. 1. 1. 1. 1.\n",
            " 1. 1. 1. 1. 1. 1. 1. 1. 1. 1. 1. 1. 1. 1. 1. 1. 1. 1. 1. 1. 1. 1. 1. 1.\n",
            " 1. 1. 1. 1. 1. 1. 1. 1. 1. 1. 1. 1. 1. 1. 1. 1. 1. 1. 1. 1. 1. 1. 1. 1.\n",
            " 1. 1. 1. 1. 1. 1. 1. 1. 1. 1. 1. 1. 1. 1. 1. 1. 1. 1. 1. 1. 1. 1. 1. 1.\n",
            " 1. 1. 1. 1. 1. 1. 1. 1. 1. 1. 1. 1. 1.]\n"
          ],
          "name": "stdout"
        },
        {
          "output_type": "execute_result",
          "data": {
            "text/plain": [
              "(870, 997)"
            ]
          },
          "metadata": {
            "tags": []
          },
          "execution_count": 6
        }
      ]
    },
    {
      "cell_type": "markdown",
      "metadata": {
        "id": "AgCTlyrs3yxz"
      },
      "source": [
        "# Creating labels for Normal and Covid 0 and 1 respectively equal to length of data for testing data:"
      ]
    },
    {
      "cell_type": "code",
      "metadata": {
        "colab": {
          "base_uri": "https://localhost:8080/"
        },
        "id": "eW6tVsz-3toF",
        "outputId": "8b8bcf34-6df9-40bb-dd6a-c3c53c10841f"
      },
      "source": [
        "# Creating labels for Normal and Covid 0 and 1 respectively equal to length of data for testing data:\n",
        "\n",
        "labels0s = np.zeros(len(array3)) \n",
        "labels1s = np.ones(len(array4)) \n",
        "print('Normal labels : ',labels0s ,'Covid labels : ', labels1s) \n",
        "len(labels0s) , len(labels1s) "
      ],
      "execution_count": 7,
      "outputs": [
        {
          "output_type": "stream",
          "text": [
            "Normal labels :  [0. 0. 0. 0. 0. 0. 0. 0. 0. 0. 0. 0. 0. 0. 0. 0. 0. 0. 0. 0. 0. 0. 0. 0.\n",
            " 0. 0. 0. 0. 0. 0. 0. 0. 0. 0. 0. 0. 0. 0. 0. 0. 0. 0. 0. 0. 0. 0. 0. 0.\n",
            " 0. 0. 0. 0. 0. 0. 0. 0. 0. 0. 0. 0. 0. 0. 0. 0. 0. 0. 0. 0. 0. 0. 0. 0.\n",
            " 0. 0. 0. 0. 0. 0. 0. 0. 0. 0. 0. 0. 0. 0. 0. 0. 0. 0. 0. 0. 0. 0. 0. 0.\n",
            " 0. 0. 0. 0. 0. 0. 0. 0. 0. 0. 0. 0. 0. 0. 0. 0. 0. 0. 0. 0. 0. 0. 0. 0.\n",
            " 0. 0. 0. 0. 0. 0. 0. 0. 0. 0. 0. 0. 0. 0. 0. 0. 0. 0. 0. 0. 0. 0. 0. 0.\n",
            " 0. 0. 0. 0. 0. 0. 0. 0. 0. 0. 0. 0. 0. 0. 0. 0. 0. 0. 0. 0. 0. 0. 0. 0.\n",
            " 0. 0. 0. 0. 0. 0. 0. 0. 0. 0. 0. 0. 0. 0. 0. 0. 0. 0. 0. 0. 0. 0. 0. 0.\n",
            " 0. 0. 0. 0. 0. 0. 0. 0. 0. 0. 0. 0. 0. 0. 0. 0. 0. 0. 0. 0. 0. 0. 0. 0.\n",
            " 0. 0. 0. 0. 0. 0. 0. 0. 0. 0. 0. 0. 0. 0. 0. 0. 0. 0. 0. 0. 0. 0. 0. 0.\n",
            " 0. 0. 0. 0. 0. 0. 0. 0. 0. 0. 0. 0. 0. 0. 0. 0. 0. 0. 0. 0. 0. 0. 0. 0.\n",
            " 0. 0. 0. 0. 0. 0. 0. 0. 0. 0. 0. 0. 0. 0. 0. 0. 0. 0. 0. 0. 0. 0. 0. 0.\n",
            " 0. 0. 0. 0. 0. 0. 0. 0. 0. 0. 0. 0. 0. 0. 0. 0. 0. 0. 0. 0. 0. 0. 0.] Covid labels :  [1. 1. 1. 1. 1. 1. 1. 1. 1. 1. 1. 1. 1. 1. 1. 1. 1. 1. 1. 1. 1. 1. 1. 1.\n",
            " 1. 1. 1. 1. 1. 1. 1. 1. 1. 1. 1. 1. 1. 1. 1. 1. 1. 1. 1. 1. 1. 1. 1. 1.\n",
            " 1. 1. 1. 1. 1. 1. 1. 1. 1. 1. 1. 1. 1. 1. 1. 1. 1. 1. 1. 1. 1. 1. 1. 1.\n",
            " 1. 1. 1. 1. 1. 1. 1. 1. 1. 1. 1. 1. 1. 1. 1. 1. 1. 1. 1. 1. 1. 1. 1. 1.\n",
            " 1. 1. 1. 1. 1. 1. 1. 1. 1. 1. 1. 1. 1. 1. 1. 1. 1. 1. 1. 1. 1. 1. 1. 1.\n",
            " 1. 1. 1. 1. 1. 1. 1. 1. 1. 1. 1. 1. 1. 1. 1. 1. 1. 1. 1. 1. 1. 1. 1. 1.\n",
            " 1. 1. 1. 1. 1. 1. 1. 1. 1. 1. 1. 1. 1. 1. 1. 1. 1. 1. 1. 1. 1. 1. 1. 1.\n",
            " 1. 1. 1. 1. 1. 1. 1. 1. 1. 1. 1. 1. 1. 1. 1. 1. 1. 1. 1. 1. 1. 1. 1. 1.\n",
            " 1. 1. 1. 1. 1. 1. 1. 1. 1. 1. 1. 1. 1. 1. 1. 1. 1. 1. 1. 1. 1. 1. 1. 1.\n",
            " 1. 1. 1. 1. 1. 1. 1. 1. 1. 1. 1. 1. 1. 1. 1. 1. 1. 1. 1. 1. 1. 1. 1. 1.\n",
            " 1. 1. 1. 1. 1. 1. 1. 1. 1. 1. 1. 1. 1. 1. 1. 1. 1. 1. 1. 1. 1. 1. 1. 1.\n",
            " 1. 1. 1. 1. 1. 1. 1. 1. 1. 1. 1. 1. 1. 1. 1. 1. 1. 1. 1. 1. 1. 1. 1. 1.\n",
            " 1. 1. 1. 1. 1. 1. 1. 1. 1. 1. 1. 1. 1. 1. 1. 1. 1. 1. 1. 1. 1. 1. 1. 1.\n",
            " 1. 1. 1. 1. 1. 1. 1. 1. 1. 1. 1. 1. 1. 1. 1. 1. 1. 1. 1. 1. 1. 1. 1. 1.\n",
            " 1. 1. 1. 1. 1. 1. 1. 1. 1. 1. 1. 1. 1. 1. 1. 1. 1. 1. 1. 1. 1. 1. 1. 1.\n",
            " 1. 1. 1. 1. 1. 1. 1. 1. 1. 1. 1. 1. 1. 1. 1. 1. 1. 1. 1. 1. 1. 1. 1. 1.\n",
            " 1. 1. 1. 1. 1. 1. 1. 1. 1. 1. 1. 1. 1. 1. 1. 1. 1. 1. 1. 1. 1. 1. 1. 1.\n",
            " 1. 1. 1. 1. 1. 1. 1. 1. 1. 1. 1. 1. 1. 1. 1. 1. 1. 1. 1. 1. 1. 1. 1. 1.\n",
            " 1. 1. 1. 1. 1. 1. 1. 1. 1. 1. 1. 1. 1. 1. 1. 1. 1. 1.]\n"
          ],
          "name": "stdout"
        },
        {
          "output_type": "execute_result",
          "data": {
            "text/plain": [
              "(311, 450)"
            ]
          },
          "metadata": {
            "tags": []
          },
          "execution_count": 7
        }
      ]
    },
    {
      "cell_type": "markdown",
      "metadata": {
        "id": "X7wOFD8T4IWi"
      },
      "source": [
        "# Concatenating the labels for Covid and Normal for training and testing:"
      ]
    },
    {
      "cell_type": "code",
      "metadata": {
        "colab": {
          "base_uri": "https://localhost:8080/"
        },
        "id": "FYYDig0u4DNN",
        "outputId": "603a5506-7999-4834-81d4-6ae38d56b058"
      },
      "source": [
        "# Concatenating the labels for Covid and Normal for training and testing:\n",
        "ytrain = np.concatenate((labels0,labels1)) \n",
        "ytest = np.concatenate((labels0s,labels1s)) \n",
        "ytrain.shape, ytest.shape \n"
      ],
      "execution_count": 8,
      "outputs": [
        {
          "output_type": "execute_result",
          "data": {
            "text/plain": [
              "((1867,), (761,))"
            ]
          },
          "metadata": {
            "tags": []
          },
          "execution_count": 8
        }
      ]
    },
    {
      "cell_type": "markdown",
      "metadata": {
        "id": "oUIAK8Fr4UN7"
      },
      "source": [
        "# Splitting the dataset for validation data:"
      ]
    },
    {
      "cell_type": "code",
      "metadata": {
        "colab": {
          "base_uri": "https://localhost:8080/"
        },
        "id": "93K6DAb84RJt",
        "outputId": "b876568e-5435-48fa-8a7b-4fa61f4c99d5"
      },
      "source": [
        "# Splitting the dataset for validation data:\n",
        "from sklearn.model_selection import train_test_split\n",
        "X_train,X_valid,y_train,y_valid = train_test_split(Xtrain,ytrain,test_size = 0.2, shuffle = True) \n",
        "X_train.shape, X_valid.shape, y_train.shape, y_valid.shape \n"
      ],
      "execution_count": 9,
      "outputs": [
        {
          "output_type": "execute_result",
          "data": {
            "text/plain": [
              "((1493, 150, 150, 3), (374, 150, 150, 3), (1493,), (374,))"
            ]
          },
          "metadata": {
            "tags": []
          },
          "execution_count": 9
        }
      ]
    },
    {
      "cell_type": "markdown",
      "metadata": {
        "id": "UrWq1DJd4eOj"
      },
      "source": [
        "# Normalizing the data from 0 to 255 to 0 to 1:"
      ]
    },
    {
      "cell_type": "code",
      "metadata": {
        "id": "nQInwNYv4anO"
      },
      "source": [
        "# Normalizing the data from 0 to 255 to 0 to 1:\n",
        "X_train_norm = X_train/255 \n",
        "X_valid_norm = X_valid/255\n",
        "Xtest_norm = Xtest/255 \n"
      ],
      "execution_count": 10,
      "outputs": []
    },
    {
      "cell_type": "markdown",
      "metadata": {
        "id": "dS573cG04nN7"
      },
      "source": [
        "## Building the Model"
      ]
    },
    {
      "cell_type": "code",
      "metadata": {
        "colab": {
          "base_uri": "https://localhost:8080/"
        },
        "id": "7JleBiwO4hH-",
        "outputId": "293a6929-68a9-4f02-9fbd-903aa899b113"
      },
      "source": [
        "# Model With Dropout Layer\n",
        "\n",
        "\n",
        "model = Sequential()\n",
        "\n",
        "# add the convolutional layer\n",
        "# filters, size of filters, padding, activation_function, inout_shape\n",
        "model.add(Conv2D(32,(5,5), padding = 'SAME', activation = 'relu', input_shape = (150,150,3)))\n",
        "\n",
        "# pooling layer\n",
        "model.add(MaxPooling2D(pool_size = (2,2)))\n",
        "\n",
        "# place a dropout layer\n",
        "model.add(Dropout(0.5)) ## Minimizes the overfitting\n",
        "\n",
        "# add another convolutional layer\n",
        "model.add(Conv2D(64,(5,5), padding = 'SAME', activation = 'relu'))\n",
        "\n",
        "# pooling layer\n",
        "model.add(MaxPooling2D(pool_size = (2,2)))\n",
        "\n",
        "# place a dropout layer\n",
        "model.add(Dropout(0.5))\n",
        "\n",
        "# Flatten the image to 1 dimensional array\n",
        "model.add(Flatten())\n",
        "\n",
        "# add a dense layer : amount of nodes, activation\n",
        "model.add(Dense(256, activation = 'relu'))\n",
        "\n",
        "# place a dropout layer\n",
        "# 0.5 drop out rate is recommended, half input will be dropped at each update\n",
        "model.add(Dropout(0.5))\n",
        "model.add(Dense(1, activation = 'sigmoid'))\n",
        "model.summary()"
      ],
      "execution_count": 11,
      "outputs": [
        {
          "output_type": "stream",
          "text": [
            "Model: \"sequential\"\n",
            "_________________________________________________________________\n",
            "Layer (type)                 Output Shape              Param #   \n",
            "=================================================================\n",
            "conv2d (Conv2D)              (None, 150, 150, 32)      2432      \n",
            "_________________________________________________________________\n",
            "max_pooling2d (MaxPooling2D) (None, 75, 75, 32)        0         \n",
            "_________________________________________________________________\n",
            "dropout (Dropout)            (None, 75, 75, 32)        0         \n",
            "_________________________________________________________________\n",
            "conv2d_1 (Conv2D)            (None, 75, 75, 64)        51264     \n",
            "_________________________________________________________________\n",
            "max_pooling2d_1 (MaxPooling2 (None, 37, 37, 64)        0         \n",
            "_________________________________________________________________\n",
            "dropout_1 (Dropout)          (None, 37, 37, 64)        0         \n",
            "_________________________________________________________________\n",
            "flatten (Flatten)            (None, 87616)             0         \n",
            "_________________________________________________________________\n",
            "dense (Dense)                (None, 256)               22429952  \n",
            "_________________________________________________________________\n",
            "dropout_2 (Dropout)          (None, 256)               0         \n",
            "_________________________________________________________________\n",
            "dense_1 (Dense)              (None, 1)                 257       \n",
            "=================================================================\n",
            "Total params: 22,483,905\n",
            "Trainable params: 22,483,905\n",
            "Non-trainable params: 0\n",
            "_________________________________________________________________\n"
          ],
          "name": "stdout"
        }
      ]
    },
    {
      "cell_type": "code",
      "metadata": {
        "colab": {
          "base_uri": "https://localhost:8080/"
        },
        "id": "JVru3wfTz-AH",
        "outputId": "65e4ba8e-bafb-4fb3-d70e-5abad9d2d13a"
      },
      "source": [
        "# Model Without Dropout Layer\n",
        "\n",
        "\n",
        "model2 = Sequential()\n",
        "\n",
        "# add the convolutional layer\n",
        "# filters, size of filters, padding, activation_function, inout_shape\n",
        "model2.add(Conv2D(32,(5,5), padding = 'SAME', activation = 'relu', input_shape = (150,150,3)))\n",
        "\n",
        "# pooling layer\n",
        "model2.add(MaxPooling2D(pool_size = (2,2)))\n",
        "\n",
        "# place a dropout layer\n",
        "#model2.add(Dropout(0.5)) ## Minimizes the overfitting\n",
        "\n",
        "# add another convolutional layer\n",
        "model2.add(Conv2D(64,(5,5), padding = 'SAME', activation = 'relu'))\n",
        "\n",
        "# pooling layer\n",
        "model2.add(MaxPooling2D(pool_size = (2,2)))\n",
        "\n",
        "# place a dropout layer\n",
        "#model2.add(Dropout(0.5))\n",
        "\n",
        "# Flatten the image to 1 dimensional array\n",
        "model2.add(Flatten())\n",
        "\n",
        "# add a dense layer : amount of nodes, activation\n",
        "model2.add(Dense(256, activation = 'relu'))\n",
        "\n",
        "# place a dropout layer\n",
        "# 0.5 drop out rate is recommended, half input will be dropped at each update\n",
        "#model2.add(Dropout(0.5))\n",
        "model2.add(Dense(1, activation = 'sigmoid'))\n",
        "model2.summary()"
      ],
      "execution_count": 34,
      "outputs": [
        {
          "output_type": "stream",
          "text": [
            "Model: \"sequential_11\"\n",
            "_________________________________________________________________\n",
            "Layer (type)                 Output Shape              Param #   \n",
            "=================================================================\n",
            "conv2d_22 (Conv2D)           (None, 150, 150, 32)      2432      \n",
            "_________________________________________________________________\n",
            "max_pooling2d_22 (MaxPooling (None, 75, 75, 32)        0         \n",
            "_________________________________________________________________\n",
            "conv2d_23 (Conv2D)           (None, 75, 75, 64)        51264     \n",
            "_________________________________________________________________\n",
            "max_pooling2d_23 (MaxPooling (None, 37, 37, 64)        0         \n",
            "_________________________________________________________________\n",
            "flatten_11 (Flatten)         (None, 87616)             0         \n",
            "_________________________________________________________________\n",
            "dense_22 (Dense)             (None, 256)               22429952  \n",
            "_________________________________________________________________\n",
            "dense_23 (Dense)             (None, 1)                 257       \n",
            "=================================================================\n",
            "Total params: 22,483,905\n",
            "Trainable params: 22,483,905\n",
            "Non-trainable params: 0\n",
            "_________________________________________________________________\n"
          ],
          "name": "stdout"
        }
      ]
    },
    {
      "cell_type": "markdown",
      "metadata": {
        "id": "qpGeCxCh4yW0"
      },
      "source": [
        "## Compile The Model"
      ]
    },
    {
      "cell_type": "code",
      "metadata": {
        "id": "wq9LFtgC4tmO"
      },
      "source": [
        "# compile model\n",
        "from tensorflow.keras.optimizers import Adam # Adam is optimizer\n",
        "# Loss function definition\n",
        "model.compile(Adam(lr = 0.001),loss = 'binary_crossentropy', metrics = ['accuracy'])"
      ],
      "execution_count": 12,
      "outputs": []
    },
    {
      "cell_type": "code",
      "metadata": {
        "id": "Jutvjzcm0EVq"
      },
      "source": [
        "# compile model\n",
        "from tensorflow.keras.optimizers import Adam # Adam is optimizer\n",
        "# Loss function definition\n",
        "model2.compile(Adam(lr = 0.001),loss = 'binary_crossentropy', metrics = ['accuracy'])"
      ],
      "execution_count": 35,
      "outputs": []
    },
    {
      "cell_type": "markdown",
      "metadata": {
        "id": "TRrXMG-H49-j"
      },
      "source": [
        "## Train the Model"
      ]
    },
    {
      "cell_type": "code",
      "metadata": {
        "colab": {
          "base_uri": "https://localhost:8080/"
        },
        "id": "R9uST8cn45xO",
        "outputId": "00ed2dc9-79dc-4cb3-91f5-196800222882"
      },
      "source": [
        "# train the model\n",
        "%%time\n",
        "model_history = model.fit(X_train_norm,y_train,epochs = 30,validation_data=(X_valid_norm,y_valid),verbose = 1)"
      ],
      "execution_count": 13,
      "outputs": [
        {
          "output_type": "stream",
          "text": [
            "Epoch 1/30\n",
            "47/47 [==============================] - 36s 55ms/step - loss: 2.1673 - accuracy: 0.6336 - val_loss: 0.2618 - val_accuracy: 0.9412\n",
            "Epoch 2/30\n",
            "47/47 [==============================] - 2s 33ms/step - loss: 0.1708 - accuracy: 0.9419 - val_loss: 0.1773 - val_accuracy: 0.9412\n",
            "Epoch 3/30\n",
            "47/47 [==============================] - 2s 34ms/step - loss: 0.1575 - accuracy: 0.9461 - val_loss: 0.1838 - val_accuracy: 0.9412\n",
            "Epoch 4/30\n",
            "47/47 [==============================] - 2s 33ms/step - loss: 0.1219 - accuracy: 0.9561 - val_loss: 0.1391 - val_accuracy: 0.9519\n",
            "Epoch 5/30\n",
            "47/47 [==============================] - 2s 34ms/step - loss: 0.1333 - accuracy: 0.9541 - val_loss: 0.2055 - val_accuracy: 0.9412\n",
            "Epoch 6/30\n",
            "47/47 [==============================] - 2s 34ms/step - loss: 0.1183 - accuracy: 0.9563 - val_loss: 0.2958 - val_accuracy: 0.8930\n",
            "Epoch 7/30\n",
            "47/47 [==============================] - 2s 34ms/step - loss: 0.1375 - accuracy: 0.9526 - val_loss: 0.1457 - val_accuracy: 0.9412\n",
            "Epoch 8/30\n",
            "47/47 [==============================] - 2s 34ms/step - loss: 0.0862 - accuracy: 0.9687 - val_loss: 0.1338 - val_accuracy: 0.9439\n",
            "Epoch 9/30\n",
            "47/47 [==============================] - 2s 34ms/step - loss: 0.0841 - accuracy: 0.9680 - val_loss: 0.1363 - val_accuracy: 0.9519\n",
            "Epoch 10/30\n",
            "47/47 [==============================] - 2s 34ms/step - loss: 0.0867 - accuracy: 0.9680 - val_loss: 0.1493 - val_accuracy: 0.9385\n",
            "Epoch 11/30\n",
            "47/47 [==============================] - 2s 34ms/step - loss: 0.0988 - accuracy: 0.9631 - val_loss: 0.1167 - val_accuracy: 0.9572\n",
            "Epoch 12/30\n",
            "47/47 [==============================] - 2s 34ms/step - loss: 0.1047 - accuracy: 0.9614 - val_loss: 0.1092 - val_accuracy: 0.9626\n",
            "Epoch 13/30\n",
            "47/47 [==============================] - 2s 34ms/step - loss: 0.0707 - accuracy: 0.9787 - val_loss: 0.1062 - val_accuracy: 0.9545\n",
            "Epoch 14/30\n",
            "47/47 [==============================] - 2s 34ms/step - loss: 0.0740 - accuracy: 0.9742 - val_loss: 0.1130 - val_accuracy: 0.9626\n",
            "Epoch 15/30\n",
            "47/47 [==============================] - 2s 34ms/step - loss: 0.0523 - accuracy: 0.9789 - val_loss: 0.1298 - val_accuracy: 0.9465\n",
            "Epoch 16/30\n",
            "47/47 [==============================] - 2s 34ms/step - loss: 0.0557 - accuracy: 0.9766 - val_loss: 0.1060 - val_accuracy: 0.9626\n",
            "Epoch 17/30\n",
            "47/47 [==============================] - 2s 34ms/step - loss: 0.0593 - accuracy: 0.9776 - val_loss: 0.1436 - val_accuracy: 0.9492\n",
            "Epoch 18/30\n",
            "47/47 [==============================] - 2s 34ms/step - loss: 0.0644 - accuracy: 0.9707 - val_loss: 0.1166 - val_accuracy: 0.9545\n",
            "Epoch 19/30\n",
            "47/47 [==============================] - 2s 34ms/step - loss: 0.0596 - accuracy: 0.9781 - val_loss: 0.1199 - val_accuracy: 0.9652\n",
            "Epoch 20/30\n",
            "47/47 [==============================] - 2s 34ms/step - loss: 0.0568 - accuracy: 0.9784 - val_loss: 0.1204 - val_accuracy: 0.9545\n",
            "Epoch 21/30\n",
            "47/47 [==============================] - 2s 34ms/step - loss: 0.0367 - accuracy: 0.9841 - val_loss: 0.1022 - val_accuracy: 0.9679\n",
            "Epoch 22/30\n",
            "47/47 [==============================] - 2s 34ms/step - loss: 0.0364 - accuracy: 0.9871 - val_loss: 0.1263 - val_accuracy: 0.9652\n",
            "Epoch 23/30\n",
            "47/47 [==============================] - 2s 34ms/step - loss: 0.0344 - accuracy: 0.9844 - val_loss: 0.1278 - val_accuracy: 0.9599\n",
            "Epoch 24/30\n",
            "47/47 [==============================] - 2s 34ms/step - loss: 0.0428 - accuracy: 0.9829 - val_loss: 0.1171 - val_accuracy: 0.9626\n",
            "Epoch 25/30\n",
            "47/47 [==============================] - 2s 34ms/step - loss: 0.0263 - accuracy: 0.9884 - val_loss: 0.1347 - val_accuracy: 0.9626\n",
            "Epoch 26/30\n",
            "47/47 [==============================] - 2s 34ms/step - loss: 0.0214 - accuracy: 0.9943 - val_loss: 0.1393 - val_accuracy: 0.9626\n",
            "Epoch 27/30\n",
            "47/47 [==============================] - 2s 34ms/step - loss: 0.0263 - accuracy: 0.9911 - val_loss: 0.1324 - val_accuracy: 0.9572\n",
            "Epoch 28/30\n",
            "47/47 [==============================] - 2s 35ms/step - loss: 0.0235 - accuracy: 0.9885 - val_loss: 0.1495 - val_accuracy: 0.9599\n",
            "Epoch 29/30\n",
            "47/47 [==============================] - 2s 34ms/step - loss: 0.0245 - accuracy: 0.9915 - val_loss: 0.1487 - val_accuracy: 0.9626\n",
            "Epoch 30/30\n",
            "47/47 [==============================] - 2s 34ms/step - loss: 0.0307 - accuracy: 0.9854 - val_loss: 0.1610 - val_accuracy: 0.9545\n",
            "CPU times: user 35.6 s, sys: 13.9 s, total: 49.6 s\n",
            "Wall time: 1min 22s\n"
          ],
          "name": "stdout"
        }
      ]
    },
    {
      "cell_type": "code",
      "metadata": {
        "colab": {
          "base_uri": "https://localhost:8080/"
        },
        "id": "b2Af5Dda0HXn",
        "outputId": "c9b5f777-d47c-453b-e5dc-dde8e862c5f2"
      },
      "source": [
        "# train the model\n",
        "%%time\n",
        "model_history2 = model2.fit(X_train_norm,y_train,epochs = 30,validation_data=(X_valid_norm,y_valid),verbose = 1)"
      ],
      "execution_count": 36,
      "outputs": [
        {
          "output_type": "stream",
          "text": [
            "Epoch 1/30\n",
            "47/47 [==============================] - 2s 36ms/step - loss: 0.9695 - accuracy: 0.7445 - val_loss: 0.1385 - val_accuracy: 0.9545\n",
            "Epoch 2/30\n",
            "47/47 [==============================] - 1s 31ms/step - loss: 0.0920 - accuracy: 0.9637 - val_loss: 0.1153 - val_accuracy: 0.9519\n",
            "Epoch 3/30\n",
            "47/47 [==============================] - 1s 32ms/step - loss: 0.0801 - accuracy: 0.9712 - val_loss: 0.1458 - val_accuracy: 0.9626\n",
            "Epoch 4/30\n",
            "47/47 [==============================] - 1s 32ms/step - loss: 0.0718 - accuracy: 0.9746 - val_loss: 0.1060 - val_accuracy: 0.9652\n",
            "Epoch 5/30\n",
            "47/47 [==============================] - 1s 31ms/step - loss: 0.0644 - accuracy: 0.9745 - val_loss: 0.1268 - val_accuracy: 0.9652\n",
            "Epoch 6/30\n",
            "47/47 [==============================] - 1s 31ms/step - loss: 0.0429 - accuracy: 0.9860 - val_loss: 0.2235 - val_accuracy: 0.9465\n",
            "Epoch 7/30\n",
            "47/47 [==============================] - 1s 31ms/step - loss: 0.1410 - accuracy: 0.9499 - val_loss: 0.4338 - val_accuracy: 0.9118\n",
            "Epoch 8/30\n",
            "47/47 [==============================] - 1s 31ms/step - loss: 0.0932 - accuracy: 0.9687 - val_loss: 0.1097 - val_accuracy: 0.9599\n",
            "Epoch 9/30\n",
            "47/47 [==============================] - 1s 31ms/step - loss: 0.0334 - accuracy: 0.9831 - val_loss: 0.1299 - val_accuracy: 0.9599\n",
            "Epoch 10/30\n",
            "47/47 [==============================] - 1s 31ms/step - loss: 0.0338 - accuracy: 0.9875 - val_loss: 0.1228 - val_accuracy: 0.9652\n",
            "Epoch 11/30\n",
            "47/47 [==============================] - 1s 32ms/step - loss: 0.0297 - accuracy: 0.9893 - val_loss: 0.1307 - val_accuracy: 0.9626\n",
            "Epoch 12/30\n",
            "47/47 [==============================] - 1s 31ms/step - loss: 0.0079 - accuracy: 0.9959 - val_loss: 0.1451 - val_accuracy: 0.9679\n",
            "Epoch 13/30\n",
            "47/47 [==============================] - 1s 31ms/step - loss: 0.0063 - accuracy: 0.9987 - val_loss: 0.1763 - val_accuracy: 0.9679\n",
            "Epoch 14/30\n",
            "47/47 [==============================] - 1s 31ms/step - loss: 0.0026 - accuracy: 1.0000 - val_loss: 0.1748 - val_accuracy: 0.9679\n",
            "Epoch 15/30\n",
            "47/47 [==============================] - 1s 31ms/step - loss: 0.0021 - accuracy: 1.0000 - val_loss: 0.2088 - val_accuracy: 0.9652\n",
            "Epoch 16/30\n",
            "47/47 [==============================] - 1s 32ms/step - loss: 8.6328e-04 - accuracy: 1.0000 - val_loss: 0.1952 - val_accuracy: 0.9679\n",
            "Epoch 17/30\n",
            "47/47 [==============================] - 1s 31ms/step - loss: 4.5634e-04 - accuracy: 1.0000 - val_loss: 0.1985 - val_accuracy: 0.9679\n",
            "Epoch 18/30\n",
            "47/47 [==============================] - 1s 31ms/step - loss: 3.4378e-04 - accuracy: 1.0000 - val_loss: 0.2025 - val_accuracy: 0.9679\n",
            "Epoch 19/30\n",
            "47/47 [==============================] - 1s 31ms/step - loss: 2.7143e-04 - accuracy: 1.0000 - val_loss: 0.2036 - val_accuracy: 0.9679\n",
            "Epoch 20/30\n",
            "47/47 [==============================] - 1s 32ms/step - loss: 2.6006e-04 - accuracy: 1.0000 - val_loss: 0.2160 - val_accuracy: 0.9706\n",
            "Epoch 21/30\n",
            "47/47 [==============================] - 1s 32ms/step - loss: 1.4967e-04 - accuracy: 1.0000 - val_loss: 0.2199 - val_accuracy: 0.9706\n",
            "Epoch 22/30\n",
            "47/47 [==============================] - 1s 32ms/step - loss: 1.4721e-04 - accuracy: 1.0000 - val_loss: 0.2273 - val_accuracy: 0.9652\n",
            "Epoch 23/30\n",
            "47/47 [==============================] - 1s 32ms/step - loss: 9.6213e-05 - accuracy: 1.0000 - val_loss: 0.2263 - val_accuracy: 0.9679\n",
            "Epoch 24/30\n",
            "47/47 [==============================] - 1s 32ms/step - loss: 8.7999e-05 - accuracy: 1.0000 - val_loss: 0.2222 - val_accuracy: 0.9706\n",
            "Epoch 25/30\n",
            "47/47 [==============================] - 1s 31ms/step - loss: 6.9724e-05 - accuracy: 1.0000 - val_loss: 0.2298 - val_accuracy: 0.9679\n",
            "Epoch 26/30\n",
            "47/47 [==============================] - 1s 31ms/step - loss: 6.6884e-05 - accuracy: 1.0000 - val_loss: 0.2345 - val_accuracy: 0.9706\n",
            "Epoch 27/30\n",
            "47/47 [==============================] - 1s 32ms/step - loss: 5.0558e-05 - accuracy: 1.0000 - val_loss: 0.2392 - val_accuracy: 0.9706\n",
            "Epoch 28/30\n",
            "47/47 [==============================] - 1s 31ms/step - loss: 4.7074e-05 - accuracy: 1.0000 - val_loss: 0.2397 - val_accuracy: 0.9706\n",
            "Epoch 29/30\n",
            "47/47 [==============================] - 1s 32ms/step - loss: 5.5689e-05 - accuracy: 1.0000 - val_loss: 0.2396 - val_accuracy: 0.9706\n",
            "Epoch 30/30\n",
            "47/47 [==============================] - 1s 32ms/step - loss: 5.3468e-05 - accuracy: 1.0000 - val_loss: 0.2427 - val_accuracy: 0.9706\n",
            "CPU times: user 31.7 s, sys: 11.5 s, total: 43.1 s\n",
            "Wall time: 45.2 s\n"
          ],
          "name": "stdout"
        }
      ]
    },
    {
      "cell_type": "markdown",
      "metadata": {
        "id": "2Q3y2pLHGK-4"
      },
      "source": [
        "# Evaluating the model"
      ]
    },
    {
      "cell_type": "code",
      "metadata": {
        "colab": {
          "base_uri": "https://localhost:8080/"
        },
        "id": "z2qSFhx55Jme",
        "outputId": "b357af91-9976-45ef-8be7-5e098076a812"
      },
      "source": [
        "# Evaluating the model:\n",
        "model.evaluate(Xtest_norm,ytest,verbose= 1)"
      ],
      "execution_count": 14,
      "outputs": [
        {
          "output_type": "stream",
          "text": [
            "24/24 [==============================] - 1s 21ms/step - loss: 0.1318 - accuracy: 0.9658\n"
          ],
          "name": "stdout"
        },
        {
          "output_type": "execute_result",
          "data": {
            "text/plain": [
              "[0.1317884474992752, 0.9658344388008118]"
            ]
          },
          "metadata": {
            "tags": []
          },
          "execution_count": 14
        }
      ]
    },
    {
      "cell_type": "code",
      "metadata": {
        "colab": {
          "base_uri": "https://localhost:8080/"
        },
        "id": "cCmVzrAU0aF_",
        "outputId": "d36101fe-1596-4f2d-c877-0f3df7cab4d1"
      },
      "source": [
        "# Evaluating the model:\n",
        "model2.evaluate(Xtest_norm,ytest,verbose= 1)"
      ],
      "execution_count": 37,
      "outputs": [
        {
          "output_type": "stream",
          "text": [
            "24/24 [==============================] - 0s 13ms/step - loss: 0.1933 - accuracy: 0.9724\n"
          ],
          "name": "stdout"
        },
        {
          "output_type": "execute_result",
          "data": {
            "text/plain": [
              "[0.19326594471931458, 0.9724047183990479]"
            ]
          },
          "metadata": {
            "tags": []
          },
          "execution_count": 37
        }
      ]
    },
    {
      "cell_type": "markdown",
      "metadata": {
        "id": "bcZh5y1qHcWI"
      },
      "source": [
        "# Plot performance metrics"
      ]
    },
    {
      "cell_type": "code",
      "metadata": {
        "colab": {
          "base_uri": "https://localhost:8080/",
          "height": 306
        },
        "id": "sOjJ143hGO63",
        "outputId": "1f6bf92c-2c4c-4500-94f6-c106f10bdf08"
      },
      "source": [
        "# plot the model accuracy and loss for the training and the validating set.\n",
        "# CNN Model\n",
        "from matplotlib import pyplot as plt\n",
        "fig, ax = plt.subplots(1, 4, figsize=(30, 5))\n",
        "ax = ax.ravel()\n",
        "\n",
        "for i, met in enumerate(['loss', 'accuracy', 'loss', 'accuracy']):\n",
        "    ax[i].plot(model_history.history[met])\n",
        "    ax[i].plot(model_history.history['val_' + met])\n",
        "    ax[i].set_title('CNN Model {}'.format(met))\n",
        "    ax[i].set_xlabel('epochs')\n",
        "    ax[i].set_ylabel(met)\n",
        "    ax[i].legend(['train', 'val'])"
      ],
      "execution_count": 15,
      "outputs": [
        {
          "output_type": "display_data",
          "data": {
            "image/png": "[encoded data removed]",
            "text/plain": [
              "<Figure size 2160x360 with 4 Axes>"
            ]
          },
          "metadata": {
            "tags": [],
            "needs_background": "light"
          }
        }
      ]
    },
    {
      "cell_type": "code",
      "metadata": {
        "colab": {
          "base_uri": "https://localhost:8080/",
          "height": 306
        },
        "id": "4StVlpVh0fh5",
        "outputId": "b4acb85f-0e21-4eaa-8f39-6e93ab4604e9"
      },
      "source": [
        "# plot the model accuracy and loss for the training and the validating set.\n",
        "# CNN Model\n",
        "from matplotlib import pyplot as plt\n",
        "fig, ax = plt.subplots(1, 4, figsize=(30, 5))\n",
        "ax = ax.ravel()\n",
        "\n",
        "for i, met in enumerate(['loss', 'accuracy', 'loss', 'accuracy']):\n",
        "    ax[i].plot(model_history2.history[met])\n",
        "    ax[i].plot(model_history2.history['val_' + met])\n",
        "    ax[i].set_title('CNN Model {}'.format(met))\n",
        "    ax[i].set_xlabel('epochs')\n",
        "    ax[i].set_ylabel(met)\n",
        "    ax[i].legend(['train', 'val'])"
      ],
      "execution_count": 38,
      "outputs": [
        {
          "output_type": "display_data",
          "data": {
            "image/png": "[encoded data removed]",
            "text/plain": [
              "<Figure size 2160x360 with 4 Axes>"
            ]
          },
          "metadata": {
            "tags": [],
            "needs_background": "light"
          }
        }
      ]
    },
    {
      "cell_type": "markdown",
      "metadata": {
        "id": "HiEPvCU5IYaC"
      },
      "source": [
        "# Confusion Matrix"
      ]
    },
    {
      "cell_type": "code",
      "metadata": {
        "id": "C55qu_-THl2p",
        "colab": {
          "base_uri": "https://localhost:8080/",
          "height": 366
        },
        "outputId": "f153c2a7-4de6-4873-ab29-48dc9e208d3c"
      },
      "source": [
        "pred  = model.predict_classes(Xtest_norm,verbose= 1)\n",
        "\n",
        "'''pred_normalized = []\n",
        "for i in range(len(pred)):\n",
        "  if(pred[i]<=0.5):\n",
        "    pred_normalized.append(1)\n",
        "  else:\n",
        "    pred_normalized.append(0)\n",
        "'''\n",
        "import seaborn as sns\n",
        "\n",
        "cm = confusion_matrix(ytest, pred)\n",
        "ax= plt.subplot()\n",
        "sns.heatmap(cm, annot=True, fmt='g', ax = ax); #annot=True to annotate cells\n",
        "\n",
        "# labels, title and ticks\n",
        "ax.set_xlabel('Predicted labels');ax.set_ylabel('True labels'); \n",
        "ax.set_title('Confusion Matrix'); \n",
        "ax.xaxis.set_ticklabels(['Covid', 'Normal']); ax.yaxis.set_ticklabels(['Covid', 'Normal']);\n"
      ],
      "execution_count": 16,
      "outputs": [
        {
          "output_type": "stream",
          "text": [
            "/usr/local/lib/python3.7/dist-packages/tensorflow/python/keras/engine/sequential.py:450: UserWarning: `model.predict_classes()` is deprecated and will be removed after 2021-01-01. Please use instead:* `np.argmax(model.predict(x), axis=-1)`,   if your model does multi-class classification   (e.g. if it uses a `softmax` last-layer activation).* `(model.predict(x) > 0.5).astype(\"int32\")`,   if your model does binary classification   (e.g. if it uses a `sigmoid` last-layer activation).\n",
            "  warnings.warn('`model.predict_classes()` is deprecated and '\n"
          ],
          "name": "stderr"
        },
        {
          "output_type": "stream",
          "text": [
            "24/24 [==============================] - 0s 11ms/step\n"
          ],
          "name": "stdout"
        },
        {
          "output_type": "display_data",
          "data": {
            "image/png": "[encoded data removed]",
            "text/plain": [
              "<Figure size 432x288 with 2 Axes>"
            ]
          },
          "metadata": {
            "tags": [],
            "needs_background": "light"
          }
        }
      ]
    },
    {
      "cell_type": "code",
      "metadata": {
        "id": "926oTf4V0ktX"
      },
      "source": [
        ""
      ],
      "execution_count": null,
      "outputs": []
    },
    {
      "cell_type": "code",
      "metadata": {
        "colab": {
          "base_uri": "https://localhost:8080/"
        },
        "id": "kkTlHpxVF0iq",
        "outputId": "47119ff7-a718-4388-f583-9cdaa571cffc"
      },
      "source": [
        "TP = 299\n",
        "TN = 436\n",
        "FN = 14\n",
        "FP = 12\n",
        "total  = TP+TN+FN+FP\n",
        "\n",
        "print(\"sensitivity(Recall)\",TP/(TP+FN)*100)\n",
        "print(\"Specificity\",TN/(TN+FP)*100)\n",
        "print(\"Precision\",TP/(TP+FP)*100)\n",
        "\n",
        "# When it's actually yes, how often does it predict yes\n",
        "# (FP+FN)/total \n",
        "# equivalent to 1 minus Accuracy\n",
        "# also known as \"Error Rate\"\n",
        "\n",
        "Misclassification_Rate = (FP+FN)/total\n",
        "print(\"Misclassification Rate\",Misclassification_Rate)\n",
        " \n",
        "# How often does the yes condition actually occur in our sample?\n",
        "Prevalence = (FN+TP)/total\n",
        "print(\"Prevalence\",Prevalence*100)"
      ],
      "execution_count": 17,
      "outputs": [
        {
          "output_type": "stream",
          "text": [
            "sensitivity(Recall) 95.52715654952077\n",
            "Specificity 97.32142857142857\n",
            "Precision 96.14147909967846\n",
            "Misclassification Rate 0.03416557161629435\n",
            "Prevalence 41.13009198423128\n"
          ],
          "name": "stdout"
        }
      ]
    },
    {
      "cell_type": "code",
      "metadata": {
        "colab": {
          "base_uri": "https://localhost:8080/",
          "height": 366
        },
        "id": "SZCQbZRQ0mIn",
        "outputId": "c9d0fe33-aa6b-4931-ab5c-5a35c83a6ba5"
      },
      "source": [
        "pred  = model2.predict_classes(Xtest_norm,verbose= 1)\n",
        "\n",
        "'''pred_normalized = []\n",
        "for i in range(len(pred)):\n",
        "  if(pred[i]<=0.5):\n",
        "    pred_normalized.append(1)\n",
        "  else:\n",
        "    pred_normalized.append(0)\n",
        "'''\n",
        "import seaborn as sns\n",
        "\n",
        "cm = confusion_matrix(ytest, pred)\n",
        "ax= plt.subplot()\n",
        "sns.heatmap(cm, annot=True, fmt='g', ax = ax); #annot=True to annotate cells\n",
        "\n",
        "# labels, title and ticks\n",
        "ax.set_xlabel('Predicted labels');ax.set_ylabel('True labels'); \n",
        "ax.set_title('Confusion Matrix'); \n",
        "ax.xaxis.set_ticklabels(['Covid', 'Normal']); ax.yaxis.set_ticklabels(['Covid', 'Normal']);\n"
      ],
      "execution_count": 39,
      "outputs": [
        {
          "output_type": "stream",
          "text": [
            " 6/24 [======>.......................] - ETA: 0s"
          ],
          "name": "stdout"
        },
        {
          "output_type": "stream",
          "text": [
            "/usr/local/lib/python3.7/dist-packages/tensorflow/python/keras/engine/sequential.py:450: UserWarning: `model.predict_classes()` is deprecated and will be removed after 2021-01-01. Please use instead:* `np.argmax(model.predict(x), axis=-1)`,   if your model does multi-class classification   (e.g. if it uses a `softmax` last-layer activation).* `(model.predict(x) > 0.5).astype(\"int32\")`,   if your model does binary classification   (e.g. if it uses a `sigmoid` last-layer activation).\n",
            "  warnings.warn('`model.predict_classes()` is deprecated and '\n"
          ],
          "name": "stderr"
        },
        {
          "output_type": "stream",
          "text": [
            "24/24 [==============================] - 0s 12ms/step\n"
          ],
          "name": "stdout"
        },
        {
          "output_type": "display_data",
          "data": {
            "image/png": "[encoded data removed]",
            "text/plain": [
              "<Figure size 432x288 with 2 Axes>"
            ]
          },
          "metadata": {
            "tags": [],
            "needs_background": "light"
          }
        }
      ]
    },
    {
      "cell_type": "code",
      "metadata": {
        "colab": {
          "base_uri": "https://localhost:8080/"
        },
        "id": "k6gGM6990qq2",
        "outputId": "e2232732-b099-44d2-c4a4-f513d0a179e5"
      },
      "source": [
        "TP = 302\n",
        "TN = 438\n",
        "FN = 12\n",
        "FP = 9\n",
        "total  = TP+TN+FN+FP\n",
        "\n",
        "print(\"sensitivity(Recall)\",TP/(TP+FN)*100)\n",
        "print(\"Specificity\",TN/(TN+FP)*100)\n",
        "print(\"Precision\",TP/(TP+FP)*100)\n",
        "\n",
        "# When it's actually yes, how often does it predict yes\n",
        "# (FP+FN)/total \n",
        "# equivalent to 1 minus Accuracy\n",
        "# also known as \"Error Rate\"\n",
        "\n",
        "Misclassification_Rate = (FP+FN)/total\n",
        "print(\"Misclassification Rate\",Misclassification_Rate)\n",
        " \n",
        "# How often does the yes condition actually occur in our sample?\n",
        "Prevalence = (FN+TP)/total\n",
        "print(\"Prevalence\",Prevalence*100)"
      ],
      "execution_count": 40,
      "outputs": [
        {
          "output_type": "stream",
          "text": [
            "sensitivity(Recall) 96.17834394904459\n",
            "Specificity 97.98657718120806\n",
            "Precision 97.10610932475883\n",
            "Misclassification Rate 0.02759526938239159\n",
            "Prevalence 41.26149802890933\n"
          ],
          "name": "stdout"
        }
      ]
    },
    {
      "cell_type": "code",
      "metadata": {
        "colab": {
          "base_uri": "https://localhost:8080/"
        },
        "id": "YH6sQ9DWyEcZ",
        "outputId": "e356e401-adee-4399-a018-14216626d316"
      },
      "source": [
        "ytest, pred.T\n",
        "\n"
      ],
      "execution_count": 41,
      "outputs": [
        {
          "output_type": "execute_result",
          "data": {
            "text/plain": [
              "(array([0., 0., 0., 0., 0., 0., 0., 0., 0., 0., 0., 0., 0., 0., 0., 0., 0.,\n",
              "        0., 0., 0., 0., 0., 0., 0., 0., 0., 0., 0., 0., 0., 0., 0., 0., 0.,\n",
              "        0., 0., 0., 0., 0., 0., 0., 0., 0., 0., 0., 0., 0., 0., 0., 0., 0.,\n",
              "        0., 0., 0., 0., 0., 0., 0., 0., 0., 0., 0., 0., 0., 0., 0., 0., 0.,\n",
              "        0., 0., 0., 0., 0., 0., 0., 0., 0., 0., 0., 0., 0., 0., 0., 0., 0.,\n",
              "        0., 0., 0., 0., 0., 0., 0., 0., 0., 0., 0., 0., 0., 0., 0., 0., 0.,\n",
              "        0., 0., 0., 0., 0., 0., 0., 0., 0., 0., 0., 0., 0., 0., 0., 0., 0.,\n",
              "        0., 0., 0., 0., 0., 0., 0., 0., 0., 0., 0., 0., 0., 0., 0., 0., 0.,\n",
              "        0., 0., 0., 0., 0., 0., 0., 0., 0., 0., 0., 0., 0., 0., 0., 0., 0.,\n",
              "        0., 0., 0., 0., 0., 0., 0., 0., 0., 0., 0., 0., 0., 0., 0., 0., 0.,\n",
              "        0., 0., 0., 0., 0., 0., 0., 0., 0., 0., 0., 0., 0., 0., 0., 0., 0.,\n",
              "        0., 0., 0., 0., 0., 0., 0., 0., 0., 0., 0., 0., 0., 0., 0., 0., 0.,\n",
              "        0., 0., 0., 0., 0., 0., 0., 0., 0., 0., 0., 0., 0., 0., 0., 0., 0.,\n",
              "        0., 0., 0., 0., 0., 0., 0., 0., 0., 0., 0., 0., 0., 0., 0., 0., 0.,\n",
              "        0., 0., 0., 0., 0., 0., 0., 0., 0., 0., 0., 0., 0., 0., 0., 0., 0.,\n",
              "        0., 0., 0., 0., 0., 0., 0., 0., 0., 0., 0., 0., 0., 0., 0., 0., 0.,\n",
              "        0., 0., 0., 0., 0., 0., 0., 0., 0., 0., 0., 0., 0., 0., 0., 0., 0.,\n",
              "        0., 0., 0., 0., 0., 0., 0., 0., 0., 0., 0., 0., 0., 0., 0., 0., 0.,\n",
              "        0., 0., 0., 0., 0., 1., 1., 1., 1., 1., 1., 1., 1., 1., 1., 1., 1.,\n",
              "        1., 1., 1., 1., 1., 1., 1., 1., 1., 1., 1., 1., 1., 1., 1., 1., 1.,\n",
              "        1., 1., 1., 1., 1., 1., 1., 1., 1., 1., 1., 1., 1., 1., 1., 1., 1.,\n",
              "        1., 1., 1., 1., 1., 1., 1., 1., 1., 1., 1., 1., 1., 1., 1., 1., 1.,\n",
              "        1., 1., 1., 1., 1., 1., 1., 1., 1., 1., 1., 1., 1., 1., 1., 1., 1.,\n",
              "        1., 1., 1., 1., 1., 1., 1., 1., 1., 1., 1., 1., 1., 1., 1., 1., 1.,\n",
              "        1., 1., 1., 1., 1., 1., 1., 1., 1., 1., 1., 1., 1., 1., 1., 1., 1.,\n",
              "        1., 1., 1., 1., 1., 1., 1., 1., 1., 1., 1., 1., 1., 1., 1., 1., 1.,\n",
              "        1., 1., 1., 1., 1., 1., 1., 1., 1., 1., 1., 1., 1., 1., 1., 1., 1.,\n",
              "        1., 1., 1., 1., 1., 1., 1., 1., 1., 1., 1., 1., 1., 1., 1., 1., 1.,\n",
              "        1., 1., 1., 1., 1., 1., 1., 1., 1., 1., 1., 1., 1., 1., 1., 1., 1.,\n",
              "        1., 1., 1., 1., 1., 1., 1., 1., 1., 1., 1., 1., 1., 1., 1., 1., 1.,\n",
              "        1., 1., 1., 1., 1., 1., 1., 1., 1., 1., 1., 1., 1., 1., 1., 1., 1.,\n",
              "        1., 1., 1., 1., 1., 1., 1., 1., 1., 1., 1., 1., 1., 1., 1., 1., 1.,\n",
              "        1., 1., 1., 1., 1., 1., 1., 1., 1., 1., 1., 1., 1., 1., 1., 1., 1.,\n",
              "        1., 1., 1., 1., 1., 1., 1., 1., 1., 1., 1., 1., 1., 1., 1., 1., 1.,\n",
              "        1., 1., 1., 1., 1., 1., 1., 1., 1., 1., 1., 1., 1., 1., 1., 1., 1.,\n",
              "        1., 1., 1., 1., 1., 1., 1., 1., 1., 1., 1., 1., 1., 1., 1., 1., 1.,\n",
              "        1., 1., 1., 1., 1., 1., 1., 1., 1., 1., 1., 1., 1., 1., 1., 1., 1.,\n",
              "        1., 1., 1., 1., 1., 1., 1., 1., 1., 1., 1., 1., 1., 1., 1., 1., 1.,\n",
              "        1., 1., 1., 1., 1., 1., 1., 1., 1., 1., 1., 1., 1., 1., 1., 1., 1.,\n",
              "        1., 1., 1., 1., 1., 1., 1., 1., 1., 1., 1., 1., 1., 1., 1., 1., 1.,\n",
              "        1., 1., 1., 1., 1., 1., 1., 1., 1., 1., 1., 1., 1., 1., 1., 1., 1.,\n",
              "        1., 1., 1., 1., 1., 1., 1., 1., 1., 1., 1., 1., 1., 1., 1., 1., 1.,\n",
              "        1., 1., 1., 1., 1., 1., 1., 1., 1., 1., 1., 1., 1., 1., 1., 1., 1.,\n",
              "        1., 1., 1., 1., 1., 1., 1., 1., 1., 1., 1., 1., 1., 1., 1., 1., 1.,\n",
              "        1., 1., 1., 1., 1., 1., 1., 1., 1., 1., 1., 1., 1.]),\n",
              " array([[0, 0, 0, 0, 0, 0, 0, 0, 1, 0, 0, 0, 0, 0, 0, 0, 0, 0, 0, 0, 0, 0,\n",
              "         0, 0, 0, 0, 0, 0, 0, 0, 0, 0, 0, 0, 0, 0, 0, 0, 0, 0, 0, 0, 0, 0,\n",
              "         0, 0, 0, 1, 0, 0, 0, 0, 0, 0, 0, 0, 0, 0, 0, 0, 0, 0, 0, 0, 0, 0,\n",
              "         0, 0, 0, 0, 0, 0, 0, 0, 0, 0, 0, 0, 0, 0, 0, 0, 0, 1, 0, 0, 0, 0,\n",
              "         0, 0, 0, 0, 0, 0, 1, 0, 0, 0, 0, 0, 0, 1, 0, 0, 0, 0, 0, 0, 0, 0,\n",
              "         0, 0, 0, 0, 0, 0, 0, 0, 0, 0, 0, 0, 0, 0, 0, 0, 0, 0, 0, 0, 0, 0,\n",
              "         0, 0, 0, 0, 0, 0, 0, 0, 0, 0, 0, 0, 0, 0, 0, 0, 0, 0, 0, 0, 0, 0,\n",
              "         0, 0, 1, 0, 0, 0, 0, 0, 0, 0, 0, 0, 0, 0, 0, 0, 1, 0, 0, 0, 0, 0,\n",
              "         0, 0, 0, 0, 0, 0, 0, 0, 0, 0, 0, 0, 0, 0, 0, 0, 0, 0, 0, 0, 0, 0,\n",
              "         0, 0, 0, 0, 0, 0, 0, 0, 0, 0, 0, 0, 0, 0, 0, 0, 0, 0, 0, 0, 0, 0,\n",
              "         0, 0, 0, 0, 0, 0, 0, 0, 0, 0, 0, 0, 0, 0, 0, 0, 0, 0, 0, 0, 0, 1,\n",
              "         0, 0, 0, 0, 0, 0, 0, 0, 0, 0, 0, 0, 0, 0, 0, 0, 0, 0, 0, 0, 0, 0,\n",
              "         0, 0, 0, 0, 0, 0, 0, 0, 0, 0, 0, 0, 0, 0, 0, 0, 0, 0, 0, 0, 0, 0,\n",
              "         0, 0, 0, 0, 0, 0, 0, 0, 0, 0, 0, 0, 0, 0, 0, 1, 0, 0, 0, 0, 0, 0,\n",
              "         0, 0, 0, 1, 1, 1, 1, 1, 1, 1, 1, 1, 1, 0, 1, 1, 1, 1, 1, 1, 1, 1,\n",
              "         1, 1, 1, 1, 1, 1, 1, 1, 1, 1, 1, 1, 1, 1, 1, 1, 1, 1, 1, 1, 1, 1,\n",
              "         1, 1, 1, 1, 1, 1, 1, 1, 1, 1, 1, 1, 1, 1, 1, 0, 1, 1, 1, 1, 1, 1,\n",
              "         1, 1, 1, 1, 1, 1, 1, 1, 1, 1, 1, 1, 1, 1, 1, 1, 1, 1, 1, 1, 1, 1,\n",
              "         1, 1, 1, 1, 1, 1, 1, 1, 1, 1, 1, 1, 1, 1, 1, 1, 1, 1, 1, 1, 1, 1,\n",
              "         1, 1, 1, 1, 1, 1, 1, 1, 1, 1, 1, 1, 1, 1, 1, 1, 1, 1, 1, 1, 1, 1,\n",
              "         1, 1, 1, 1, 1, 1, 1, 1, 1, 1, 1, 1, 1, 1, 1, 1, 1, 1, 1, 1, 1, 1,\n",
              "         1, 1, 0, 1, 1, 1, 0, 1, 1, 1, 1, 1, 1, 1, 1, 1, 1, 1, 1, 1, 1, 1,\n",
              "         1, 1, 1, 1, 1, 1, 1, 1, 1, 1, 1, 1, 1, 1, 1, 1, 1, 1, 1, 1, 1, 1,\n",
              "         1, 1, 1, 1, 1, 1, 1, 1, 1, 1, 1, 1, 1, 1, 1, 1, 1, 1, 1, 1, 1, 1,\n",
              "         1, 1, 1, 1, 1, 1, 1, 1, 1, 1, 1, 1, 1, 1, 1, 1, 1, 1, 1, 1, 1, 1,\n",
              "         1, 1, 1, 1, 1, 1, 1, 1, 1, 0, 1, 1, 1, 1, 1, 1, 1, 1, 1, 1, 1, 1,\n",
              "         1, 1, 1, 1, 1, 0, 1, 1, 1, 0, 1, 1, 1, 1, 1, 1, 1, 1, 1, 1, 1, 1,\n",
              "         1, 1, 1, 1, 1, 1, 1, 1, 1, 1, 1, 1, 1, 1, 0, 1, 1, 1, 1, 1, 1, 1,\n",
              "         1, 1, 1, 1, 1, 1, 0, 1, 1, 1, 1, 1, 1, 1, 1, 1, 1, 1, 1, 1, 1, 1,\n",
              "         1, 1, 1, 1, 1, 1, 1, 1, 1, 1, 1, 1, 1, 1, 1, 1, 1, 1, 1, 1, 1, 1,\n",
              "         1, 1, 1, 1, 1, 1, 1, 1, 1, 1, 1, 1, 1, 1, 1, 1, 1, 1, 1, 1, 1, 1,\n",
              "         1, 1, 1, 1, 1, 0, 1, 1, 1, 1, 1, 1, 1, 1, 1, 1, 1, 1, 1, 1, 1, 1,\n",
              "         1, 1, 1, 1, 1, 1, 1, 1, 1, 1, 1, 1, 1, 1, 1, 1, 1, 1, 1, 1, 1, 1,\n",
              "         1, 0, 1, 1, 1, 1, 1, 1, 1, 1, 1, 1, 1, 1, 1, 1, 1, 1, 1, 1, 0, 1,\n",
              "         1, 1, 1, 1, 1, 1, 1, 1, 1, 1, 1, 1, 1]], dtype=int32))"
            ]
          },
          "metadata": {
            "tags": []
          },
          "execution_count": 41
        }
      ]
    },
    {
      "cell_type": "markdown",
      "metadata": {
        "id": "muGIpNjZTssN"
      },
      "source": [
        "## Saving The Model"
      ]
    },
    {
      "cell_type": "code",
      "metadata": {
        "id": "S8JlbjbqTyDA"
      },
      "source": [
        "model_save_name = 'covid+nonCovid_IBA_DATASET_without_ImageDataGen_with_dropout.h5'\n",
        "path = F\"/content/gdrive/MyDrive/Temp/{model_save_name}\" \n",
        "model.save(path)"
      ],
      "execution_count": 43,
      "outputs": []
    },
    {
      "cell_type": "code",
      "metadata": {
        "id": "C0XP0wge1UR3"
      },
      "source": [
        "model_save_name = 'covid+nonCovid_IBA_DATASET_without_ImageDataGen_without_dropout.h5'\n",
        "path = F\"/content/gdrive/MyDrive/Temp/{model_save_name}\" \n",
        "model2.save(path)"
      ],
      "execution_count": 44,
      "outputs": []
    },
    {
      "cell_type": "markdown",
      "metadata": {
        "id": "EK1AFaNiKohC"
      },
      "source": [
        "# Loading the Model"
      ]
    },
    {
      "cell_type": "code",
      "metadata": {
        "id": "ObCleY2aKUyW",
        "colab": {
          "base_uri": "https://localhost:8080/"
        },
        "outputId": "f6694e70-ca40-4407-f9e3-c27ca9469530"
      },
      "source": [
        "from google.colab import drive\n",
        "drive.mount('/content/gdrive')"
      ],
      "execution_count": 42,
      "outputs": [
        {
          "output_type": "stream",
          "text": [
            "Mounted at /content/gdrive\n"
          ],
          "name": "stdout"
        }
      ]
    },
    {
      "cell_type": "code",
      "metadata": {
        "id": "98W-dU-vPOKW"
      },
      "source": [
        "from tensorflow.keras.models import load_model\n",
        "\n",
        "model = load_model('/content/gdrive/MyDrive/Temp/Model trained without ImageDataGenerator.h5')"
      ],
      "execution_count": null,
      "outputs": []
    },
    {
      "cell_type": "code",
      "metadata": {
        "id": "Kbb6Ymdjcl5X"
      },
      "source": [
        ""
      ],
      "execution_count": null,
      "outputs": []
    },
    {
      "cell_type": "code",
      "metadata": {
        "id": "_fLeSViNcl2t"
      },
      "source": [
        ""
      ],
      "execution_count": null,
      "outputs": []
    },
    {
      "cell_type": "code",
      "metadata": {
        "id": "EqlwfxtEclz_"
      },
      "source": [
        ""
      ],
      "execution_count": null,
      "outputs": []
    },
    {
      "cell_type": "code",
      "metadata": {
        "id": "qtHg2Socclx2"
      },
      "source": [
        ""
      ],
      "execution_count": null,
      "outputs": []
    },
    {
      "cell_type": "code",
      "metadata": {
        "id": "ID6I3nmDclus"
      },
      "source": [
        ""
      ],
      "execution_count": null,
      "outputs": []
    },
    {
      "cell_type": "code",
      "metadata": {
        "id": "uHtmJUBte-ph"
      },
      "source": [
        ""
      ],
      "execution_count": null,
      "outputs": []
    },
    {
      "cell_type": "code",
      "metadata": {
        "id": "uLii-j1Ve-cx"
      },
      "source": [
        ""
      ],
      "execution_count": null,
      "outputs": []
    },
    {
      "cell_type": "markdown",
      "metadata": {
        "id": "iXblYekrqBZ8"
      },
      "source": [
        "# ROC"
      ]
    },
    {
      "cell_type": "code",
      "metadata": {
        "id": "is32hv8RKUP9"
      },
      "source": [
        "# ROC\n",
        "from sklearn.metrics import roc_curve\n",
        "y_pred_keras = model.predict(Xtest_norm).ravel()\n",
        "fpr_keras, tpr_keras, thresholds_keras = roc_curve(ytest, y_pred_keras)\n",
        "\n",
        "# AUC\n",
        "from sklearn.metrics import auc\n",
        "auc_keras = auc(fpr_keras, tpr_keras)"
      ],
      "execution_count": 19,
      "outputs": []
    },
    {
      "cell_type": "code",
      "metadata": {
        "id": "rj6voZW4KUM2",
        "colab": {
          "base_uri": "https://localhost:8080/",
          "height": 573
        },
        "outputId": "15f2d2f5-5d16-4388-f6d4-57ccff2afaf3"
      },
      "source": [
        "plt.figure(1)\n",
        "plt.plot([0, 1], [0, 1], 'k--')\n",
        "plt.plot(fpr_keras, tpr_keras, label='Keras (area = {:.3f})'.format(auc_keras))\n",
        "plt.xlabel('False positive rate')\n",
        "plt.ylabel('True positive rate')\n",
        "plt.title('ROC curve')\n",
        "plt.legend(loc='best')\n",
        "plt.show()\n",
        "# Zoom in view of the upper left corner.\n",
        "plt.figure(2)\n",
        "plt.xlim(0, 0.2)\n",
        "plt.ylim(0.8, 1)\n",
        "plt.plot([0, 1], [0, 1], 'k--')\n",
        "plt.plot(fpr_keras, tpr_keras, label='Keras (area = {:.3f})'.format(auc_keras))\n",
        "plt.xlabel('False positive rate')\n",
        "plt.ylabel('True positive rate')\n",
        "plt.title('ROC curve (zoomed in at top left)')\n",
        "plt.legend(loc='best')\n",
        "plt.show()"
      ],
      "execution_count": 20,
      "outputs": [
        {
          "output_type": "display_data",
          "data": {
            "image/png": "[encoded data removed]",
            "text/plain": [
              "<Figure size 432x288 with 1 Axes>"
            ]
          },
          "metadata": {
            "tags": [],
            "needs_background": "light"
          }
        },
        {
          "output_type": "display_data",
          "data": {
            "image/png": "[encoded data removed]",
            "text/plain": [
              "<Figure size 432x288 with 1 Axes>"
            ]
          },
          "metadata": {
            "tags": [],
            "needs_background": "light"
          }
        }
      ]
    },
    {
      "cell_type": "code",
      "metadata": {
        "colab": {
          "base_uri": "https://localhost:8080/",
          "height": 573
        },
        "id": "rJgOlUMb1bkR",
        "outputId": "763f2766-bc3a-4069-86ad-6373c7383836"
      },
      "source": [
        "# ROC\n",
        "from sklearn.metrics import roc_curve\n",
        "y_pred_keras = model2.predict(Xtest_norm).ravel()\n",
        "fpr_keras, tpr_keras, thresholds_keras = roc_curve(ytest, y_pred_keras)\n",
        "\n",
        "# AUC\n",
        "from sklearn.metrics import auc\n",
        "auc_keras = auc(fpr_keras, tpr_keras)\n",
        "\n",
        "plt.figure(1)\n",
        "plt.plot([0, 1], [0, 1], 'k--')\n",
        "plt.plot(fpr_keras, tpr_keras, label='Keras (area = {:.3f})'.format(auc_keras))\n",
        "plt.xlabel('False positive rate')\n",
        "plt.ylabel('True positive rate')\n",
        "plt.title('ROC curve')\n",
        "plt.legend(loc='best')\n",
        "plt.show()\n",
        "# Zoom in view of the upper left corner.\n",
        "plt.figure(2)\n",
        "plt.xlim(0, 0.2)\n",
        "plt.ylim(0.8, 1)\n",
        "plt.plot([0, 1], [0, 1], 'k--')\n",
        "plt.plot(fpr_keras, tpr_keras, label='Keras (area = {:.3f})'.format(auc_keras))\n",
        "plt.xlabel('False positive rate')\n",
        "plt.ylabel('True positive rate')\n",
        "plt.title('ROC curve (zoomed in at top left)')\n",
        "plt.legend(loc='best')\n",
        "plt.show()"
      ],
      "execution_count": 45,
      "outputs": [
        {
          "output_type": "display_data",
          "data": {
            "image/png": "[encoded data removed]",
            "text/plain": [
              "<Figure size 432x288 with 1 Axes>"
            ]
          },
          "metadata": {
            "tags": [],
            "needs_background": "light"
          }
        },
        {
          "output_type": "display_data",
          "data": {
            "image/png": "[encoded data removed]",
            "text/plain": [
              "<Figure size 432x288 with 1 Axes>"
            ]
          },
          "metadata": {
            "tags": [],
            "needs_background": "light"
          }
        }
      ]
    },
    {
      "cell_type": "markdown",
      "metadata": {
        "id": "PrRENkyNzqjw"
      },
      "source": [
        "# precision-recall curve and f1"
      ]
    },
    {
      "cell_type": "code",
      "metadata": {
        "colab": {
          "base_uri": "https://localhost:8080/",
          "height": 350
        },
        "id": "IMDcrK798XWF",
        "outputId": "19906498-977f-48fc-d929-9b0bf5bfa45a"
      },
      "source": [
        "\n",
        "\n",
        "\n",
        "from sklearn.metrics import precision_recall_curve\n",
        "from sklearn.metrics import f1_score\n",
        "from sklearn.metrics import auc\n",
        "from matplotlib import pyplot\n",
        "\n",
        "prob = model.predict_proba(Xtest_norm)\n",
        "\n",
        "lr_precision, lr_recall, _ = precision_recall_curve(ytest, prob)\n",
        "lr_f1, lr_auc = f1_score(ytest, pred), auc(lr_recall, lr_precision)\n",
        "# summarize scores\n",
        "print('Logistic: f1=%.3f auc=%.3f' % (lr_f1, lr_auc))\n",
        "# plot the precision-recall curves\n",
        "no_skill = len(ytest[ytest==1]) / len(ytest)\n",
        "pyplot.plot([0, 1], [no_skill, no_skill], linestyle='--', label='No Skill')\n",
        "pyplot.plot(lr_recall, lr_precision, marker='.', label='CNN')\n",
        "# axis labels\n",
        "pyplot.xlabel('Recall')\n",
        "pyplot.ylabel('Precision')\n",
        "# show the legend\n",
        "pyplot.legend()\n",
        "# show the plot\n",
        "pyplot.show()"
      ],
      "execution_count": 21,
      "outputs": [
        {
          "output_type": "stream",
          "text": [
            "/usr/local/lib/python3.7/dist-packages/tensorflow/python/keras/engine/sequential.py:425: UserWarning: `model.predict_proba()` is deprecated and will be removed after 2021-01-01. Please use `model.predict()` instead.\n",
            "  warnings.warn('`model.predict_proba()` is deprecated and '\n"
          ],
          "name": "stderr"
        },
        {
          "output_type": "stream",
          "text": [
            "Logistic: f1=0.971 auc=0.996\n"
          ],
          "name": "stdout"
        },
        {
          "output_type": "display_data",
          "data": {
            "image/png": "[encoded data removed]",
            "text/plain": [
              "<Figure size 432x288 with 1 Axes>"
            ]
          },
          "metadata": {
            "tags": [],
            "needs_background": "light"
          }
        }
      ]
    },
    {
      "cell_type": "code",
      "metadata": {
        "colab": {
          "base_uri": "https://localhost:8080/",
          "height": 350
        },
        "id": "Xr-dI2I91h5G",
        "outputId": "1e5a3b4b-ab10-48be-ceae-1b430ac2f21d"
      },
      "source": [
        "\n",
        "\n",
        "from sklearn.metrics import precision_recall_curve\n",
        "from sklearn.metrics import f1_score\n",
        "from sklearn.metrics import auc\n",
        "from matplotlib import pyplot\n",
        "\n",
        "prob = model2.predict_proba(Xtest_norm)\n",
        "\n",
        "lr_precision, lr_recall, _ = precision_recall_curve(ytest, prob)\n",
        "lr_f1, lr_auc = f1_score(ytest, pred), auc(lr_recall, lr_precision)\n",
        "# summarize scores\n",
        "print('Logistic: f1=%.3f auc=%.3f' % (lr_f1, lr_auc))\n",
        "# plot the precision-recall curves\n",
        "no_skill = len(ytest[ytest==1]) / len(ytest)\n",
        "pyplot.plot([0, 1], [no_skill, no_skill], linestyle='--', label='No Skill')\n",
        "pyplot.plot(lr_recall, lr_precision, marker='.', label='CNN')\n",
        "# axis labels\n",
        "pyplot.xlabel('Recall')\n",
        "pyplot.ylabel('Precision')\n",
        "# show the legend\n",
        "pyplot.legend()\n",
        "# show the plot\n",
        "pyplot.show()"
      ],
      "execution_count": 46,
      "outputs": [
        {
          "output_type": "stream",
          "text": [
            "/usr/local/lib/python3.7/dist-packages/tensorflow/python/keras/engine/sequential.py:425: UserWarning: `model.predict_proba()` is deprecated and will be removed after 2021-01-01. Please use `model.predict()` instead.\n",
            "  warnings.warn('`model.predict_proba()` is deprecated and '\n"
          ],
          "name": "stderr"
        },
        {
          "output_type": "stream",
          "text": [
            "Logistic: f1=0.977 auc=0.995\n"
          ],
          "name": "stdout"
        },
        {
          "output_type": "display_data",
          "data": {
            "image/png": "[encoded data removed]",
            "text/plain": [
              "<Figure size 432x288 with 1 Axes>"
            ]
          },
          "metadata": {
            "tags": [],
            "needs_background": "light"
          }
        }
      ]
    },
    {
      "cell_type": "code",
      "metadata": {
        "id": "v56pSskB8XSp",
        "colab": {
          "base_uri": "https://localhost:8080/"
        },
        "outputId": "630027aa-8109-4bdb-9c70-1049bad43ce0"
      },
      "source": [
        "from sklearn.metrics import precision_score,f1_score,recall_score\n",
        "\n",
        "pr, f1, recal  = precision_score(ytest,pred), f1_score(ytest,pred), recall_score(ytest,pred)\n",
        "print('Precision = %.3f \\nF1 Score = %.3f \\nRecall = %.3f' % (pr, f1, recal))"
      ],
      "execution_count": 22,
      "outputs": [
        {
          "output_type": "stream",
          "text": [
            "Precision = 0.973 \n",
            "F1 Score = 0.971 \n",
            "Recall = 0.969\n"
          ],
          "name": "stdout"
        }
      ]
    },
    {
      "cell_type": "code",
      "metadata": {
        "id": "xmBFzEV78XDp"
      },
      "source": [
        ""
      ],
      "execution_count": null,
      "outputs": []
    },
    {
      "cell_type": "markdown",
      "metadata": {
        "id": "gsbsEQzawDOK"
      },
      "source": [
        "# classification_report"
      ]
    },
    {
      "cell_type": "code",
      "metadata": {
        "id": "6EFYcenaKUGa",
        "colab": {
          "base_uri": "https://localhost:8080/"
        },
        "outputId": "52c5ce21-45ad-42a0-e31a-4fe9a57b3b1e"
      },
      "source": [
        "from sklearn.metrics import classification_report\n",
        "print(classification_report(ytest, pred))\n",
        "print('non covid = 1 , covid19 = 0')"
      ],
      "execution_count": 24,
      "outputs": [
        {
          "output_type": "stream",
          "text": [
            "              precision    recall  f1-score   support\n",
            "\n",
            "         0.0       0.96      0.96      0.96       311\n",
            "         1.0       0.97      0.97      0.97       450\n",
            "\n",
            "    accuracy                           0.97       761\n",
            "   macro avg       0.96      0.97      0.96       761\n",
            "weighted avg       0.97      0.97      0.97       761\n",
            "\n",
            "non covid = 1 , covid19 = 0\n"
          ],
          "name": "stdout"
        }
      ]
    },
    {
      "cell_type": "markdown",
      "metadata": {
        "id": "V7Mwfz98ylRb"
      },
      "source": [
        "## K-Fold cross validation\n"
      ]
    },
    {
      "cell_type": "code",
      "metadata": {
        "id": "Jw07WB-kKUDi"
      },
      "source": [
        "# Model With Dropout Layer\n",
        "\n",
        "\n",
        "def build_model():\n",
        "  model = Sequential()\n",
        "\n",
        "# add the convolutional layer\n",
        "# filters, size of filters, padding, activation_function, inout_shape\n",
        "  model.add(Conv2D(32,(5,5), padding = 'SAME', activation = 'relu', input_shape = (150,150,3)))\n",
        "\n",
        "  # pooling layer\n",
        "  model.add(MaxPooling2D(pool_size = (2,2)))\n",
        "\n",
        "  # place a dropout layer\n",
        "  model.add(Dropout(0.5)) ## Minimizes the overfitting\n",
        "\n",
        "  # add another convolutional layer\n",
        "  model.add(Conv2D(64,(5,5), padding = 'SAME', activation = 'relu'))\n",
        "\n",
        "  # pooling layer\n",
        "  model.add(MaxPooling2D(pool_size = (2,2)))\n",
        "\n",
        "  # place a dropout layer\n",
        "  model.add(Dropout(0.5))\n",
        "\n",
        "  # Flatten the image to 1 dimensional array\n",
        "  model.add(Flatten())\n",
        "\n",
        "  # add a dense layer : amount of nodes, activation\n",
        "  model.add(Dense(256, activation = 'relu'))\n",
        "\n",
        "  # place a dropout layer\n",
        "  # 0.5 drop out rate is recommended, half input will be dropped at each update\n",
        "  model.add(Dropout(0.5))\n",
        "  model.add(Dense(1, activation = 'sigmoid'))\n",
        "\n",
        "  # compile model\n",
        "  from tensorflow.keras.optimizers import Adam # Adam is optimizer\n",
        "# Loss function definition\n",
        "  model.compile(Adam(lr = 0.001),loss = 'binary_crossentropy', metrics = ['accuracy'])\n",
        "  return model"
      ],
      "execution_count": 25,
      "outputs": []
    },
    {
      "cell_type": "code",
      "metadata": {
        "id": "HrF2Xr0IKUAV",
        "colab": {
          "base_uri": "https://localhost:8080/"
        },
        "outputId": "64901092-667b-4f94-d474-728161dc673b"
      },
      "source": [
        "%%time\n",
        "\n",
        "from tensorflow.keras.wrappers.scikit_learn import KerasClassifier\n",
        "from sklearn.model_selection import KFold, cross_val_score\n",
        "import time\n",
        "\n",
        "\n",
        "estimator= KerasClassifier(build_fn=build_model, epochs=30,verbose = 1)\n",
        "kfold= KFold(n_splits=5,shuffle=True)\n",
        "results= cross_val_score(estimator, X_train_norm, y_train, cv=kfold)\n",
        "print(\"Accuracies per K-Fold \", results)\n",
        "results.mean()"
      ],
      "execution_count": 26,
      "outputs": [
        {
          "output_type": "stream",
          "text": [
            "Epoch 1/30\n",
            "38/38 [==============================] - 2s 37ms/step - loss: 2.4121 - accuracy: 0.6658\n",
            "Epoch 2/30\n",
            "38/38 [==============================] - 1s 31ms/step - loss: 0.1972 - accuracy: 0.9319\n",
            "Epoch 3/30\n",
            "38/38 [==============================] - 1s 30ms/step - loss: 0.1575 - accuracy: 0.9406\n",
            "Epoch 4/30\n",
            "38/38 [==============================] - 1s 30ms/step - loss: 0.1300 - accuracy: 0.9527\n",
            "Epoch 5/30\n",
            "38/38 [==============================] - 1s 30ms/step - loss: 0.1162 - accuracy: 0.9646\n",
            "Epoch 6/30\n",
            "38/38 [==============================] - 1s 30ms/step - loss: 0.1140 - accuracy: 0.9614\n",
            "Epoch 7/30\n",
            "38/38 [==============================] - 1s 30ms/step - loss: 0.1060 - accuracy: 0.9501\n",
            "Epoch 8/30\n",
            "38/38 [==============================] - 1s 30ms/step - loss: 0.1110 - accuracy: 0.9687\n",
            "Epoch 9/30\n",
            "38/38 [==============================] - 1s 30ms/step - loss: 0.0806 - accuracy: 0.9744\n",
            "Epoch 10/30\n",
            "38/38 [==============================] - 1s 31ms/step - loss: 0.0942 - accuracy: 0.9702\n",
            "Epoch 11/30\n",
            "38/38 [==============================] - 1s 30ms/step - loss: 0.1449 - accuracy: 0.9575\n",
            "Epoch 12/30\n",
            "38/38 [==============================] - 1s 30ms/step - loss: 0.1238 - accuracy: 0.9586\n",
            "Epoch 13/30\n",
            "38/38 [==============================] - 1s 30ms/step - loss: 0.0665 - accuracy: 0.9793\n",
            "Epoch 14/30\n",
            "38/38 [==============================] - 1s 30ms/step - loss: 0.0815 - accuracy: 0.9670\n",
            "Epoch 15/30\n",
            "38/38 [==============================] - 1s 30ms/step - loss: 0.0873 - accuracy: 0.9698\n",
            "Epoch 16/30\n",
            "38/38 [==============================] - 1s 30ms/step - loss: 0.0606 - accuracy: 0.9787\n",
            "Epoch 17/30\n",
            "38/38 [==============================] - 1s 30ms/step - loss: 0.0547 - accuracy: 0.9773\n",
            "Epoch 18/30\n",
            "38/38 [==============================] - 1s 31ms/step - loss: 0.0402 - accuracy: 0.9864\n",
            "Epoch 19/30\n",
            "38/38 [==============================] - 1s 30ms/step - loss: 0.0383 - accuracy: 0.9903\n",
            "Epoch 20/30\n",
            "38/38 [==============================] - 1s 30ms/step - loss: 0.0430 - accuracy: 0.9815\n",
            "Epoch 21/30\n",
            "38/38 [==============================] - 1s 30ms/step - loss: 0.0557 - accuracy: 0.9766\n",
            "Epoch 22/30\n",
            "38/38 [==============================] - 1s 30ms/step - loss: 0.0440 - accuracy: 0.9891\n",
            "Epoch 23/30\n",
            "38/38 [==============================] - 1s 30ms/step - loss: 0.0318 - accuracy: 0.9881\n",
            "Epoch 24/30\n",
            "38/38 [==============================] - 1s 31ms/step - loss: 0.0479 - accuracy: 0.9791\n",
            "Epoch 25/30\n",
            "38/38 [==============================] - 1s 30ms/step - loss: 0.0276 - accuracy: 0.9897\n",
            "Epoch 26/30\n",
            "38/38 [==============================] - 1s 30ms/step - loss: 0.0210 - accuracy: 0.9898\n",
            "Epoch 27/30\n",
            "38/38 [==============================] - 1s 30ms/step - loss: 0.0183 - accuracy: 0.9937\n",
            "Epoch 28/30\n",
            "38/38 [==============================] - 1s 30ms/step - loss: 0.0256 - accuracy: 0.9866\n",
            "Epoch 29/30\n",
            "38/38 [==============================] - 1s 31ms/step - loss: 0.0179 - accuracy: 0.9961\n",
            "Epoch 30/30\n",
            "38/38 [==============================] - 1s 30ms/step - loss: 0.0366 - accuracy: 0.9823\n",
            "10/10 [==============================] - 0s 20ms/step - loss: 0.0924 - accuracy: 0.9632\n",
            "Epoch 1/30\n",
            "38/38 [==============================] - 2s 31ms/step - loss: 1.8141 - accuracy: 0.6940\n",
            "Epoch 2/30\n",
            "38/38 [==============================] - 1s 31ms/step - loss: 0.1927 - accuracy: 0.9260\n",
            "Epoch 3/30\n",
            "38/38 [==============================] - 1s 31ms/step - loss: 0.1531 - accuracy: 0.9475\n",
            "Epoch 4/30\n",
            "38/38 [==============================] - 1s 30ms/step - loss: 0.1062 - accuracy: 0.9621\n",
            "Epoch 5/30\n",
            "38/38 [==============================] - 1s 30ms/step - loss: 0.1114 - accuracy: 0.9560\n",
            "Epoch 6/30\n",
            "38/38 [==============================] - 1s 30ms/step - loss: 0.1106 - accuracy: 0.9579\n",
            "Epoch 7/30\n",
            "38/38 [==============================] - 1s 31ms/step - loss: 0.0887 - accuracy: 0.9675\n",
            "Epoch 8/30\n",
            "38/38 [==============================] - 1s 31ms/step - loss: 0.0857 - accuracy: 0.9696\n",
            "Epoch 9/30\n",
            "38/38 [==============================] - 1s 31ms/step - loss: 0.0545 - accuracy: 0.9760\n",
            "Epoch 10/30\n",
            "38/38 [==============================] - 1s 30ms/step - loss: 0.0550 - accuracy: 0.9718\n",
            "Epoch 11/30\n",
            "38/38 [==============================] - 1s 31ms/step - loss: 0.0626 - accuracy: 0.9710\n",
            "Epoch 12/30\n",
            "38/38 [==============================] - 1s 31ms/step - loss: 0.0760 - accuracy: 0.9659\n",
            "Epoch 13/30\n",
            "38/38 [==============================] - 1s 30ms/step - loss: 0.0509 - accuracy: 0.9795\n",
            "Epoch 14/30\n",
            "38/38 [==============================] - 1s 31ms/step - loss: 0.0430 - accuracy: 0.9836\n",
            "Epoch 15/30\n",
            "38/38 [==============================] - 1s 31ms/step - loss: 0.0732 - accuracy: 0.9664\n",
            "Epoch 16/30\n",
            "38/38 [==============================] - 1s 31ms/step - loss: 0.0430 - accuracy: 0.9888\n",
            "Epoch 17/30\n",
            "38/38 [==============================] - 1s 31ms/step - loss: 0.0440 - accuracy: 0.9781\n",
            "Epoch 18/30\n",
            "38/38 [==============================] - 1s 30ms/step - loss: 0.0410 - accuracy: 0.9811\n",
            "Epoch 19/30\n",
            "38/38 [==============================] - 1s 30ms/step - loss: 0.0425 - accuracy: 0.9814\n",
            "Epoch 20/30\n",
            "38/38 [==============================] - 1s 31ms/step - loss: 0.0389 - accuracy: 0.9854\n",
            "Epoch 21/30\n",
            "38/38 [==============================] - 1s 31ms/step - loss: 0.0537 - accuracy: 0.9845\n",
            "Epoch 22/30\n",
            "38/38 [==============================] - 1s 30ms/step - loss: 0.0494 - accuracy: 0.9763\n",
            "Epoch 23/30\n",
            "38/38 [==============================] - 1s 31ms/step - loss: 0.0208 - accuracy: 0.9928\n",
            "Epoch 24/30\n",
            "38/38 [==============================] - 1s 31ms/step - loss: 0.0173 - accuracy: 0.9949\n",
            "Epoch 25/30\n",
            "38/38 [==============================] - 1s 31ms/step - loss: 0.0306 - accuracy: 0.9873\n",
            "Epoch 26/30\n",
            "38/38 [==============================] - 1s 30ms/step - loss: 0.0154 - accuracy: 0.9950\n",
            "Epoch 27/30\n",
            "38/38 [==============================] - 1s 31ms/step - loss: 0.0271 - accuracy: 0.9862\n",
            "Epoch 28/30\n",
            "38/38 [==============================] - 1s 30ms/step - loss: 0.0191 - accuracy: 0.9977\n",
            "Epoch 29/30\n",
            "38/38 [==============================] - 1s 31ms/step - loss: 0.0218 - accuracy: 0.9944\n",
            "Epoch 30/30\n",
            "38/38 [==============================] - 1s 31ms/step - loss: 0.0250 - accuracy: 0.9848\n",
            "10/10 [==============================] - 0s 12ms/step - loss: 0.0843 - accuracy: 0.9732\n",
            "Epoch 1/30\n",
            "38/38 [==============================] - 2s 31ms/step - loss: 2.9413 - accuracy: 0.6566\n",
            "Epoch 2/30\n",
            "38/38 [==============================] - 1s 31ms/step - loss: 0.2048 - accuracy: 0.9367\n",
            "Epoch 3/30\n",
            "38/38 [==============================] - 1s 30ms/step - loss: 0.1333 - accuracy: 0.9545\n",
            "Epoch 4/30\n",
            "38/38 [==============================] - 1s 31ms/step - loss: 0.1539 - accuracy: 0.9450\n",
            "Epoch 5/30\n",
            "38/38 [==============================] - 1s 30ms/step - loss: 0.1223 - accuracy: 0.9586\n",
            "Epoch 6/30\n",
            "38/38 [==============================] - 1s 31ms/step - loss: 0.1043 - accuracy: 0.9618\n",
            "Epoch 7/30\n",
            "38/38 [==============================] - 1s 31ms/step - loss: 0.1105 - accuracy: 0.9613\n",
            "Epoch 8/30\n",
            "38/38 [==============================] - 1s 31ms/step - loss: 0.1161 - accuracy: 0.9626\n",
            "Epoch 9/30\n",
            "38/38 [==============================] - 1s 31ms/step - loss: 0.0885 - accuracy: 0.9677\n",
            "Epoch 10/30\n",
            "38/38 [==============================] - 1s 31ms/step - loss: 0.1252 - accuracy: 0.9478\n",
            "Epoch 11/30\n",
            "38/38 [==============================] - 1s 30ms/step - loss: 0.0992 - accuracy: 0.9718\n",
            "Epoch 12/30\n",
            "38/38 [==============================] - 1s 31ms/step - loss: 0.0947 - accuracy: 0.9624\n",
            "Epoch 13/30\n",
            "38/38 [==============================] - 1s 31ms/step - loss: 0.1441 - accuracy: 0.9643\n",
            "Epoch 14/30\n",
            "38/38 [==============================] - 1s 30ms/step - loss: 0.1057 - accuracy: 0.9681\n",
            "Epoch 15/30\n",
            "38/38 [==============================] - 1s 31ms/step - loss: 0.0592 - accuracy: 0.9750\n",
            "Epoch 16/30\n",
            "38/38 [==============================] - 1s 31ms/step - loss: 0.0924 - accuracy: 0.9725\n",
            "Epoch 17/30\n",
            "38/38 [==============================] - 1s 31ms/step - loss: 0.0749 - accuracy: 0.9733\n",
            "Epoch 18/30\n",
            "38/38 [==============================] - 1s 31ms/step - loss: 0.0596 - accuracy: 0.9789\n",
            "Epoch 19/30\n",
            "38/38 [==============================] - 1s 31ms/step - loss: 0.0547 - accuracy: 0.9803\n",
            "Epoch 20/30\n",
            "38/38 [==============================] - 1s 31ms/step - loss: 0.0561 - accuracy: 0.9803\n",
            "Epoch 21/30\n",
            "38/38 [==============================] - 1s 31ms/step - loss: 0.0446 - accuracy: 0.9820\n",
            "Epoch 22/30\n",
            "38/38 [==============================] - 1s 31ms/step - loss: 0.0386 - accuracy: 0.9839\n",
            "Epoch 23/30\n",
            "38/38 [==============================] - 1s 31ms/step - loss: 0.0761 - accuracy: 0.9761\n",
            "Epoch 24/30\n",
            "38/38 [==============================] - 1s 31ms/step - loss: 0.0429 - accuracy: 0.9806\n",
            "Epoch 25/30\n",
            "38/38 [==============================] - 1s 31ms/step - loss: 0.0402 - accuracy: 0.9830\n",
            "Epoch 26/30\n",
            "38/38 [==============================] - 1s 31ms/step - loss: 0.0407 - accuracy: 0.9853\n",
            "Epoch 27/30\n",
            "38/38 [==============================] - 1s 30ms/step - loss: 0.0210 - accuracy: 0.9933\n",
            "Epoch 28/30\n",
            "38/38 [==============================] - 1s 31ms/step - loss: 0.0358 - accuracy: 0.9825\n",
            "Epoch 29/30\n",
            "38/38 [==============================] - 1s 31ms/step - loss: 0.0295 - accuracy: 0.9868\n",
            "Epoch 30/30\n",
            "38/38 [==============================] - 1s 31ms/step - loss: 0.0325 - accuracy: 0.9898\n",
            "10/10 [==============================] - 0s 10ms/step - loss: 0.1405 - accuracy: 0.9565\n",
            "Epoch 1/30\n",
            "38/38 [==============================] - 2s 35ms/step - loss: 2.5090 - accuracy: 0.6509\n",
            "Epoch 2/30\n",
            "38/38 [==============================] - 1s 31ms/step - loss: 0.1996 - accuracy: 0.9308\n",
            "Epoch 3/30\n",
            "38/38 [==============================] - 1s 31ms/step - loss: 0.1762 - accuracy: 0.9388\n",
            "Epoch 4/30\n",
            "38/38 [==============================] - 1s 30ms/step - loss: 0.2000 - accuracy: 0.9316\n",
            "Epoch 5/30\n",
            "38/38 [==============================] - 1s 31ms/step - loss: 0.1418 - accuracy: 0.9363\n",
            "Epoch 6/30\n",
            "38/38 [==============================] - 1s 31ms/step - loss: 0.1215 - accuracy: 0.9551\n",
            "Epoch 7/30\n",
            "38/38 [==============================] - 1s 31ms/step - loss: 0.1182 - accuracy: 0.9473\n",
            "Epoch 8/30\n",
            "38/38 [==============================] - 1s 31ms/step - loss: 0.1315 - accuracy: 0.9527\n",
            "Epoch 9/30\n",
            "38/38 [==============================] - 1s 31ms/step - loss: 0.1847 - accuracy: 0.9384\n",
            "Epoch 10/30\n",
            "38/38 [==============================] - 1s 30ms/step - loss: 0.1208 - accuracy: 0.9510\n",
            "Epoch 11/30\n",
            "38/38 [==============================] - 1s 31ms/step - loss: 0.1126 - accuracy: 0.9569\n",
            "Epoch 12/30\n",
            "38/38 [==============================] - 1s 31ms/step - loss: 0.1043 - accuracy: 0.9685\n",
            "Epoch 13/30\n",
            "38/38 [==============================] - 1s 31ms/step - loss: 0.0899 - accuracy: 0.9689\n",
            "Epoch 14/30\n",
            "38/38 [==============================] - 1s 30ms/step - loss: 0.0780 - accuracy: 0.9762\n",
            "Epoch 15/30\n",
            "38/38 [==============================] - 1s 31ms/step - loss: 0.0951 - accuracy: 0.9684\n",
            "Epoch 16/30\n",
            "38/38 [==============================] - 1s 31ms/step - loss: 0.0672 - accuracy: 0.9774\n",
            "Epoch 17/30\n",
            "38/38 [==============================] - 1s 31ms/step - loss: 0.0687 - accuracy: 0.9675\n",
            "Epoch 18/30\n",
            "38/38 [==============================] - 1s 31ms/step - loss: 0.0686 - accuracy: 0.9813\n",
            "Epoch 19/30\n",
            "38/38 [==============================] - 1s 31ms/step - loss: 0.0839 - accuracy: 0.9646\n",
            "Epoch 20/30\n",
            "38/38 [==============================] - 1s 31ms/step - loss: 0.0733 - accuracy: 0.9724\n",
            "Epoch 21/30\n",
            "38/38 [==============================] - 1s 30ms/step - loss: 0.0641 - accuracy: 0.9729\n",
            "Epoch 22/30\n",
            "38/38 [==============================] - 1s 31ms/step - loss: 0.0488 - accuracy: 0.9807\n",
            "Epoch 23/30\n",
            "38/38 [==============================] - 1s 31ms/step - loss: 0.0877 - accuracy: 0.9557\n",
            "Epoch 24/30\n",
            "38/38 [==============================] - 1s 31ms/step - loss: 0.0527 - accuracy: 0.9767\n",
            "Epoch 25/30\n",
            "38/38 [==============================] - 1s 31ms/step - loss: 0.0384 - accuracy: 0.9859\n",
            "Epoch 26/30\n",
            "38/38 [==============================] - 1s 30ms/step - loss: 0.0487 - accuracy: 0.9833\n",
            "Epoch 27/30\n",
            "38/38 [==============================] - 1s 31ms/step - loss: 0.0483 - accuracy: 0.9757\n",
            "Epoch 28/30\n",
            "38/38 [==============================] - 1s 31ms/step - loss: 0.0506 - accuracy: 0.9815\n",
            "Epoch 29/30\n",
            "38/38 [==============================] - 1s 31ms/step - loss: 0.0439 - accuracy: 0.9860\n",
            "Epoch 30/30\n",
            "38/38 [==============================] - 1s 31ms/step - loss: 0.0405 - accuracy: 0.9864\n",
            "10/10 [==============================] - 0s 9ms/step - loss: 0.0598 - accuracy: 0.9732\n",
            "Epoch 1/30\n",
            "38/38 [==============================] - 2s 31ms/step - loss: 2.6494 - accuracy: 0.6363\n",
            "Epoch 2/30\n",
            "38/38 [==============================] - 1s 30ms/step - loss: 0.1905 - accuracy: 0.9252\n",
            "Epoch 3/30\n",
            "38/38 [==============================] - 1s 31ms/step - loss: 0.1194 - accuracy: 0.9593\n",
            "Epoch 4/30\n",
            "38/38 [==============================] - 1s 31ms/step - loss: 0.1382 - accuracy: 0.9487\n",
            "Epoch 5/30\n",
            "38/38 [==============================] - 1s 31ms/step - loss: 0.1357 - accuracy: 0.9462\n",
            "Epoch 6/30\n",
            "38/38 [==============================] - 1s 31ms/step - loss: 0.1151 - accuracy: 0.9597\n",
            "Epoch 7/30\n",
            "38/38 [==============================] - 1s 31ms/step - loss: 0.0878 - accuracy: 0.9675\n",
            "Epoch 8/30\n",
            "38/38 [==============================] - 1s 31ms/step - loss: 0.0786 - accuracy: 0.9717\n",
            "Epoch 9/30\n",
            "38/38 [==============================] - 1s 31ms/step - loss: 0.1232 - accuracy: 0.9538\n",
            "Epoch 10/30\n",
            "38/38 [==============================] - 1s 31ms/step - loss: 0.0710 - accuracy: 0.9641\n",
            "Epoch 11/30\n",
            "38/38 [==============================] - 1s 31ms/step - loss: 0.0769 - accuracy: 0.9752\n",
            "Epoch 12/30\n",
            "38/38 [==============================] - 1s 31ms/step - loss: 0.0588 - accuracy: 0.9763\n",
            "Epoch 13/30\n",
            "38/38 [==============================] - 1s 32ms/step - loss: 0.0564 - accuracy: 0.9780\n",
            "Epoch 14/30\n",
            "38/38 [==============================] - 1s 31ms/step - loss: 0.0704 - accuracy: 0.9762\n",
            "Epoch 15/30\n",
            "38/38 [==============================] - 1s 31ms/step - loss: 0.0433 - accuracy: 0.9854\n",
            "Epoch 16/30\n",
            "38/38 [==============================] - 1s 31ms/step - loss: 0.0335 - accuracy: 0.9871\n",
            "Epoch 17/30\n",
            "38/38 [==============================] - 1s 31ms/step - loss: 0.0382 - accuracy: 0.9850\n",
            "Epoch 18/30\n",
            "38/38 [==============================] - 1s 31ms/step - loss: 0.0406 - accuracy: 0.9867\n",
            "Epoch 19/30\n",
            "38/38 [==============================] - 1s 31ms/step - loss: 0.0267 - accuracy: 0.9894\n",
            "Epoch 20/30\n",
            "38/38 [==============================] - 1s 30ms/step - loss: 0.0250 - accuracy: 0.9959\n",
            "Epoch 21/30\n",
            "38/38 [==============================] - 1s 31ms/step - loss: 0.0252 - accuracy: 0.9918\n",
            "Epoch 22/30\n",
            "38/38 [==============================] - 1s 31ms/step - loss: 0.0198 - accuracy: 0.9971\n",
            "Epoch 23/30\n",
            "38/38 [==============================] - 1s 31ms/step - loss: 0.0193 - accuracy: 0.9911\n",
            "Epoch 24/30\n",
            "38/38 [==============================] - 1s 31ms/step - loss: 0.0253 - accuracy: 0.9923\n",
            "Epoch 25/30\n",
            "38/38 [==============================] - 1s 31ms/step - loss: 0.0174 - accuracy: 0.9939\n",
            "Epoch 26/30\n",
            "38/38 [==============================] - 1s 31ms/step - loss: 0.0116 - accuracy: 0.9954\n",
            "Epoch 27/30\n",
            "38/38 [==============================] - 1s 31ms/step - loss: 0.0072 - accuracy: 0.9968\n",
            "Epoch 28/30\n",
            "38/38 [==============================] - 1s 31ms/step - loss: 0.0096 - accuracy: 0.9979\n",
            "Epoch 29/30\n",
            "38/38 [==============================] - 1s 31ms/step - loss: 0.0098 - accuracy: 0.9972\n",
            "Epoch 30/30\n",
            "38/38 [==============================] - 1s 31ms/step - loss: 0.0172 - accuracy: 0.9958\n",
            "10/10 [==============================] - 0s 10ms/step - loss: 0.1725 - accuracy: 0.9664\n",
            "Accuracies per K-Fold  [0.9632107  0.97324413 0.95652175 0.97315437 0.96644294]\n",
            "CPU times: user 1min 58s, sys: 48.8 s, total: 2min 47s\n",
            "Wall time: 3min 2s\n"
          ],
          "name": "stdout"
        }
      ]
    },
    {
      "cell_type": "code",
      "metadata": {
        "id": "QvSHfM1TKT3M",
        "colab": {
          "base_uri": "https://localhost:8080/"
        },
        "outputId": "30e76e87-e3b6-4d0b-fbf7-812846a379a8"
      },
      "source": [
        "print(\"Accuracies per K-Fold \", results)\n",
        "results.mean()"
      ],
      "execution_count": 27,
      "outputs": [
        {
          "output_type": "stream",
          "text": [
            "Accuracies per K-Fold  [0.9632107  0.97324413 0.95652175 0.97315437 0.96644294]\n"
          ],
          "name": "stdout"
        },
        {
          "output_type": "execute_result",
          "data": {
            "text/plain": [
              "0.966514778137207"
            ]
          },
          "metadata": {
            "tags": []
          },
          "execution_count": 27
        }
      ]
    },
    {
      "cell_type": "code",
      "metadata": {
        "id": "uurmjm4pKT0f",
        "colab": {
          "base_uri": "https://localhost:8080/"
        },
        "outputId": "1232b2a6-182f-4970-ace2-5d7e2810aca8"
      },
      "source": [
        "results.max()"
      ],
      "execution_count": 28,
      "outputs": [
        {
          "output_type": "execute_result",
          "data": {
            "text/plain": [
              "0.9732441306114197"
            ]
          },
          "metadata": {
            "tags": []
          },
          "execution_count": 28
        }
      ]
    },
    {
      "cell_type": "code",
      "metadata": {
        "id": "XAj-0d_xKTxe",
        "colab": {
          "base_uri": "https://localhost:8080/"
        },
        "outputId": "07ba9279-0a48-4db0-90c9-290a9c53d4e2"
      },
      "source": [
        "results.min()"
      ],
      "execution_count": 29,
      "outputs": [
        {
          "output_type": "execute_result",
          "data": {
            "text/plain": [
              "0.95652174949646"
            ]
          },
          "metadata": {
            "tags": []
          },
          "execution_count": 29
        }
      ]
    },
    {
      "cell_type": "code",
      "metadata": {
        "id": "HRAZ-CEqKTuU",
        "colab": {
          "base_uri": "https://localhost:8080/"
        },
        "outputId": "8c6d962d-e210-4993-a90f-51cd5a1d125b"
      },
      "source": [
        "results.std()"
      ],
      "execution_count": 30,
      "outputs": [
        {
          "output_type": "execute_result",
          "data": {
            "text/plain": [
              "0.006326942597886905"
            ]
          },
          "metadata": {
            "tags": []
          },
          "execution_count": 30
        }
      ]
    },
    {
      "cell_type": "code",
      "metadata": {
        "id": "hljsaOnZKTlX",
        "colab": {
          "base_uri": "https://localhost:8080/"
        },
        "outputId": "55867ed9-4efb-4952-c2da-0a9826438cea"
      },
      "source": [
        "%%time\n",
        "from sklearn.model_selection import cross_val_predict\n",
        "from sklearn.metrics import confusion_matrix\n",
        "\n",
        "y_pred = cross_val_predict(estimator, Xtest_norm, ytest, cv=kfold)\n",
        "conf_mat = confusion_matrix(ytest, y_pred)"
      ],
      "execution_count": 32,
      "outputs": [
        {
          "output_type": "stream",
          "text": [
            "Epoch 1/30\n",
            "19/19 [==============================] - 1s 34ms/step - loss: 3.5706 - accuracy: 0.5873\n",
            "Epoch 2/30\n",
            "19/19 [==============================] - 1s 30ms/step - loss: 0.2972 - accuracy: 0.8666\n",
            "Epoch 3/30\n",
            "19/19 [==============================] - 1s 30ms/step - loss: 0.2039 - accuracy: 0.9185\n",
            "Epoch 4/30\n",
            "19/19 [==============================] - 1s 30ms/step - loss: 0.1738 - accuracy: 0.9368\n",
            "Epoch 5/30\n",
            "19/19 [==============================] - 1s 30ms/step - loss: 0.1515 - accuracy: 0.9446\n",
            "Epoch 6/30\n",
            "19/19 [==============================] - 1s 30ms/step - loss: 0.1774 - accuracy: 0.9131\n",
            "Epoch 7/30\n",
            "19/19 [==============================] - 1s 30ms/step - loss: 0.1372 - accuracy: 0.9490\n",
            "Epoch 8/30\n",
            "19/19 [==============================] - 1s 29ms/step - loss: 0.1466 - accuracy: 0.9505\n",
            "Epoch 9/30\n",
            "19/19 [==============================] - 1s 30ms/step - loss: 0.1327 - accuracy: 0.9522\n",
            "Epoch 10/30\n",
            "19/19 [==============================] - 1s 30ms/step - loss: 0.1352 - accuracy: 0.9460\n",
            "Epoch 11/30\n",
            "19/19 [==============================] - 1s 30ms/step - loss: 0.0955 - accuracy: 0.9575\n",
            "Epoch 12/30\n",
            "19/19 [==============================] - 1s 30ms/step - loss: 0.0925 - accuracy: 0.9697\n",
            "Epoch 13/30\n",
            "19/19 [==============================] - 1s 30ms/step - loss: 0.0927 - accuracy: 0.9646\n",
            "Epoch 14/30\n",
            "19/19 [==============================] - 1s 30ms/step - loss: 0.0954 - accuracy: 0.9753\n",
            "Epoch 15/30\n",
            "19/19 [==============================] - 1s 30ms/step - loss: 0.0641 - accuracy: 0.9756\n",
            "Epoch 16/30\n",
            "19/19 [==============================] - 1s 30ms/step - loss: 0.1070 - accuracy: 0.9572\n",
            "Epoch 17/30\n",
            "19/19 [==============================] - 1s 30ms/step - loss: 0.1204 - accuracy: 0.9584\n",
            "Epoch 18/30\n",
            "19/19 [==============================] - 1s 30ms/step - loss: 0.1043 - accuracy: 0.9557\n",
            "Epoch 19/30\n",
            "19/19 [==============================] - 1s 30ms/step - loss: 0.0638 - accuracy: 0.9821\n",
            "Epoch 20/30\n",
            "19/19 [==============================] - 1s 30ms/step - loss: 0.0572 - accuracy: 0.9786\n",
            "Epoch 21/30\n",
            "19/19 [==============================] - 1s 29ms/step - loss: 0.0541 - accuracy: 0.9831\n",
            "Epoch 22/30\n",
            "19/19 [==============================] - 1s 30ms/step - loss: 0.0404 - accuracy: 0.9875\n",
            "Epoch 23/30\n",
            "19/19 [==============================] - 1s 30ms/step - loss: 0.0505 - accuracy: 0.9822\n",
            "Epoch 24/30\n",
            "19/19 [==============================] - 1s 31ms/step - loss: 0.0450 - accuracy: 0.9828\n",
            "Epoch 25/30\n",
            "19/19 [==============================] - 1s 29ms/step - loss: 0.0338 - accuracy: 0.9862\n",
            "Epoch 26/30\n",
            "19/19 [==============================] - 1s 30ms/step - loss: 0.0211 - accuracy: 0.9920\n",
            "Epoch 27/30\n",
            "19/19 [==============================] - 1s 31ms/step - loss: 0.0221 - accuracy: 0.9924\n",
            "Epoch 28/30\n",
            "19/19 [==============================] - 1s 30ms/step - loss: 0.0234 - accuracy: 0.9955\n",
            "Epoch 29/30\n",
            "19/19 [==============================] - 1s 30ms/step - loss: 0.0146 - accuracy: 0.9941\n",
            "Epoch 30/30\n",
            "19/19 [==============================] - 1s 29ms/step - loss: 0.0183 - accuracy: 0.9937\n",
            "5/5 [==============================] - 0s 9ms/step\n"
          ],
          "name": "stdout"
        },
        {
          "output_type": "stream",
          "text": [
            "/usr/local/lib/python3.7/dist-packages/tensorflow/python/keras/engine/sequential.py:450: UserWarning: `model.predict_classes()` is deprecated and will be removed after 2021-01-01. Please use instead:* `np.argmax(model.predict(x), axis=-1)`,   if your model does multi-class classification   (e.g. if it uses a `softmax` last-layer activation).* `(model.predict(x) > 0.5).astype(\"int32\")`,   if your model does binary classification   (e.g. if it uses a `sigmoid` last-layer activation).\n",
            "  warnings.warn('`model.predict_classes()` is deprecated and '\n"
          ],
          "name": "stderr"
        },
        {
          "output_type": "stream",
          "text": [
            "Epoch 1/30\n",
            "20/20 [==============================] - 1s 35ms/step - loss: 3.0861 - accuracy: 0.6023\n",
            "Epoch 2/30\n",
            "20/20 [==============================] - 1s 30ms/step - loss: 0.2994 - accuracy: 0.8938\n",
            "Epoch 3/30\n",
            "20/20 [==============================] - 1s 30ms/step - loss: 0.1790 - accuracy: 0.9122\n",
            "Epoch 4/30\n",
            "20/20 [==============================] - 1s 30ms/step - loss: 0.1536 - accuracy: 0.9467\n",
            "Epoch 5/30\n",
            "20/20 [==============================] - 1s 30ms/step - loss: 0.1686 - accuracy: 0.9461\n",
            "Epoch 6/30\n",
            "20/20 [==============================] - 1s 30ms/step - loss: 0.2041 - accuracy: 0.9358\n",
            "Epoch 7/30\n",
            "20/20 [==============================] - 1s 30ms/step - loss: 0.1633 - accuracy: 0.9341\n",
            "Epoch 8/30\n",
            "20/20 [==============================] - 1s 30ms/step - loss: 0.1448 - accuracy: 0.9457\n",
            "Epoch 9/30\n",
            "20/20 [==============================] - 1s 30ms/step - loss: 0.1847 - accuracy: 0.9445\n",
            "Epoch 10/30\n",
            "20/20 [==============================] - 1s 30ms/step - loss: 0.1244 - accuracy: 0.9547\n",
            "Epoch 11/30\n",
            "20/20 [==============================] - 1s 30ms/step - loss: 0.1218 - accuracy: 0.9629\n",
            "Epoch 12/30\n",
            "20/20 [==============================] - 1s 30ms/step - loss: 0.1068 - accuracy: 0.9577\n",
            "Epoch 13/30\n",
            "20/20 [==============================] - 1s 30ms/step - loss: 0.0853 - accuracy: 0.9677\n",
            "Epoch 14/30\n",
            "20/20 [==============================] - 1s 31ms/step - loss: 0.0839 - accuracy: 0.9694\n",
            "Epoch 15/30\n",
            "20/20 [==============================] - 1s 30ms/step - loss: 0.1031 - accuracy: 0.9645\n",
            "Epoch 16/30\n",
            "20/20 [==============================] - 1s 30ms/step - loss: 0.1228 - accuracy: 0.9602\n",
            "Epoch 17/30\n",
            "20/20 [==============================] - 1s 30ms/step - loss: 0.1286 - accuracy: 0.9404\n",
            "Epoch 18/30\n",
            "20/20 [==============================] - 1s 30ms/step - loss: 0.1504 - accuracy: 0.9339\n",
            "Epoch 19/30\n",
            "20/20 [==============================] - 1s 30ms/step - loss: 0.0914 - accuracy: 0.9638\n",
            "Epoch 20/30\n",
            "20/20 [==============================] - 1s 30ms/step - loss: 0.0749 - accuracy: 0.9686\n",
            "Epoch 21/30\n",
            "20/20 [==============================] - 1s 30ms/step - loss: 0.0862 - accuracy: 0.9647\n",
            "Epoch 22/30\n",
            "20/20 [==============================] - 1s 30ms/step - loss: 0.0784 - accuracy: 0.9679\n",
            "Epoch 23/30\n",
            "20/20 [==============================] - 1s 30ms/step - loss: 0.0608 - accuracy: 0.9624\n",
            "Epoch 24/30\n",
            "20/20 [==============================] - 1s 30ms/step - loss: 0.0731 - accuracy: 0.9741\n",
            "Epoch 25/30\n",
            "20/20 [==============================] - 1s 30ms/step - loss: 0.0390 - accuracy: 0.9924\n",
            "Epoch 26/30\n",
            "20/20 [==============================] - 1s 30ms/step - loss: 0.0331 - accuracy: 0.9885\n",
            "Epoch 27/30\n",
            "20/20 [==============================] - 1s 30ms/step - loss: 0.0816 - accuracy: 0.9691\n",
            "Epoch 28/30\n",
            "20/20 [==============================] - 1s 30ms/step - loss: 0.0803 - accuracy: 0.9669\n",
            "Epoch 29/30\n",
            "20/20 [==============================] - 1s 30ms/step - loss: 0.1035 - accuracy: 0.9547\n",
            "Epoch 30/30\n",
            "20/20 [==============================] - 1s 30ms/step - loss: 0.0535 - accuracy: 0.9765\n",
            "5/5 [==============================] - 1s 50ms/step\n",
            "Epoch 1/30\n",
            "20/20 [==============================] - 1s 29ms/step - loss: 2.6900 - accuracy: 0.6618\n",
            "Epoch 2/30\n",
            "20/20 [==============================] - 1s 30ms/step - loss: 0.2384 - accuracy: 0.9077\n",
            "Epoch 3/30\n",
            "20/20 [==============================] - 1s 30ms/step - loss: 0.1607 - accuracy: 0.9438\n",
            "Epoch 4/30\n",
            "20/20 [==============================] - 1s 30ms/step - loss: 0.1779 - accuracy: 0.9291\n",
            "Epoch 5/30\n",
            "20/20 [==============================] - 1s 30ms/step - loss: 0.1792 - accuracy: 0.9277\n",
            "Epoch 6/30\n",
            "20/20 [==============================] - 1s 30ms/step - loss: 0.1447 - accuracy: 0.9419\n",
            "Epoch 7/30\n",
            "20/20 [==============================] - 1s 30ms/step - loss: 0.1527 - accuracy: 0.9362\n",
            "Epoch 8/30\n",
            "20/20 [==============================] - 1s 31ms/step - loss: 0.1399 - accuracy: 0.9492\n",
            "Epoch 9/30\n",
            "20/20 [==============================] - 1s 30ms/step - loss: 0.1337 - accuracy: 0.9547\n",
            "Epoch 10/30\n",
            "20/20 [==============================] - 1s 31ms/step - loss: 0.1241 - accuracy: 0.9470\n",
            "Epoch 11/30\n",
            "20/20 [==============================] - 1s 30ms/step - loss: 0.0870 - accuracy: 0.9588\n",
            "Epoch 12/30\n",
            "20/20 [==============================] - 1s 29ms/step - loss: 0.1014 - accuracy: 0.9547\n",
            "Epoch 13/30\n",
            "20/20 [==============================] - 1s 30ms/step - loss: 0.1229 - accuracy: 0.9449\n",
            "Epoch 14/30\n",
            "20/20 [==============================] - 1s 30ms/step - loss: 0.1245 - accuracy: 0.9648\n",
            "Epoch 15/30\n",
            "20/20 [==============================] - 1s 30ms/step - loss: 0.1002 - accuracy: 0.9533\n",
            "Epoch 16/30\n",
            "20/20 [==============================] - 1s 30ms/step - loss: 0.0731 - accuracy: 0.9782\n",
            "Epoch 17/30\n",
            "20/20 [==============================] - 1s 30ms/step - loss: 0.0627 - accuracy: 0.9757\n",
            "Epoch 18/30\n",
            "20/20 [==============================] - 1s 30ms/step - loss: 0.0534 - accuracy: 0.9753\n",
            "Epoch 19/30\n",
            "20/20 [==============================] - 1s 30ms/step - loss: 0.0506 - accuracy: 0.9816\n",
            "Epoch 20/30\n",
            "20/20 [==============================] - 1s 30ms/step - loss: 0.0428 - accuracy: 0.9789\n",
            "Epoch 21/30\n",
            "20/20 [==============================] - 1s 30ms/step - loss: 0.0463 - accuracy: 0.9811\n",
            "Epoch 22/30\n",
            "20/20 [==============================] - 1s 30ms/step - loss: 0.0346 - accuracy: 0.9885\n",
            "Epoch 23/30\n",
            "20/20 [==============================] - 1s 30ms/step - loss: 0.0588 - accuracy: 0.9828\n",
            "Epoch 24/30\n",
            "20/20 [==============================] - 1s 30ms/step - loss: 0.0238 - accuracy: 0.9923\n",
            "Epoch 25/30\n",
            "20/20 [==============================] - 1s 30ms/step - loss: 0.0378 - accuracy: 0.9822\n",
            "Epoch 26/30\n",
            "20/20 [==============================] - 1s 30ms/step - loss: 0.0508 - accuracy: 0.9778\n",
            "Epoch 27/30\n",
            "20/20 [==============================] - 1s 30ms/step - loss: 0.0477 - accuracy: 0.9877\n",
            "Epoch 28/30\n",
            "20/20 [==============================] - 1s 30ms/step - loss: 0.0423 - accuracy: 0.9731\n",
            "Epoch 29/30\n",
            "20/20 [==============================] - 1s 30ms/step - loss: 0.0287 - accuracy: 0.9891\n",
            "Epoch 30/30\n",
            "20/20 [==============================] - 1s 30ms/step - loss: 0.0300 - accuracy: 0.9894\n",
            "5/5 [==============================] - 0s 9ms/step\n",
            "Epoch 1/30\n",
            "20/20 [==============================] - 1s 30ms/step - loss: 4.4764 - accuracy: 0.6134\n",
            "Epoch 2/30\n",
            "20/20 [==============================] - 1s 30ms/step - loss: 0.3283 - accuracy: 0.8636\n",
            "Epoch 3/30\n",
            "20/20 [==============================] - 1s 30ms/step - loss: 0.2473 - accuracy: 0.9355\n",
            "Epoch 4/30\n",
            "20/20 [==============================] - 1s 30ms/step - loss: 0.1794 - accuracy: 0.9443\n",
            "Epoch 5/30\n",
            "20/20 [==============================] - 1s 30ms/step - loss: 0.1320 - accuracy: 0.9528\n",
            "Epoch 6/30\n",
            "20/20 [==============================] - 1s 29ms/step - loss: 0.1577 - accuracy: 0.9442\n",
            "Epoch 7/30\n",
            "20/20 [==============================] - 1s 31ms/step - loss: 0.1966 - accuracy: 0.9343\n",
            "Epoch 8/30\n",
            "20/20 [==============================] - 1s 30ms/step - loss: 0.1187 - accuracy: 0.9583\n",
            "Epoch 9/30\n",
            "20/20 [==============================] - 1s 30ms/step - loss: 0.1440 - accuracy: 0.9478\n",
            "Epoch 10/30\n",
            "20/20 [==============================] - 1s 30ms/step - loss: 0.1536 - accuracy: 0.9454\n",
            "Epoch 11/30\n",
            "20/20 [==============================] - 1s 30ms/step - loss: 0.0872 - accuracy: 0.9708\n",
            "Epoch 12/30\n",
            "20/20 [==============================] - 1s 30ms/step - loss: 0.1500 - accuracy: 0.9321\n",
            "Epoch 13/30\n",
            "20/20 [==============================] - 1s 30ms/step - loss: 0.1037 - accuracy: 0.9671\n",
            "Epoch 14/30\n",
            "20/20 [==============================] - 1s 30ms/step - loss: 0.0939 - accuracy: 0.9670\n",
            "Epoch 15/30\n",
            "20/20 [==============================] - 1s 30ms/step - loss: 0.0610 - accuracy: 0.9785\n",
            "Epoch 16/30\n",
            "20/20 [==============================] - 1s 31ms/step - loss: 0.1780 - accuracy: 0.9450\n",
            "Epoch 17/30\n",
            "20/20 [==============================] - 1s 30ms/step - loss: 0.1563 - accuracy: 0.9415\n",
            "Epoch 18/30\n",
            "20/20 [==============================] - 1s 30ms/step - loss: 0.1154 - accuracy: 0.9656\n",
            "Epoch 19/30\n",
            "20/20 [==============================] - 1s 30ms/step - loss: 0.1062 - accuracy: 0.9639\n",
            "Epoch 20/30\n",
            "20/20 [==============================] - 1s 30ms/step - loss: 0.0548 - accuracy: 0.9797\n",
            "Epoch 21/30\n",
            "20/20 [==============================] - 1s 30ms/step - loss: 0.1223 - accuracy: 0.9553\n",
            "Epoch 22/30\n",
            "20/20 [==============================] - 1s 30ms/step - loss: 0.0876 - accuracy: 0.9645\n",
            "Epoch 23/30\n",
            "20/20 [==============================] - 1s 30ms/step - loss: 0.0998 - accuracy: 0.9637\n",
            "Epoch 24/30\n",
            "20/20 [==============================] - 1s 30ms/step - loss: 0.0745 - accuracy: 0.9708\n",
            "Epoch 25/30\n",
            "20/20 [==============================] - 1s 30ms/step - loss: 0.0849 - accuracy: 0.9770\n",
            "Epoch 26/30\n",
            "20/20 [==============================] - 1s 30ms/step - loss: 0.0797 - accuracy: 0.9787\n",
            "Epoch 27/30\n",
            "20/20 [==============================] - 1s 30ms/step - loss: 0.0505 - accuracy: 0.9838\n",
            "Epoch 28/30\n",
            "20/20 [==============================] - 1s 30ms/step - loss: 0.0427 - accuracy: 0.9914\n",
            "Epoch 29/30\n",
            "20/20 [==============================] - 1s 30ms/step - loss: 0.0479 - accuracy: 0.9700\n",
            "Epoch 30/30\n",
            "20/20 [==============================] - 1s 31ms/step - loss: 0.0379 - accuracy: 0.9899\n",
            "5/5 [==============================] - 0s 9ms/step\n",
            "Epoch 1/30\n",
            "20/20 [==============================] - 1s 30ms/step - loss: 2.7610 - accuracy: 0.6543\n",
            "Epoch 2/30\n",
            "20/20 [==============================] - 1s 30ms/step - loss: 0.3141 - accuracy: 0.9163\n",
            "Epoch 3/30\n",
            "20/20 [==============================] - 1s 30ms/step - loss: 0.2379 - accuracy: 0.9257\n",
            "Epoch 4/30\n",
            "20/20 [==============================] - 1s 31ms/step - loss: 0.1780 - accuracy: 0.9272\n",
            "Epoch 5/30\n",
            "20/20 [==============================] - 1s 30ms/step - loss: 0.1649 - accuracy: 0.9453\n",
            "Epoch 6/30\n",
            "20/20 [==============================] - 1s 30ms/step - loss: 0.2298 - accuracy: 0.9182\n",
            "Epoch 7/30\n",
            "20/20 [==============================] - 1s 31ms/step - loss: 0.2133 - accuracy: 0.9298\n",
            "Epoch 8/30\n",
            "20/20 [==============================] - 1s 29ms/step - loss: 0.1408 - accuracy: 0.9479\n",
            "Epoch 9/30\n",
            "20/20 [==============================] - 1s 30ms/step - loss: 0.2009 - accuracy: 0.9263\n",
            "Epoch 10/30\n",
            "20/20 [==============================] - 1s 30ms/step - loss: 0.1649 - accuracy: 0.9345\n",
            "Epoch 11/30\n",
            "20/20 [==============================] - 1s 31ms/step - loss: 0.0848 - accuracy: 0.9635\n",
            "Epoch 12/30\n",
            "20/20 [==============================] - 1s 30ms/step - loss: 0.0604 - accuracy: 0.9721\n",
            "Epoch 13/30\n",
            "20/20 [==============================] - 1s 31ms/step - loss: 0.0831 - accuracy: 0.9650\n",
            "Epoch 14/30\n",
            "20/20 [==============================] - 1s 30ms/step - loss: 0.0965 - accuracy: 0.9576\n",
            "Epoch 15/30\n",
            "20/20 [==============================] - 1s 30ms/step - loss: 0.0936 - accuracy: 0.9672\n",
            "Epoch 16/30\n",
            "20/20 [==============================] - 1s 30ms/step - loss: 0.1024 - accuracy: 0.9645\n",
            "Epoch 17/30\n",
            "20/20 [==============================] - 1s 30ms/step - loss: 0.0697 - accuracy: 0.9672\n",
            "Epoch 18/30\n",
            "20/20 [==============================] - 1s 30ms/step - loss: 0.0445 - accuracy: 0.9812\n",
            "Epoch 19/30\n",
            "20/20 [==============================] - 1s 30ms/step - loss: 0.0438 - accuracy: 0.9781\n",
            "Epoch 20/30\n",
            "20/20 [==============================] - 1s 30ms/step - loss: 0.0292 - accuracy: 0.9871\n",
            "Epoch 21/30\n",
            "20/20 [==============================] - 1s 30ms/step - loss: 0.0265 - accuracy: 0.9893\n",
            "Epoch 22/30\n",
            "20/20 [==============================] - 1s 30ms/step - loss: 0.0222 - accuracy: 0.9923\n",
            "Epoch 23/30\n",
            "20/20 [==============================] - 1s 30ms/step - loss: 0.0313 - accuracy: 0.9908\n",
            "Epoch 24/30\n",
            "20/20 [==============================] - 1s 30ms/step - loss: 0.0226 - accuracy: 0.9899\n",
            "Epoch 25/30\n",
            "20/20 [==============================] - 1s 30ms/step - loss: 0.0232 - accuracy: 0.9880\n",
            "Epoch 26/30\n",
            "20/20 [==============================] - 1s 30ms/step - loss: 0.0242 - accuracy: 0.9958\n",
            "Epoch 27/30\n",
            "20/20 [==============================] - 1s 31ms/step - loss: 0.1658 - accuracy: 0.9456\n",
            "Epoch 28/30\n",
            "20/20 [==============================] - 1s 30ms/step - loss: 0.1200 - accuracy: 0.9542\n",
            "Epoch 29/30\n",
            "20/20 [==============================] - 1s 30ms/step - loss: 0.0910 - accuracy: 0.9632\n",
            "Epoch 30/30\n",
            "20/20 [==============================] - 1s 30ms/step - loss: 0.0887 - accuracy: 0.9731\n",
            "5/5 [==============================] - 0s 9ms/step\n",
            "CPU times: user 1min 3s, sys: 25.7 s, total: 1min 29s\n",
            "Wall time: 1min 34s\n"
          ],
          "name": "stdout"
        }
      ]
    },
    {
      "cell_type": "code",
      "metadata": {
        "id": "wcVeYsr4KTiS",
        "colab": {
          "base_uri": "https://localhost:8080/",
          "height": 295
        },
        "outputId": "bcaef0bb-d570-4365-a8c0-6b57779a7382"
      },
      "source": [
        "ax= plt.subplot()\n",
        "sns.heatmap(conf_mat, annot=True, fmt='g', ax = ax); #annot=True to annotate cells\n",
        "\n",
        "# labels, title and ticks\n",
        "ax.set_xlabel('Predicted labels');ax.set_ylabel('True labels'); \n",
        "ax.set_title('Confusion Matrix'); \n",
        "ax.xaxis.set_ticklabels(['Covid', 'Normal']); ax.yaxis.set_ticklabels(['Covid', 'Normal']);\n"
      ],
      "execution_count": 33,
      "outputs": [
        {
          "output_type": "display_data",
          "data": {
            "image/png": "[encoded data removed]",
            "text/plain": [
              "<Figure size 432x288 with 2 Axes>"
            ]
          },
          "metadata": {
            "tags": [],
            "needs_background": "light"
          }
        }
      ]
    },
    {
      "cell_type": "code",
      "metadata": {
        "id": "ZPbCAME9KTfU"
      },
      "source": [
        ""
      ],
      "execution_count": null,
      "outputs": []
    },
    {
      "cell_type": "code",
      "metadata": {
        "id": "dkauMqROKTcT"
      },
      "source": [
        ""
      ],
      "execution_count": null,
      "outputs": []
    },
    {
      "cell_type": "code",
      "metadata": {
        "id": "tGXwwsMmKTZU"
      },
      "source": [
        ""
      ],
      "execution_count": null,
      "outputs": []
    },
    {
      "cell_type": "code",
      "metadata": {
        "id": "9UweL0zzKTWE"
      },
      "source": [
        ""
      ],
      "execution_count": null,
      "outputs": []
    },
    {
      "cell_type": "code",
      "metadata": {
        "id": "s0sm5wGyKTTj"
      },
      "source": [
        ""
      ],
      "execution_count": null,
      "outputs": []
    },
    {
      "cell_type": "code",
      "metadata": {
        "id": "QtUns9WdKTQg"
      },
      "source": [
        ""
      ],
      "execution_count": null,
      "outputs": []
    },
    {
      "cell_type": "code",
      "metadata": {
        "id": "TP86_o5rKTN0"
      },
      "source": [
        ""
      ],
      "execution_count": null,
      "outputs": []
    },
    {
      "cell_type": "code",
      "metadata": {
        "id": "YSanAZCyKTKm"
      },
      "source": [
        ""
      ],
      "execution_count": null,
      "outputs": []
    },
    {
      "cell_type": "code",
      "metadata": {
        "id": "ZerrbcJEKTHj"
      },
      "source": [
        ""
      ],
      "execution_count": null,
      "outputs": []
    },
    {
      "cell_type": "code",
      "metadata": {
        "id": "m9v8SlxPKTCP"
      },
      "source": [
        ""
      ],
      "execution_count": null,
      "outputs": []
    },
    {
      "cell_type": "code",
      "metadata": {
        "id": "MFmggwmxKS_a"
      },
      "source": [
        ""
      ],
      "execution_count": null,
      "outputs": []
    },
    {
      "cell_type": "code",
      "metadata": {
        "id": "Ozw_aTTNKS8h"
      },
      "source": [
        ""
      ],
      "execution_count": null,
      "outputs": []
    },
    {
      "cell_type": "code",
      "metadata": {
        "id": "eS5JamNYKS51"
      },
      "source": [
        ""
      ],
      "execution_count": null,
      "outputs": []
    },
    {
      "cell_type": "code",
      "metadata": {
        "id": "u-theTOQKS26"
      },
      "source": [
        ""
      ],
      "execution_count": null,
      "outputs": []
    },
    {
      "cell_type": "code",
      "metadata": {
        "id": "p5-T6A9PKS0W"
      },
      "source": [
        ""
      ],
      "execution_count": null,
      "outputs": []
    },
    {
      "cell_type": "code",
      "metadata": {
        "id": "yfzWT8u4KSxj"
      },
      "source": [
        ""
      ],
      "execution_count": null,
      "outputs": []
    },
    {
      "cell_type": "code",
      "metadata": {
        "id": "f2dzkzccKSu8"
      },
      "source": [
        ""
      ],
      "execution_count": null,
      "outputs": []
    },
    {
      "cell_type": "code",
      "metadata": {
        "id": "pyvbpbE4KSsK"
      },
      "source": [
        ""
      ],
      "execution_count": null,
      "outputs": []
    },
    {
      "cell_type": "code",
      "metadata": {
        "id": "22WC4FQ6KSpM"
      },
      "source": [
        ""
      ],
      "execution_count": null,
      "outputs": []
    },
    {
      "cell_type": "code",
      "metadata": {
        "id": "0_Dw2EBrKSl6"
      },
      "source": [
        ""
      ],
      "execution_count": null,
      "outputs": []
    },
    {
      "cell_type": "code",
      "metadata": {
        "id": "mEBY8H4pKSQ7"
      },
      "source": [
        ""
      ],
      "execution_count": null,
      "outputs": []
    },
    {
      "cell_type": "code",
      "metadata": {
        "id": "vdCGIB3CKSGa"
      },
      "source": [
        ""
      ],
      "execution_count": null,
      "outputs": []
    }
  ]
}