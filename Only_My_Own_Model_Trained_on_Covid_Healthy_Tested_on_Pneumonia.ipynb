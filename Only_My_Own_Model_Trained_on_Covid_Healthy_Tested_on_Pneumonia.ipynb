{
  "nbformat": 4,
  "nbformat_minor": 0,
  "metadata": {
    "colab": {
      "name": "Only My Own Model Trained on Covid-Healthy Tested on Pneumonia.ipynb",
      "provenance": [],
      "collapsed_sections": [],
      "toc_visible": true,
      "authorship_tag": "ABX9TyMHP3hXUlwpoQft3Fdf7kfQ",
      "include_colab_link": true
    },
    "kernelspec": {
      "name": "python3",
      "display_name": "Python 3"
    }
  },
  "cells": [
    {
      "cell_type": "markdown",
      "metadata": {
        "id": "view-in-github",
        "colab_type": "text"
      },
      "source": [
        "<a href=\"https://colab.research.google.com/github/source-droid/Machine-Learning-based-Automatic-Covid-19-detection-using-Lung-s-Scans/blob/main/Only_My_Own_Model_Trained_on_Covid_Healthy_Tested_on_Pneumonia.ipynb\" target=\"_parent\"><img src=\"https://colab.research.google.com/assets/colab-badge.svg\" alt=\"Open In Colab\"/></a>"
      ]
    },
    {
      "cell_type": "markdown",
      "metadata": {
        "id": "uuTPWNPDzjSy"
      },
      "source": [
        "# Import Libaries"
      ]
    },
    {
      "cell_type": "code",
      "metadata": {
        "id": "QJV6HBlQzilc"
      },
      "source": [
        "from tensorflow.keras.models import Sequential\r\n",
        "from tensorflow.keras.layers import Dense, Conv2D, Flatten, Dropout, MaxPooling2D\r\n",
        "from tensorflow.keras.preprocessing.image import ImageDataGenerator\r\n",
        "import tensorflow as tf\r\n",
        "import numpy as np\r\n",
        "import matplotlib.pyplot as plt\r\n",
        "import matplotlib.image as mpimg\r\n",
        "import random\r\n",
        "\r\n",
        "from sklearn.metrics import plot_confusion_matrix\r\n",
        "from sklearn.metrics import confusion_matrix"
      ],
      "execution_count": 29,
      "outputs": []
    },
    {
      "cell_type": "markdown",
      "metadata": {
        "id": "eDG8HGbgzqvh"
      },
      "source": [
        "## Clone Dataset"
      ]
    },
    {
      "cell_type": "code",
      "metadata": {
        "colab": {
          "base_uri": "https://localhost:8080/"
        },
        "id": "ZKCZlUBgzszt",
        "outputId": "162657d9-1064-4346-9fa2-215142f28faf"
      },
      "source": [
        "# Cloning Dataset on Colab\r\n",
        "! git clone https://github.com/source-droid/This-is-splitted-for-COVID-and-NORMAL-Only.git"
      ],
      "execution_count": 2,
      "outputs": [
        {
          "output_type": "stream",
          "text": [
            "Cloning into 'This-is-splitted-for-COVID-and-NORMAL-Only'...\n",
            "remote: Enumerating objects: 3013, done.\u001b[K\n",
            "remote: Total 3013 (delta 0), reused 0 (delta 0), pack-reused 3013\u001b[K\n",
            "Receiving objects: 100% (3013/3013), 1.71 GiB | 27.18 MiB/s, done.\n",
            "Checking out files: 100% (3005/3005), done.\n"
          ],
          "name": "stdout"
        }
      ]
    },
    {
      "cell_type": "markdown",
      "metadata": {
        "id": "EK9AM7o00FI6"
      },
      "source": [
        "# Reading the Training images\r\n"
      ]
    },
    {
      "cell_type": "code",
      "metadata": {
        "colab": {
          "base_uri": "https://localhost:8080/"
        },
        "id": "-YLPEfV1zxRL",
        "outputId": "bed0f4f7-40b7-4ec1-cc2d-d280ad1c52ff"
      },
      "source": [
        "# Reading Training Images For Covid and Normal\r\n",
        "import numpy as np \r\n",
        "import glob \r\n",
        "import cv2 \r\n",
        "path_l = glob.glob(\"/content/This-is-splitted-for-COVID-and-NORMAL-Only/train/Covid/*.*\")\r\n",
        "cv_img = [] \r\n",
        "for img in path_l:\r\n",
        "    n = cv2.imread(img) \r\n",
        "    n = cv2.resize(n,(150,150)) \r\n",
        "    cv_img.append(n) \r\n",
        "arrayl = np.asarray(cv_img) \r\n",
        "print(arrayl.shape) \r\n",
        "\r\n",
        "path_2 = glob.glob(\"/content/This-is-splitted-for-COVID-and-NORMAL-Only/train/Normal/*.*\")\r\n",
        "cv_img = []\r\n",
        "for img in path_2:\r\n",
        "    n = cv2.imread(img)\r\n",
        "    n = cv2.resize(n,(150,150))\r\n",
        "    cv_img.append(n) \r\n",
        "array2 = np.asarray(cv_img) \r\n",
        "print(array2.shape) \r\n"
      ],
      "execution_count": 3,
      "outputs": [
        {
          "output_type": "stream",
          "text": [
            "(1330, 150, 150, 3)\n",
            "(1072, 150, 150, 3)\n"
          ],
          "name": "stdout"
        }
      ]
    },
    {
      "cell_type": "markdown",
      "metadata": {
        "id": "Nb1jJeY10vWR"
      },
      "source": [
        "# Reading the Testing images\r\n"
      ]
    },
    {
      "cell_type": "code",
      "metadata": {
        "colab": {
          "base_uri": "https://localhost:8080/"
        },
        "id": "dLv-0AdZ0lov",
        "outputId": "b3bf61e0-3fe7-45a1-94ea-d8a9b202ab14"
      },
      "source": [
        "# Reading Testing Images For Covid and Normal\r\n",
        "import numpy as np \r\n",
        "import glob\r\n",
        "import cv2 \r\n",
        "\r\n",
        "path_l = glob.glob(\"/content/This-is-splitted-for-COVID-and-NORMAL-Only/test/Covid/*.*\") \r\n",
        "cv_img = [] \r\n",
        "for img in path_l:\r\n",
        "    n = cv2.imread(img) \r\n",
        "    n = cv2.resize(n,(150,150))\r\n",
        "    cv_img.append(n)\r\n",
        "array3 = np.asarray(cv_img) \r\n",
        "print(array3.shape) \r\n",
        "\r\n",
        "path_2 = glob.glob(\"/content/This-is-splitted-for-COVID-and-NORMAL-Only/test/Normal/*.*\") \r\n",
        "cv_img = []\r\n",
        "for img in path_2:\r\n",
        "    n = cv2.imread(img) \r\n",
        "    n = cv2.resize(n,(150,150)) \r\n",
        "    cv_img.append(n) \r\n",
        "array4 = np.asarray(cv_img)\r\n",
        "print(array4.shape) \r\n"
      ],
      "execution_count": 4,
      "outputs": [
        {
          "output_type": "stream",
          "text": [
            "(333, 150, 150, 3)\n",
            "(269, 150, 150, 3)\n"
          ],
          "name": "stdout"
        }
      ]
    },
    {
      "cell_type": "markdown",
      "metadata": {
        "id": "Su0rfWHU1Lcp"
      },
      "source": [
        "# Concatenating Covid and Normal arrays into one variable for train and test:"
      ]
    },
    {
      "cell_type": "code",
      "metadata": {
        "colab": {
          "base_uri": "https://localhost:8080/"
        },
        "id": "iRKk3yA00_M8",
        "outputId": "e85fcb2d-f9a0-47ac-cf9b-3f8aa45b654f"
      },
      "source": [
        "# Concatenating Covid and Normal arrays into one variable for train and test:\r\n",
        "Xtrain = np.concatenate((arrayl,array2))\r\n",
        "\r\n",
        "Xtest = np.concatenate((array3,array4))\r\n",
        "\r\n",
        "Xtrain.shape , Xtest.shape "
      ],
      "execution_count": 5,
      "outputs": [
        {
          "output_type": "execute_result",
          "data": {
            "text/plain": [
              "((2402, 150, 150, 3), (602, 150, 150, 3))"
            ]
          },
          "metadata": {
            "tags": []
          },
          "execution_count": 5
        }
      ]
    },
    {
      "cell_type": "markdown",
      "metadata": {
        "id": "KXp4SYQk1aW6"
      },
      "source": [
        "# Creating labels for Normal and Covid 0 and 1 respectively equal to length of data for training data:"
      ]
    },
    {
      "cell_type": "code",
      "metadata": {
        "colab": {
          "base_uri": "https://localhost:8080/"
        },
        "id": "Zx6ExYVi1VPM",
        "outputId": "ecdf0f92-924c-4549-a61b-87b55102356f"
      },
      "source": [
        "# Creating labels for Normal and Covid 0 and 1 respectively equal to length of data for training data:\r\n",
        "\r\n",
        "labels0 = np.zeros(len(arrayl)) \r\n",
        "labels1 = np.ones(len(array2)) \r\n",
        "print('Normal labels : ',labels0 ,'Covid labels : ', labels1) \r\n",
        "len(labels0) , len(labels1) \r\n"
      ],
      "execution_count": 6,
      "outputs": [
        {
          "output_type": "stream",
          "text": [
            "Normal labels :  [0. 0. 0. ... 0. 0. 0.] Covid labels :  [1. 1. 1. ... 1. 1. 1.]\n"
          ],
          "name": "stdout"
        },
        {
          "output_type": "execute_result",
          "data": {
            "text/plain": [
              "(1330, 1072)"
            ]
          },
          "metadata": {
            "tags": []
          },
          "execution_count": 6
        }
      ]
    },
    {
      "cell_type": "markdown",
      "metadata": {
        "id": "AgCTlyrs3yxz"
      },
      "source": [
        "# Creating labels for Normal and Covid 0 and 1 respectively equal to length of data for testing data:"
      ]
    },
    {
      "cell_type": "code",
      "metadata": {
        "colab": {
          "base_uri": "https://localhost:8080/"
        },
        "id": "eW6tVsz-3toF",
        "outputId": "271f80aa-4f43-4406-8426-d52971e9425b"
      },
      "source": [
        "# Creating labels for Normal and Covid 0 and 1 respectively equal to length of data for testing data:\r\n",
        "\r\n",
        "labels0s = np.zeros(len(array3)) \r\n",
        "labels1s = np.ones(len(array4)) \r\n",
        "print('Normal labels : ',labels0s ,'Covid labels : ', labels1s) \r\n",
        "len(labels0s) , len(labels1s) "
      ],
      "execution_count": 7,
      "outputs": [
        {
          "output_type": "stream",
          "text": [
            "Normal labels :  [0. 0. 0. 0. 0. 0. 0. 0. 0. 0. 0. 0. 0. 0. 0. 0. 0. 0. 0. 0. 0. 0. 0. 0.\n",
            " 0. 0. 0. 0. 0. 0. 0. 0. 0. 0. 0. 0. 0. 0. 0. 0. 0. 0. 0. 0. 0. 0. 0. 0.\n",
            " 0. 0. 0. 0. 0. 0. 0. 0. 0. 0. 0. 0. 0. 0. 0. 0. 0. 0. 0. 0. 0. 0. 0. 0.\n",
            " 0. 0. 0. 0. 0. 0. 0. 0. 0. 0. 0. 0. 0. 0. 0. 0. 0. 0. 0. 0. 0. 0. 0. 0.\n",
            " 0. 0. 0. 0. 0. 0. 0. 0. 0. 0. 0. 0. 0. 0. 0. 0. 0. 0. 0. 0. 0. 0. 0. 0.\n",
            " 0. 0. 0. 0. 0. 0. 0. 0. 0. 0. 0. 0. 0. 0. 0. 0. 0. 0. 0. 0. 0. 0. 0. 0.\n",
            " 0. 0. 0. 0. 0. 0. 0. 0. 0. 0. 0. 0. 0. 0. 0. 0. 0. 0. 0. 0. 0. 0. 0. 0.\n",
            " 0. 0. 0. 0. 0. 0. 0. 0. 0. 0. 0. 0. 0. 0. 0. 0. 0. 0. 0. 0. 0. 0. 0. 0.\n",
            " 0. 0. 0. 0. 0. 0. 0. 0. 0. 0. 0. 0. 0. 0. 0. 0. 0. 0. 0. 0. 0. 0. 0. 0.\n",
            " 0. 0. 0. 0. 0. 0. 0. 0. 0. 0. 0. 0. 0. 0. 0. 0. 0. 0. 0. 0. 0. 0. 0. 0.\n",
            " 0. 0. 0. 0. 0. 0. 0. 0. 0. 0. 0. 0. 0. 0. 0. 0. 0. 0. 0. 0. 0. 0. 0. 0.\n",
            " 0. 0. 0. 0. 0. 0. 0. 0. 0. 0. 0. 0. 0. 0. 0. 0. 0. 0. 0. 0. 0. 0. 0. 0.\n",
            " 0. 0. 0. 0. 0. 0. 0. 0. 0. 0. 0. 0. 0. 0. 0. 0. 0. 0. 0. 0. 0. 0. 0. 0.\n",
            " 0. 0. 0. 0. 0. 0. 0. 0. 0. 0. 0. 0. 0. 0. 0. 0. 0. 0. 0. 0. 0.] Covid labels :  [1. 1. 1. 1. 1. 1. 1. 1. 1. 1. 1. 1. 1. 1. 1. 1. 1. 1. 1. 1. 1. 1. 1. 1.\n",
            " 1. 1. 1. 1. 1. 1. 1. 1. 1. 1. 1. 1. 1. 1. 1. 1. 1. 1. 1. 1. 1. 1. 1. 1.\n",
            " 1. 1. 1. 1. 1. 1. 1. 1. 1. 1. 1. 1. 1. 1. 1. 1. 1. 1. 1. 1. 1. 1. 1. 1.\n",
            " 1. 1. 1. 1. 1. 1. 1. 1. 1. 1. 1. 1. 1. 1. 1. 1. 1. 1. 1. 1. 1. 1. 1. 1.\n",
            " 1. 1. 1. 1. 1. 1. 1. 1. 1. 1. 1. 1. 1. 1. 1. 1. 1. 1. 1. 1. 1. 1. 1. 1.\n",
            " 1. 1. 1. 1. 1. 1. 1. 1. 1. 1. 1. 1. 1. 1. 1. 1. 1. 1. 1. 1. 1. 1. 1. 1.\n",
            " 1. 1. 1. 1. 1. 1. 1. 1. 1. 1. 1. 1. 1. 1. 1. 1. 1. 1. 1. 1. 1. 1. 1. 1.\n",
            " 1. 1. 1. 1. 1. 1. 1. 1. 1. 1. 1. 1. 1. 1. 1. 1. 1. 1. 1. 1. 1. 1. 1. 1.\n",
            " 1. 1. 1. 1. 1. 1. 1. 1. 1. 1. 1. 1. 1. 1. 1. 1. 1. 1. 1. 1. 1. 1. 1. 1.\n",
            " 1. 1. 1. 1. 1. 1. 1. 1. 1. 1. 1. 1. 1. 1. 1. 1. 1. 1. 1. 1. 1. 1. 1. 1.\n",
            " 1. 1. 1. 1. 1. 1. 1. 1. 1. 1. 1. 1. 1. 1. 1. 1. 1. 1. 1. 1. 1. 1. 1. 1.\n",
            " 1. 1. 1. 1. 1.]\n"
          ],
          "name": "stdout"
        },
        {
          "output_type": "execute_result",
          "data": {
            "text/plain": [
              "(333, 269)"
            ]
          },
          "metadata": {
            "tags": []
          },
          "execution_count": 7
        }
      ]
    },
    {
      "cell_type": "markdown",
      "metadata": {
        "id": "X7wOFD8T4IWi"
      },
      "source": [
        "# Concatenating the labels for Covid and Normal for training and testing:"
      ]
    },
    {
      "cell_type": "code",
      "metadata": {
        "colab": {
          "base_uri": "https://localhost:8080/"
        },
        "id": "FYYDig0u4DNN",
        "outputId": "e8e37dde-2884-40e6-d6b1-d4840b3aeb71"
      },
      "source": [
        "# Concatenating the labels for Covid and Normal for training and testing:\r\n",
        "ytrain = np.concatenate((labels0,labels1)) \r\n",
        "ytest = np.concatenate((labels0s,labels1s)) \r\n",
        "ytrain.shape, ytest.shape \r\n"
      ],
      "execution_count": 8,
      "outputs": [
        {
          "output_type": "execute_result",
          "data": {
            "text/plain": [
              "((2402,), (602,))"
            ]
          },
          "metadata": {
            "tags": []
          },
          "execution_count": 8
        }
      ]
    },
    {
      "cell_type": "markdown",
      "metadata": {
        "id": "oUIAK8Fr4UN7"
      },
      "source": [
        "# Splitting the dataset for validation data:"
      ]
    },
    {
      "cell_type": "code",
      "metadata": {
        "colab": {
          "base_uri": "https://localhost:8080/"
        },
        "id": "93K6DAb84RJt",
        "outputId": "d86e31bf-b8ed-4ee7-a2d7-9c9f98d8d5cd"
      },
      "source": [
        "# Splitting the dataset for validation data:\r\n",
        "from sklearn.model_selection import train_test_split\r\n",
        "X_train,X_valid,y_train,y_valid = train_test_split(Xtrain,ytrain,test_size = 0.2, shuffle = True) \r\n",
        "X_train.shape, X_valid.shape, y_train.shape, y_valid.shape \r\n"
      ],
      "execution_count": 9,
      "outputs": [
        {
          "output_type": "execute_result",
          "data": {
            "text/plain": [
              "((1921, 150, 150, 3), (481, 150, 150, 3), (1921,), (481,))"
            ]
          },
          "metadata": {
            "tags": []
          },
          "execution_count": 9
        }
      ]
    },
    {
      "cell_type": "markdown",
      "metadata": {
        "id": "UrWq1DJd4eOj"
      },
      "source": [
        "# Normalizing the data from 0 to 255 to 0 to 1:"
      ]
    },
    {
      "cell_type": "code",
      "metadata": {
        "id": "nQInwNYv4anO"
      },
      "source": [
        "# Normalizing the data from 0 to 255 to 0 to 1:\r\n",
        "X_train_norm = X_train/255 \r\n",
        "X_valid_norm = X_valid/255\r\n",
        "Xtest_norm = Xtest/255 \r\n"
      ],
      "execution_count": 10,
      "outputs": []
    },
    {
      "cell_type": "markdown",
      "metadata": {
        "id": "dS573cG04nN7"
      },
      "source": [
        "## Building the Model"
      ]
    },
    {
      "cell_type": "code",
      "metadata": {
        "colab": {
          "base_uri": "https://localhost:8080/"
        },
        "id": "7JleBiwO4hH-",
        "outputId": "2dd3966c-191a-4d2e-e2d5-7ddddbe43eb9"
      },
      "source": [
        "# Model With Dropout Layer\r\n",
        "\r\n",
        "\r\n",
        "model = Sequential()\r\n",
        "\r\n",
        "# add the convolutional layer\r\n",
        "# filters, size of filters, padding, activation_function, inout_shape\r\n",
        "model.add(Conv2D(32,(5,5), padding = 'SAME', activation = 'relu', input_shape = (150,150,3)))\r\n",
        "\r\n",
        "# pooling layer\r\n",
        "model.add(MaxPooling2D(pool_size = (2,2)))\r\n",
        "\r\n",
        "# place a dropout layer\r\n",
        "model.add(Dropout(0.5)) ## Minimizes the overfitting\r\n",
        "\r\n",
        "# add another convolutional layer\r\n",
        "model.add(Conv2D(64,(5,5), padding = 'SAME', activation = 'relu'))\r\n",
        "\r\n",
        "# pooling layer\r\n",
        "model.add(MaxPooling2D(pool_size = (2,2)))\r\n",
        "\r\n",
        "# place a dropout layer\r\n",
        "model.add(Dropout(0.5))\r\n",
        "\r\n",
        "# Flatten the image to 1 dimensional array\r\n",
        "model.add(Flatten())\r\n",
        "\r\n",
        "# add a dense layer : amount of nodes, activation\r\n",
        "model.add(Dense(256, activation = 'relu'))\r\n",
        "\r\n",
        "# place a dropout layer\r\n",
        "# 0.5 drop out rate is recommended, half input will be dropped at each update\r\n",
        "model.add(Dropout(0.5))\r\n",
        "model.add(Dense(1, activation = 'sigmoid'))\r\n",
        "model.summary()"
      ],
      "execution_count": 11,
      "outputs": [
        {
          "output_type": "stream",
          "text": [
            "Model: \"sequential\"\n",
            "_________________________________________________________________\n",
            "Layer (type)                 Output Shape              Param #   \n",
            "=================================================================\n",
            "conv2d (Conv2D)              (None, 150, 150, 32)      2432      \n",
            "_________________________________________________________________\n",
            "max_pooling2d (MaxPooling2D) (None, 75, 75, 32)        0         \n",
            "_________________________________________________________________\n",
            "dropout (Dropout)            (None, 75, 75, 32)        0         \n",
            "_________________________________________________________________\n",
            "conv2d_1 (Conv2D)            (None, 75, 75, 64)        51264     \n",
            "_________________________________________________________________\n",
            "max_pooling2d_1 (MaxPooling2 (None, 37, 37, 64)        0         \n",
            "_________________________________________________________________\n",
            "dropout_1 (Dropout)          (None, 37, 37, 64)        0         \n",
            "_________________________________________________________________\n",
            "flatten (Flatten)            (None, 87616)             0         \n",
            "_________________________________________________________________\n",
            "dense (Dense)                (None, 256)               22429952  \n",
            "_________________________________________________________________\n",
            "dropout_2 (Dropout)          (None, 256)               0         \n",
            "_________________________________________________________________\n",
            "dense_1 (Dense)              (None, 1)                 257       \n",
            "=================================================================\n",
            "Total params: 22,483,905\n",
            "Trainable params: 22,483,905\n",
            "Non-trainable params: 0\n",
            "_________________________________________________________________\n"
          ],
          "name": "stdout"
        }
      ]
    },
    {
      "cell_type": "markdown",
      "metadata": {
        "id": "qpGeCxCh4yW0"
      },
      "source": [
        "## Compile The Model"
      ]
    },
    {
      "cell_type": "code",
      "metadata": {
        "id": "wq9LFtgC4tmO"
      },
      "source": [
        "# compile model\r\n",
        "from tensorflow.keras.optimizers import Adam # Adam is optimizer\r\n",
        "# Loss function definition\r\n",
        "model.compile(Adam(lr = 0.001),loss = 'binary_crossentropy', metrics = ['accuracy'])"
      ],
      "execution_count": 12,
      "outputs": []
    },
    {
      "cell_type": "markdown",
      "metadata": {
        "id": "TRrXMG-H49-j"
      },
      "source": [
        "## Train the Model"
      ]
    },
    {
      "cell_type": "code",
      "metadata": {
        "colab": {
          "base_uri": "https://localhost:8080/"
        },
        "id": "R9uST8cn45xO",
        "outputId": "f5d7d817-2e9c-4feb-a1e0-ead624173c86"
      },
      "source": [
        "# train the model\r\n",
        "model_history = model.fit(X_train_norm,y_train,epochs = 30,validation_data=(X_valid_norm,y_valid),verbose = 1)"
      ],
      "execution_count": 13,
      "outputs": [
        {
          "output_type": "stream",
          "text": [
            "Epoch 1/30\n",
            "61/61 [==============================] - 113s 2s/step - loss: 1.5842 - accuracy: 0.7796 - val_loss: 0.3206 - val_accuracy: 0.9335\n",
            "Epoch 2/30\n",
            "61/61 [==============================] - 111s 2s/step - loss: 0.1025 - accuracy: 0.9694 - val_loss: 0.1091 - val_accuracy: 0.9709\n",
            "Epoch 3/30\n",
            "61/61 [==============================] - 111s 2s/step - loss: 0.0911 - accuracy: 0.9708 - val_loss: 0.0858 - val_accuracy: 0.9771\n",
            "Epoch 4/30\n",
            "61/61 [==============================] - 111s 2s/step - loss: 0.0898 - accuracy: 0.9687 - val_loss: 0.0781 - val_accuracy: 0.9771\n",
            "Epoch 5/30\n",
            "61/61 [==============================] - 111s 2s/step - loss: 0.0966 - accuracy: 0.9680 - val_loss: 0.0578 - val_accuracy: 0.9875\n",
            "Epoch 6/30\n",
            "61/61 [==============================] - 112s 2s/step - loss: 0.0472 - accuracy: 0.9830 - val_loss: 0.0432 - val_accuracy: 0.9875\n",
            "Epoch 7/30\n",
            "61/61 [==============================] - 112s 2s/step - loss: 0.0343 - accuracy: 0.9850 - val_loss: 0.0421 - val_accuracy: 0.9875\n",
            "Epoch 8/30\n",
            "61/61 [==============================] - 112s 2s/step - loss: 0.0663 - accuracy: 0.9781 - val_loss: 0.0427 - val_accuracy: 0.9813\n",
            "Epoch 9/30\n",
            "61/61 [==============================] - 112s 2s/step - loss: 0.0783 - accuracy: 0.9740 - val_loss: 0.0427 - val_accuracy: 0.9854\n",
            "Epoch 10/30\n",
            "61/61 [==============================] - 112s 2s/step - loss: 0.0566 - accuracy: 0.9853 - val_loss: 0.0428 - val_accuracy: 0.9854\n",
            "Epoch 11/30\n",
            "61/61 [==============================] - 112s 2s/step - loss: 0.0619 - accuracy: 0.9808 - val_loss: 0.0391 - val_accuracy: 0.9875\n",
            "Epoch 12/30\n",
            "61/61 [==============================] - 111s 2s/step - loss: 0.0403 - accuracy: 0.9860 - val_loss: 0.0355 - val_accuracy: 0.9875\n",
            "Epoch 13/30\n",
            "61/61 [==============================] - 111s 2s/step - loss: 0.0400 - accuracy: 0.9864 - val_loss: 0.0552 - val_accuracy: 0.9896\n",
            "Epoch 14/30\n",
            "61/61 [==============================] - 111s 2s/step - loss: 0.0519 - accuracy: 0.9816 - val_loss: 0.0367 - val_accuracy: 0.9896\n",
            "Epoch 15/30\n",
            "61/61 [==============================] - 111s 2s/step - loss: 0.0233 - accuracy: 0.9930 - val_loss: 0.0380 - val_accuracy: 0.9896\n",
            "Epoch 16/30\n",
            "61/61 [==============================] - 111s 2s/step - loss: 0.0165 - accuracy: 0.9940 - val_loss: 0.0480 - val_accuracy: 0.9875\n",
            "Epoch 17/30\n",
            "61/61 [==============================] - 111s 2s/step - loss: 0.0476 - accuracy: 0.9902 - val_loss: 0.0396 - val_accuracy: 0.9896\n",
            "Epoch 18/30\n",
            "61/61 [==============================] - 111s 2s/step - loss: 0.0335 - accuracy: 0.9853 - val_loss: 0.0447 - val_accuracy: 0.9854\n",
            "Epoch 19/30\n",
            "61/61 [==============================] - 112s 2s/step - loss: 0.0271 - accuracy: 0.9901 - val_loss: 0.0376 - val_accuracy: 0.9938\n",
            "Epoch 20/30\n",
            "61/61 [==============================] - 112s 2s/step - loss: 0.0231 - accuracy: 0.9931 - val_loss: 0.0312 - val_accuracy: 0.9896\n",
            "Epoch 21/30\n",
            "61/61 [==============================] - 111s 2s/step - loss: 0.0183 - accuracy: 0.9920 - val_loss: 0.0375 - val_accuracy: 0.9854\n",
            "Epoch 22/30\n",
            "61/61 [==============================] - 111s 2s/step - loss: 0.0191 - accuracy: 0.9928 - val_loss: 0.0530 - val_accuracy: 0.9792\n",
            "Epoch 23/30\n",
            "61/61 [==============================] - 111s 2s/step - loss: 0.0236 - accuracy: 0.9919 - val_loss: 0.0411 - val_accuracy: 0.9854\n",
            "Epoch 24/30\n",
            "61/61 [==============================] - 111s 2s/step - loss: 0.0233 - accuracy: 0.9924 - val_loss: 0.0578 - val_accuracy: 0.9813\n",
            "Epoch 25/30\n",
            "61/61 [==============================] - 111s 2s/step - loss: 0.0155 - accuracy: 0.9948 - val_loss: 0.0472 - val_accuracy: 0.9875\n",
            "Epoch 26/30\n",
            "61/61 [==============================] - 111s 2s/step - loss: 0.0199 - accuracy: 0.9943 - val_loss: 0.0391 - val_accuracy: 0.9854\n",
            "Epoch 27/30\n",
            "61/61 [==============================] - 111s 2s/step - loss: 0.0079 - accuracy: 0.9984 - val_loss: 0.0377 - val_accuracy: 0.9896\n",
            "Epoch 28/30\n",
            "61/61 [==============================] - 111s 2s/step - loss: 0.0069 - accuracy: 0.9980 - val_loss: 0.0527 - val_accuracy: 0.9875\n",
            "Epoch 29/30\n",
            "61/61 [==============================] - 111s 2s/step - loss: 0.0160 - accuracy: 0.9951 - val_loss: 0.0423 - val_accuracy: 0.9854\n",
            "Epoch 30/30\n",
            "61/61 [==============================] - 111s 2s/step - loss: 0.0075 - accuracy: 0.9974 - val_loss: 0.0385 - val_accuracy: 0.9875\n"
          ],
          "name": "stdout"
        }
      ]
    },
    {
      "cell_type": "markdown",
      "metadata": {
        "id": "2Q3y2pLHGK-4"
      },
      "source": [
        "# Evaluating the model"
      ]
    },
    {
      "cell_type": "code",
      "metadata": {
        "colab": {
          "base_uri": "https://localhost:8080/"
        },
        "id": "z2qSFhx55Jme",
        "outputId": "0f9572f9-e555-4bcb-838d-c588445ef9a6"
      },
      "source": [
        "# Evaluating the model:\r\n",
        "model.evaluate(Xtest_norm,ytest,verbose= 1)"
      ],
      "execution_count": 14,
      "outputs": [
        {
          "output_type": "stream",
          "text": [
            "19/19 [==============================] - 7s 391ms/step - loss: 0.0630 - accuracy: 0.9850\n"
          ],
          "name": "stdout"
        },
        {
          "output_type": "execute_result",
          "data": {
            "text/plain": [
              "[0.06298761814832687, 0.985049843788147]"
            ]
          },
          "metadata": {
            "tags": []
          },
          "execution_count": 14
        }
      ]
    },
    {
      "cell_type": "markdown",
      "metadata": {
        "id": "bcZh5y1qHcWI"
      },
      "source": [
        "# Plot performance metrics"
      ]
    },
    {
      "cell_type": "code",
      "metadata": {
        "colab": {
          "base_uri": "https://localhost:8080/",
          "height": 288
        },
        "id": "sOjJ143hGO63",
        "outputId": "356cf46c-3dd5-40c5-b018-078c7c747e71"
      },
      "source": [
        "# plot the model accuracy and loss for the training and the validating set.\r\n",
        "# CNN Model\r\n",
        "from matplotlib import pyplot as plt\r\n",
        "fig, ax = plt.subplots(1, 4, figsize=(30, 5))\r\n",
        "ax = ax.ravel()\r\n",
        "\r\n",
        "for i, met in enumerate(['loss', 'accuracy', 'loss', 'accuracy']):\r\n",
        "    ax[i].plot(model_history.history[met])\r\n",
        "    ax[i].plot(model_history.history['val_' + met])\r\n",
        "    ax[i].set_title('CNN Model {}'.format(met))\r\n",
        "    ax[i].set_xlabel('epochs')\r\n",
        "    ax[i].set_ylabel(met)\r\n",
        "    ax[i].legend(['train', 'val'])"
      ],
      "execution_count": 17,
      "outputs": [
        {
          "output_type": "display_data",
          "data": {
            "image/png": "[encoded data removed]",
            "text/plain": [
              "<Figure size 2160x360 with 4 Axes>"
            ]
          },
          "metadata": {
            "tags": [],
            "needs_background": "light"
          }
        }
      ]
    },
    {
      "cell_type": "markdown",
      "metadata": {
        "id": "HiEPvCU5IYaC"
      },
      "source": [
        "# Confusion Matrix"
      ]
    },
    {
      "cell_type": "code",
      "metadata": {
        "colab": {
          "base_uri": "https://localhost:8080/",
          "height": 313
        },
        "id": "C55qu_-THl2p",
        "outputId": "b8e171f6-5663-48ac-9450-129e6a13664f"
      },
      "source": [
        "pred  = model.predict(Xtest_norm,verbose= 1)\r\n",
        "\r\n",
        "pred_normalized = []\r\n",
        "for i in range(len(pred)):\r\n",
        "  if(pred[i]<=0.5):\r\n",
        "    pred_normalized.append(1)\r\n",
        "  else:\r\n",
        "    pred_normalized.append(0)\r\n",
        "\r\n",
        "import seaborn as sns\r\n",
        "\r\n",
        "cm = confusion_matrix(ytest, pred_normalized)\r\n",
        "ax= plt.subplot()\r\n",
        "sns.heatmap(cm, annot=True, fmt='g', ax = ax); #annot=True to annotate cells\r\n",
        "\r\n",
        "# labels, title and ticks\r\n",
        "ax.set_xlabel('Predicted labels');ax.set_ylabel('True labels'); \r\n",
        "ax.set_title('Confusion Matrix'); \r\n",
        "ax.xaxis.set_ticklabels(['Normal', 'Covid']); ax.yaxis.set_ticklabels(['Covid', 'Normal']);\r\n"
      ],
      "execution_count": 40,
      "outputs": [
        {
          "output_type": "stream",
          "text": [
            "19/19 [==============================] - 8s 392ms/step\n"
          ],
          "name": "stdout"
        },
        {
          "output_type": "display_data",
          "data": {
            "image/png": "[encoded data removed]",
            "text/plain": [
              "<Figure size 432x288 with 2 Axes>"
            ]
          },
          "metadata": {
            "tags": [],
            "needs_background": "light"
          }
        }
      ]
    },
    {
      "cell_type": "markdown",
      "metadata": {
        "id": "muGIpNjZTssN"
      },
      "source": [
        "## Saving The Model"
      ]
    },
    {
      "cell_type": "code",
      "metadata": {
        "id": "S8JlbjbqTyDA"
      },
      "source": [
        "model_save_name = 'model.h5'\r\n",
        "path = F\"/content/{model_save_name}\" \r\n",
        "model.save(path)"
      ],
      "execution_count": 39,
      "outputs": []
    },
    {
      "cell_type": "markdown",
      "metadata": {
        "id": "NhaNSAxzTY6G"
      },
      "source": [
        "## Testing This model on Viral Pneumonia"
      ]
    },
    {
      "cell_type": "code",
      "metadata": {
        "colab": {
          "base_uri": "https://localhost:8080/"
        },
        "id": "N7OTTktlTlI9",
        "outputId": "0daffae1-87a2-4898-edeb-0d5cdacba9f3"
      },
      "source": [
        "# Cloning dataset on Colab\r\n",
        "! git clone https://github.com/source-droid/Covid-19-CXR-Dataset.git"
      ],
      "execution_count": 41,
      "outputs": [
        {
          "output_type": "stream",
          "text": [
            "Cloning into 'Covid-19-CXR-Dataset'...\n",
            "remote: Enumerating objects: 4366, done.\u001b[K\n",
            "remote: Total 4366 (delta 0), reused 0 (delta 0), pack-reused 4366\u001b[K\n",
            "Receiving objects: 100% (4366/4366), 2.82 GiB | 25.09 MiB/s, done.\n",
            "Resolving deltas: 100% (4/4), done.\n",
            "Checking out files: 100% (4350/4350), done.\n"
          ],
          "name": "stdout"
        }
      ]
    },
    {
      "cell_type": "code",
      "metadata": {
        "colab": {
          "base_uri": "https://localhost:8080/"
        },
        "id": "X3CrNA-mTxrv",
        "outputId": "1af9e362-470b-47fb-e24e-a3d35cd4efb7"
      },
      "source": [
        "# Reading Testing Images Pneumonia\r\n",
        "import numpy as np \r\n",
        "import glob\r\n",
        "import cv2 \r\n",
        "\r\n",
        "path_l = glob.glob(\"/content/Covid-19-CXR-Dataset/train/Viral Pneumonia/*.*\") \r\n",
        "cv_img = [] \r\n",
        "for img in path_l:\r\n",
        "    n = cv2.imread(img) \r\n",
        "    n = cv2.resize(n,(150,150))\r\n",
        "    cv_img.append(n)\r\n",
        "Pneumonia = np.asarray(cv_img) \r\n",
        "print(Pneumonia.shape) \r\n",
        " "
      ],
      "execution_count": 42,
      "outputs": [
        {
          "output_type": "stream",
          "text": [
            "(1076, 150, 150, 3)\n"
          ],
          "name": "stdout"
        }
      ]
    },
    {
      "cell_type": "code",
      "metadata": {
        "id": "ek7fXoYPg-pc"
      },
      "source": [
        "# Normalizing the data from 0 to 255 to 0 to 1:\r\n",
        "Pneumonia = Pneumonia/255\r\n"
      ],
      "execution_count": 43,
      "outputs": []
    },
    {
      "cell_type": "code",
      "metadata": {
        "colab": {
          "base_uri": "https://localhost:8080/"
        },
        "id": "RND23xbKhSEc",
        "outputId": "131f0107-7f1c-4a6b-fdef-ccf47b3f8467"
      },
      "source": [
        "# Creating labels \r\n",
        "labels0 = np.zeros(len(Pneumonia))\r\n",
        "for i in range(len(Pneumonia)):\r\n",
        "  labels0[i] = 2\r\n",
        "\r\n",
        "labels0"
      ],
      "execution_count": 44,
      "outputs": [
        {
          "output_type": "execute_result",
          "data": {
            "text/plain": [
              "array([2., 2., 2., ..., 2., 2., 2.])"
            ]
          },
          "metadata": {
            "tags": []
          },
          "execution_count": 44
        }
      ]
    },
    {
      "cell_type": "code",
      "metadata": {
        "colab": {
          "base_uri": "https://localhost:8080/",
          "height": 313
        },
        "id": "pu1ouWe2ghtA",
        "outputId": "b63be5e4-0e54-4ed6-f34c-626081494254"
      },
      "source": [
        "# plotting Confusion Matrix For Pneumonia\r\n",
        "\r\n",
        "pred  = model.predict(Pneumonia,verbose= 1)\r\n",
        "\r\n",
        "pred_normalized = []\r\n",
        "for i in range(len(pred)):\r\n",
        "  if(pred[i]<=0.5):\r\n",
        "    pred_normalized.append(1)\r\n",
        "  else:\r\n",
        "    pred_normalized.append(0)\r\n",
        "\r\n",
        "import seaborn as sns\r\n",
        "\r\n",
        "cm = confusion_matrix(labels0, pred_normalized)\r\n",
        "ax= plt.subplot()\r\n",
        "sns.heatmap(cm, annot=True, fmt='g', ax = ax); #annot=True to annotate cells\r\n",
        "\r\n",
        "# labels, title and ticks\r\n",
        "ax.set_xlabel('Predicted labels');ax.set_ylabel('True labels'); \r\n",
        "ax.set_title('Confusion Matrix'); \r\n",
        "ax.xaxis.set_ticklabels(['Normal', 'Covid', 'Pneumonia']); ax.yaxis.set_ticklabels(['Pneumonia','Covid', 'Normal']);\r\n"
      ],
      "execution_count": 45,
      "outputs": [
        {
          "output_type": "stream",
          "text": [
            "34/34 [==============================] - 13s 387ms/step\n"
          ],
          "name": "stdout"
        },
        {
          "output_type": "display_data",
          "data": {
            "image/png": "[encoded data removed]",
            "text/plain": [
              "<Figure size 432x288 with 2 Axes>"
            ]
          },
          "metadata": {
            "tags": [],
            "needs_background": "light"
          }
        }
      ]
    },
    {
      "cell_type": "code",
      "metadata": {
        "id": "R7yfQ7VIhibU"
      },
      "source": [
        ""
      ],
      "execution_count": null,
      "outputs": []
    }
  ]
}