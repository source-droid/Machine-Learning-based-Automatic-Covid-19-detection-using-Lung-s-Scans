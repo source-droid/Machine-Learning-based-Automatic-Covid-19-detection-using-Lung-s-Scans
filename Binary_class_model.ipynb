{
  "nbformat": 4,
  "nbformat_minor": 0,
  "metadata": {
    "colab": {
      "name": "Binary class model",
      "provenance": [],
      "collapsed_sections": [],
      "toc_visible": true,
      "authorship_tag": "ABX9TyN8jETwuXTvD4WbDPvNUJf6",
      "include_colab_link": true
    },
    "kernelspec": {
      "name": "python3",
      "display_name": "Python 3"
    }
  },
  "cells": [
    {
      "cell_type": "markdown",
      "metadata": {
        "id": "view-in-github",
        "colab_type": "text"
      },
      "source": [
        "<a href=\"https://colab.research.google.com/github/source-droid/Machine-Learning-based-Automatic-Covid-19-detection-using-Lung-s-Scans/blob/main/Binary_class_model.ipynb\" target=\"_parent\"><img src=\"https://colab.research.google.com/assets/colab-badge.svg\" alt=\"Open In Colab\"/></a>"
      ]
    },
    {
      "cell_type": "markdown",
      "metadata": {
        "id": "uuTPWNPDzjSy"
      },
      "source": [
        "# Import Libaries"
      ]
    },
    {
      "cell_type": "code",
      "metadata": {
        "id": "QJV6HBlQzilc"
      },
      "source": [
        "from tensorflow.keras.models import Sequential\n",
        "from tensorflow.keras.layers import Dense, Conv2D, Flatten, Dropout, MaxPooling2D\n",
        "from tensorflow.keras.preprocessing.image import ImageDataGenerator\n",
        "import tensorflow as tf\n",
        "import numpy as np\n",
        "import matplotlib.pyplot as plt\n",
        "import matplotlib.image as mpimg\n",
        "import random\n",
        "from tensorflow.keras.utils import to_categorical\n",
        "\n",
        "import sklearn.metrics as metrics\n",
        "from sklearn.metrics import plot_confusion_matrix\n",
        "from sklearn.metrics import confusion_matrix"
      ],
      "execution_count": null,
      "outputs": []
    },
    {
      "cell_type": "markdown",
      "metadata": {
        "id": "eDG8HGbgzqvh"
      },
      "source": [
        "## Clone Dataset"
      ]
    },
    {
      "cell_type": "code",
      "metadata": {
        "colab": {
          "base_uri": "https://localhost:8080/"
        },
        "id": "ZKCZlUBgzszt",
        "outputId": "356c231f-443d-4c4c-f3a2-910376ce64cc"
      },
      "source": [
        "# Cloning Dataset on Colab\n",
        "! git clone https://github.com/source-droid/This-is-splitted-for-COVID-and-NORMAL-Only.git"
      ],
      "execution_count": null,
      "outputs": [
        {
          "output_type": "stream",
          "text": [
            "Cloning into 'This-is-splitted-for-COVID-and-NORMAL-Only'...\n",
            "remote: Enumerating objects: 3013, done.\u001b[K\n",
            "remote: Total 3013 (delta 0), reused 0 (delta 0), pack-reused 3013\u001b[K\n",
            "Receiving objects: 100% (3013/3013), 1.71 GiB | 24.59 MiB/s, done.\n",
            "Checking out files: 100% (3005/3005), done.\n"
          ],
          "name": "stdout"
        }
      ]
    },
    {
      "cell_type": "markdown",
      "metadata": {
        "id": "EK9AM7o00FI6"
      },
      "source": [
        "# Reading the Training images\n"
      ]
    },
    {
      "cell_type": "code",
      "metadata": {
        "colab": {
          "base_uri": "https://localhost:8080/"
        },
        "id": "-YLPEfV1zxRL",
        "outputId": "17c4306e-d6be-4c08-e6a9-06a146799457"
      },
      "source": [
        "#Reading Training Images For Covid and Normal\n",
        "import numpy as np \n",
        "import glob \n",
        "import cv2 \n",
        "path_l = glob.glob(\"/content/This-is-splitted-for-COVID-and-NORMAL-Only/train/Covid/*.*\")\n",
        "cv_img = [] \n",
        "for img in path_l:\n",
        "    n = cv2.imread(img) \n",
        "    n = cv2.resize(n,(150,150)) \n",
        "    cv_img.append(n) \n",
        "arrayl = np.asarray(cv_img) \n",
        "print(arrayl.shape) \n",
        "\n",
        "path_2 = glob.glob(\"/content/This-is-splitted-for-COVID-and-NORMAL-Only/train/Normal/*.*\")\n",
        "cv_img = []\n",
        "for img in path_2:\n",
        "    n = cv2.imread(img)\n",
        "    n = cv2.resize(n,(150,150))\n",
        "    cv_img.append(n) \n",
        "array2 = np.asarray(cv_img) \n",
        "print(array2.shape) "
      ],
      "execution_count": null,
      "outputs": [
        {
          "output_type": "stream",
          "text": [
            "(1330, 150, 150, 3)\n",
            "(1072, 150, 150, 3)\n"
          ],
          "name": "stdout"
        }
      ]
    },
    {
      "cell_type": "markdown",
      "metadata": {
        "id": "Nb1jJeY10vWR"
      },
      "source": [
        "# Reading the Testing images\n"
      ]
    },
    {
      "cell_type": "code",
      "metadata": {
        "colab": {
          "base_uri": "https://localhost:8080/"
        },
        "id": "dLv-0AdZ0lov",
        "outputId": "8f477348-400e-4235-f2aa-073dfe6366b0"
      },
      "source": [
        "# Reading Testing Images For Covid and Normal\n",
        "import numpy as np \n",
        "import glob\n",
        "import cv2 \n",
        "\n",
        "path_l = glob.glob(\"/content/This-is-splitted-for-COVID-and-NORMAL-Only/test/Covid/*.*\") \n",
        "cv_img = [] \n",
        "for img in path_l:\n",
        "    n = cv2.imread(img) \n",
        "    n = cv2.resize(n,(150,150))\n",
        "    cv_img.append(n)\n",
        "array3 = np.asarray(cv_img) \n",
        "print(array3.shape) \n",
        "\n",
        "path_2 = glob.glob(\"/content/This-is-splitted-for-COVID-and-NORMAL-Only/test/Normal/*.*\") \n",
        "cv_img = []\n",
        "for img in path_2:\n",
        "    n = cv2.imread(img) \n",
        "    n = cv2.resize(n,(150,150)) \n",
        "    cv_img.append(n) \n",
        "array4 = np.asarray(cv_img)\n",
        "print(array4.shape) \n"
      ],
      "execution_count": null,
      "outputs": [
        {
          "output_type": "stream",
          "text": [
            "(333, 150, 150, 3)\n",
            "(269, 150, 150, 3)\n"
          ],
          "name": "stdout"
        }
      ]
    },
    {
      "cell_type": "markdown",
      "metadata": {
        "id": "Su0rfWHU1Lcp"
      },
      "source": [
        "# Concatenating Covid and Normal arrays into one variable for train and test:"
      ]
    },
    {
      "cell_type": "code",
      "metadata": {
        "colab": {
          "base_uri": "https://localhost:8080/"
        },
        "id": "iRKk3yA00_M8",
        "outputId": "5f5c2384-bf0d-4f25-a217-69a87335a3bc"
      },
      "source": [
        "# Concatenating Covid and Normal arrays into one variable for train and test:\n",
        "Xtrain = np.concatenate((arrayl,array2))\n",
        "\n",
        "Xtest = np.concatenate((array3,array4))\n",
        "\n",
        "Xtrain.shape , Xtest.shape "
      ],
      "execution_count": null,
      "outputs": [
        {
          "output_type": "execute_result",
          "data": {
            "text/plain": [
              "((2402, 150, 150, 3), (602, 150, 150, 3))"
            ]
          },
          "metadata": {
            "tags": []
          },
          "execution_count": 5
        }
      ]
    },
    {
      "cell_type": "markdown",
      "metadata": {
        "id": "KXp4SYQk1aW6"
      },
      "source": [
        "# Creating labels for Normal and Covid 0 and 1 respectively equal to length of data for training data:"
      ]
    },
    {
      "cell_type": "code",
      "metadata": {
        "colab": {
          "base_uri": "https://localhost:8080/"
        },
        "id": "Zx6ExYVi1VPM",
        "outputId": "6c9e03ee-37ad-47cb-aae6-a81415f644de"
      },
      "source": [
        "# Creating labels for Normal and Covid 0 and 1 respectively equal to length of data for training data:\n",
        "\n",
        "labels0 = np.zeros(len(arrayl)) \n",
        "labels1 = np.ones(len(array2)) \n",
        "print('Normal labels : ',labels0 ,'Covid labels : ', labels1) \n",
        "len(labels0) , len(labels1) \n"
      ],
      "execution_count": null,
      "outputs": [
        {
          "output_type": "stream",
          "text": [
            "Normal labels :  [0. 0. 0. ... 0. 0. 0.] Covid labels :  [1. 1. 1. ... 1. 1. 1.]\n"
          ],
          "name": "stdout"
        },
        {
          "output_type": "execute_result",
          "data": {
            "text/plain": [
              "(1330, 1072)"
            ]
          },
          "metadata": {
            "tags": []
          },
          "execution_count": 6
        }
      ]
    },
    {
      "cell_type": "markdown",
      "metadata": {
        "id": "AgCTlyrs3yxz"
      },
      "source": [
        "# Creating labels for Normal and Covid 0 and 1 respectively equal to length of data for testing data:"
      ]
    },
    {
      "cell_type": "code",
      "metadata": {
        "colab": {
          "base_uri": "https://localhost:8080/"
        },
        "id": "eW6tVsz-3toF",
        "outputId": "92f85f5f-17f8-41bb-a70e-55ff3d1922b5"
      },
      "source": [
        "# Creating labels for Normal and Covid 0 and 1 respectively equal to length of data for testing data:\n",
        "\n",
        "labels0s = np.zeros(len(array3)) \n",
        "labels1s = np.ones(len(array4)) \n",
        "print('Normal labels : ',labels0s ,'Covid labels : ', labels1s) \n",
        "len(labels0s) , len(labels1s) "
      ],
      "execution_count": null,
      "outputs": [
        {
          "output_type": "stream",
          "text": [
            "Normal labels :  [0. 0. 0. 0. 0. 0. 0. 0. 0. 0. 0. 0. 0. 0. 0. 0. 0. 0. 0. 0. 0. 0. 0. 0.\n",
            " 0. 0. 0. 0. 0. 0. 0. 0. 0. 0. 0. 0. 0. 0. 0. 0. 0. 0. 0. 0. 0. 0. 0. 0.\n",
            " 0. 0. 0. 0. 0. 0. 0. 0. 0. 0. 0. 0. 0. 0. 0. 0. 0. 0. 0. 0. 0. 0. 0. 0.\n",
            " 0. 0. 0. 0. 0. 0. 0. 0. 0. 0. 0. 0. 0. 0. 0. 0. 0. 0. 0. 0. 0. 0. 0. 0.\n",
            " 0. 0. 0. 0. 0. 0. 0. 0. 0. 0. 0. 0. 0. 0. 0. 0. 0. 0. 0. 0. 0. 0. 0. 0.\n",
            " 0. 0. 0. 0. 0. 0. 0. 0. 0. 0. 0. 0. 0. 0. 0. 0. 0. 0. 0. 0. 0. 0. 0. 0.\n",
            " 0. 0. 0. 0. 0. 0. 0. 0. 0. 0. 0. 0. 0. 0. 0. 0. 0. 0. 0. 0. 0. 0. 0. 0.\n",
            " 0. 0. 0. 0. 0. 0. 0. 0. 0. 0. 0. 0. 0. 0. 0. 0. 0. 0. 0. 0. 0. 0. 0. 0.\n",
            " 0. 0. 0. 0. 0. 0. 0. 0. 0. 0. 0. 0. 0. 0. 0. 0. 0. 0. 0. 0. 0. 0. 0. 0.\n",
            " 0. 0. 0. 0. 0. 0. 0. 0. 0. 0. 0. 0. 0. 0. 0. 0. 0. 0. 0. 0. 0. 0. 0. 0.\n",
            " 0. 0. 0. 0. 0. 0. 0. 0. 0. 0. 0. 0. 0. 0. 0. 0. 0. 0. 0. 0. 0. 0. 0. 0.\n",
            " 0. 0. 0. 0. 0. 0. 0. 0. 0. 0. 0. 0. 0. 0. 0. 0. 0. 0. 0. 0. 0. 0. 0. 0.\n",
            " 0. 0. 0. 0. 0. 0. 0. 0. 0. 0. 0. 0. 0. 0. 0. 0. 0. 0. 0. 0. 0. 0. 0. 0.\n",
            " 0. 0. 0. 0. 0. 0. 0. 0. 0. 0. 0. 0. 0. 0. 0. 0. 0. 0. 0. 0. 0.] Covid labels :  [1. 1. 1. 1. 1. 1. 1. 1. 1. 1. 1. 1. 1. 1. 1. 1. 1. 1. 1. 1. 1. 1. 1. 1.\n",
            " 1. 1. 1. 1. 1. 1. 1. 1. 1. 1. 1. 1. 1. 1. 1. 1. 1. 1. 1. 1. 1. 1. 1. 1.\n",
            " 1. 1. 1. 1. 1. 1. 1. 1. 1. 1. 1. 1. 1. 1. 1. 1. 1. 1. 1. 1. 1. 1. 1. 1.\n",
            " 1. 1. 1. 1. 1. 1. 1. 1. 1. 1. 1. 1. 1. 1. 1. 1. 1. 1. 1. 1. 1. 1. 1. 1.\n",
            " 1. 1. 1. 1. 1. 1. 1. 1. 1. 1. 1. 1. 1. 1. 1. 1. 1. 1. 1. 1. 1. 1. 1. 1.\n",
            " 1. 1. 1. 1. 1. 1. 1. 1. 1. 1. 1. 1. 1. 1. 1. 1. 1. 1. 1. 1. 1. 1. 1. 1.\n",
            " 1. 1. 1. 1. 1. 1. 1. 1. 1. 1. 1. 1. 1. 1. 1. 1. 1. 1. 1. 1. 1. 1. 1. 1.\n",
            " 1. 1. 1. 1. 1. 1. 1. 1. 1. 1. 1. 1. 1. 1. 1. 1. 1. 1. 1. 1. 1. 1. 1. 1.\n",
            " 1. 1. 1. 1. 1. 1. 1. 1. 1. 1. 1. 1. 1. 1. 1. 1. 1. 1. 1. 1. 1. 1. 1. 1.\n",
            " 1. 1. 1. 1. 1. 1. 1. 1. 1. 1. 1. 1. 1. 1. 1. 1. 1. 1. 1. 1. 1. 1. 1. 1.\n",
            " 1. 1. 1. 1. 1. 1. 1. 1. 1. 1. 1. 1. 1. 1. 1. 1. 1. 1. 1. 1. 1. 1. 1. 1.\n",
            " 1. 1. 1. 1. 1.]\n"
          ],
          "name": "stdout"
        },
        {
          "output_type": "execute_result",
          "data": {
            "text/plain": [
              "(333, 269)"
            ]
          },
          "metadata": {
            "tags": []
          },
          "execution_count": 7
        }
      ]
    },
    {
      "cell_type": "markdown",
      "metadata": {
        "id": "X7wOFD8T4IWi"
      },
      "source": [
        "# Concatenating the labels for Covid and Normal for training and testing:"
      ]
    },
    {
      "cell_type": "code",
      "metadata": {
        "colab": {
          "base_uri": "https://localhost:8080/"
        },
        "id": "FYYDig0u4DNN",
        "outputId": "5f996241-9c49-4f5c-c4a7-b52850336411"
      },
      "source": [
        "# Concatenating the labels for Covid and Normal for training and testing:\n",
        "ytrain = np.concatenate((labels0,labels1)) \n",
        "ytest = np.concatenate((labels0s,labels1s)) \n",
        "ytrain.shape, ytest.shape \n"
      ],
      "execution_count": null,
      "outputs": [
        {
          "output_type": "execute_result",
          "data": {
            "text/plain": [
              "((2402,), (602,))"
            ]
          },
          "metadata": {
            "tags": []
          },
          "execution_count": 8
        }
      ]
    },
    {
      "cell_type": "markdown",
      "metadata": {
        "id": "oUIAK8Fr4UN7"
      },
      "source": [
        "# Splitting the dataset for validation data:"
      ]
    },
    {
      "cell_type": "code",
      "metadata": {
        "colab": {
          "base_uri": "https://localhost:8080/"
        },
        "id": "93K6DAb84RJt",
        "outputId": "d7a1a320-333e-4301-bf48-39f2a1aab241"
      },
      "source": [
        "# Splitting the dataset for validation data:\n",
        "from sklearn.model_selection import train_test_split\n",
        "X_train,X_valid,y_train,y_valid = train_test_split(Xtrain,ytrain,test_size = 0.2, shuffle = True) \n",
        "X_train.shape, X_valid.shape, y_train.shape, y_valid.shape \n"
      ],
      "execution_count": null,
      "outputs": [
        {
          "output_type": "execute_result",
          "data": {
            "text/plain": [
              "((1921, 150, 150, 3), (481, 150, 150, 3), (1921,), (481,))"
            ]
          },
          "metadata": {
            "tags": []
          },
          "execution_count": 9
        }
      ]
    },
    {
      "cell_type": "markdown",
      "metadata": {
        "id": "UrWq1DJd4eOj"
      },
      "source": [
        "# Normalizing the data from 0 to 255 to 0 to 1:"
      ]
    },
    {
      "cell_type": "code",
      "metadata": {
        "id": "nQInwNYv4anO"
      },
      "source": [
        "# Normalizing the data from 0 to 255 to 0 to 1:\n",
        "X_train_norm = X_train/255 \n",
        "X_valid_norm = X_valid/255\n",
        "Xtest_norm = Xtest/255 \n"
      ],
      "execution_count": null,
      "outputs": []
    },
    {
      "cell_type": "markdown",
      "metadata": {
        "id": "dS573cG04nN7"
      },
      "source": [
        "## Building the Model"
      ]
    },
    {
      "cell_type": "code",
      "metadata": {
        "colab": {
          "base_uri": "https://localhost:8080/"
        },
        "id": "7JleBiwO4hH-",
        "outputId": "e87683be-4c33-415e-e0f9-1d3a0abbb8d5"
      },
      "source": [
        "# Model With Dropout Layer\n",
        "\n",
        "\n",
        "model = Sequential()\n",
        "\n",
        "# add the convolutional layer\n",
        "# filters, size of filters, padding, activation_function, inout_shape\n",
        "model.add(Conv2D(32,(5,5), padding = 'SAME', activation = 'relu', input_shape = (150,150,3)))\n",
        "\n",
        "# pooling layer\n",
        "model.add(MaxPooling2D(pool_size = (2,2)))\n",
        "\n",
        "# place a dropout layer\n",
        "model.add(Dropout(0.5)) ## Minimizes the overfitting\n",
        "\n",
        "# add another convolutional layer\n",
        "model.add(Conv2D(64,(5,5), padding = 'SAME', activation = 'relu'))\n",
        "\n",
        "# pooling layer\n",
        "model.add(MaxPooling2D(pool_size = (2,2)))\n",
        "\n",
        "# place a dropout layer\n",
        "model.add(Dropout(0.5))\n",
        "\n",
        "# Flatten the image to 1 dimensional array\n",
        "model.add(Flatten())\n",
        "\n",
        "# add a dense layer : amount of nodes, activation\n",
        "model.add(Dense(256, activation = 'relu'))\n",
        "\n",
        "# place a dropout layer\n",
        "# 0.5 drop out rate is recommended, half input will be dropped at each update\n",
        "model.add(Dropout(0.5))\n",
        "model.add(Dense(1, activation = 'sigmoid'))\n",
        "model.summary()"
      ],
      "execution_count": null,
      "outputs": [
        {
          "output_type": "stream",
          "text": [
            "Model: \"sequential\"\n",
            "_________________________________________________________________\n",
            "Layer (type)                 Output Shape              Param #   \n",
            "=================================================================\n",
            "conv2d (Conv2D)              (None, 150, 150, 32)      2432      \n",
            "_________________________________________________________________\n",
            "max_pooling2d (MaxPooling2D) (None, 75, 75, 32)        0         \n",
            "_________________________________________________________________\n",
            "dropout (Dropout)            (None, 75, 75, 32)        0         \n",
            "_________________________________________________________________\n",
            "conv2d_1 (Conv2D)            (None, 75, 75, 64)        51264     \n",
            "_________________________________________________________________\n",
            "max_pooling2d_1 (MaxPooling2 (None, 37, 37, 64)        0         \n",
            "_________________________________________________________________\n",
            "dropout_1 (Dropout)          (None, 37, 37, 64)        0         \n",
            "_________________________________________________________________\n",
            "flatten (Flatten)            (None, 87616)             0         \n",
            "_________________________________________________________________\n",
            "dense (Dense)                (None, 256)               22429952  \n",
            "_________________________________________________________________\n",
            "dropout_2 (Dropout)          (None, 256)               0         \n",
            "_________________________________________________________________\n",
            "dense_1 (Dense)              (None, 1)                 257       \n",
            "=================================================================\n",
            "Total params: 22,483,905\n",
            "Trainable params: 22,483,905\n",
            "Non-trainable params: 0\n",
            "_________________________________________________________________\n"
          ],
          "name": "stdout"
        }
      ]
    },
    {
      "cell_type": "markdown",
      "metadata": {
        "id": "qpGeCxCh4yW0"
      },
      "source": [
        "## Compile The Model"
      ]
    },
    {
      "cell_type": "code",
      "metadata": {
        "id": "wq9LFtgC4tmO"
      },
      "source": [
        "# compile model\n",
        "from tensorflow.keras.optimizers import Adam # Adam is optimizer\n",
        "# Loss function definition\n",
        "model.compile(Adam(lr = 0.001),loss = 'binary_crossentropy', metrics = ['accuracy'])"
      ],
      "execution_count": null,
      "outputs": []
    },
    {
      "cell_type": "markdown",
      "metadata": {
        "id": "TRrXMG-H49-j"
      },
      "source": [
        "## Train the Model"
      ]
    },
    {
      "cell_type": "code",
      "metadata": {
        "colab": {
          "base_uri": "https://localhost:8080/"
        },
        "id": "R9uST8cn45xO",
        "outputId": "686b060e-ff13-46aa-a77a-ad099d9fb660"
      },
      "source": [
        "# train the model\n",
        "%%time\n",
        "model_history = model.fit(X_train_norm,y_train,epochs = 30,validation_data=(X_valid_norm,y_valid),verbose = 1)"
      ],
      "execution_count": null,
      "outputs": [
        {
          "output_type": "stream",
          "text": [
            "Epoch 1/30\n",
            "61/61 [==============================] - 137s 2s/step - loss: 0.9919 - accuracy: 0.7611 - val_loss: 0.1800 - val_accuracy: 0.9584\n",
            "Epoch 2/30\n",
            "61/61 [==============================] - 133s 2s/step - loss: 0.1134 - accuracy: 0.9609 - val_loss: 0.2365 - val_accuracy: 0.9418\n",
            "Epoch 3/30\n",
            "61/61 [==============================] - 133s 2s/step - loss: 0.1094 - accuracy: 0.9606 - val_loss: 0.0863 - val_accuracy: 0.9751\n",
            "Epoch 4/30\n",
            "61/61 [==============================] - 133s 2s/step - loss: 0.0881 - accuracy: 0.9746 - val_loss: 0.1195 - val_accuracy: 0.9626\n",
            "Epoch 5/30\n",
            "61/61 [==============================] - 134s 2s/step - loss: 0.0652 - accuracy: 0.9781 - val_loss: 0.0712 - val_accuracy: 0.9813\n",
            "Epoch 6/30\n",
            "61/61 [==============================] - 133s 2s/step - loss: 0.0538 - accuracy: 0.9850 - val_loss: 0.0810 - val_accuracy: 0.9688\n",
            "Epoch 7/30\n",
            "61/61 [==============================] - 134s 2s/step - loss: 0.0628 - accuracy: 0.9769 - val_loss: 0.1133 - val_accuracy: 0.9688\n",
            "Epoch 8/30\n",
            "61/61 [==============================] - 134s 2s/step - loss: 0.0877 - accuracy: 0.9689 - val_loss: 0.0896 - val_accuracy: 0.9667\n",
            "Epoch 9/30\n",
            "61/61 [==============================] - 134s 2s/step - loss: 0.0631 - accuracy: 0.9769 - val_loss: 0.0670 - val_accuracy: 0.9792\n",
            "Epoch 10/30\n",
            "61/61 [==============================] - 134s 2s/step - loss: 0.0499 - accuracy: 0.9817 - val_loss: 0.0714 - val_accuracy: 0.9792\n",
            "Epoch 11/30\n",
            "61/61 [==============================] - 134s 2s/step - loss: 0.0430 - accuracy: 0.9919 - val_loss: 0.0862 - val_accuracy: 0.9771\n",
            "Epoch 12/30\n",
            "61/61 [==============================] - 134s 2s/step - loss: 0.0289 - accuracy: 0.9898 - val_loss: 0.0658 - val_accuracy: 0.9813\n",
            "Epoch 13/30\n",
            "61/61 [==============================] - 134s 2s/step - loss: 0.0273 - accuracy: 0.9911 - val_loss: 0.0580 - val_accuracy: 0.9792\n",
            "Epoch 14/30\n",
            "61/61 [==============================] - 135s 2s/step - loss: 0.0201 - accuracy: 0.9960 - val_loss: 0.0569 - val_accuracy: 0.9813\n",
            "Epoch 15/30\n",
            "61/61 [==============================] - 134s 2s/step - loss: 0.0243 - accuracy: 0.9950 - val_loss: 0.0698 - val_accuracy: 0.9792\n",
            "Epoch 16/30\n",
            "61/61 [==============================] - 133s 2s/step - loss: 0.0100 - accuracy: 0.9977 - val_loss: 0.0514 - val_accuracy: 0.9854\n",
            "Epoch 17/30\n",
            "61/61 [==============================] - 134s 2s/step - loss: 0.0206 - accuracy: 0.9931 - val_loss: 0.0418 - val_accuracy: 0.9896\n",
            "Epoch 18/30\n",
            "61/61 [==============================] - 134s 2s/step - loss: 0.0073 - accuracy: 0.9967 - val_loss: 0.0314 - val_accuracy: 0.9917\n",
            "Epoch 19/30\n",
            "61/61 [==============================] - 134s 2s/step - loss: 0.0132 - accuracy: 0.9968 - val_loss: 0.0697 - val_accuracy: 0.9813\n",
            "Epoch 20/30\n",
            "61/61 [==============================] - 134s 2s/step - loss: 0.0071 - accuracy: 0.9982 - val_loss: 0.0711 - val_accuracy: 0.9792\n",
            "Epoch 21/30\n",
            "61/61 [==============================] - 134s 2s/step - loss: 0.0134 - accuracy: 0.9955 - val_loss: 0.0614 - val_accuracy: 0.9813\n",
            "Epoch 22/30\n",
            "61/61 [==============================] - 133s 2s/step - loss: 0.0091 - accuracy: 0.9977 - val_loss: 0.0637 - val_accuracy: 0.9771\n",
            "Epoch 23/30\n",
            "61/61 [==============================] - 134s 2s/step - loss: 0.0173 - accuracy: 0.9934 - val_loss: 0.0469 - val_accuracy: 0.9854\n",
            "Epoch 24/30\n",
            "61/61 [==============================] - 134s 2s/step - loss: 0.0120 - accuracy: 0.9974 - val_loss: 0.0545 - val_accuracy: 0.9771\n",
            "Epoch 25/30\n",
            "61/61 [==============================] - 134s 2s/step - loss: 0.0265 - accuracy: 0.9911 - val_loss: 0.0794 - val_accuracy: 0.9813\n",
            "Epoch 26/30\n",
            "61/61 [==============================] - 134s 2s/step - loss: 0.0181 - accuracy: 0.9952 - val_loss: 0.0634 - val_accuracy: 0.9813\n",
            "Epoch 27/30\n",
            "61/61 [==============================] - 133s 2s/step - loss: 0.0153 - accuracy: 0.9928 - val_loss: 0.0602 - val_accuracy: 0.9834\n",
            "Epoch 28/30\n",
            "61/61 [==============================] - 133s 2s/step - loss: 0.0161 - accuracy: 0.9963 - val_loss: 0.0972 - val_accuracy: 0.9792\n",
            "Epoch 29/30\n",
            "61/61 [==============================] - 133s 2s/step - loss: 0.0121 - accuracy: 0.9966 - val_loss: 0.0813 - val_accuracy: 0.9813\n",
            "Epoch 30/30\n",
            "61/61 [==============================] - 132s 2s/step - loss: 0.0038 - accuracy: 0.9987 - val_loss: 0.0584 - val_accuracy: 0.9854\n",
            "CPU times: user 2h 9min 29s, sys: 54.7 s, total: 2h 10min 24s\n",
            "Wall time: 1h 6min 55s\n"
          ],
          "name": "stdout"
        }
      ]
    },
    {
      "cell_type": "markdown",
      "metadata": {
        "id": "2Q3y2pLHGK-4"
      },
      "source": [
        "# Evaluating the model"
      ]
    },
    {
      "cell_type": "code",
      "metadata": {
        "colab": {
          "base_uri": "https://localhost:8080/"
        },
        "id": "z2qSFhx55Jme",
        "outputId": "0f9572f9-e555-4bcb-838d-c588445ef9a6"
      },
      "source": [
        "# Evaluating the model:\n",
        "model.evaluate(Xtest_norm,ytest,verbose= 1)"
      ],
      "execution_count": null,
      "outputs": [
        {
          "output_type": "stream",
          "text": [
            "19/19 [==============================] - 7s 391ms/step - loss: 0.0630 - accuracy: 0.9850\n"
          ],
          "name": "stdout"
        },
        {
          "output_type": "execute_result",
          "data": {
            "text/plain": [
              "[0.06298761814832687, 0.985049843788147]"
            ]
          },
          "metadata": {
            "tags": []
          },
          "execution_count": 14
        }
      ]
    },
    {
      "cell_type": "markdown",
      "metadata": {
        "id": "bcZh5y1qHcWI"
      },
      "source": [
        "# Plot performance metrics"
      ]
    },
    {
      "cell_type": "code",
      "metadata": {
        "colab": {
          "base_uri": "https://localhost:8080/",
          "height": 288
        },
        "id": "sOjJ143hGO63",
        "outputId": "356cf46c-3dd5-40c5-b018-078c7c747e71"
      },
      "source": [
        "# plot the model accuracy and loss for the training and the validating set.\n",
        "# CNN Model\n",
        "from matplotlib import pyplot as plt\n",
        "fig, ax = plt.subplots(1, 4, figsize=(30, 5))\n",
        "ax = ax.ravel()\n",
        "\n",
        "for i, met in enumerate(['loss', 'accuracy', 'loss', 'accuracy']):\n",
        "    ax[i].plot(model_history.history[met])\n",
        "    ax[i].plot(model_history.history['val_' + met])\n",
        "    ax[i].set_title('CNN Model {}'.format(met))\n",
        "    ax[i].set_xlabel('epochs')\n",
        "    ax[i].set_ylabel(met)\n",
        "    ax[i].legend(['train', 'val'])"
      ],
      "execution_count": null,
      "outputs": [
        {
          "output_type": "display_data",
          "data": {
            "image/png": "[encoded data removed]",
            "text/plain": [
              "<Figure size 2160x360 with 4 Axes>"
            ]
          },
          "metadata": {
            "tags": [],
            "needs_background": "light"
          }
        }
      ]
    },
    {
      "cell_type": "markdown",
      "metadata": {
        "id": "HiEPvCU5IYaC"
      },
      "source": [
        "# Confusion Matrix"
      ]
    },
    {
      "cell_type": "code",
      "metadata": {
        "id": "C55qu_-THl2p",
        "colab": {
          "base_uri": "https://localhost:8080/",
          "height": 369
        },
        "outputId": "eaacd005-41d1-45fe-881e-75379333b988"
      },
      "source": [
        "pred  = model.predict_classes(Xtest_norm,verbose= 1)\n",
        "\n",
        "'''pred_normalized = []\n",
        "for i in range(len(pred)):\n",
        "  if(pred[i]<=0.5):\n",
        "    pred_normalized.append(1)\n",
        "  else:\n",
        "    pred_normalized.append(0)\n",
        "'''\n",
        "import seaborn as sns\n",
        "\n",
        "cm = confusion_matrix(ytest, pred)\n",
        "ax= plt.subplot()\n",
        "sns.heatmap(cm, annot=True, fmt='g', ax = ax); #annot=True to annotate cells\n",
        "\n",
        "# labels, title and ticks\n",
        "ax.set_xlabel('Predicted labels');ax.set_ylabel('True labels'); \n",
        "ax.set_title('Confusion Matrix'); \n",
        "ax.xaxis.set_ticklabels(['Covid', 'Normal']); ax.yaxis.set_ticklabels(['Covid', 'Normal']);\n"
      ],
      "execution_count": null,
      "outputs": [
        {
          "output_type": "stream",
          "text": [
            "/usr/local/lib/python3.7/dist-packages/tensorflow/python/keras/engine/sequential.py:450: UserWarning: `model.predict_classes()` is deprecated and will be removed after 2021-01-01. Please use instead:* `np.argmax(model.predict(x), axis=-1)`,   if your model does multi-class classification   (e.g. if it uses a `softmax` last-layer activation).* `(model.predict(x) > 0.5).astype(\"int32\")`,   if your model does binary classification   (e.g. if it uses a `sigmoid` last-layer activation).\n",
            "  warnings.warn('`model.predict_classes()` is deprecated and '\n"
          ],
          "name": "stderr"
        },
        {
          "output_type": "stream",
          "text": [
            "19/19 [==============================] - 10s 514ms/step\n"
          ],
          "name": "stdout"
        },
        {
          "output_type": "display_data",
          "data": {
            "image/png": "[encoded data removed]",
            "text/plain": [
              "<Figure size 432x288 with 2 Axes>"
            ]
          },
          "metadata": {
            "tags": [],
            "needs_background": "light"
          }
        }
      ]
    },
    {
      "cell_type": "code",
      "metadata": {
        "colab": {
          "base_uri": "https://localhost:8080/"
        },
        "id": "kkTlHpxVF0iq",
        "outputId": "9b5b6e62-369e-4644-9465-e8071c62c5c4"
      },
      "source": [
        "TP = 328\n",
        "TN = 265\n",
        "FN = 5\n",
        "FP = 4\n",
        "total  = TP+TN+FN+FP\n",
        "\n",
        "print(\"sensitivity(Recall)\",TP/(TP+FN)*100)\n",
        "print(\"Specificity\",TN/(TN+FP)*100)\n",
        "print(\"Precision\",TP/(TP+FP)*100)\n",
        "\n",
        "# When it's actually yes, how often does it predict yes\n",
        "# (FP+FN)/total \n",
        "# equivalent to 1 minus Accuracy\n",
        "# also known as \"Error Rate\"\n",
        "\n",
        "Misclassification_Rate = (FP+FN)/total\n",
        "print(\"Misclassification Rate\",Misclassification_Rate)\n",
        " \n",
        "# How often does the yes condition actually occur in our sample?\n",
        "Prevalence = (FN+TP)/total\n",
        "print(\"Prevalence\",Prevalence*100)"
      ],
      "execution_count": null,
      "outputs": [
        {
          "output_type": "stream",
          "text": [
            "sensitivity 98.49849849849849\n",
            "Specificity 98.51301115241635\n",
            "Precision 98.79518072289156\n",
            "Misclassification Rate 0.014950166112956811\n",
            "Prevalence 55.3156146179402\n"
          ],
          "name": "stdout"
        }
      ]
    },
    {
      "cell_type": "code",
      "metadata": {
        "colab": {
          "base_uri": "https://localhost:8080/"
        },
        "id": "YH6sQ9DWyEcZ",
        "outputId": "b0de8e75-f50a-4466-fe7b-f802728c9ef6"
      },
      "source": [
        "ytest, pred.T\n",
        "\n"
      ],
      "execution_count": null,
      "outputs": [
        {
          "output_type": "execute_result",
          "data": {
            "text/plain": [
              "(array([0., 0., 0., 0., 0., 0., 0., 0., 0., 0., 0., 0., 0., 0., 0., 0., 0.,\n",
              "        0., 0., 0., 0., 0., 0., 0., 0., 0., 0., 0., 0., 0., 0., 0., 0., 0.,\n",
              "        0., 0., 0., 0., 0., 0., 0., 0., 0., 0., 0., 0., 0., 0., 0., 0., 0.,\n",
              "        0., 0., 0., 0., 0., 0., 0., 0., 0., 0., 0., 0., 0., 0., 0., 0., 0.,\n",
              "        0., 0., 0., 0., 0., 0., 0., 0., 0., 0., 0., 0., 0., 0., 0., 0., 0.,\n",
              "        0., 0., 0., 0., 0., 0., 0., 0., 0., 0., 0., 0., 0., 0., 0., 0., 0.,\n",
              "        0., 0., 0., 0., 0., 0., 0., 0., 0., 0., 0., 0., 0., 0., 0., 0., 0.,\n",
              "        0., 0., 0., 0., 0., 0., 0., 0., 0., 0., 0., 0., 0., 0., 0., 0., 0.,\n",
              "        0., 0., 0., 0., 0., 0., 0., 0., 0., 0., 0., 0., 0., 0., 0., 0., 0.,\n",
              "        0., 0., 0., 0., 0., 0., 0., 0., 0., 0., 0., 0., 0., 0., 0., 0., 0.,\n",
              "        0., 0., 0., 0., 0., 0., 0., 0., 0., 0., 0., 0., 0., 0., 0., 0., 0.,\n",
              "        0., 0., 0., 0., 0., 0., 0., 0., 0., 0., 0., 0., 0., 0., 0., 0., 0.,\n",
              "        0., 0., 0., 0., 0., 0., 0., 0., 0., 0., 0., 0., 0., 0., 0., 0., 0.,\n",
              "        0., 0., 0., 0., 0., 0., 0., 0., 0., 0., 0., 0., 0., 0., 0., 0., 0.,\n",
              "        0., 0., 0., 0., 0., 0., 0., 0., 0., 0., 0., 0., 0., 0., 0., 0., 0.,\n",
              "        0., 0., 0., 0., 0., 0., 0., 0., 0., 0., 0., 0., 0., 0., 0., 0., 0.,\n",
              "        0., 0., 0., 0., 0., 0., 0., 0., 0., 0., 0., 0., 0., 0., 0., 0., 0.,\n",
              "        0., 0., 0., 0., 0., 0., 0., 0., 0., 0., 0., 0., 0., 0., 0., 0., 0.,\n",
              "        0., 0., 0., 0., 0., 0., 0., 0., 0., 0., 0., 0., 0., 0., 0., 0., 0.,\n",
              "        0., 0., 0., 0., 0., 0., 0., 0., 0., 0., 1., 1., 1., 1., 1., 1., 1.,\n",
              "        1., 1., 1., 1., 1., 1., 1., 1., 1., 1., 1., 1., 1., 1., 1., 1., 1.,\n",
              "        1., 1., 1., 1., 1., 1., 1., 1., 1., 1., 1., 1., 1., 1., 1., 1., 1.,\n",
              "        1., 1., 1., 1., 1., 1., 1., 1., 1., 1., 1., 1., 1., 1., 1., 1., 1.,\n",
              "        1., 1., 1., 1., 1., 1., 1., 1., 1., 1., 1., 1., 1., 1., 1., 1., 1.,\n",
              "        1., 1., 1., 1., 1., 1., 1., 1., 1., 1., 1., 1., 1., 1., 1., 1., 1.,\n",
              "        1., 1., 1., 1., 1., 1., 1., 1., 1., 1., 1., 1., 1., 1., 1., 1., 1.,\n",
              "        1., 1., 1., 1., 1., 1., 1., 1., 1., 1., 1., 1., 1., 1., 1., 1., 1.,\n",
              "        1., 1., 1., 1., 1., 1., 1., 1., 1., 1., 1., 1., 1., 1., 1., 1., 1.,\n",
              "        1., 1., 1., 1., 1., 1., 1., 1., 1., 1., 1., 1., 1., 1., 1., 1., 1.,\n",
              "        1., 1., 1., 1., 1., 1., 1., 1., 1., 1., 1., 1., 1., 1., 1., 1., 1.,\n",
              "        1., 1., 1., 1., 1., 1., 1., 1., 1., 1., 1., 1., 1., 1., 1., 1., 1.,\n",
              "        1., 1., 1., 1., 1., 1., 1., 1., 1., 1., 1., 1., 1., 1., 1., 1., 1.,\n",
              "        1., 1., 1., 1., 1., 1., 1., 1., 1., 1., 1., 1., 1., 1., 1., 1., 1.,\n",
              "        1., 1., 1., 1., 1., 1., 1., 1., 1., 1., 1., 1., 1., 1., 1., 1., 1.,\n",
              "        1., 1., 1., 1., 1., 1., 1., 1., 1., 1., 1., 1., 1., 1., 1., 1., 1.,\n",
              "        1., 1., 1., 1., 1., 1., 1.]),\n",
              " array([[0, 0, 0, 0, 0, 0, 0, 0, 0, 0, 0, 0, 0, 0, 0, 0, 0, 0, 0, 0, 0, 0,\n",
              "         0, 0, 0, 0, 0, 0, 0, 0, 0, 0, 0, 0, 0, 0, 0, 0, 0, 0, 0, 0, 0, 0,\n",
              "         0, 0, 0, 0, 0, 0, 0, 0, 0, 0, 0, 0, 0, 0, 0, 0, 0, 0, 0, 0, 0, 0,\n",
              "         0, 0, 0, 0, 0, 0, 0, 0, 0, 0, 0, 0, 0, 0, 0, 0, 0, 0, 0, 0, 0, 0,\n",
              "         0, 0, 0, 0, 0, 0, 0, 0, 1, 0, 0, 0, 0, 0, 0, 0, 0, 0, 0, 0, 0, 0,\n",
              "         0, 0, 0, 0, 0, 0, 0, 0, 0, 0, 1, 0, 1, 0, 0, 0, 0, 0, 0, 0, 0, 0,\n",
              "         0, 0, 0, 0, 0, 0, 0, 0, 0, 0, 0, 0, 0, 0, 0, 0, 0, 0, 0, 0, 0, 0,\n",
              "         0, 0, 0, 0, 0, 0, 0, 0, 0, 0, 0, 0, 0, 0, 1, 0, 1, 0, 0, 0, 0, 0,\n",
              "         0, 0, 0, 0, 0, 0, 0, 0, 0, 0, 0, 0, 0, 0, 0, 0, 0, 0, 0, 0, 0, 0,\n",
              "         0, 0, 0, 0, 0, 0, 0, 0, 0, 0, 0, 0, 0, 0, 0, 0, 0, 0, 0, 0, 0, 0,\n",
              "         0, 0, 0, 0, 0, 0, 0, 0, 0, 0, 0, 0, 0, 0, 0, 0, 0, 0, 0, 0, 0, 0,\n",
              "         0, 0, 0, 0, 0, 0, 0, 0, 0, 0, 0, 0, 0, 0, 0, 0, 0, 0, 0, 0, 0, 0,\n",
              "         0, 0, 0, 0, 0, 0, 0, 0, 0, 0, 0, 0, 0, 0, 0, 0, 0, 0, 0, 0, 0, 0,\n",
              "         0, 0, 0, 0, 0, 0, 0, 0, 0, 0, 0, 0, 0, 0, 0, 0, 0, 0, 0, 0, 0, 0,\n",
              "         0, 0, 0, 0, 0, 0, 0, 0, 0, 0, 0, 0, 0, 0, 0, 0, 0, 0, 0, 0, 0, 0,\n",
              "         0, 0, 0, 1, 1, 1, 1, 1, 1, 1, 1, 1, 1, 1, 1, 1, 1, 1, 1, 1, 1, 1,\n",
              "         1, 1, 1, 1, 1, 1, 1, 1, 1, 1, 1, 0, 1, 1, 1, 1, 1, 1, 1, 1, 1, 1,\n",
              "         1, 1, 1, 1, 1, 1, 1, 1, 1, 1, 1, 1, 1, 1, 1, 1, 1, 1, 1, 1, 1, 1,\n",
              "         1, 1, 1, 1, 1, 1, 1, 1, 1, 1, 1, 1, 1, 1, 1, 1, 1, 1, 1, 1, 1, 1,\n",
              "         1, 1, 1, 1, 1, 1, 1, 1, 1, 1, 1, 1, 1, 1, 1, 1, 1, 1, 1, 1, 1, 1,\n",
              "         1, 1, 1, 1, 1, 1, 1, 1, 1, 1, 1, 1, 1, 1, 1, 1, 1, 1, 1, 1, 1, 1,\n",
              "         1, 1, 1, 1, 1, 1, 1, 1, 1, 1, 1, 1, 1, 1, 1, 1, 1, 1, 1, 1, 1, 1,\n",
              "         1, 1, 1, 1, 1, 1, 1, 1, 1, 1, 1, 1, 1, 1, 1, 1, 1, 1, 1, 1, 1, 1,\n",
              "         1, 1, 1, 1, 1, 1, 1, 1, 1, 1, 1, 0, 1, 1, 1, 1, 1, 1, 1, 1, 1, 1,\n",
              "         1, 1, 1, 1, 1, 1, 1, 1, 1, 0, 1, 1, 1, 1, 1, 1, 1, 1, 1, 1, 1, 1,\n",
              "         1, 1, 1, 1, 1, 1, 1, 1, 1, 1, 1, 1, 1, 1, 1, 1, 1, 1, 1, 1, 1, 1,\n",
              "         1, 1, 1, 1, 1, 1, 1, 1, 1, 1, 1, 1, 1, 1, 1, 1, 1, 1, 0, 1, 1, 1,\n",
              "         1, 1, 1, 1, 1, 1, 1, 1]], dtype=int32))"
            ]
          },
          "metadata": {
            "tags": []
          },
          "execution_count": 23
        }
      ]
    },
    {
      "cell_type": "markdown",
      "metadata": {
        "id": "muGIpNjZTssN"
      },
      "source": [
        "## Saving The Model"
      ]
    },
    {
      "cell_type": "code",
      "metadata": {
        "id": "S8JlbjbqTyDA"
      },
      "source": [
        "model_save_name = 'model.h5'\n",
        "path = F\"/content/{model_save_name}\" \n",
        "model.save(path)"
      ],
      "execution_count": null,
      "outputs": []
    },
    {
      "cell_type": "markdown",
      "metadata": {
        "id": "EK1AFaNiKohC"
      },
      "source": [
        "# Loading the Model"
      ]
    },
    {
      "cell_type": "code",
      "metadata": {
        "id": "ObCleY2aKUyW",
        "colab": {
          "base_uri": "https://localhost:8080/"
        },
        "outputId": "035e7ae8-7c50-41df-8eaf-8c25ff9d0187"
      },
      "source": [
        "from google.colab import drive\n",
        "drive.mount('/content/gdrive')"
      ],
      "execution_count": null,
      "outputs": [
        {
          "output_type": "stream",
          "text": [
            "Mounted at /content/gdrive\n"
          ],
          "name": "stdout"
        }
      ]
    },
    {
      "cell_type": "code",
      "metadata": {
        "id": "98W-dU-vPOKW"
      },
      "source": [
        "from tensorflow.keras.models import load_model\n",
        "\n",
        "model = load_model('/content/gdrive/MyDrive/Temp/Model trained without ImageDataGenerator.h5')"
      ],
      "execution_count": null,
      "outputs": []
    },
    {
      "cell_type": "code",
      "metadata": {
        "id": "Kbb6Ymdjcl5X"
      },
      "source": [
        ""
      ],
      "execution_count": null,
      "outputs": []
    },
    {
      "cell_type": "code",
      "metadata": {
        "id": "_fLeSViNcl2t"
      },
      "source": [
        ""
      ],
      "execution_count": null,
      "outputs": []
    },
    {
      "cell_type": "code",
      "metadata": {
        "id": "EqlwfxtEclz_"
      },
      "source": [
        ""
      ],
      "execution_count": null,
      "outputs": []
    },
    {
      "cell_type": "code",
      "metadata": {
        "id": "qtHg2Socclx2"
      },
      "source": [
        ""
      ],
      "execution_count": null,
      "outputs": []
    },
    {
      "cell_type": "code",
      "metadata": {
        "id": "ID6I3nmDclus"
      },
      "source": [
        ""
      ],
      "execution_count": null,
      "outputs": []
    },
    {
      "cell_type": "code",
      "metadata": {
        "id": "uHtmJUBte-ph"
      },
      "source": [
        ""
      ],
      "execution_count": null,
      "outputs": []
    },
    {
      "cell_type": "code",
      "metadata": {
        "id": "uLii-j1Ve-cx"
      },
      "source": [
        ""
      ],
      "execution_count": null,
      "outputs": []
    },
    {
      "cell_type": "markdown",
      "metadata": {
        "id": "iXblYekrqBZ8"
      },
      "source": [
        "# ROC"
      ]
    },
    {
      "cell_type": "code",
      "metadata": {
        "id": "is32hv8RKUP9"
      },
      "source": [
        "# ROC\n",
        "from sklearn.metrics import roc_curve\n",
        "y_pred_keras = model.predict(Xtest_norm).ravel()\n",
        "fpr_keras, tpr_keras, thresholds_keras = roc_curve(ytest, y_pred_keras)\n",
        "\n",
        "# AUC\n",
        "from sklearn.metrics import auc\n",
        "auc_keras = auc(fpr_keras, tpr_keras)"
      ],
      "execution_count": null,
      "outputs": []
    },
    {
      "cell_type": "code",
      "metadata": {
        "id": "rj6voZW4KUM2",
        "colab": {
          "base_uri": "https://localhost:8080/",
          "height": 573
        },
        "outputId": "78cd788b-93c9-4b7d-ce06-c13690f6fe24"
      },
      "source": [
        "plt.figure(1)\n",
        "plt.plot([0, 1], [0, 1], 'k--')\n",
        "plt.plot(fpr_keras, tpr_keras, label='Keras (area = {:.3f})'.format(auc_keras))\n",
        "plt.xlabel('False positive rate')\n",
        "plt.ylabel('True positive rate')\n",
        "plt.title('ROC curve')\n",
        "plt.legend(loc='best')\n",
        "plt.show()\n",
        "# Zoom in view of the upper left corner.\n",
        "plt.figure(2)\n",
        "plt.xlim(0, 0.2)\n",
        "plt.ylim(0.8, 1)\n",
        "plt.plot([0, 1], [0, 1], 'k--')\n",
        "plt.plot(fpr_keras, tpr_keras, label='Keras (area = {:.3f})'.format(auc_keras))\n",
        "plt.xlabel('False positive rate')\n",
        "plt.ylabel('True positive rate')\n",
        "plt.title('ROC curve (zoomed in at top left)')\n",
        "plt.legend(loc='best')\n",
        "plt.show()"
      ],
      "execution_count": null,
      "outputs": [
        {
          "output_type": "display_data",
          "data": {
            "image/png": "[encoded data removed]",
            "text/plain": [
              "<Figure size 432x288 with 1 Axes>"
            ]
          },
          "metadata": {
            "tags": [],
            "needs_background": "light"
          }
        },
        {
          "output_type": "display_data",
          "data": {
            "image/png": "[encoded data removed]",
            "text/plain": [
              "<Figure size 432x288 with 1 Axes>"
            ]
          },
          "metadata": {
            "tags": [],
            "needs_background": "light"
          }
        }
      ]
    },
    {
      "cell_type": "markdown",
      "metadata": {
        "id": "PrRENkyNzqjw"
      },
      "source": [
        "# precision-recall curve and f1"
      ]
    },
    {
      "cell_type": "code",
      "metadata": {
        "colab": {
          "base_uri": "https://localhost:8080/",
          "height": 354
        },
        "id": "IMDcrK798XWF",
        "outputId": "46ccd905-edba-41ae-b9c6-fc08c4046cda"
      },
      "source": [
        "\n",
        "\n",
        "\n",
        "from sklearn.metrics import precision_recall_curve\n",
        "from sklearn.metrics import f1_score\n",
        "from sklearn.metrics import auc\n",
        "from matplotlib import pyplot\n",
        "\n",
        "prob = model.predict_proba(Xtest_norm)\n",
        "\n",
        "lr_precision, lr_recall, _ = precision_recall_curve(ytest, prob)\n",
        "lr_f1, lr_auc = f1_score(ytest, pred), auc(lr_recall, lr_precision)\n",
        "# summarize scores\n",
        "print('Logistic: f1=%.3f auc=%.3f' % (lr_f1, lr_auc))\n",
        "# plot the precision-recall curves\n",
        "no_skill = len(ytest[ytest==1]) / len(ytest)\n",
        "pyplot.plot([0, 1], [no_skill, no_skill], linestyle='--', label='No Skill')\n",
        "pyplot.plot(lr_recall, lr_precision, marker='.', label='CNN')\n",
        "# axis labels\n",
        "pyplot.xlabel('Recall')\n",
        "pyplot.ylabel('Precision')\n",
        "# show the legend\n",
        "pyplot.legend()\n",
        "# show the plot\n",
        "pyplot.show()"
      ],
      "execution_count": null,
      "outputs": [
        {
          "output_type": "stream",
          "text": [
            "/usr/local/lib/python3.7/dist-packages/tensorflow/python/keras/engine/sequential.py:425: UserWarning: `model.predict_proba()` is deprecated and will be removed after 2021-01-01. Please use `model.predict()` instead.\n",
            "  warnings.warn('`model.predict_proba()` is deprecated and '\n"
          ],
          "name": "stderr"
        },
        {
          "output_type": "stream",
          "text": [
            "Logistic: f1=0.983 auc=0.999\n"
          ],
          "name": "stdout"
        },
        {
          "output_type": "display_data",
          "data": {
            "image/png": "[encoded data removed]",
            "text/plain": [
              "<Figure size 432x288 with 1 Axes>"
            ]
          },
          "metadata": {
            "tags": [],
            "needs_background": "light"
          }
        }
      ]
    },
    {
      "cell_type": "code",
      "metadata": {
        "id": "v56pSskB8XSp",
        "colab": {
          "base_uri": "https://localhost:8080/"
        },
        "outputId": "e54f39c3-40d6-4979-e2d3-bdfc1e762739"
      },
      "source": [
        "from sklearn.metrics import precision_score,f1_score,recall_score\n",
        "\n",
        "pr, f1, recal  = precision_score(ytest,pred), f1_score(ytest,pred), recall_score(ytest,pred)\n",
        "print('Precision = %.3f \\nF1 Score = %.3f \\nRecall = %.3f' % (pr, f1, recal))"
      ],
      "execution_count": null,
      "outputs": [
        {
          "output_type": "stream",
          "text": [
            "Precision = 0.981 \n",
            "F1 Score = 0.983 \n",
            "Recall = 0.985\n"
          ],
          "name": "stdout"
        }
      ]
    },
    {
      "cell_type": "code",
      "metadata": {
        "id": "xmBFzEV78XDp"
      },
      "source": [
        ""
      ],
      "execution_count": null,
      "outputs": []
    },
    {
      "cell_type": "markdown",
      "metadata": {
        "id": "gsbsEQzawDOK"
      },
      "source": [
        "# classification_report"
      ]
    },
    {
      "cell_type": "code",
      "metadata": {
        "id": "6EFYcenaKUGa",
        "colab": {
          "base_uri": "https://localhost:8080/"
        },
        "outputId": "3148bd51-688f-41f2-a78a-a58573bf1483"
      },
      "source": [
        "from sklearn.metrics import classification_report\n",
        "print(classification_report(ytest, pred))\n",
        "print('normal = 1 , covid19 = 0')"
      ],
      "execution_count": null,
      "outputs": [
        {
          "output_type": "stream",
          "text": [
            "              precision    recall  f1-score   support\n",
            "\n",
            "         0.0       0.99      0.98      0.99       333\n",
            "         1.0       0.98      0.99      0.98       269\n",
            "\n",
            "    accuracy                           0.99       602\n",
            "   macro avg       0.98      0.99      0.98       602\n",
            "weighted avg       0.99      0.99      0.99       602\n",
            "\n",
            "normal = 1 , covid19 = 0\n"
          ],
          "name": "stdout"
        }
      ]
    },
    {
      "cell_type": "markdown",
      "metadata": {
        "id": "V7Mwfz98ylRb"
      },
      "source": [
        "## K-Fold cross validation\n"
      ]
    },
    {
      "cell_type": "code",
      "metadata": {
        "id": "Jw07WB-kKUDi"
      },
      "source": [
        "# Model With Dropout Layer\n",
        "\n",
        "\n",
        "def build_model():\n",
        "  model = Sequential()\n",
        "\n",
        "# add the convolutional layer\n",
        "# filters, size of filters, padding, activation_function, inout_shape\n",
        "  model.add(Conv2D(32,(5,5), padding = 'SAME', activation = 'relu', input_shape = (150,150,3)))\n",
        "\n",
        "  # pooling layer\n",
        "  model.add(MaxPooling2D(pool_size = (2,2)))\n",
        "\n",
        "  # place a dropout layer\n",
        "  model.add(Dropout(0.5)) ## Minimizes the overfitting\n",
        "\n",
        "  # add another convolutional layer\n",
        "  model.add(Conv2D(64,(5,5), padding = 'SAME', activation = 'relu'))\n",
        "\n",
        "  # pooling layer\n",
        "  model.add(MaxPooling2D(pool_size = (2,2)))\n",
        "\n",
        "  # place a dropout layer\n",
        "  model.add(Dropout(0.5))\n",
        "\n",
        "  # Flatten the image to 1 dimensional array\n",
        "  model.add(Flatten())\n",
        "\n",
        "  # add a dense layer : amount of nodes, activation\n",
        "  model.add(Dense(256, activation = 'relu'))\n",
        "\n",
        "  # place a dropout layer\n",
        "  # 0.5 drop out rate is recommended, half input will be dropped at each update\n",
        "  model.add(Dropout(0.5))\n",
        "  model.add(Dense(1, activation = 'sigmoid'))\n",
        "\n",
        "  # compile model\n",
        "  from tensorflow.keras.optimizers import Adam # Adam is optimizer\n",
        "# Loss function definition\n",
        "  model.compile(Adam(lr = 0.001),loss = 'binary_crossentropy', metrics = ['accuracy'])\n",
        "  return model"
      ],
      "execution_count": null,
      "outputs": []
    },
    {
      "cell_type": "code",
      "metadata": {
        "id": "HrF2Xr0IKUAV",
        "colab": {
          "base_uri": "https://localhost:8080/"
        },
        "outputId": "d6c2c613-dff5-4daa-fa28-dda15a43c6b4"
      },
      "source": [
        "%%time\n",
        "\n",
        "from tensorflow.keras.wrappers.scikit_learn import KerasClassifier\n",
        "from sklearn.model_selection import KFold, cross_val_score\n",
        "import time\n",
        "\n",
        "\n",
        "estimator= KerasClassifier(build_fn=build_model, epochs=30,verbose = 1)\n",
        "kfold= KFold(n_splits=5,shuffle=True)\n",
        "results= cross_val_score(estimator, X_train_norm, y_train, cv=kfold)\n",
        "print(\"Accuracies per K-Fold \", results)\n",
        "results.mean()"
      ],
      "execution_count": null,
      "outputs": [
        {
          "output_type": "stream",
          "text": [
            "Epoch 1/30\n",
            "48/48 [==============================] - 92s 2s/step - loss: 2.5616 - accuracy: 0.6681\n",
            "Epoch 2/30\n",
            "48/48 [==============================] - 90s 2s/step - loss: 0.1555 - accuracy: 0.9499\n",
            "Epoch 3/30\n",
            "48/48 [==============================] - 91s 2s/step - loss: 0.1310 - accuracy: 0.9682\n",
            "Epoch 4/30\n",
            "48/48 [==============================] - 91s 2s/step - loss: 0.0770 - accuracy: 0.9738\n",
            "Epoch 5/30\n",
            "48/48 [==============================] - 91s 2s/step - loss: 0.0617 - accuracy: 0.9748\n",
            "Epoch 6/30\n",
            "48/48 [==============================] - 91s 2s/step - loss: 0.0847 - accuracy: 0.9663\n",
            "Epoch 7/30\n",
            "48/48 [==============================] - 91s 2s/step - loss: 0.0754 - accuracy: 0.9807\n",
            "Epoch 8/30\n",
            "48/48 [==============================] - 91s 2s/step - loss: 0.0484 - accuracy: 0.9830\n",
            "Epoch 9/30\n",
            "48/48 [==============================] - 91s 2s/step - loss: 0.0460 - accuracy: 0.9829\n",
            "Epoch 10/30\n",
            "48/48 [==============================] - 91s 2s/step - loss: 0.0379 - accuracy: 0.9861\n",
            "Epoch 11/30\n",
            "48/48 [==============================] - 90s 2s/step - loss: 0.0442 - accuracy: 0.9881\n",
            "Epoch 12/30\n",
            "48/48 [==============================] - 91s 2s/step - loss: 0.0488 - accuracy: 0.9854\n",
            "Epoch 13/30\n",
            "48/48 [==============================] - 91s 2s/step - loss: 0.0554 - accuracy: 0.9790\n",
            "Epoch 14/30\n",
            "48/48 [==============================] - 91s 2s/step - loss: 0.0298 - accuracy: 0.9922\n",
            "Epoch 15/30\n",
            "48/48 [==============================] - 91s 2s/step - loss: 0.0294 - accuracy: 0.9921\n",
            "Epoch 16/30\n",
            "48/48 [==============================] - 90s 2s/step - loss: 0.0279 - accuracy: 0.9904\n",
            "Epoch 17/30\n",
            "48/48 [==============================] - 91s 2s/step - loss: 0.0206 - accuracy: 0.9911\n",
            "Epoch 18/30\n",
            "48/48 [==============================] - 91s 2s/step - loss: 0.0388 - accuracy: 0.9867\n",
            "Epoch 19/30\n",
            "48/48 [==============================] - 91s 2s/step - loss: 0.0905 - accuracy: 0.9739\n",
            "Epoch 20/30\n",
            "48/48 [==============================] - 91s 2s/step - loss: 0.0886 - accuracy: 0.9714\n",
            "Epoch 21/30\n",
            "48/48 [==============================] - 91s 2s/step - loss: 0.0486 - accuracy: 0.9867\n",
            "Epoch 22/30\n",
            "48/48 [==============================] - 90s 2s/step - loss: 0.0802 - accuracy: 0.9779\n",
            "Epoch 23/30\n",
            "48/48 [==============================] - 90s 2s/step - loss: 0.0651 - accuracy: 0.9788\n",
            "Epoch 24/30\n",
            "48/48 [==============================] - 91s 2s/step - loss: 0.0499 - accuracy: 0.9871\n",
            "Epoch 25/30\n",
            "48/48 [==============================] - 90s 2s/step - loss: 0.0497 - accuracy: 0.9781\n",
            "Epoch 26/30\n",
            "48/48 [==============================] - 90s 2s/step - loss: 0.0313 - accuracy: 0.9889\n",
            "Epoch 27/30\n",
            "48/48 [==============================] - 91s 2s/step - loss: 0.0234 - accuracy: 0.9926\n",
            "Epoch 28/30\n",
            "48/48 [==============================] - 90s 2s/step - loss: 0.0209 - accuracy: 0.9911\n",
            "Epoch 29/30\n",
            "48/48 [==============================] - 90s 2s/step - loss: 0.0145 - accuracy: 0.9966\n",
            "Epoch 30/30\n",
            "48/48 [==============================] - 91s 2s/step - loss: 0.0122 - accuracy: 0.9965\n",
            "13/13 [==============================] - 7s 489ms/step - loss: 0.0337 - accuracy: 0.9896\n",
            "Epoch 1/30\n",
            "49/49 [==============================] - 93s 2s/step - loss: 1.2763 - accuracy: 0.7944\n",
            "Epoch 2/30\n",
            "49/49 [==============================] - 91s 2s/step - loss: 0.1035 - accuracy: 0.9628\n",
            "Epoch 3/30\n",
            "49/49 [==============================] - 92s 2s/step - loss: 0.0867 - accuracy: 0.9725\n",
            "Epoch 4/30\n",
            "49/49 [==============================] - 91s 2s/step - loss: 0.0515 - accuracy: 0.9776\n",
            "Epoch 5/30\n",
            "49/49 [==============================] - 91s 2s/step - loss: 0.0468 - accuracy: 0.9855\n",
            "Epoch 6/30\n",
            "49/49 [==============================] - 91s 2s/step - loss: 0.0438 - accuracy: 0.9886\n",
            "Epoch 7/30\n",
            "49/49 [==============================] - 91s 2s/step - loss: 0.0544 - accuracy: 0.9814\n",
            "Epoch 8/30\n",
            "49/49 [==============================] - 91s 2s/step - loss: 0.0484 - accuracy: 0.9857\n",
            "Epoch 9/30\n",
            "49/49 [==============================] - 90s 2s/step - loss: 0.0749 - accuracy: 0.9750\n",
            "Epoch 10/30\n",
            "49/49 [==============================] - 90s 2s/step - loss: 0.0382 - accuracy: 0.9861\n",
            "Epoch 11/30\n",
            "49/49 [==============================] - 90s 2s/step - loss: 0.0254 - accuracy: 0.9921\n",
            "Epoch 12/30\n",
            "49/49 [==============================] - 90s 2s/step - loss: 0.0828 - accuracy: 0.9755\n",
            "Epoch 13/30\n",
            "49/49 [==============================] - 90s 2s/step - loss: 0.0514 - accuracy: 0.9777\n",
            "Epoch 14/30\n",
            "49/49 [==============================] - 90s 2s/step - loss: 0.0579 - accuracy: 0.9779\n",
            "Epoch 15/30\n",
            "49/49 [==============================] - 90s 2s/step - loss: 0.0438 - accuracy: 0.9912\n",
            "Epoch 16/30\n",
            "49/49 [==============================] - 90s 2s/step - loss: 0.0290 - accuracy: 0.9897\n",
            "Epoch 17/30\n",
            "49/49 [==============================] - 90s 2s/step - loss: 0.0143 - accuracy: 0.9938\n",
            "Epoch 18/30\n",
            "49/49 [==============================] - 91s 2s/step - loss: 0.0482 - accuracy: 0.9853\n",
            "Epoch 19/30\n",
            "49/49 [==============================] - 91s 2s/step - loss: 0.0139 - accuracy: 0.9925\n",
            "Epoch 20/30\n",
            "49/49 [==============================] - 90s 2s/step - loss: 0.0167 - accuracy: 0.9944\n",
            "Epoch 21/30\n",
            "49/49 [==============================] - 90s 2s/step - loss: 0.0161 - accuracy: 0.9942\n",
            "Epoch 22/30\n",
            "49/49 [==============================] - 90s 2s/step - loss: 0.0188 - accuracy: 0.9956\n",
            "Epoch 23/30\n",
            "49/49 [==============================] - 90s 2s/step - loss: 0.0096 - accuracy: 0.9964\n",
            "Epoch 24/30\n",
            "49/49 [==============================] - 90s 2s/step - loss: 0.0064 - accuracy: 0.9981\n",
            "Epoch 25/30\n",
            "49/49 [==============================] - 90s 2s/step - loss: 0.0092 - accuracy: 0.9983\n",
            "Epoch 26/30\n",
            "49/49 [==============================] - 90s 2s/step - loss: 0.0067 - accuracy: 0.9970\n",
            "Epoch 27/30\n",
            "49/49 [==============================] - 90s 2s/step - loss: 0.0039 - accuracy: 0.9986\n",
            "Epoch 28/30\n",
            "49/49 [==============================] - 90s 2s/step - loss: 0.0070 - accuracy: 0.9977\n",
            "Epoch 29/30\n",
            "49/49 [==============================] - 91s 2s/step - loss: 0.0034 - accuracy: 0.9992\n",
            "Epoch 30/30\n",
            "49/49 [==============================] - 90s 2s/step - loss: 0.0255 - accuracy: 0.9893\n",
            "12/12 [==============================] - 6s 523ms/step - loss: 0.0426 - accuracy: 0.9896\n",
            "Epoch 1/30\n",
            "49/49 [==============================] - 92s 2s/step - loss: 2.5696 - accuracy: 0.7621\n",
            "Epoch 2/30\n",
            "49/49 [==============================] - 91s 2s/step - loss: 0.1300 - accuracy: 0.9611\n",
            "Epoch 3/30\n",
            "49/49 [==============================] - 91s 2s/step - loss: 0.1124 - accuracy: 0.9626\n",
            "Epoch 4/30\n",
            "49/49 [==============================] - 91s 2s/step - loss: 0.0719 - accuracy: 0.9785\n",
            "Epoch 5/30\n",
            "49/49 [==============================] - 91s 2s/step - loss: 0.0810 - accuracy: 0.9764\n",
            "Epoch 6/30\n",
            "49/49 [==============================] - 91s 2s/step - loss: 0.0684 - accuracy: 0.9790\n",
            "Epoch 7/30\n",
            "49/49 [==============================] - 91s 2s/step - loss: 0.0518 - accuracy: 0.9835\n",
            "Epoch 8/30\n",
            "49/49 [==============================] - 91s 2s/step - loss: 0.0195 - accuracy: 0.9962\n",
            "Epoch 9/30\n",
            "49/49 [==============================] - 91s 2s/step - loss: 0.0326 - accuracy: 0.9902\n",
            "Epoch 10/30\n",
            "49/49 [==============================] - 91s 2s/step - loss: 0.0194 - accuracy: 0.9941\n",
            "Epoch 11/30\n",
            "49/49 [==============================] - 91s 2s/step - loss: 0.0164 - accuracy: 0.9949\n",
            "Epoch 12/30\n",
            "49/49 [==============================] - 91s 2s/step - loss: 0.0218 - accuracy: 0.9926\n",
            "Epoch 13/30\n",
            "49/49 [==============================] - 91s 2s/step - loss: 0.0360 - accuracy: 0.9878\n",
            "Epoch 14/30\n",
            "49/49 [==============================] - 91s 2s/step - loss: 0.0098 - accuracy: 0.9987\n",
            "Epoch 15/30\n",
            "49/49 [==============================] - 91s 2s/step - loss: 0.0473 - accuracy: 0.9833\n",
            "Epoch 16/30\n",
            "49/49 [==============================] - 91s 2s/step - loss: 0.0297 - accuracy: 0.9888\n",
            "Epoch 17/30\n",
            "49/49 [==============================] - 92s 2s/step - loss: 0.0166 - accuracy: 0.9938\n",
            "Epoch 18/30\n",
            "49/49 [==============================] - 91s 2s/step - loss: 0.0187 - accuracy: 0.9927\n",
            "Epoch 19/30\n",
            "49/49 [==============================] - 91s 2s/step - loss: 0.0457 - accuracy: 0.9925\n",
            "Epoch 20/30\n",
            "49/49 [==============================] - 92s 2s/step - loss: 0.0229 - accuracy: 0.9935\n",
            "Epoch 21/30\n",
            "49/49 [==============================] - 91s 2s/step - loss: 0.0202 - accuracy: 0.9935\n",
            "Epoch 22/30\n",
            "49/49 [==============================] - 91s 2s/step - loss: 0.0121 - accuracy: 0.9956\n",
            "Epoch 23/30\n",
            "49/49 [==============================] - 91s 2s/step - loss: 0.0093 - accuracy: 0.9947\n",
            "Epoch 24/30\n",
            "49/49 [==============================] - 90s 2s/step - loss: 0.0101 - accuracy: 0.9963\n",
            "Epoch 25/30\n",
            "49/49 [==============================] - 90s 2s/step - loss: 0.0093 - accuracy: 0.9968\n",
            "Epoch 26/30\n",
            "49/49 [==============================] - 91s 2s/step - loss: 0.0152 - accuracy: 0.9944\n",
            "Epoch 27/30\n",
            "49/49 [==============================] - 91s 2s/step - loss: 0.0035 - accuracy: 0.9987\n",
            "Epoch 28/30\n",
            "49/49 [==============================] - 92s 2s/step - loss: 0.0038 - accuracy: 0.9985\n",
            "Epoch 29/30\n",
            "49/49 [==============================] - 96s 2s/step - loss: 0.0044 - accuracy: 0.9984\n",
            "Epoch 30/30\n",
            "49/49 [==============================] - 101s 2s/step - loss: 0.0187 - accuracy: 0.9978\n",
            "12/12 [==============================] - 7s 575ms/step - loss: 0.0577 - accuracy: 0.9844\n",
            "Epoch 1/30\n",
            "49/49 [==============================] - 98s 2s/step - loss: 1.1827 - accuracy: 0.7385\n",
            "Epoch 2/30\n",
            "49/49 [==============================] - 95s 2s/step - loss: 0.1488 - accuracy: 0.9546\n",
            "Epoch 3/30\n",
            "49/49 [==============================] - 98s 2s/step - loss: 0.0909 - accuracy: 0.9678\n",
            "Epoch 4/30\n",
            "49/49 [==============================] - 96s 2s/step - loss: 0.0941 - accuracy: 0.9642\n",
            "Epoch 5/30\n",
            "49/49 [==============================] - 97s 2s/step - loss: 0.0776 - accuracy: 0.9746\n",
            "Epoch 6/30\n",
            "49/49 [==============================] - 94s 2s/step - loss: 0.0634 - accuracy: 0.9772\n",
            "Epoch 7/30\n",
            "49/49 [==============================] - 95s 2s/step - loss: 0.0424 - accuracy: 0.9864\n",
            "Epoch 8/30\n",
            "49/49 [==============================] - 102s 2s/step - loss: 0.0463 - accuracy: 0.9832\n",
            "Epoch 9/30\n",
            "49/49 [==============================] - 96s 2s/step - loss: 0.0278 - accuracy: 0.9897\n",
            "Epoch 10/30\n",
            "49/49 [==============================] - 93s 2s/step - loss: 0.0352 - accuracy: 0.9947\n",
            "Epoch 11/30\n",
            "49/49 [==============================] - 93s 2s/step - loss: 0.0391 - accuracy: 0.9860\n",
            "Epoch 12/30\n",
            "49/49 [==============================] - 94s 2s/step - loss: 0.0242 - accuracy: 0.9932\n",
            "Epoch 13/30\n",
            "49/49 [==============================] - 94s 2s/step - loss: 0.0133 - accuracy: 0.9940\n",
            "Epoch 14/30\n",
            "49/49 [==============================] - 94s 2s/step - loss: 0.0179 - accuracy: 0.9940\n",
            "Epoch 15/30\n",
            "49/49 [==============================] - 93s 2s/step - loss: 0.0184 - accuracy: 0.9937\n",
            "Epoch 16/30\n",
            "49/49 [==============================] - 92s 2s/step - loss: 0.0153 - accuracy: 0.9932\n",
            "Epoch 17/30\n",
            "49/49 [==============================] - 93s 2s/step - loss: 0.0081 - accuracy: 0.9971\n",
            "Epoch 18/30\n",
            "49/49 [==============================] - 92s 2s/step - loss: 0.0429 - accuracy: 0.9819\n",
            "Epoch 19/30\n",
            "49/49 [==============================] - 91s 2s/step - loss: 0.0097 - accuracy: 0.9971\n",
            "Epoch 20/30\n",
            "49/49 [==============================] - 91s 2s/step - loss: 0.0217 - accuracy: 0.9943\n",
            "Epoch 21/30\n",
            "49/49 [==============================] - 92s 2s/step - loss: 0.0096 - accuracy: 0.9955\n",
            "Epoch 22/30\n",
            "49/49 [==============================] - 92s 2s/step - loss: 0.0101 - accuracy: 0.9960\n",
            "Epoch 23/30\n",
            "49/49 [==============================] - 92s 2s/step - loss: 0.0103 - accuracy: 0.9962\n",
            "Epoch 24/30\n",
            "49/49 [==============================] - 92s 2s/step - loss: 0.0114 - accuracy: 0.9958\n",
            "Epoch 25/30\n",
            "49/49 [==============================] - 92s 2s/step - loss: 0.0058 - accuracy: 0.9994\n",
            "Epoch 26/30\n",
            "49/49 [==============================] - 93s 2s/step - loss: 0.0039 - accuracy: 0.9986\n",
            "Epoch 27/30\n",
            "49/49 [==============================] - 93s 2s/step - loss: 0.0026 - accuracy: 0.9988\n",
            "Epoch 28/30\n",
            "49/49 [==============================] - 93s 2s/step - loss: 0.0046 - accuracy: 0.9980\n",
            "Epoch 29/30\n",
            "49/49 [==============================] - 92s 2s/step - loss: 0.0022 - accuracy: 0.9996\n",
            "Epoch 30/30\n",
            "49/49 [==============================] - 91s 2s/step - loss: 0.0078 - accuracy: 0.9969\n",
            "12/12 [==============================] - 6s 523ms/step - loss: 0.0128 - accuracy: 0.9948\n",
            "Epoch 1/30\n",
            "49/49 [==============================] - 93s 2s/step - loss: 2.0016 - accuracy: 0.6919\n",
            "Epoch 2/30\n",
            "49/49 [==============================] - 92s 2s/step - loss: 0.1177 - accuracy: 0.9572\n",
            "Epoch 3/30\n",
            "49/49 [==============================] - 92s 2s/step - loss: 0.0843 - accuracy: 0.9679\n",
            "Epoch 4/30\n",
            "49/49 [==============================] - 92s 2s/step - loss: 0.0744 - accuracy: 0.9768\n",
            "Epoch 5/30\n",
            "49/49 [==============================] - 92s 2s/step - loss: 0.0546 - accuracy: 0.9813\n",
            "Epoch 6/30\n",
            "49/49 [==============================] - 92s 2s/step - loss: 0.0475 - accuracy: 0.9817\n",
            "Epoch 7/30\n",
            "49/49 [==============================] - 92s 2s/step - loss: 0.0353 - accuracy: 0.9877\n",
            "Epoch 8/30\n",
            "49/49 [==============================] - 92s 2s/step - loss: 0.0449 - accuracy: 0.9849\n",
            "Epoch 9/30\n",
            "49/49 [==============================] - 91s 2s/step - loss: 0.0206 - accuracy: 0.9929\n",
            "Epoch 10/30\n",
            "49/49 [==============================] - 91s 2s/step - loss: 0.0268 - accuracy: 0.9916\n",
            "Epoch 11/30\n",
            "49/49 [==============================] - 91s 2s/step - loss: 0.0099 - accuracy: 0.9989\n",
            "Epoch 12/30\n",
            "49/49 [==============================] - 91s 2s/step - loss: 0.0431 - accuracy: 0.9882\n",
            "Epoch 13/30\n",
            "49/49 [==============================] - 91s 2s/step - loss: 0.0294 - accuracy: 0.9916\n",
            "Epoch 14/30\n",
            "49/49 [==============================] - 91s 2s/step - loss: 0.0292 - accuracy: 0.9902\n",
            "Epoch 15/30\n",
            "49/49 [==============================] - 91s 2s/step - loss: 0.0237 - accuracy: 0.9937\n",
            "Epoch 16/30\n",
            "49/49 [==============================] - 91s 2s/step - loss: 0.0150 - accuracy: 0.9974\n",
            "Epoch 17/30\n",
            "49/49 [==============================] - 91s 2s/step - loss: 0.0308 - accuracy: 0.9894\n",
            "Epoch 18/30\n",
            "49/49 [==============================] - 91s 2s/step - loss: 0.0265 - accuracy: 0.9926\n",
            "Epoch 19/30\n",
            "49/49 [==============================] - 91s 2s/step - loss: 0.0164 - accuracy: 0.9952\n",
            "Epoch 20/30\n",
            "49/49 [==============================] - 90s 2s/step - loss: 0.0047 - accuracy: 0.9987\n",
            "Epoch 21/30\n",
            "49/49 [==============================] - 91s 2s/step - loss: 0.0098 - accuracy: 0.9976\n",
            "Epoch 22/30\n",
            "49/49 [==============================] - 91s 2s/step - loss: 0.0106 - accuracy: 0.9965\n",
            "Epoch 23/30\n",
            "49/49 [==============================] - 90s 2s/step - loss: 0.0059 - accuracy: 0.9980\n",
            "Epoch 24/30\n",
            "49/49 [==============================] - 90s 2s/step - loss: 0.0057 - accuracy: 0.9965\n",
            "Epoch 25/30\n",
            "49/49 [==============================] - 90s 2s/step - loss: 0.0033 - accuracy: 0.9987\n",
            "Epoch 26/30\n",
            "49/49 [==============================] - 91s 2s/step - loss: 0.0027 - accuracy: 0.9993\n",
            "Epoch 27/30\n",
            "49/49 [==============================] - 91s 2s/step - loss: 0.0078 - accuracy: 0.9984\n",
            "Epoch 28/30\n",
            "49/49 [==============================] - 90s 2s/step - loss: 0.0042 - accuracy: 0.9986\n",
            "Epoch 29/30\n",
            "49/49 [==============================] - 91s 2s/step - loss: 0.0027 - accuracy: 0.9986\n",
            "Epoch 30/30\n",
            "49/49 [==============================] - 91s 2s/step - loss: 0.0022 - accuracy: 0.9999\n",
            "12/12 [==============================] - 7s 525ms/step - loss: 0.1408 - accuracy: 0.9792\n",
            "Accuracies per K-Fold  [0.98961037 0.98958331 0.984375   0.99479169 0.97916669]\n",
            "CPU times: user 7h 22min 37s, sys: 4min 32s, total: 7h 27min 9s\n",
            "Wall time: 3h 49min 27s\n"
          ],
          "name": "stdout"
        }
      ]
    },
    {
      "cell_type": "code",
      "metadata": {
        "id": "QvSHfM1TKT3M",
        "colab": {
          "base_uri": "https://localhost:8080/"
        },
        "outputId": "919d7b55-1201-4d25-da9f-63879e348709"
      },
      "source": [
        "print(\"Accuracies per K-Fold \", results)\n",
        "results.mean()"
      ],
      "execution_count": null,
      "outputs": [
        {
          "output_type": "stream",
          "text": [
            "Accuracies per K-Fold  [0.98961037 0.98958331 0.984375   0.99479169 0.97916669]\n"
          ],
          "name": "stdout"
        },
        {
          "output_type": "execute_result",
          "data": {
            "text/plain": [
              "0.9875054121017456"
            ]
          },
          "metadata": {
            "tags": []
          },
          "execution_count": 13
        }
      ]
    },
    {
      "cell_type": "code",
      "metadata": {
        "id": "uurmjm4pKT0f",
        "colab": {
          "base_uri": "https://localhost:8080/"
        },
        "outputId": "c0d3d01e-1198-4757-9063-76407c0fe196"
      },
      "source": [
        "results.max()"
      ],
      "execution_count": null,
      "outputs": [
        {
          "output_type": "execute_result",
          "data": {
            "text/plain": [
              "0.9947916865348816"
            ]
          },
          "metadata": {
            "tags": []
          },
          "execution_count": 14
        }
      ]
    },
    {
      "cell_type": "code",
      "metadata": {
        "id": "XAj-0d_xKTxe",
        "colab": {
          "base_uri": "https://localhost:8080/"
        },
        "outputId": "50fbb03f-f34b-4217-86f5-b978e407a589"
      },
      "source": [
        "results.min()"
      ],
      "execution_count": null,
      "outputs": [
        {
          "output_type": "execute_result",
          "data": {
            "text/plain": [
              "0.9791666865348816"
            ]
          },
          "metadata": {
            "tags": []
          },
          "execution_count": 16
        }
      ]
    },
    {
      "cell_type": "code",
      "metadata": {
        "id": "HRAZ-CEqKTuU",
        "colab": {
          "base_uri": "https://localhost:8080/"
        },
        "outputId": "5f13599a-ca5b-4356-9bc8-403a04bf9988"
      },
      "source": [
        "results.std()"
      ],
      "execution_count": null,
      "outputs": [
        {
          "output_type": "execute_result",
          "data": {
            "text/plain": [
              "0.0053136081466382675"
            ]
          },
          "metadata": {
            "tags": []
          },
          "execution_count": 17
        }
      ]
    },
    {
      "cell_type": "code",
      "metadata": {
        "id": "hljsaOnZKTlX"
      },
      "source": [
        "%%time\n",
        "from sklearn.model_selection import cross_val_predict,\n",
        "from sklearn.metrics import confusion_matrix\n",
        "\n",
        "y_pred = cross_val_predict(estimator, Xtest_norm, ytest, cv=kfold)\n",
        "conf_mat = confusion_matrix(ytest, y_pred)"
      ],
      "execution_count": null,
      "outputs": []
    },
    {
      "cell_type": "code",
      "metadata": {
        "id": "wcVeYsr4KTiS"
      },
      "source": [
        ""
      ],
      "execution_count": null,
      "outputs": []
    },
    {
      "cell_type": "code",
      "metadata": {
        "id": "ZPbCAME9KTfU"
      },
      "source": [
        ""
      ],
      "execution_count": null,
      "outputs": []
    },
    {
      "cell_type": "code",
      "metadata": {
        "id": "dkauMqROKTcT"
      },
      "source": [
        ""
      ],
      "execution_count": null,
      "outputs": []
    },
    {
      "cell_type": "code",
      "metadata": {
        "id": "tGXwwsMmKTZU"
      },
      "source": [
        ""
      ],
      "execution_count": null,
      "outputs": []
    },
    {
      "cell_type": "code",
      "metadata": {
        "id": "9UweL0zzKTWE"
      },
      "source": [
        ""
      ],
      "execution_count": null,
      "outputs": []
    },
    {
      "cell_type": "code",
      "metadata": {
        "id": "s0sm5wGyKTTj"
      },
      "source": [
        ""
      ],
      "execution_count": null,
      "outputs": []
    },
    {
      "cell_type": "code",
      "metadata": {
        "id": "QtUns9WdKTQg"
      },
      "source": [
        ""
      ],
      "execution_count": null,
      "outputs": []
    },
    {
      "cell_type": "code",
      "metadata": {
        "id": "TP86_o5rKTN0"
      },
      "source": [
        ""
      ],
      "execution_count": null,
      "outputs": []
    },
    {
      "cell_type": "code",
      "metadata": {
        "id": "YSanAZCyKTKm"
      },
      "source": [
        ""
      ],
      "execution_count": null,
      "outputs": []
    },
    {
      "cell_type": "code",
      "metadata": {
        "id": "ZerrbcJEKTHj"
      },
      "source": [
        ""
      ],
      "execution_count": null,
      "outputs": []
    },
    {
      "cell_type": "code",
      "metadata": {
        "id": "m9v8SlxPKTCP"
      },
      "source": [
        ""
      ],
      "execution_count": null,
      "outputs": []
    },
    {
      "cell_type": "code",
      "metadata": {
        "id": "MFmggwmxKS_a"
      },
      "source": [
        ""
      ],
      "execution_count": null,
      "outputs": []
    },
    {
      "cell_type": "code",
      "metadata": {
        "id": "Ozw_aTTNKS8h"
      },
      "source": [
        ""
      ],
      "execution_count": null,
      "outputs": []
    },
    {
      "cell_type": "code",
      "metadata": {
        "id": "eS5JamNYKS51"
      },
      "source": [
        ""
      ],
      "execution_count": null,
      "outputs": []
    },
    {
      "cell_type": "code",
      "metadata": {
        "id": "u-theTOQKS26"
      },
      "source": [
        ""
      ],
      "execution_count": null,
      "outputs": []
    },
    {
      "cell_type": "code",
      "metadata": {
        "id": "p5-T6A9PKS0W"
      },
      "source": [
        ""
      ],
      "execution_count": null,
      "outputs": []
    },
    {
      "cell_type": "code",
      "metadata": {
        "id": "yfzWT8u4KSxj"
      },
      "source": [
        ""
      ],
      "execution_count": null,
      "outputs": []
    },
    {
      "cell_type": "code",
      "metadata": {
        "id": "f2dzkzccKSu8"
      },
      "source": [
        ""
      ],
      "execution_count": null,
      "outputs": []
    },
    {
      "cell_type": "code",
      "metadata": {
        "id": "pyvbpbE4KSsK"
      },
      "source": [
        ""
      ],
      "execution_count": null,
      "outputs": []
    },
    {
      "cell_type": "code",
      "metadata": {
        "id": "22WC4FQ6KSpM"
      },
      "source": [
        ""
      ],
      "execution_count": null,
      "outputs": []
    },
    {
      "cell_type": "code",
      "metadata": {
        "id": "0_Dw2EBrKSl6"
      },
      "source": [
        ""
      ],
      "execution_count": null,
      "outputs": []
    },
    {
      "cell_type": "code",
      "metadata": {
        "id": "mEBY8H4pKSQ7"
      },
      "source": [
        ""
      ],
      "execution_count": null,
      "outputs": []
    },
    {
      "cell_type": "code",
      "metadata": {
        "id": "vdCGIB3CKSGa"
      },
      "source": [
        ""
      ],
      "execution_count": null,
      "outputs": []
    },
    {
      "cell_type": "markdown",
      "metadata": {
        "id": "NhaNSAxzTY6G"
      },
      "source": [
        "## Testing This model on Viral Pneumonia"
      ]
    },
    {
      "cell_type": "code",
      "metadata": {
        "colab": {
          "base_uri": "https://localhost:8080/"
        },
        "id": "N7OTTktlTlI9",
        "outputId": "0daffae1-87a2-4898-edeb-0d5cdacba9f3"
      },
      "source": [
        "# Cloning dataset on Colab\n",
        "! git clone https://github.com/source-droid/Covid-19-CXR-Dataset.git"
      ],
      "execution_count": null,
      "outputs": [
        {
          "output_type": "stream",
          "text": [
            "Cloning into 'Covid-19-CXR-Dataset'...\n",
            "remote: Enumerating objects: 4366, done.\u001b[K\n",
            "remote: Total 4366 (delta 0), reused 0 (delta 0), pack-reused 4366\u001b[K\n",
            "Receiving objects: 100% (4366/4366), 2.82 GiB | 25.09 MiB/s, done.\n",
            "Resolving deltas: 100% (4/4), done.\n",
            "Checking out files: 100% (4350/4350), done.\n"
          ],
          "name": "stdout"
        }
      ]
    },
    {
      "cell_type": "code",
      "metadata": {
        "colab": {
          "base_uri": "https://localhost:8080/"
        },
        "id": "X3CrNA-mTxrv",
        "outputId": "1af9e362-470b-47fb-e24e-a3d35cd4efb7"
      },
      "source": [
        "# Reading Testing Images Pneumonia\n",
        "import numpy as np \n",
        "import glob\n",
        "import cv2 \n",
        "\n",
        "path_l = glob.glob(\"/content/Covid-19-CXR-Dataset/train/Viral Pneumonia/*.*\") \n",
        "cv_img = [] \n",
        "for img in path_l:\n",
        "    n = cv2.imread(img) \n",
        "    n = cv2.resize(n,(150,150))\n",
        "    cv_img.append(n)\n",
        "Pneumonia = np.asarray(cv_img) \n",
        "print(Pneumonia.shape) \n",
        " "
      ],
      "execution_count": null,
      "outputs": [
        {
          "output_type": "stream",
          "text": [
            "(1076, 150, 150, 3)\n"
          ],
          "name": "stdout"
        }
      ]
    },
    {
      "cell_type": "code",
      "metadata": {
        "id": "ek7fXoYPg-pc"
      },
      "source": [
        "# Normalizing the data from 0 to 255 to 0 to 1:\n",
        "Pneumonia = Pneumonia/255\n"
      ],
      "execution_count": null,
      "outputs": []
    },
    {
      "cell_type": "code",
      "metadata": {
        "colab": {
          "base_uri": "https://localhost:8080/"
        },
        "id": "RND23xbKhSEc",
        "outputId": "131f0107-7f1c-4a6b-fdef-ccf47b3f8467"
      },
      "source": [
        "# Creating labels \n",
        "labels0 = np.zeros(len(Pneumonia))\n",
        "for i in range(len(Pneumonia)):\n",
        "  labels0[i] = 2\n",
        "\n",
        "labels0"
      ],
      "execution_count": null,
      "outputs": [
        {
          "output_type": "execute_result",
          "data": {
            "text/plain": [
              "array([2., 2., 2., ..., 2., 2., 2.])"
            ]
          },
          "metadata": {
            "tags": []
          },
          "execution_count": 44
        }
      ]
    },
    {
      "cell_type": "code",
      "metadata": {
        "colab": {
          "base_uri": "https://localhost:8080/",
          "height": 313
        },
        "id": "pu1ouWe2ghtA",
        "outputId": "b63be5e4-0e54-4ed6-f34c-626081494254"
      },
      "source": [
        "# plotting Confusion Matrix For Pneumonia\n",
        "\n",
        "pred  = model.predict(Pneumonia,verbose= 1)\n",
        "\n",
        "pred_normalized = []\n",
        "for i in range(len(pred)):\n",
        "  if(pred[i]<=0.5):\n",
        "    pred_normalized.append(1)\n",
        "  else:\n",
        "    pred_normalized.append(0)\n",
        "\n",
        "import seaborn as sns\n",
        "\n",
        "cm = confusion_matrix(labels0, pred_normalized)\n",
        "ax= plt.subplot()\n",
        "sns.heatmap(cm, annot=True, fmt='g', ax = ax); #annot=True to annotate cells\n",
        "\n",
        "# labels, title and ticks\n",
        "ax.set_xlabel('Predicted labels');ax.set_ylabel('True labels'); \n",
        "ax.set_title('Confusion Matrix'); \n",
        "ax.xaxis.set_ticklabels(['Normal', 'Covid', 'Pneumonia']); ax.yaxis.set_ticklabels(['Pneumonia','Covid', 'Normal']);\n"
      ],
      "execution_count": null,
      "outputs": [
        {
          "output_type": "stream",
          "text": [
            "34/34 [==============================] - 13s 387ms/step\n"
          ],
          "name": "stdout"
        },
        {
          "output_type": "display_data",
          "data": {
            "image/png": "[encoded data removed]",
            "text/plain": [
              "<Figure size 432x288 with 2 Axes>"
            ]
          },
          "metadata": {
            "tags": [],
            "needs_background": "light"
          }
        }
      ]
    },
    {
      "cell_type": "code",
      "metadata": {
        "id": "R7yfQ7VIhibU"
      },
      "source": [
        ""
      ],
      "execution_count": null,
      "outputs": []
    }
  ]
}