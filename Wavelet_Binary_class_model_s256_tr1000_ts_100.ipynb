{
  "nbformat": 4,
  "nbformat_minor": 0,
  "metadata": {
    "colab": {
      "name": "Wavelet Binary class model_s256_tr1000_ts_100.ipynb",
      "provenance": [],
      "collapsed_sections": [
        "dS573cG04nN7",
        "cdTdPR-c2fkR",
        "ZIfvqppj2t7t",
        "Z044SMlp3N-V",
        "Hbr5j8463ipF",
        "qpGeCxCh4yW0",
        "xeOul1FHFFgK",
        "YWW3IP7OFBpZ",
        "q8mAeM6ME6Gk"
      ],
      "toc_visible": true,
      "authorship_tag": "ABX9TyOku5/JxWAkjW6+Mw+ipS13",
      "include_colab_link": true
    },
    "kernelspec": {
      "name": "python3",
      "display_name": "Python 3"
    },
    "language_info": {
      "name": "python"
    },
    "accelerator": "GPU"
  },
  "cells": [
    {
      "cell_type": "markdown",
      "metadata": {
        "id": "view-in-github",
        "colab_type": "text"
      },
      "source": [
        "<a href=\"https://colab.research.google.com/github/source-droid/Machine-Learning-based-Automatic-Covid-19-detection-using-Lung-s-Scans/blob/main/Wavelet_Binary_class_model_s256_tr1000_ts_100.ipynb\" target=\"_parent\"><img src=\"https://colab.research.google.com/assets/colab-badge.svg\" alt=\"Open In Colab\"/></a>"
      ]
    },
    {
      "cell_type": "markdown",
      "metadata": {
        "id": "uuTPWNPDzjSy"
      },
      "source": [
        "# Import Libaries"
      ]
    },
    {
      "cell_type": "code",
      "metadata": {
        "id": "QJV6HBlQzilc"
      },
      "source": [
        "from tensorflow.keras.models import Sequential\n",
        "from tensorflow.keras.layers import Dense, Conv2D, Flatten, Dropout, MaxPooling2D\n",
        "from tensorflow.keras.preprocessing.image import ImageDataGenerator\n",
        "import tensorflow as tf\n",
        "import numpy as np\n",
        "import matplotlib.pyplot as plt\n",
        "import matplotlib.image as mpimg\n",
        "import matplotlib\n",
        "import random\n",
        "import pywt\n",
        "import pywt.data\n",
        "from tensorflow.keras.utils import to_categorical\n",
        "\n",
        "import sklearn.metrics as metrics\n",
        "from sklearn.metrics import plot_confusion_matrix\n",
        "from sklearn.metrics import confusion_matrix"
      ],
      "execution_count": 1,
      "outputs": []
    },
    {
      "cell_type": "markdown",
      "metadata": {
        "id": "eDG8HGbgzqvh"
      },
      "source": [
        "## Clone Dataset"
      ]
    },
    {
      "cell_type": "code",
      "metadata": {
        "id": "ZKCZlUBgzszt",
        "colab": {
          "base_uri": "https://localhost:8080/"
        },
        "outputId": "10af7a78-e561-4ed5-99fd-e2f2be5b4fc6"
      },
      "source": [
        "# Cloning Dataset on Colab\n",
        "! git clone https://github.com/source-droid/This-is-splitted-for-COVID-and-NORMAL-Only.git"
      ],
      "execution_count": 2,
      "outputs": [
        {
          "output_type": "stream",
          "text": [
            "Cloning into 'This-is-splitted-for-COVID-and-NORMAL-Only'...\n",
            "remote: Enumerating objects: 3013, done.\u001b[K\n",
            "remote: Total 3013 (delta 0), reused 0 (delta 0), pack-reused 3013\u001b[K\n",
            "Receiving objects: 100% (3013/3013), 1.71 GiB | 31.58 MiB/s, done.\n",
            "Checking out files: 100% (3005/3005), done.\n"
          ],
          "name": "stdout"
        }
      ]
    },
    {
      "cell_type": "markdown",
      "metadata": {
        "id": "EK9AM7o00FI6"
      },
      "source": [
        "# Reading the Training images\n"
      ]
    },
    {
      "cell_type": "code",
      "metadata": {
        "id": "Bbm2tBQ2tTIj"
      },
      "source": [
        "size = 256"
      ],
      "execution_count": 2,
      "outputs": []
    },
    {
      "cell_type": "code",
      "metadata": {
        "colab": {
          "base_uri": "https://localhost:8080/"
        },
        "id": "-YLPEfV1zxRL",
        "outputId": "fd2d5805-e369-4236-d66c-e96983a22cab"
      },
      "source": [
        "#Reading Training Images For Covid and Normal\n",
        "import numpy as np \n",
        "import glob \n",
        "import cv2 \n",
        "path_l = glob.glob(\"/content/This-is-splitted-for-COVID-and-NORMAL-Only/train/Covid/*.*\")\n",
        "cv_img = []\n",
        "for img in path_l:\n",
        "    n = cv2.imread(img)\n",
        "    \n",
        "    n = cv2.cvtColor(n, cv2.COLOR_BGR2GRAY) # converting image Into Grayscale for Wavelet \n",
        "    # as opencv loads in BGR format by default, we want to show it in Grayscale.\n",
        "\n",
        "    coeffs2 = pywt.dwt2(n, 'db3', mode = 'periodization') # 1 level DWT. Applying wavelet\n",
        "    cA, (cH, cV, cD) = coeffs2 # Extracting coeff2.\n",
        " \n",
        "    n = cv2.resize(cA,(size,size))\n",
        "    cv_img.append(n) \n",
        "\n",
        "\n",
        "arrayl = np.asarray(cv_img[0:500])\n",
        "arrayl = np.stack([arrayl, arrayl, arrayl], axis=-1) # Stack of Data to make RGB\n",
        "print(arrayl.shape) \n",
        "\n",
        "path_2 = glob.glob(\"/content/This-is-splitted-for-COVID-and-NORMAL-Only/train/Normal/*.*\")\n",
        "cv_img = []\n",
        "for img in path_2:\n",
        "    n = cv2.imread(img)\n",
        "    \n",
        "    n = cv2.cvtColor(n, cv2.COLOR_BGR2GRAY) # converting image Into Grayscale for Wavelet \n",
        "    # as opencv loads in BGR format by default, we want to show it in Grayscale.\n",
        "\n",
        "    coeffs2 = pywt.dwt2(n, 'db3', mode = 'periodization') # 1 level DWT. Applying wavelet\n",
        "    cA, (cH, cV, cD) = coeffs2 # Extracting coeff2.\n",
        "\n",
        "    n = cv2.resize(cA,(size,size))\n",
        "    cv_img.append(n) \n",
        "\n",
        "array2 = np.asarray(cv_img[0:500]) \n",
        "array2 = np.stack([array2, array2, array2], axis=-1) # Stack of Data to make RGB\n",
        "print(array2.shape) "
      ],
      "execution_count": 3,
      "outputs": [
        {
          "output_type": "stream",
          "text": [
            "(500, 256, 256, 3)\n",
            "(500, 256, 256, 3)\n"
          ],
          "name": "stdout"
        }
      ]
    },
    {
      "cell_type": "markdown",
      "metadata": {
        "id": "Nb1jJeY10vWR"
      },
      "source": [
        "# Reading the Testing images\n"
      ]
    },
    {
      "cell_type": "code",
      "metadata": {
        "colab": {
          "base_uri": "https://localhost:8080/"
        },
        "id": "dLv-0AdZ0lov",
        "outputId": "f5b14b37-5964-4f85-d4a1-ea2f0c9b9f72"
      },
      "source": [
        "# Reading Testing Images For Covid and Normal\n",
        "import numpy as np \n",
        "import glob\n",
        "import cv2 \n",
        "\n",
        "path_l = glob.glob(\"/content/This-is-splitted-for-COVID-and-NORMAL-Only/test/Covid/*.*\") \n",
        "cv_img = [] \n",
        "for img in path_l:\n",
        "    n = cv2.imread(img)\n",
        "    \n",
        "    n = cv2.cvtColor(n, cv2.COLOR_BGR2GRAY) # converting image Into Grayscale for Wavelet \n",
        "    # as opencv loads in BGR format by default, we want to show it in Grayscale.\n",
        "\n",
        "    coeffs2 = pywt.dwt2(n, 'db3', mode = 'periodization') # 1 level DWT. Applying wavelet\n",
        "    cA, (cH, cV, cD) = coeffs2 # Extracting coeff2.\n",
        "    n = cv2.resize(cA,(size,size))\n",
        "    cv_img.append(n) \n",
        "\n",
        "array3 = np.asarray(cv_img[0:50]) \n",
        "array3 = np.stack([array3, array3, array3], axis=-1) # Stack of Data to make RGB\n",
        "print(array3.shape) \n",
        "\n",
        "path_2 = glob.glob(\"/content/This-is-splitted-for-COVID-and-NORMAL-Only/test/Normal/*.*\") \n",
        "cv_img = []\n",
        "for img in path_2:\n",
        "    n = cv2.imread(img)\n",
        "    \n",
        "    n = cv2.cvtColor(n, cv2.COLOR_BGR2GRAY) # converting image Into Grayscale for Wavelet \n",
        "    # as opencv loads in BGR format by default, we want to show it in Grayscale.\n",
        "\n",
        "\n",
        "    coeffs2 = pywt.dwt2(n, 'db3', mode = 'periodization') # 1 level DWT. Applying wavelet\n",
        "    cA, (cH, cV, cD) = coeffs2 # Extracting coeff2.\n",
        "    n = cv2.resize(cA,(size,size))\n",
        "    cv_img.append(n) \n",
        "\n",
        "array4 = np.asarray(cv_img[0:50])\n",
        "array4 = np.stack([array4, array4, array4], axis=-1) # Stack of Data to make RGB\n",
        "print(array4.shape) \n"
      ],
      "execution_count": 4,
      "outputs": [
        {
          "output_type": "stream",
          "text": [
            "(50, 256, 256, 3)\n",
            "(50, 256, 256, 3)\n"
          ],
          "name": "stdout"
        }
      ]
    },
    {
      "cell_type": "code",
      "metadata": {
        "colab": {
          "base_uri": "https://localhost:8080/",
          "height": 492
        },
        "id": "6gCRniGrznEJ",
        "outputId": "d5d948c9-6520-4004-ca33-a92d605866ad"
      },
      "source": [
        "matplotlib.pyplot.figure(num=None, figsize=[20,10])\n",
        "plt.subplot(121),plt.imshow(arrayl[4])\n",
        "plt.subplot(122),plt.imshow(array2[6])\n",
        "plt.show()"
      ],
      "execution_count": 9,
      "outputs": [
        {
          "output_type": "stream",
          "text": [
            "Clipping input data to the valid range for imshow with RGB data ([0..1] for floats or [0..255] for integers).\n",
            "Clipping input data to the valid range for imshow with RGB data ([0..1] for floats or [0..255] for integers).\n"
          ],
          "name": "stderr"
        },
        {
          "output_type": "display_data",
          "data": {
            "image/png": "[encoded data removed]",
            "text/plain": [
              "<Figure size 1440x720 with 2 Axes>"
            ]
          },
          "metadata": {
            "tags": [],
            "needs_background": "light"
          }
        }
      ]
    },
    {
      "cell_type": "markdown",
      "metadata": {
        "id": "Su0rfWHU1Lcp"
      },
      "source": [
        "# Concatenating Covid and Normal arrays into one variable for train and test:"
      ]
    },
    {
      "cell_type": "code",
      "metadata": {
        "colab": {
          "base_uri": "https://localhost:8080/"
        },
        "id": "iRKk3yA00_M8",
        "outputId": "9e8c4a90-6c3d-486b-b2cb-e0a424277e6b"
      },
      "source": [
        "# Concatenating Covid and Normal arrays into one variable for train and test:\n",
        "Xtrain = np.concatenate((arrayl,array2))\n",
        "\n",
        "Xtest = np.concatenate((array3,array4))\n",
        "\n",
        "Xtrain.shape , Xtest.shape "
      ],
      "execution_count": 5,
      "outputs": [
        {
          "output_type": "execute_result",
          "data": {
            "text/plain": [
              "((1000, 256, 256, 3), (100, 256, 256, 3))"
            ]
          },
          "metadata": {
            "tags": []
          },
          "execution_count": 5
        }
      ]
    },
    {
      "cell_type": "markdown",
      "metadata": {
        "id": "KXp4SYQk1aW6"
      },
      "source": [
        "# Creating labels for Normal and Covid 0 and 1 respectively equal to length of data for training data:"
      ]
    },
    {
      "cell_type": "code",
      "metadata": {
        "colab": {
          "base_uri": "https://localhost:8080/"
        },
        "id": "Zx6ExYVi1VPM",
        "outputId": "11168738-ccc0-4dbf-dcf6-67516318b36b"
      },
      "source": [
        "# Creating labels for Normal and Covid 0 and 1 respectively equal to length of data for training data:\n",
        "\n",
        "labels0 = np.zeros(len(arrayl)) \n",
        "labels1 = np.ones(len(array2)) \n",
        "print('Normal labels : ',labels0 ,'Covid labels : ', labels1) \n",
        "len(labels0) , len(labels1) \n"
      ],
      "execution_count": 6,
      "outputs": [
        {
          "output_type": "stream",
          "text": [
            "Normal labels :  [0. 0. 0. 0. 0. 0. 0. 0. 0. 0. 0. 0. 0. 0. 0. 0. 0. 0. 0. 0. 0. 0. 0. 0.\n",
            " 0. 0. 0. 0. 0. 0. 0. 0. 0. 0. 0. 0. 0. 0. 0. 0. 0. 0. 0. 0. 0. 0. 0. 0.\n",
            " 0. 0. 0. 0. 0. 0. 0. 0. 0. 0. 0. 0. 0. 0. 0. 0. 0. 0. 0. 0. 0. 0. 0. 0.\n",
            " 0. 0. 0. 0. 0. 0. 0. 0. 0. 0. 0. 0. 0. 0. 0. 0. 0. 0. 0. 0. 0. 0. 0. 0.\n",
            " 0. 0. 0. 0. 0. 0. 0. 0. 0. 0. 0. 0. 0. 0. 0. 0. 0. 0. 0. 0. 0. 0. 0. 0.\n",
            " 0. 0. 0. 0. 0. 0. 0. 0. 0. 0. 0. 0. 0. 0. 0. 0. 0. 0. 0. 0. 0. 0. 0. 0.\n",
            " 0. 0. 0. 0. 0. 0. 0. 0. 0. 0. 0. 0. 0. 0. 0. 0. 0. 0. 0. 0. 0. 0. 0. 0.\n",
            " 0. 0. 0. 0. 0. 0. 0. 0. 0. 0. 0. 0. 0. 0. 0. 0. 0. 0. 0. 0. 0. 0. 0. 0.\n",
            " 0. 0. 0. 0. 0. 0. 0. 0. 0. 0. 0. 0. 0. 0. 0. 0. 0. 0. 0. 0. 0. 0. 0. 0.\n",
            " 0. 0. 0. 0. 0. 0. 0. 0. 0. 0. 0. 0. 0. 0. 0. 0. 0. 0. 0. 0. 0. 0. 0. 0.\n",
            " 0. 0. 0. 0. 0. 0. 0. 0. 0. 0. 0. 0. 0. 0. 0. 0. 0. 0. 0. 0. 0. 0. 0. 0.\n",
            " 0. 0. 0. 0. 0. 0. 0. 0. 0. 0. 0. 0. 0. 0. 0. 0. 0. 0. 0. 0. 0. 0. 0. 0.\n",
            " 0. 0. 0. 0. 0. 0. 0. 0. 0. 0. 0. 0. 0. 0. 0. 0. 0. 0. 0. 0. 0. 0. 0. 0.\n",
            " 0. 0. 0. 0. 0. 0. 0. 0. 0. 0. 0. 0. 0. 0. 0. 0. 0. 0. 0. 0. 0. 0. 0. 0.\n",
            " 0. 0. 0. 0. 0. 0. 0. 0. 0. 0. 0. 0. 0. 0. 0. 0. 0. 0. 0. 0. 0. 0. 0. 0.\n",
            " 0. 0. 0. 0. 0. 0. 0. 0. 0. 0. 0. 0. 0. 0. 0. 0. 0. 0. 0. 0. 0. 0. 0. 0.\n",
            " 0. 0. 0. 0. 0. 0. 0. 0. 0. 0. 0. 0. 0. 0. 0. 0. 0. 0. 0. 0. 0. 0. 0. 0.\n",
            " 0. 0. 0. 0. 0. 0. 0. 0. 0. 0. 0. 0. 0. 0. 0. 0. 0. 0. 0. 0. 0. 0. 0. 0.\n",
            " 0. 0. 0. 0. 0. 0. 0. 0. 0. 0. 0. 0. 0. 0. 0. 0. 0. 0. 0. 0. 0. 0. 0. 0.\n",
            " 0. 0. 0. 0. 0. 0. 0. 0. 0. 0. 0. 0. 0. 0. 0. 0. 0. 0. 0. 0. 0. 0. 0. 0.\n",
            " 0. 0. 0. 0. 0. 0. 0. 0. 0. 0. 0. 0. 0. 0. 0. 0. 0. 0. 0. 0.] Covid labels :  [1. 1. 1. 1. 1. 1. 1. 1. 1. 1. 1. 1. 1. 1. 1. 1. 1. 1. 1. 1. 1. 1. 1. 1.\n",
            " 1. 1. 1. 1. 1. 1. 1. 1. 1. 1. 1. 1. 1. 1. 1. 1. 1. 1. 1. 1. 1. 1. 1. 1.\n",
            " 1. 1. 1. 1. 1. 1. 1. 1. 1. 1. 1. 1. 1. 1. 1. 1. 1. 1. 1. 1. 1. 1. 1. 1.\n",
            " 1. 1. 1. 1. 1. 1. 1. 1. 1. 1. 1. 1. 1. 1. 1. 1. 1. 1. 1. 1. 1. 1. 1. 1.\n",
            " 1. 1. 1. 1. 1. 1. 1. 1. 1. 1. 1. 1. 1. 1. 1. 1. 1. 1. 1. 1. 1. 1. 1. 1.\n",
            " 1. 1. 1. 1. 1. 1. 1. 1. 1. 1. 1. 1. 1. 1. 1. 1. 1. 1. 1. 1. 1. 1. 1. 1.\n",
            " 1. 1. 1. 1. 1. 1. 1. 1. 1. 1. 1. 1. 1. 1. 1. 1. 1. 1. 1. 1. 1. 1. 1. 1.\n",
            " 1. 1. 1. 1. 1. 1. 1. 1. 1. 1. 1. 1. 1. 1. 1. 1. 1. 1. 1. 1. 1. 1. 1. 1.\n",
            " 1. 1. 1. 1. 1. 1. 1. 1. 1. 1. 1. 1. 1. 1. 1. 1. 1. 1. 1. 1. 1. 1. 1. 1.\n",
            " 1. 1. 1. 1. 1. 1. 1. 1. 1. 1. 1. 1. 1. 1. 1. 1. 1. 1. 1. 1. 1. 1. 1. 1.\n",
            " 1. 1. 1. 1. 1. 1. 1. 1. 1. 1. 1. 1. 1. 1. 1. 1. 1. 1. 1. 1. 1. 1. 1. 1.\n",
            " 1. 1. 1. 1. 1. 1. 1. 1. 1. 1. 1. 1. 1. 1. 1. 1. 1. 1. 1. 1. 1. 1. 1. 1.\n",
            " 1. 1. 1. 1. 1. 1. 1. 1. 1. 1. 1. 1. 1. 1. 1. 1. 1. 1. 1. 1. 1. 1. 1. 1.\n",
            " 1. 1. 1. 1. 1. 1. 1. 1. 1. 1. 1. 1. 1. 1. 1. 1. 1. 1. 1. 1. 1. 1. 1. 1.\n",
            " 1. 1. 1. 1. 1. 1. 1. 1. 1. 1. 1. 1. 1. 1. 1. 1. 1. 1. 1. 1. 1. 1. 1. 1.\n",
            " 1. 1. 1. 1. 1. 1. 1. 1. 1. 1. 1. 1. 1. 1. 1. 1. 1. 1. 1. 1. 1. 1. 1. 1.\n",
            " 1. 1. 1. 1. 1. 1. 1. 1. 1. 1. 1. 1. 1. 1. 1. 1. 1. 1. 1. 1. 1. 1. 1. 1.\n",
            " 1. 1. 1. 1. 1. 1. 1. 1. 1. 1. 1. 1. 1. 1. 1. 1. 1. 1. 1. 1. 1. 1. 1. 1.\n",
            " 1. 1. 1. 1. 1. 1. 1. 1. 1. 1. 1. 1. 1. 1. 1. 1. 1. 1. 1. 1. 1. 1. 1. 1.\n",
            " 1. 1. 1. 1. 1. 1. 1. 1. 1. 1. 1. 1. 1. 1. 1. 1. 1. 1. 1. 1. 1. 1. 1. 1.\n",
            " 1. 1. 1. 1. 1. 1. 1. 1. 1. 1. 1. 1. 1. 1. 1. 1. 1. 1. 1. 1.]\n"
          ],
          "name": "stdout"
        },
        {
          "output_type": "execute_result",
          "data": {
            "text/plain": [
              "(500, 500)"
            ]
          },
          "metadata": {
            "tags": []
          },
          "execution_count": 6
        }
      ]
    },
    {
      "cell_type": "markdown",
      "metadata": {
        "id": "AgCTlyrs3yxz"
      },
      "source": [
        "# Creating labels for Normal and Covid 0 and 1 respectively equal to length of data for testing data:"
      ]
    },
    {
      "cell_type": "code",
      "metadata": {
        "colab": {
          "base_uri": "https://localhost:8080/"
        },
        "id": "eW6tVsz-3toF",
        "outputId": "f083dfcb-fbbe-4433-c1dc-358eed9229a2"
      },
      "source": [
        "# Creating labels for Normal and Covid 0 and 1 respectively equal to length of data for testing data:\n",
        "\n",
        "labels0s = np.zeros(len(array3)) \n",
        "labels1s = np.ones(len(array4)) \n",
        "print('Normal labels : ',labels0s ,'Covid labels : ', labels1s) \n",
        "len(labels0s) , len(labels1s) "
      ],
      "execution_count": 7,
      "outputs": [
        {
          "output_type": "stream",
          "text": [
            "Normal labels :  [0. 0. 0. 0. 0. 0. 0. 0. 0. 0. 0. 0. 0. 0. 0. 0. 0. 0. 0. 0. 0. 0. 0. 0.\n",
            " 0. 0. 0. 0. 0. 0. 0. 0. 0. 0. 0. 0. 0. 0. 0. 0. 0. 0. 0. 0. 0. 0. 0. 0.\n",
            " 0. 0.] Covid labels :  [1. 1. 1. 1. 1. 1. 1. 1. 1. 1. 1. 1. 1. 1. 1. 1. 1. 1. 1. 1. 1. 1. 1. 1.\n",
            " 1. 1. 1. 1. 1. 1. 1. 1. 1. 1. 1. 1. 1. 1. 1. 1. 1. 1. 1. 1. 1. 1. 1. 1.\n",
            " 1. 1.]\n"
          ],
          "name": "stdout"
        },
        {
          "output_type": "execute_result",
          "data": {
            "text/plain": [
              "(50, 50)"
            ]
          },
          "metadata": {
            "tags": []
          },
          "execution_count": 7
        }
      ]
    },
    {
      "cell_type": "markdown",
      "metadata": {
        "id": "X7wOFD8T4IWi"
      },
      "source": [
        "# Concatenating the labels for Covid and Normal for training and testing:"
      ]
    },
    {
      "cell_type": "code",
      "metadata": {
        "colab": {
          "base_uri": "https://localhost:8080/"
        },
        "id": "FYYDig0u4DNN",
        "outputId": "ea792e4d-5e1b-4b65-8d30-ffde406a66ec"
      },
      "source": [
        "# Concatenating the labels for Covid and Normal for training and testing:\n",
        "ytrain = np.concatenate((labels0,labels1)) \n",
        "ytest = np.concatenate((labels0s,labels1s)) \n",
        "ytrain.shape, ytest.shape \n"
      ],
      "execution_count": 8,
      "outputs": [
        {
          "output_type": "execute_result",
          "data": {
            "text/plain": [
              "((1000,), (100,))"
            ]
          },
          "metadata": {
            "tags": []
          },
          "execution_count": 8
        }
      ]
    },
    {
      "cell_type": "markdown",
      "metadata": {
        "id": "oUIAK8Fr4UN7"
      },
      "source": [
        "# Splitting the dataset for validation data:"
      ]
    },
    {
      "cell_type": "code",
      "metadata": {
        "colab": {
          "base_uri": "https://localhost:8080/"
        },
        "id": "93K6DAb84RJt",
        "outputId": "9db24668-8e8c-4e0b-f078-67f886a7f21b"
      },
      "source": [
        "# Splitting the dataset for validation data:\n",
        "from sklearn.model_selection import train_test_split\n",
        "X_train,X_valid,y_train,y_valid = train_test_split(Xtrain,ytrain,test_size = 0.2, shuffle = True) \n",
        "X_train.shape, X_valid.shape, y_train.shape, y_valid.shape \n"
      ],
      "execution_count": 9,
      "outputs": [
        {
          "output_type": "execute_result",
          "data": {
            "text/plain": [
              "((800, 256, 256, 3), (200, 256, 256, 3), (800,), (200,))"
            ]
          },
          "metadata": {
            "tags": []
          },
          "execution_count": 9
        }
      ]
    },
    {
      "cell_type": "markdown",
      "metadata": {
        "id": "UrWq1DJd4eOj"
      },
      "source": [
        "# Normalizing the data from 0 to 255 to 0 to 1:"
      ]
    },
    {
      "cell_type": "code",
      "metadata": {
        "id": "nQInwNYv4anO"
      },
      "source": [
        "# Normalizing the data from 0 to 255 to 0 to 1:\n",
        "X_train_norm = X_train/255 \n",
        "X_valid_norm = X_valid/255\n",
        "Xtest_norm = Xtest/255 \n"
      ],
      "execution_count": 10,
      "outputs": []
    },
    {
      "cell_type": "code",
      "metadata": {
        "colab": {
          "base_uri": "https://localhost:8080/"
        },
        "id": "KBmQoMFH35Bq",
        "outputId": "22557af9-ba78-4dd7-ff01-ed7385c1fad6"
      },
      "source": [
        "X_train_norm.shape"
      ],
      "execution_count": 16,
      "outputs": [
        {
          "output_type": "execute_result",
          "data": {
            "text/plain": [
              "(800, 256, 256, 3)"
            ]
          },
          "metadata": {
            "tags": []
          },
          "execution_count": 16
        }
      ]
    },
    {
      "cell_type": "markdown",
      "metadata": {
        "id": "dS573cG04nN7"
      },
      "source": [
        "## Building the Model"
      ]
    },
    {
      "cell_type": "markdown",
      "metadata": {
        "id": "cdTdPR-c2fkR"
      },
      "source": [
        "## 2 convolutional layers"
      ]
    },
    {
      "cell_type": "code",
      "metadata": {
        "colab": {
          "base_uri": "https://localhost:8080/"
        },
        "id": "7JleBiwO4hH-",
        "outputId": "4464f17f-36a7-4954-f30f-c64882d74b9b"
      },
      "source": [
        "# Model With Dropout Layer\n",
        "\n",
        "\n",
        "model = Sequential()\n",
        "\n",
        "# add the convolutional layer\n",
        "# filters, size of filters, padding, activation_function, inout_shape\n",
        "model.add(Conv2D(32,(5,5),padding = 'SAME', activation = 'relu', input_shape = (size,size,3)))\n",
        "\n",
        "# pooling layer\n",
        "model.add(MaxPooling2D(pool_size = (2,2)))\n",
        "\n",
        "# place a dropout layer\n",
        "model.add(Dropout(0.5)) ## Minimizes the overfitting\n",
        "\n",
        "# add another convolutional layer\n",
        "model.add(Conv2D(64,(5,5),padding = 'SAME', activation = 'relu'))\n",
        "\n",
        "# pooling layer\n",
        "model.add(MaxPooling2D(pool_size = (2,2)))\n",
        "\n",
        "# place a dropout layer\n",
        "model.add(Dropout(0.5))\n",
        "\n",
        "# Flatten the image to 1 dimensional array\n",
        "model.add(Flatten())\n",
        "\n",
        "# add a dense layer : amount of nodes, activation\n",
        "model.add(Dense(256, activation = 'relu'))\n",
        "\n",
        "# place a dropout layer\n",
        "# 0.5 drop out rate is recommended, half input will be dropped at each update\n",
        "model.add(Dropout(0.5))\n",
        "model.add(Dense(1, activation = 'sigmoid'))\n",
        "model.summary()"
      ],
      "execution_count": 17,
      "outputs": [
        {
          "output_type": "stream",
          "text": [
            "Model: \"sequential\"\n",
            "_________________________________________________________________\n",
            "Layer (type)                 Output Shape              Param #   \n",
            "=================================================================\n",
            "conv2d (Conv2D)              (None, 256, 256, 32)      2432      \n",
            "_________________________________________________________________\n",
            "max_pooling2d (MaxPooling2D) (None, 128, 128, 32)      0         \n",
            "_________________________________________________________________\n",
            "dropout (Dropout)            (None, 128, 128, 32)      0         \n",
            "_________________________________________________________________\n",
            "conv2d_1 (Conv2D)            (None, 128, 128, 64)      51264     \n",
            "_________________________________________________________________\n",
            "max_pooling2d_1 (MaxPooling2 (None, 64, 64, 64)        0         \n",
            "_________________________________________________________________\n",
            "dropout_1 (Dropout)          (None, 64, 64, 64)        0         \n",
            "_________________________________________________________________\n",
            "flatten (Flatten)            (None, 262144)            0         \n",
            "_________________________________________________________________\n",
            "dense (Dense)                (None, 256)               67109120  \n",
            "_________________________________________________________________\n",
            "dropout_2 (Dropout)          (None, 256)               0         \n",
            "_________________________________________________________________\n",
            "dense_1 (Dense)              (None, 1)                 257       \n",
            "=================================================================\n",
            "Total params: 67,163,073\n",
            "Trainable params: 67,163,073\n",
            "Non-trainable params: 0\n",
            "_________________________________________________________________\n"
          ],
          "name": "stdout"
        }
      ]
    },
    {
      "cell_type": "markdown",
      "metadata": {
        "id": "ZIfvqppj2t7t"
      },
      "source": [
        "## 3 convolutional layers"
      ]
    },
    {
      "cell_type": "code",
      "metadata": {
        "colab": {
          "base_uri": "https://localhost:8080/"
        },
        "id": "tIgy9kCR2xko",
        "outputId": "57358f56-d747-4cb8-e8f6-353f713b5929"
      },
      "source": [
        "# Model With Dropout Layer\n",
        "\n",
        "\n",
        "model2 = Sequential()\n",
        "\n",
        "# add the convolutional layer\n",
        "# filters, size of filters, padding, activation_function, inout_shape\n",
        "model2.add(Conv2D(32,(5,5),padding = 'SAME', activation = 'relu', input_shape = (size,size,3)))\n",
        "\n",
        "# pooling layer\n",
        "model2.add(MaxPooling2D(pool_size = (2,2)))\n",
        "\n",
        "# place a dropout layer\n",
        "model2.add(Dropout(0.5)) ## Minimizes the overfitting\n",
        "\n",
        "# add another convolutional layer\n",
        "model2.add(Conv2D(64,(5,5),padding = 'SAME', activation = 'relu'))\n",
        "\n",
        "# pooling layer\n",
        "model2.add(MaxPooling2D(pool_size = (2,2)))\n",
        "\n",
        "# place a dropout layer\n",
        "model2.add(Dropout(0.5))\n",
        "\n",
        "# add another convolutional layer\n",
        "model2.add(Conv2D(64,(5,5),padding = 'SAME', activation = 'relu'))\n",
        "\n",
        "# pooling layer\n",
        "model2.add(MaxPooling2D(pool_size = (2,2)))\n",
        "\n",
        "# place a dropout layer\n",
        "model2.add(Dropout(0.5))\n",
        "\n",
        "# Flatten the image to 1 dimensional array\n",
        "model2.add(Flatten())\n",
        "\n",
        "# add a dense layer : amount of nodes, activation\n",
        "model2.add(Dense(256, activation = 'relu'))\n",
        "\n",
        "# place a dropout layer\n",
        "# 0.5 drop out rate is recommended, half input will be dropped at each update\n",
        "model2.add(Dropout(0.5))\n",
        "model2.add(Dense(1, activation = 'sigmoid'))\n",
        "model2.summary()"
      ],
      "execution_count": 18,
      "outputs": [
        {
          "output_type": "stream",
          "text": [
            "Model: \"sequential_1\"\n",
            "_________________________________________________________________\n",
            "Layer (type)                 Output Shape              Param #   \n",
            "=================================================================\n",
            "conv2d_2 (Conv2D)            (None, 256, 256, 32)      2432      \n",
            "_________________________________________________________________\n",
            "max_pooling2d_2 (MaxPooling2 (None, 128, 128, 32)      0         \n",
            "_________________________________________________________________\n",
            "dropout_3 (Dropout)          (None, 128, 128, 32)      0         \n",
            "_________________________________________________________________\n",
            "conv2d_3 (Conv2D)            (None, 128, 128, 64)      51264     \n",
            "_________________________________________________________________\n",
            "max_pooling2d_3 (MaxPooling2 (None, 64, 64, 64)        0         \n",
            "_________________________________________________________________\n",
            "dropout_4 (Dropout)          (None, 64, 64, 64)        0         \n",
            "_________________________________________________________________\n",
            "conv2d_4 (Conv2D)            (None, 64, 64, 64)        102464    \n",
            "_________________________________________________________________\n",
            "max_pooling2d_4 (MaxPooling2 (None, 32, 32, 64)        0         \n",
            "_________________________________________________________________\n",
            "dropout_5 (Dropout)          (None, 32, 32, 64)        0         \n",
            "_________________________________________________________________\n",
            "flatten_1 (Flatten)          (None, 65536)             0         \n",
            "_________________________________________________________________\n",
            "dense_2 (Dense)              (None, 256)               16777472  \n",
            "_________________________________________________________________\n",
            "dropout_6 (Dropout)          (None, 256)               0         \n",
            "_________________________________________________________________\n",
            "dense_3 (Dense)              (None, 1)                 257       \n",
            "=================================================================\n",
            "Total params: 16,933,889\n",
            "Trainable params: 16,933,889\n",
            "Non-trainable params: 0\n",
            "_________________________________________________________________\n"
          ],
          "name": "stdout"
        }
      ]
    },
    {
      "cell_type": "markdown",
      "metadata": {
        "id": "Z044SMlp3N-V"
      },
      "source": [
        "## 4 convolutional layers"
      ]
    },
    {
      "cell_type": "code",
      "metadata": {
        "colab": {
          "base_uri": "https://localhost:8080/"
        },
        "id": "ZLhxWran3Sc4",
        "outputId": "eed0ba52-1fe7-45f1-b7df-f54266e7f3a7"
      },
      "source": [
        "# Model With Dropout Layer\n",
        "\n",
        "\n",
        "model3 = Sequential()\n",
        "\n",
        "# add the convolutional layer\n",
        "# filters, size of filters, padding, activation_function, inout_shape\n",
        "model3.add(Conv2D(32,(5,5),padding = 'SAME', activation = 'relu', input_shape = (size,size,3)))\n",
        "\n",
        "# pooling layer\n",
        "model3.add(MaxPooling2D(pool_size = (2,2)))\n",
        "\n",
        "# place a dropout layer\n",
        "model3.add(Dropout(0.5)) ## Minimizes the overfitting\n",
        "\n",
        "# add another convolutional layer\n",
        "model3.add(Conv2D(64,(5,5),padding = 'SAME', activation = 'relu'))\n",
        "\n",
        "# pooling layer\n",
        "model3.add(MaxPooling2D(pool_size = (2,2)))\n",
        "\n",
        "# place a dropout layer\n",
        "model3.add(Dropout(0.5))\n",
        "\n",
        "# add another convolutional layer\n",
        "model3.add(Conv2D(64,(5,5),padding = 'SAME', activation = 'relu'))\n",
        "\n",
        "# pooling layer\n",
        "model3.add(MaxPooling2D(pool_size = (2,2)))\n",
        "\n",
        "# place a dropout layer\n",
        "model3.add(Dropout(0.5))\n",
        "\n",
        "# add another convolutional layer\n",
        "model3.add(Conv2D(64,(5,5),padding = 'SAME', activation = 'relu'))\n",
        "\n",
        "# pooling layer\n",
        "model3.add(MaxPooling2D(pool_size = (2,2)))\n",
        "\n",
        "# place a dropout layer\n",
        "model3.add(Dropout(0.5))\n",
        "\n",
        "\n",
        "# Flatten the image to 1 dimensional array\n",
        "model3.add(Flatten())\n",
        "\n",
        "# add a dense layer : amount of nodes, activation\n",
        "model3.add(Dense(256, activation = 'relu'))\n",
        "\n",
        "# place a dropout layer\n",
        "# 0.5 drop out rate is recommended, half input will be dropped at each update\n",
        "model3.add(Dropout(0.5))\n",
        "model3.add(Dense(1, activation = 'sigmoid'))\n",
        "model3.summary()"
      ],
      "execution_count": 19,
      "outputs": [
        {
          "output_type": "stream",
          "text": [
            "Model: \"sequential_2\"\n",
            "_________________________________________________________________\n",
            "Layer (type)                 Output Shape              Param #   \n",
            "=================================================================\n",
            "conv2d_5 (Conv2D)            (None, 256, 256, 32)      2432      \n",
            "_________________________________________________________________\n",
            "max_pooling2d_5 (MaxPooling2 (None, 128, 128, 32)      0         \n",
            "_________________________________________________________________\n",
            "dropout_7 (Dropout)          (None, 128, 128, 32)      0         \n",
            "_________________________________________________________________\n",
            "conv2d_6 (Conv2D)            (None, 128, 128, 64)      51264     \n",
            "_________________________________________________________________\n",
            "max_pooling2d_6 (MaxPooling2 (None, 64, 64, 64)        0         \n",
            "_________________________________________________________________\n",
            "dropout_8 (Dropout)          (None, 64, 64, 64)        0         \n",
            "_________________________________________________________________\n",
            "conv2d_7 (Conv2D)            (None, 64, 64, 64)        102464    \n",
            "_________________________________________________________________\n",
            "max_pooling2d_7 (MaxPooling2 (None, 32, 32, 64)        0         \n",
            "_________________________________________________________________\n",
            "dropout_9 (Dropout)          (None, 32, 32, 64)        0         \n",
            "_________________________________________________________________\n",
            "conv2d_8 (Conv2D)            (None, 32, 32, 64)        102464    \n",
            "_________________________________________________________________\n",
            "max_pooling2d_8 (MaxPooling2 (None, 16, 16, 64)        0         \n",
            "_________________________________________________________________\n",
            "dropout_10 (Dropout)         (None, 16, 16, 64)        0         \n",
            "_________________________________________________________________\n",
            "flatten_2 (Flatten)          (None, 16384)             0         \n",
            "_________________________________________________________________\n",
            "dense_4 (Dense)              (None, 256)               4194560   \n",
            "_________________________________________________________________\n",
            "dropout_11 (Dropout)         (None, 256)               0         \n",
            "_________________________________________________________________\n",
            "dense_5 (Dense)              (None, 1)                 257       \n",
            "=================================================================\n",
            "Total params: 4,453,441\n",
            "Trainable params: 4,453,441\n",
            "Non-trainable params: 0\n",
            "_________________________________________________________________\n"
          ],
          "name": "stdout"
        }
      ]
    },
    {
      "cell_type": "markdown",
      "metadata": {
        "id": "Hbr5j8463ipF"
      },
      "source": [
        "## 5 convolutional layers"
      ]
    },
    {
      "cell_type": "code",
      "metadata": {
        "colab": {
          "base_uri": "https://localhost:8080/"
        },
        "id": "phvjTdHX3ojl",
        "outputId": "94faedb0-1d7a-4a14-a672-fd7170a5c6e2"
      },
      "source": [
        "# Model With Dropout Layer\n",
        "\n",
        "\n",
        "model4 = Sequential()\n",
        "\n",
        "# add the convolutional layer\n",
        "# filters, size of filters, padding, activation_function, inout_shape\n",
        "model4.add(Conv2D(32,(5,5),padding = 'SAME', activation = 'relu', input_shape = (size,size,3)))\n",
        "\n",
        "# pooling layer\n",
        "model4.add(MaxPooling2D(pool_size = (2,2)))\n",
        "\n",
        "# place a dropout layer\n",
        "model4.add(Dropout(0.5)) ## Minimizes the overfitting\n",
        "\n",
        "# add another convolutional layer\n",
        "model4.add(Conv2D(64,(5,5),padding = 'SAME', activation = 'relu'))\n",
        "\n",
        "# pooling layer\n",
        "model4.add(MaxPooling2D(pool_size = (2,2)))\n",
        "\n",
        "# place a dropout layer\n",
        "model4.add(Dropout(0.5))\n",
        "\n",
        "# add another convolutional layer\n",
        "model4.add(Conv2D(64,(5,5),padding = 'SAME', activation = 'relu'))\n",
        "\n",
        "# pooling layer\n",
        "model4.add(MaxPooling2D(pool_size = (2,2)))\n",
        "\n",
        "# place a dropout layer\n",
        "model4.add(Dropout(0.5))\n",
        "\n",
        "# add another convolutional layer\n",
        "model4.add(Conv2D(64,(5,5),padding = 'SAME', activation = 'relu'))\n",
        "\n",
        "# pooling layer\n",
        "model4.add(MaxPooling2D(pool_size = (2,2)))\n",
        "\n",
        "# place a dropout layer\n",
        "model4.add(Dropout(0.5))\n",
        "\n",
        "\n",
        "# Flatten the image to 1 dimensional array\n",
        "model4.add(Flatten())\n",
        "\n",
        "# add a dense layer : amount of nodes, activation\n",
        "model4.add(Dense(256, activation = 'relu'))\n",
        "\n",
        "# place a dropout layer\n",
        "# 0.5 drop out rate is recommended, half input will be dropped at each update\n",
        "model4.add(Dropout(0.5))\n",
        "model4.add(Dense(1, activation = 'sigmoid'))\n",
        "model4.summary()"
      ],
      "execution_count": 20,
      "outputs": [
        {
          "output_type": "stream",
          "text": [
            "Model: \"sequential_3\"\n",
            "_________________________________________________________________\n",
            "Layer (type)                 Output Shape              Param #   \n",
            "=================================================================\n",
            "conv2d_9 (Conv2D)            (None, 256, 256, 32)      2432      \n",
            "_________________________________________________________________\n",
            "max_pooling2d_9 (MaxPooling2 (None, 128, 128, 32)      0         \n",
            "_________________________________________________________________\n",
            "dropout_12 (Dropout)         (None, 128, 128, 32)      0         \n",
            "_________________________________________________________________\n",
            "conv2d_10 (Conv2D)           (None, 128, 128, 64)      51264     \n",
            "_________________________________________________________________\n",
            "max_pooling2d_10 (MaxPooling (None, 64, 64, 64)        0         \n",
            "_________________________________________________________________\n",
            "dropout_13 (Dropout)         (None, 64, 64, 64)        0         \n",
            "_________________________________________________________________\n",
            "conv2d_11 (Conv2D)           (None, 64, 64, 64)        102464    \n",
            "_________________________________________________________________\n",
            "max_pooling2d_11 (MaxPooling (None, 32, 32, 64)        0         \n",
            "_________________________________________________________________\n",
            "dropout_14 (Dropout)         (None, 32, 32, 64)        0         \n",
            "_________________________________________________________________\n",
            "conv2d_12 (Conv2D)           (None, 32, 32, 64)        102464    \n",
            "_________________________________________________________________\n",
            "max_pooling2d_12 (MaxPooling (None, 16, 16, 64)        0         \n",
            "_________________________________________________________________\n",
            "dropout_15 (Dropout)         (None, 16, 16, 64)        0         \n",
            "_________________________________________________________________\n",
            "flatten_3 (Flatten)          (None, 16384)             0         \n",
            "_________________________________________________________________\n",
            "dense_6 (Dense)              (None, 256)               4194560   \n",
            "_________________________________________________________________\n",
            "dropout_16 (Dropout)         (None, 256)               0         \n",
            "_________________________________________________________________\n",
            "dense_7 (Dense)              (None, 1)                 257       \n",
            "=================================================================\n",
            "Total params: 4,453,441\n",
            "Trainable params: 4,453,441\n",
            "Non-trainable params: 0\n",
            "_________________________________________________________________\n"
          ],
          "name": "stdout"
        }
      ]
    },
    {
      "cell_type": "markdown",
      "metadata": {
        "id": "qpGeCxCh4yW0"
      },
      "source": [
        "## Compile The Model"
      ]
    },
    {
      "cell_type": "code",
      "metadata": {
        "id": "wq9LFtgC4tmO"
      },
      "source": [
        "# compile model\n",
        "from tensorflow.keras.optimizers import Adam # Adam is optimizer\n",
        "# Loss function definition\n",
        "model.compile(Adam(lr = 0.001),loss = 'binary_crossentropy', metrics = ['accuracy'])\n",
        "model2.compile(Adam(lr = 0.001),loss = 'binary_crossentropy', metrics = ['accuracy'])\n",
        "model3.compile(Adam(lr = 0.001),loss = 'binary_crossentropy', metrics = ['accuracy'])\n",
        "model4.compile(Adam(lr = 0.001),loss = 'binary_crossentropy', metrics = ['accuracy'])\n"
      ],
      "execution_count": 21,
      "outputs": []
    },
    {
      "cell_type": "markdown",
      "metadata": {
        "id": "TRrXMG-H49-j"
      },
      "source": [
        "## Train the Model"
      ]
    },
    {
      "cell_type": "code",
      "metadata": {
        "colab": {
          "base_uri": "https://localhost:8080/"
        },
        "id": "R9uST8cn45xO",
        "outputId": "e45f5e6c-93ae-4e33-e40a-df84f99eac45"
      },
      "source": [
        "# train the model\n",
        "%%time\n",
        "model_history = model.fit(X_train_norm,y_train,epochs = 30,validation_data=(X_valid_norm,y_valid),verbose = 1)"
      ],
      "execution_count": 22,
      "outputs": [
        {
          "output_type": "stream",
          "text": [
            "Epoch 1/30\n",
            "25/25 [==============================] - 37s 117ms/step - loss: 17.4289 - accuracy: 0.6061 - val_loss: 0.4317 - val_accuracy: 0.9750\n",
            "Epoch 2/30\n",
            "25/25 [==============================] - 2s 92ms/step - loss: 0.1659 - accuracy: 0.9299 - val_loss: 0.3913 - val_accuracy: 0.9750\n",
            "Epoch 3/30\n",
            "25/25 [==============================] - 2s 91ms/step - loss: 0.1894 - accuracy: 0.9378 - val_loss: 0.2478 - val_accuracy: 0.9900\n",
            "Epoch 4/30\n",
            "25/25 [==============================] - 2s 92ms/step - loss: 0.0971 - accuracy: 0.9702 - val_loss: 0.2166 - val_accuracy: 0.9600\n",
            "Epoch 5/30\n",
            "25/25 [==============================] - 2s 92ms/step - loss: 0.0816 - accuracy: 0.9660 - val_loss: 0.1718 - val_accuracy: 0.9350\n",
            "Epoch 6/30\n",
            "25/25 [==============================] - 2s 92ms/step - loss: 0.1704 - accuracy: 0.9515 - val_loss: 0.3250 - val_accuracy: 0.9400\n",
            "Epoch 7/30\n",
            "25/25 [==============================] - 2s 92ms/step - loss: 0.1560 - accuracy: 0.9512 - val_loss: 0.2023 - val_accuracy: 0.9900\n",
            "Epoch 8/30\n",
            "25/25 [==============================] - 2s 92ms/step - loss: 0.0665 - accuracy: 0.9834 - val_loss: 0.2163 - val_accuracy: 0.9450\n",
            "Epoch 9/30\n",
            "25/25 [==============================] - 2s 91ms/step - loss: 0.0659 - accuracy: 0.9738 - val_loss: 0.1003 - val_accuracy: 0.9800\n",
            "Epoch 10/30\n",
            "25/25 [==============================] - 2s 92ms/step - loss: 0.0506 - accuracy: 0.9840 - val_loss: 0.1919 - val_accuracy: 0.9500\n",
            "Epoch 11/30\n",
            "25/25 [==============================] - 2s 91ms/step - loss: 0.0347 - accuracy: 0.9922 - val_loss: 0.1432 - val_accuracy: 0.9450\n",
            "Epoch 12/30\n",
            "25/25 [==============================] - 2s 92ms/step - loss: 0.0273 - accuracy: 0.9902 - val_loss: 0.1994 - val_accuracy: 0.9300\n",
            "Epoch 13/30\n",
            "25/25 [==============================] - 2s 92ms/step - loss: 0.1121 - accuracy: 0.9584 - val_loss: 0.1516 - val_accuracy: 0.9450\n",
            "Epoch 14/30\n",
            "25/25 [==============================] - 2s 91ms/step - loss: 0.1932 - accuracy: 0.9367 - val_loss: 0.2869 - val_accuracy: 0.8850\n",
            "Epoch 15/30\n",
            "25/25 [==============================] - 2s 91ms/step - loss: 0.0727 - accuracy: 0.9649 - val_loss: 0.2731 - val_accuracy: 0.8950\n",
            "Epoch 16/30\n",
            "25/25 [==============================] - 2s 93ms/step - loss: 0.0503 - accuracy: 0.9788 - val_loss: 0.2343 - val_accuracy: 0.9200\n",
            "Epoch 17/30\n",
            "25/25 [==============================] - 2s 91ms/step - loss: 0.0406 - accuracy: 0.9846 - val_loss: 0.2101 - val_accuracy: 0.9300\n",
            "Epoch 18/30\n",
            "25/25 [==============================] - 2s 92ms/step - loss: 0.0125 - accuracy: 0.9966 - val_loss: 0.2043 - val_accuracy: 0.9250\n",
            "Epoch 19/30\n",
            "25/25 [==============================] - 2s 92ms/step - loss: 0.0353 - accuracy: 0.9922 - val_loss: 0.2337 - val_accuracy: 0.9150\n",
            "Epoch 20/30\n",
            "25/25 [==============================] - 2s 93ms/step - loss: 0.0213 - accuracy: 0.9866 - val_loss: 0.1725 - val_accuracy: 0.9500\n",
            "Epoch 21/30\n",
            "25/25 [==============================] - 2s 93ms/step - loss: 0.0379 - accuracy: 0.9860 - val_loss: 0.2065 - val_accuracy: 0.9350\n",
            "Epoch 22/30\n",
            "25/25 [==============================] - 2s 92ms/step - loss: 0.0258 - accuracy: 0.9886 - val_loss: 0.1756 - val_accuracy: 0.9400\n",
            "Epoch 23/30\n",
            "25/25 [==============================] - 2s 92ms/step - loss: 0.0151 - accuracy: 0.9932 - val_loss: 0.2234 - val_accuracy: 0.9200\n",
            "Epoch 24/30\n",
            "25/25 [==============================] - 2s 91ms/step - loss: 0.0191 - accuracy: 0.9944 - val_loss: 0.1777 - val_accuracy: 0.9450\n",
            "Epoch 25/30\n",
            "25/25 [==============================] - 2s 91ms/step - loss: 0.0178 - accuracy: 0.9956 - val_loss: 0.1993 - val_accuracy: 0.9350\n",
            "Epoch 26/30\n",
            "25/25 [==============================] - 2s 92ms/step - loss: 0.0173 - accuracy: 0.9939 - val_loss: 0.1671 - val_accuracy: 0.9300\n",
            "Epoch 27/30\n",
            "25/25 [==============================] - 2s 92ms/step - loss: 0.0123 - accuracy: 0.9968 - val_loss: 0.1235 - val_accuracy: 0.9500\n",
            "Epoch 28/30\n",
            "25/25 [==============================] - 2s 92ms/step - loss: 0.0135 - accuracy: 0.9931 - val_loss: 0.1904 - val_accuracy: 0.9250\n",
            "Epoch 29/30\n",
            "25/25 [==============================] - 2s 93ms/step - loss: 0.0239 - accuracy: 0.9934 - val_loss: 0.2749 - val_accuracy: 0.9100\n",
            "Epoch 30/30\n",
            "25/25 [==============================] - 2s 94ms/step - loss: 0.0201 - accuracy: 0.9891 - val_loss: 0.2361 - val_accuracy: 0.9250\n",
            "CPU times: user 52.3 s, sys: 25.8 s, total: 1min 18s\n",
            "Wall time: 1min 43s\n"
          ],
          "name": "stdout"
        }
      ]
    },
    {
      "cell_type": "code",
      "metadata": {
        "colab": {
          "base_uri": "https://localhost:8080/"
        },
        "id": "DB_qvysU74FG",
        "outputId": "14e2f8da-42b8-4466-b359-8a54799dea88"
      },
      "source": [
        "# train the model\n",
        "%%time\n",
        "model_history2 = model2.fit(X_train_norm,y_train,epochs = 30,validation_data=(X_valid_norm,y_valid),verbose = 1)"
      ],
      "execution_count": 23,
      "outputs": [
        {
          "output_type": "stream",
          "text": [
            "Epoch 1/30\n",
            "25/25 [==============================] - 4s 117ms/step - loss: 12.7823 - accuracy: 0.4657 - val_loss: 0.6932 - val_accuracy: 0.4800\n",
            "Epoch 2/30\n",
            "25/25 [==============================] - 2s 93ms/step - loss: 0.6881 - accuracy: 0.5111 - val_loss: 0.5563 - val_accuracy: 0.9250\n",
            "Epoch 3/30\n",
            "25/25 [==============================] - 2s 93ms/step - loss: 0.3672 - accuracy: 0.8924 - val_loss: 0.1501 - val_accuracy: 0.9450\n",
            "Epoch 4/30\n",
            "25/25 [==============================] - 2s 93ms/step - loss: 0.1998 - accuracy: 0.9244 - val_loss: 0.1465 - val_accuracy: 0.9600\n",
            "Epoch 5/30\n",
            "25/25 [==============================] - 2s 94ms/step - loss: 0.2158 - accuracy: 0.9234 - val_loss: 0.1131 - val_accuracy: 0.9700\n",
            "Epoch 6/30\n",
            "25/25 [==============================] - 2s 92ms/step - loss: 0.1380 - accuracy: 0.9559 - val_loss: 0.1329 - val_accuracy: 0.9900\n",
            "Epoch 7/30\n",
            "25/25 [==============================] - 2s 95ms/step - loss: 0.1165 - accuracy: 0.9623 - val_loss: 0.0839 - val_accuracy: 0.9850\n",
            "Epoch 8/30\n",
            "25/25 [==============================] - 2s 92ms/step - loss: 0.0988 - accuracy: 0.9632 - val_loss: 0.0753 - val_accuracy: 0.9950\n",
            "Epoch 9/30\n",
            "25/25 [==============================] - 2s 93ms/step - loss: 0.1137 - accuracy: 0.9505 - val_loss: 0.0463 - val_accuracy: 0.9900\n",
            "Epoch 10/30\n",
            "25/25 [==============================] - 2s 94ms/step - loss: 0.0765 - accuracy: 0.9692 - val_loss: 0.0428 - val_accuracy: 0.9900\n",
            "Epoch 11/30\n",
            "25/25 [==============================] - 2s 93ms/step - loss: 0.0797 - accuracy: 0.9722 - val_loss: 0.0469 - val_accuracy: 0.9950\n",
            "Epoch 12/30\n",
            "25/25 [==============================] - 2s 93ms/step - loss: 0.0842 - accuracy: 0.9677 - val_loss: 0.0261 - val_accuracy: 1.0000\n",
            "Epoch 13/30\n",
            "25/25 [==============================] - 2s 94ms/step - loss: 0.0705 - accuracy: 0.9664 - val_loss: 0.0466 - val_accuracy: 0.9950\n",
            "Epoch 14/30\n",
            "25/25 [==============================] - 2s 93ms/step - loss: 0.0543 - accuracy: 0.9851 - val_loss: 0.0620 - val_accuracy: 0.9800\n",
            "Epoch 15/30\n",
            "25/25 [==============================] - 2s 94ms/step - loss: 0.0423 - accuracy: 0.9889 - val_loss: 0.0498 - val_accuracy: 0.9700\n",
            "Epoch 16/30\n",
            "25/25 [==============================] - 2s 94ms/step - loss: 0.0415 - accuracy: 0.9883 - val_loss: 0.0400 - val_accuracy: 0.9900\n",
            "Epoch 17/30\n",
            "25/25 [==============================] - 2s 93ms/step - loss: 0.0419 - accuracy: 0.9748 - val_loss: 0.0320 - val_accuracy: 0.9950\n",
            "Epoch 18/30\n",
            "25/25 [==============================] - 2s 93ms/step - loss: 0.0311 - accuracy: 0.9882 - val_loss: 0.0315 - val_accuracy: 0.9900\n",
            "Epoch 19/30\n",
            "25/25 [==============================] - 2s 94ms/step - loss: 0.0353 - accuracy: 0.9879 - val_loss: 0.0292 - val_accuracy: 0.9900\n",
            "Epoch 20/30\n",
            "25/25 [==============================] - 2s 93ms/step - loss: 0.0255 - accuracy: 0.9905 - val_loss: 0.0334 - val_accuracy: 0.9950\n",
            "Epoch 21/30\n",
            "25/25 [==============================] - 2s 94ms/step - loss: 0.0416 - accuracy: 0.9821 - val_loss: 0.0694 - val_accuracy: 0.9700\n",
            "Epoch 22/30\n",
            "25/25 [==============================] - 2s 93ms/step - loss: 0.0240 - accuracy: 0.9941 - val_loss: 0.0238 - val_accuracy: 0.9950\n",
            "Epoch 23/30\n",
            "25/25 [==============================] - 2s 93ms/step - loss: 0.0267 - accuracy: 0.9918 - val_loss: 0.0644 - val_accuracy: 0.9750\n",
            "Epoch 24/30\n",
            "25/25 [==============================] - 2s 93ms/step - loss: 0.0174 - accuracy: 0.9924 - val_loss: 0.0200 - val_accuracy: 0.9900\n",
            "Epoch 25/30\n",
            "25/25 [==============================] - 2s 95ms/step - loss: 0.0203 - accuracy: 0.9934 - val_loss: 0.0294 - val_accuracy: 0.9900\n",
            "Epoch 26/30\n",
            "25/25 [==============================] - 2s 93ms/step - loss: 0.0116 - accuracy: 0.9984 - val_loss: 0.0273 - val_accuracy: 0.9900\n",
            "Epoch 27/30\n",
            "25/25 [==============================] - 2s 93ms/step - loss: 0.0125 - accuracy: 0.9954 - val_loss: 0.0230 - val_accuracy: 0.9900\n",
            "Epoch 28/30\n",
            "25/25 [==============================] - 2s 94ms/step - loss: 0.0264 - accuracy: 0.9890 - val_loss: 0.0843 - val_accuracy: 0.9650\n",
            "Epoch 29/30\n",
            "25/25 [==============================] - 2s 93ms/step - loss: 0.0335 - accuracy: 0.9903 - val_loss: 0.0362 - val_accuracy: 0.9900\n",
            "Epoch 30/30\n",
            "25/25 [==============================] - 2s 93ms/step - loss: 0.0207 - accuracy: 0.9931 - val_loss: 0.0114 - val_accuracy: 0.9950\n",
            "CPU times: user 50.4 s, sys: 25.1 s, total: 1min 15s\n",
            "Wall time: 1min 12s\n"
          ],
          "name": "stdout"
        }
      ]
    },
    {
      "cell_type": "code",
      "metadata": {
        "colab": {
          "base_uri": "https://localhost:8080/"
        },
        "id": "fiPtc9PG8FIs",
        "outputId": "00f4a876-9f2e-4d48-fe18-7aeed8e9f5ac"
      },
      "source": [
        "# train the model\n",
        "%%time\n",
        "model_history3 = model3.fit(X_train_norm,y_train,epochs = 30,validation_data=(X_valid_norm,y_valid),verbose = 1)"
      ],
      "execution_count": 24,
      "outputs": [
        {
          "output_type": "stream",
          "text": [
            "Epoch 1/30\n",
            "25/25 [==============================] - 4s 104ms/step - loss: 1.1658 - accuracy: 0.5467 - val_loss: 0.6609 - val_accuracy: 0.5650\n",
            "Epoch 2/30\n",
            "25/25 [==============================] - 2s 94ms/step - loss: 0.4255 - accuracy: 0.8211 - val_loss: 0.2615 - val_accuracy: 0.9700\n",
            "Epoch 3/30\n",
            "25/25 [==============================] - 2s 95ms/step - loss: 0.2570 - accuracy: 0.9249 - val_loss: 0.2360 - val_accuracy: 0.9700\n",
            "Epoch 4/30\n",
            "25/25 [==============================] - 2s 94ms/step - loss: 0.1911 - accuracy: 0.9374 - val_loss: 0.3804 - val_accuracy: 0.9150\n",
            "Epoch 5/30\n",
            "25/25 [==============================] - 2s 93ms/step - loss: 0.2663 - accuracy: 0.9174 - val_loss: 0.3868 - val_accuracy: 0.9450\n",
            "Epoch 6/30\n",
            "25/25 [==============================] - 2s 95ms/step - loss: 0.1252 - accuracy: 0.9645 - val_loss: 0.2340 - val_accuracy: 0.9650\n",
            "Epoch 7/30\n",
            "25/25 [==============================] - 2s 93ms/step - loss: 0.1656 - accuracy: 0.9556 - val_loss: 0.1581 - val_accuracy: 0.9800\n",
            "Epoch 8/30\n",
            "25/25 [==============================] - 2s 93ms/step - loss: 0.1440 - accuracy: 0.9521 - val_loss: 0.2524 - val_accuracy: 0.9700\n",
            "Epoch 9/30\n",
            "25/25 [==============================] - 2s 93ms/step - loss: 0.0902 - accuracy: 0.9691 - val_loss: 0.1715 - val_accuracy: 0.9800\n",
            "Epoch 10/30\n",
            "25/25 [==============================] - 2s 96ms/step - loss: 0.1041 - accuracy: 0.9625 - val_loss: 0.1136 - val_accuracy: 0.9600\n",
            "Epoch 11/30\n",
            "25/25 [==============================] - 2s 94ms/step - loss: 0.1580 - accuracy: 0.9490 - val_loss: 0.2278 - val_accuracy: 0.9700\n",
            "Epoch 12/30\n",
            "25/25 [==============================] - 2s 95ms/step - loss: 0.1169 - accuracy: 0.9569 - val_loss: 0.1677 - val_accuracy: 0.9850\n",
            "Epoch 13/30\n",
            "25/25 [==============================] - 2s 95ms/step - loss: 0.1391 - accuracy: 0.9499 - val_loss: 0.1306 - val_accuracy: 0.9850\n",
            "Epoch 14/30\n",
            "25/25 [==============================] - 2s 94ms/step - loss: 0.0903 - accuracy: 0.9689 - val_loss: 0.0590 - val_accuracy: 0.9850\n",
            "Epoch 15/30\n",
            "25/25 [==============================] - 2s 94ms/step - loss: 0.1172 - accuracy: 0.9605 - val_loss: 0.1511 - val_accuracy: 0.9850\n",
            "Epoch 16/30\n",
            "25/25 [==============================] - 2s 93ms/step - loss: 0.0869 - accuracy: 0.9650 - val_loss: 0.1044 - val_accuracy: 0.9850\n",
            "Epoch 17/30\n",
            "25/25 [==============================] - 2s 94ms/step - loss: 0.0727 - accuracy: 0.9721 - val_loss: 0.1033 - val_accuracy: 0.9900\n",
            "Epoch 18/30\n",
            "25/25 [==============================] - 2s 93ms/step - loss: 0.0417 - accuracy: 0.9911 - val_loss: 0.0590 - val_accuracy: 0.9800\n",
            "Epoch 19/30\n",
            "25/25 [==============================] - 2s 93ms/step - loss: 0.0646 - accuracy: 0.9808 - val_loss: 0.0578 - val_accuracy: 0.9900\n",
            "Epoch 20/30\n",
            "25/25 [==============================] - 2s 94ms/step - loss: 0.0348 - accuracy: 0.9834 - val_loss: 0.0956 - val_accuracy: 0.9750\n",
            "Epoch 21/30\n",
            "25/25 [==============================] - 2s 93ms/step - loss: 0.0432 - accuracy: 0.9859 - val_loss: 0.0841 - val_accuracy: 0.9850\n",
            "Epoch 22/30\n",
            "25/25 [==============================] - 2s 94ms/step - loss: 0.0422 - accuracy: 0.9855 - val_loss: 0.0501 - val_accuracy: 0.9850\n",
            "Epoch 23/30\n",
            "25/25 [==============================] - 2s 93ms/step - loss: 0.0337 - accuracy: 0.9898 - val_loss: 0.0760 - val_accuracy: 0.9750\n",
            "Epoch 24/30\n",
            "25/25 [==============================] - 2s 95ms/step - loss: 0.0252 - accuracy: 0.9899 - val_loss: 0.0463 - val_accuracy: 0.9850\n",
            "Epoch 25/30\n",
            "25/25 [==============================] - 2s 93ms/step - loss: 0.0240 - accuracy: 0.9918 - val_loss: 0.0828 - val_accuracy: 0.9750\n",
            "Epoch 26/30\n",
            "25/25 [==============================] - 2s 94ms/step - loss: 0.0214 - accuracy: 0.9947 - val_loss: 0.0463 - val_accuracy: 0.9850\n",
            "Epoch 27/30\n",
            "25/25 [==============================] - 2s 93ms/step - loss: 0.0089 - accuracy: 0.9974 - val_loss: 0.0345 - val_accuracy: 0.9900\n",
            "Epoch 28/30\n",
            "25/25 [==============================] - 2s 93ms/step - loss: 0.0738 - accuracy: 0.9760 - val_loss: 0.0641 - val_accuracy: 0.9800\n",
            "Epoch 29/30\n",
            "25/25 [==============================] - 2s 93ms/step - loss: 0.0252 - accuracy: 0.9887 - val_loss: 0.0343 - val_accuracy: 0.9850\n",
            "Epoch 30/30\n",
            "25/25 [==============================] - 2s 93ms/step - loss: 0.0095 - accuracy: 0.9961 - val_loss: 0.0326 - val_accuracy: 0.9850\n",
            "CPU times: user 50.6 s, sys: 25 s, total: 1min 15s\n",
            "Wall time: 1min 13s\n"
          ],
          "name": "stdout"
        }
      ]
    },
    {
      "cell_type": "code",
      "metadata": {
        "colab": {
          "base_uri": "https://localhost:8080/"
        },
        "id": "GK_OCSVX8KyN",
        "outputId": "c54bdc07-4195-418d-ec1b-69a357a51630"
      },
      "source": [
        "# train the model\n",
        "%%time\n",
        "model_history4 = model4.fit(X_train_norm,y_train,epochs = 30,validation_data=(X_valid_norm,y_valid),verbose = 1)"
      ],
      "execution_count": 25,
      "outputs": [
        {
          "output_type": "stream",
          "text": [
            "Epoch 1/30\n",
            "25/25 [==============================] - 3s 105ms/step - loss: 3.6652 - accuracy: 0.4933 - val_loss: 0.6735 - val_accuracy: 0.9150\n",
            "Epoch 2/30\n",
            "25/25 [==============================] - 2s 94ms/step - loss: 0.5201 - accuracy: 0.8110 - val_loss: 0.3757 - val_accuracy: 0.9650\n",
            "Epoch 3/30\n",
            "25/25 [==============================] - 2s 94ms/step - loss: 0.3258 - accuracy: 0.8684 - val_loss: 0.2831 - val_accuracy: 0.9600\n",
            "Epoch 4/30\n",
            "25/25 [==============================] - 2s 93ms/step - loss: 0.2524 - accuracy: 0.9156 - val_loss: 0.3220 - val_accuracy: 0.9300\n",
            "Epoch 5/30\n",
            "25/25 [==============================] - 2s 94ms/step - loss: 0.2227 - accuracy: 0.9110 - val_loss: 0.2014 - val_accuracy: 0.9650\n",
            "Epoch 6/30\n",
            "25/25 [==============================] - 2s 94ms/step - loss: 0.1572 - accuracy: 0.9534 - val_loss: 0.3625 - val_accuracy: 0.9350\n",
            "Epoch 7/30\n",
            "25/25 [==============================] - 2s 94ms/step - loss: 0.1662 - accuracy: 0.9364 - val_loss: 0.0956 - val_accuracy: 0.9700\n",
            "Epoch 8/30\n",
            "25/25 [==============================] - 2s 94ms/step - loss: 0.2182 - accuracy: 0.9330 - val_loss: 0.1231 - val_accuracy: 0.9650\n",
            "Epoch 9/30\n",
            "25/25 [==============================] - 2s 94ms/step - loss: 0.1627 - accuracy: 0.9368 - val_loss: 0.1612 - val_accuracy: 0.9600\n",
            "Epoch 10/30\n",
            "25/25 [==============================] - 2s 94ms/step - loss: 0.1228 - accuracy: 0.9544 - val_loss: 0.1021 - val_accuracy: 0.9650\n",
            "Epoch 11/30\n",
            "25/25 [==============================] - 2s 94ms/step - loss: 0.0971 - accuracy: 0.9558 - val_loss: 0.1035 - val_accuracy: 0.9600\n",
            "Epoch 12/30\n",
            "25/25 [==============================] - 2s 94ms/step - loss: 0.1302 - accuracy: 0.9623 - val_loss: 0.2003 - val_accuracy: 0.9400\n",
            "Epoch 13/30\n",
            "25/25 [==============================] - 2s 94ms/step - loss: 0.1061 - accuracy: 0.9636 - val_loss: 0.3307 - val_accuracy: 0.9300\n",
            "Epoch 14/30\n",
            "25/25 [==============================] - 2s 95ms/step - loss: 0.1213 - accuracy: 0.9694 - val_loss: 0.0966 - val_accuracy: 0.9650\n",
            "Epoch 15/30\n",
            "25/25 [==============================] - 2s 95ms/step - loss: 0.0756 - accuracy: 0.9755 - val_loss: 0.0820 - val_accuracy: 0.9650\n",
            "Epoch 16/30\n",
            "25/25 [==============================] - 2s 95ms/step - loss: 0.1670 - accuracy: 0.9623 - val_loss: 0.0852 - val_accuracy: 0.9800\n",
            "Epoch 17/30\n",
            "25/25 [==============================] - 2s 96ms/step - loss: 0.0978 - accuracy: 0.9636 - val_loss: 0.0695 - val_accuracy: 0.9700\n",
            "Epoch 18/30\n",
            "25/25 [==============================] - 2s 95ms/step - loss: 0.0647 - accuracy: 0.9771 - val_loss: 0.0666 - val_accuracy: 0.9800\n",
            "Epoch 19/30\n",
            "25/25 [==============================] - 2s 94ms/step - loss: 0.0667 - accuracy: 0.9752 - val_loss: 0.0875 - val_accuracy: 0.9750\n",
            "Epoch 20/30\n",
            "25/25 [==============================] - 2s 94ms/step - loss: 0.0656 - accuracy: 0.9854 - val_loss: 0.0729 - val_accuracy: 0.9650\n",
            "Epoch 21/30\n",
            "25/25 [==============================] - 2s 94ms/step - loss: 0.0404 - accuracy: 0.9825 - val_loss: 0.2939 - val_accuracy: 0.8500\n",
            "Epoch 22/30\n",
            "25/25 [==============================] - 2s 94ms/step - loss: 0.0539 - accuracy: 0.9834 - val_loss: 0.2072 - val_accuracy: 0.9300\n",
            "Epoch 23/30\n",
            "25/25 [==============================] - 2s 96ms/step - loss: 0.0705 - accuracy: 0.9852 - val_loss: 0.0631 - val_accuracy: 0.9750\n",
            "Epoch 24/30\n",
            "25/25 [==============================] - 2s 95ms/step - loss: 0.0411 - accuracy: 0.9841 - val_loss: 0.0580 - val_accuracy: 0.9650\n",
            "Epoch 25/30\n",
            "25/25 [==============================] - 2s 95ms/step - loss: 0.0496 - accuracy: 0.9816 - val_loss: 0.0500 - val_accuracy: 0.9900\n",
            "Epoch 26/30\n",
            "25/25 [==============================] - 2s 94ms/step - loss: 0.0617 - accuracy: 0.9738 - val_loss: 0.0381 - val_accuracy: 0.9900\n",
            "Epoch 27/30\n",
            "25/25 [==============================] - 2s 95ms/step - loss: 0.0363 - accuracy: 0.9864 - val_loss: 0.0410 - val_accuracy: 0.9850\n",
            "Epoch 28/30\n",
            "25/25 [==============================] - 2s 94ms/step - loss: 0.0367 - accuracy: 0.9869 - val_loss: 0.0305 - val_accuracy: 0.9900\n",
            "Epoch 29/30\n",
            "25/25 [==============================] - 2s 96ms/step - loss: 0.0464 - accuracy: 0.9875 - val_loss: 0.0381 - val_accuracy: 0.9900\n",
            "Epoch 30/30\n",
            "25/25 [==============================] - 2s 94ms/step - loss: 0.0508 - accuracy: 0.9799 - val_loss: 0.0353 - val_accuracy: 0.9900\n",
            "CPU times: user 50.5 s, sys: 24.1 s, total: 1min 14s\n",
            "Wall time: 1min 11s\n"
          ],
          "name": "stdout"
        }
      ]
    },
    {
      "cell_type": "markdown",
      "metadata": {
        "id": "2Q3y2pLHGK-4"
      },
      "source": [
        "# Evaluating the model"
      ]
    },
    {
      "cell_type": "code",
      "metadata": {
        "colab": {
          "base_uri": "https://localhost:8080/"
        },
        "id": "z2qSFhx55Jme",
        "outputId": "57198bb5-1619-45f1-bf41-54dc5aebbb83"
      },
      "source": [
        "# Evaluating the model:\n",
        "%%time\n",
        "model.evaluate(Xtest_norm,ytest,verbose= 1)"
      ],
      "execution_count": 26,
      "outputs": [
        {
          "output_type": "stream",
          "text": [
            "4/4 [==============================] - 0s 61ms/step - loss: 0.2042 - accuracy: 0.9500\n",
            "CPU times: user 230 ms, sys: 49.8 ms, total: 279 ms\n",
            "Wall time: 302 ms\n"
          ],
          "name": "stdout"
        },
        {
          "output_type": "execute_result",
          "data": {
            "text/plain": [
              "[0.20416390895843506, 0.949999988079071]"
            ]
          },
          "metadata": {
            "tags": []
          },
          "execution_count": 26
        }
      ]
    },
    {
      "cell_type": "code",
      "metadata": {
        "colab": {
          "base_uri": "https://localhost:8080/"
        },
        "id": "ZfCuepp-8UXT",
        "outputId": "e1469298-7927-4e6d-87e6-9906ea83fba9"
      },
      "source": [
        "# Evaluating the model:\n",
        "%%time\n",
        "model2.evaluate(Xtest_norm,ytest,verbose= 1)"
      ],
      "execution_count": 27,
      "outputs": [
        {
          "output_type": "stream",
          "text": [
            "4/4 [==============================] - 0s 37ms/step - loss: 0.0696 - accuracy: 0.9900\n",
            "CPU times: user 164 ms, sys: 26.8 ms, total: 191 ms\n",
            "Wall time: 211 ms\n"
          ],
          "name": "stdout"
        },
        {
          "output_type": "execute_result",
          "data": {
            "text/plain": [
              "[0.0696280226111412, 0.9900000095367432]"
            ]
          },
          "metadata": {
            "tags": []
          },
          "execution_count": 27
        }
      ]
    },
    {
      "cell_type": "code",
      "metadata": {
        "colab": {
          "base_uri": "https://localhost:8080/"
        },
        "id": "mwMO_Bqi8XmT",
        "outputId": "91fb4a37-97b6-4202-fec4-04c06120f0ec"
      },
      "source": [
        "# Evaluating the model:\n",
        "%%time\n",
        "model3.evaluate(Xtest_norm,ytest,verbose= 1)"
      ],
      "execution_count": 28,
      "outputs": [
        {
          "output_type": "stream",
          "text": [
            "4/4 [==============================] - 0s 29ms/step - loss: 0.0398 - accuracy: 0.9800\n",
            "CPU times: user 142 ms, sys: 15.1 ms, total: 157 ms\n",
            "Wall time: 191 ms\n"
          ],
          "name": "stdout"
        },
        {
          "output_type": "execute_result",
          "data": {
            "text/plain": [
              "[0.03978125751018524, 0.9800000190734863]"
            ]
          },
          "metadata": {
            "tags": []
          },
          "execution_count": 28
        }
      ]
    },
    {
      "cell_type": "code",
      "metadata": {
        "colab": {
          "base_uri": "https://localhost:8080/"
        },
        "id": "CDlaNzHK8aJo",
        "outputId": "cf5d8176-d0d0-441a-d7c2-95b654f9d46e"
      },
      "source": [
        "# Evaluating the model:\n",
        "%%time\n",
        "model4.evaluate(Xtest_norm,ytest,verbose= 1)"
      ],
      "execution_count": 29,
      "outputs": [
        {
          "output_type": "stream",
          "text": [
            "4/4 [==============================] - 0s 20ms/step - loss: 0.0423 - accuracy: 0.9900\n",
            "CPU times: user 134 ms, sys: 5.94 ms, total: 140 ms\n",
            "Wall time: 165 ms\n"
          ],
          "name": "stdout"
        },
        {
          "output_type": "execute_result",
          "data": {
            "text/plain": [
              "[0.0422963872551918, 0.9900000095367432]"
            ]
          },
          "metadata": {
            "tags": []
          },
          "execution_count": 29
        }
      ]
    },
    {
      "cell_type": "markdown",
      "metadata": {
        "id": "bcZh5y1qHcWI"
      },
      "source": [
        "# Plot performance metrics"
      ]
    },
    {
      "cell_type": "markdown",
      "metadata": {
        "id": "N82Pr1qvJHtO"
      },
      "source": [
        "## 2 conv accuracu and loss"
      ]
    },
    {
      "cell_type": "code",
      "metadata": {
        "colab": {
          "base_uri": "https://localhost:8080/",
          "height": 414
        },
        "id": "sOjJ143hGO63",
        "outputId": "6d30a05e-fd7b-4991-ddf7-cfd824d90e8d"
      },
      "source": [
        "# plot the model accuracy and loss for the training and the validating set.\n",
        "# CNN Model\n",
        "from matplotlib import pyplot as plt\n",
        "fig, ax = plt.subplots(1, 2, figsize=(25, 10))\n",
        "ax = ax.ravel()\n",
        "\n",
        "for i, met in enumerate(['loss', 'accuracy']):\n",
        "    ax[i].plot(model_history.history[met])\n",
        "    ax[i].plot(model_history.history['val_' + met])\n",
        "    ax[i].set_title('CNN Model {}'.format(met))\n",
        "    ax[i].set_xlabel('epochs')\n",
        "    ax[i].set_ylabel(met)\n",
        "    ax[i].legend(['train', 'val'])"
      ],
      "execution_count": 30,
      "outputs": [
        {
          "output_type": "display_data",
          "data": {
            "image/png": "[encoded data removed]",
            "text/plain": [
              "<Figure size 1800x720 with 2 Axes>"
            ]
          },
          "metadata": {
            "tags": [],
            "needs_background": "light"
          }
        }
      ]
    },
    {
      "cell_type": "markdown",
      "metadata": {
        "id": "-twxRT3yJFuC"
      },
      "source": [
        "## 3 conv accuracu and loss"
      ]
    },
    {
      "cell_type": "code",
      "metadata": {
        "colab": {
          "base_uri": "https://localhost:8080/",
          "height": 414
        },
        "id": "m7hIvsll8rMY",
        "outputId": "e2b54e71-10e7-43a8-e40d-7922ecf8732c"
      },
      "source": [
        "# plot the model accuracy and loss for the training and the validating set.\n",
        "# CNN Model\n",
        "from matplotlib import pyplot as plt\n",
        "fig, ax = plt.subplots(1, 2, figsize=(25, 10))\n",
        "ax = ax.ravel()\n",
        "\n",
        "for i, met in enumerate(['loss', 'accuracy']):\n",
        "    ax[i].plot(model_history2.history[met])\n",
        "    ax[i].plot(model_history2.history['val_' + met])\n",
        "    ax[i].set_title('CNN Model {}'.format(met))\n",
        "    ax[i].set_xlabel('epochs')\n",
        "    ax[i].set_ylabel(met)\n",
        "    ax[i].legend(['train', 'val'])"
      ],
      "execution_count": 31,
      "outputs": [
        {
          "output_type": "display_data",
          "data": {
            "image/png": "[encoded data removed]",
            "text/plain": [
              "<Figure size 1800x720 with 2 Axes>"
            ]
          },
          "metadata": {
            "tags": [],
            "needs_background": "light"
          }
        }
      ]
    },
    {
      "cell_type": "markdown",
      "metadata": {
        "id": "2pC4eRNmJDZx"
      },
      "source": [
        "## 4 conv accuracu and loss"
      ]
    },
    {
      "cell_type": "code",
      "metadata": {
        "colab": {
          "base_uri": "https://localhost:8080/",
          "height": 411
        },
        "id": "VHlA7gdY8uQp",
        "outputId": "a1cb3fc9-e78c-4953-ad60-261201c53f0a"
      },
      "source": [
        "# plot the model accuracy and loss for the training and the validating set.\n",
        "# CNN Model\n",
        "from matplotlib import pyplot as plt\n",
        "fig, ax = plt.subplots(1, 2, figsize=(25, 10))\n",
        "ax = ax.ravel()\n",
        "\n",
        "for i, met in enumerate(['loss', 'accuracy']):\n",
        "    ax[i].plot(model_history3.history[met])\n",
        "    ax[i].plot(model_history3.history['val_' + met])\n",
        "    ax[i].set_title('CNN Model {}'.format(met))\n",
        "    ax[i].set_xlabel('epochs')\n",
        "    ax[i].set_ylabel(met)\n",
        "    ax[i].legend(['train', 'val'])"
      ],
      "execution_count": 32,
      "outputs": [
        {
          "output_type": "display_data",
          "data": {
            "image/png": "[encoded data removed]",
            "text/plain": [
              "<Figure size 1800x720 with 2 Axes>"
            ]
          },
          "metadata": {
            "tags": [],
            "needs_background": "light"
          }
        }
      ]
    },
    {
      "cell_type": "markdown",
      "metadata": {
        "id": "MT5NxZrBI8TF"
      },
      "source": [
        "## 5 conv accuracu and loss"
      ]
    },
    {
      "cell_type": "code",
      "metadata": {
        "colab": {
          "base_uri": "https://localhost:8080/",
          "height": 409
        },
        "id": "uqKKnvMZ8xAQ",
        "outputId": "21197917-fcfb-465f-badd-e9211d1e4f4b"
      },
      "source": [
        "# plot the model accuracy and loss for the training and the validating set.\n",
        "# CNN Model\n",
        "from matplotlib import pyplot as plt\n",
        "fig, ax = plt.subplots(1, 2, figsize=(25, 10))\n",
        "ax = ax.ravel()\n",
        "\n",
        "for i, met in enumerate(['loss', 'accuracy']):\n",
        "    ax[i].plot(model_history4.history[met])\n",
        "    ax[i].plot(model_history4.history['val_' + met])\n",
        "    ax[i].set_title('CNN Model {}'.format(met))\n",
        "    ax[i].set_xlabel('epochs')\n",
        "    ax[i].set_ylabel(met)\n",
        "    ax[i].legend(['train', 'val'])"
      ],
      "execution_count": 33,
      "outputs": [
        {
          "output_type": "display_data",
          "data": {
            "image/png": "[encoded data removed]",
            "text/plain": [
              "<Figure size 1800x720 with 2 Axes>"
            ]
          },
          "metadata": {
            "tags": [],
            "needs_background": "light"
          }
        }
      ]
    },
    {
      "cell_type": "markdown",
      "metadata": {
        "id": "HiEPvCU5IYaC"
      },
      "source": [
        "# Confusion Matrix"
      ]
    },
    {
      "cell_type": "markdown",
      "metadata": {
        "id": "8Mx5-MSzI51j"
      },
      "source": [
        "## 2 conv confusion matrix"
      ]
    },
    {
      "cell_type": "code",
      "metadata": {
        "id": "C55qu_-THl2p",
        "colab": {
          "base_uri": "https://localhost:8080/",
          "height": 366
        },
        "outputId": "81fc48d3-419d-432e-b451-d0665f62d7f0"
      },
      "source": [
        "pred  = model.predict_classes(Xtest_norm,verbose= 1)\n",
        "\n",
        "'''pred_normalized = []\n",
        "for i in range(len(pred)):\n",
        "  if(pred[i]<=0.5):\n",
        "    pred_normalized.append(1)\n",
        "  else:\n",
        "    pred_normalized.append(0)\n",
        "'''\n",
        "import seaborn as sns\n",
        "\n",
        "cm = confusion_matrix(ytest, pred)\n",
        "ax= plt.subplot()\n",
        "sns.heatmap(cm, annot=True, fmt='g', ax = ax); #annot=True to annotate cells\n",
        "\n",
        "# labels, title and ticks\n",
        "ax.set_xlabel('Predicted labels');ax.set_ylabel('True labels'); \n",
        "ax.set_title('Confusion Matrix'); \n",
        "ax.xaxis.set_ticklabels(['Covid', 'Normal']); ax.yaxis.set_ticklabels(['Covid', 'Normal']);\n"
      ],
      "execution_count": 34,
      "outputs": [
        {
          "output_type": "stream",
          "text": [
            "\r1/4 [======>.......................] - ETA: 0s"
          ],
          "name": "stdout"
        },
        {
          "output_type": "stream",
          "text": [
            "/usr/local/lib/python3.7/dist-packages/tensorflow/python/keras/engine/sequential.py:450: UserWarning: `model.predict_classes()` is deprecated and will be removed after 2021-01-01. Please use instead:* `np.argmax(model.predict(x), axis=-1)`,   if your model does multi-class classification   (e.g. if it uses a `softmax` last-layer activation).* `(model.predict(x) > 0.5).astype(\"int32\")`,   if your model does binary classification   (e.g. if it uses a `sigmoid` last-layer activation).\n",
            "  warnings.warn('`model.predict_classes()` is deprecated and '\n"
          ],
          "name": "stderr"
        },
        {
          "output_type": "stream",
          "text": [
            "4/4 [==============================] - 0s 29ms/step\n"
          ],
          "name": "stdout"
        },
        {
          "output_type": "display_data",
          "data": {
            "image/png": "[encoded data removed]",
            "text/plain": [
              "<Figure size 432x288 with 2 Axes>"
            ]
          },
          "metadata": {
            "tags": [],
            "needs_background": "light"
          }
        }
      ]
    },
    {
      "cell_type": "code",
      "metadata": {
        "colab": {
          "base_uri": "https://localhost:8080/"
        },
        "id": "kkTlHpxVF0iq",
        "outputId": "de9b1359-3ad0-4808-e473-35feb041d13f"
      },
      "source": [
        "TP = 48\n",
        "TN = 47\n",
        "FN = 2\n",
        "FP = 3\n",
        "total  = TP+TN+FN+FP\n",
        "\n",
        "print(\"sensitivity(Recall)\",TP/(TP+FN)*100)\n",
        "print(\"Specificity\",TN/(TN+FP)*100)\n",
        "print(\"Precision\",TP/(TP+FP)*100)\n",
        "\n",
        "# When it's actually yes, how often does it predict yes\n",
        "# (FP+FN)/total \n",
        "# equivalent to 1 minus Accuracy\n",
        "# also known as \"Error Rate\"\n",
        "\n",
        "Misclassification_Rate = (FP+FN)/total\n",
        "print(\"Misclassification Rate\",Misclassification_Rate)\n",
        " \n",
        "# How often does the yes condition actually occur in our sample?\n",
        "Prevalence = (FN+TP)/total\n",
        "print(\"Prevalence\",Prevalence*100)"
      ],
      "execution_count": 35,
      "outputs": [
        {
          "output_type": "stream",
          "text": [
            "sensitivity(Recall) 96.0\n",
            "Specificity 94.0\n",
            "Precision 94.11764705882352\n",
            "Misclassification Rate 0.05\n",
            "Prevalence 50.0\n"
          ],
          "name": "stdout"
        }
      ]
    },
    {
      "cell_type": "markdown",
      "metadata": {
        "id": "_L2KwESAI3jE"
      },
      "source": [
        "## 3 conv confusion matrix"
      ]
    },
    {
      "cell_type": "code",
      "metadata": {
        "colab": {
          "base_uri": "https://localhost:8080/",
          "height": 366
        },
        "id": "poew8Mhb9L7o",
        "outputId": "62e4fff4-f610-4fb2-c641-2367f53b4750"
      },
      "source": [
        "pred  = model2.predict_classes(Xtest_norm,verbose= 1)\n",
        "\n",
        "'''pred_normalized = []\n",
        "for i in range(len(pred)):\n",
        "  if(pred[i]<=0.5):\n",
        "    pred_normalized.append(1)\n",
        "  else:\n",
        "    pred_normalized.append(0)\n",
        "'''\n",
        "import seaborn as sns\n",
        "\n",
        "cm = confusion_matrix(ytest, pred)\n",
        "ax= plt.subplot()\n",
        "sns.heatmap(cm, annot=True, fmt='g', ax = ax); #annot=True to annotate cells\n",
        "\n",
        "# labels, title and ticks\n",
        "ax.set_xlabel('Predicted labels');ax.set_ylabel('True labels'); \n",
        "ax.set_title('Confusion Matrix'); \n",
        "ax.xaxis.set_ticklabels(['Covid', 'Normal']); ax.yaxis.set_ticklabels(['Covid', 'Normal']);"
      ],
      "execution_count": 36,
      "outputs": [
        {
          "output_type": "stream",
          "text": [
            "3/4 [=====================>........] - ETA: 0s"
          ],
          "name": "stdout"
        },
        {
          "output_type": "stream",
          "text": [
            "/usr/local/lib/python3.7/dist-packages/tensorflow/python/keras/engine/sequential.py:450: UserWarning: `model.predict_classes()` is deprecated and will be removed after 2021-01-01. Please use instead:* `np.argmax(model.predict(x), axis=-1)`,   if your model does multi-class classification   (e.g. if it uses a `softmax` last-layer activation).* `(model.predict(x) > 0.5).astype(\"int32\")`,   if your model does binary classification   (e.g. if it uses a `sigmoid` last-layer activation).\n",
            "  warnings.warn('`model.predict_classes()` is deprecated and '\n"
          ],
          "name": "stderr"
        },
        {
          "output_type": "stream",
          "text": [
            "\b\b\b\b\b\b\b\b\b\b\b\b\b\b\b\b\b\b\b\b\b\b\b\b\b\b\b\b\b\b\b\b\b\b\b\b\b\b\b\b\b\b\b\b\b\b\r4/4 [==============================] - 0s 31ms/step\n"
          ],
          "name": "stdout"
        },
        {
          "output_type": "display_data",
          "data": {
            "image/png": "[encoded data removed]",
            "text/plain": [
              "<Figure size 432x288 with 2 Axes>"
            ]
          },
          "metadata": {
            "tags": [],
            "needs_background": "light"
          }
        }
      ]
    },
    {
      "cell_type": "code",
      "metadata": {
        "colab": {
          "base_uri": "https://localhost:8080/"
        },
        "id": "iDLiRoXj9Rd2",
        "outputId": "8513d6dd-e40f-4f9a-e105-be4265330d0c"
      },
      "source": [
        "TP = 49\n",
        "TN = 49\n",
        "FN = 1\n",
        "FP = 1\n",
        "total  = TP+TN+FN+FP\n",
        "\n",
        "print(\"sensitivity(Recall)\",TP/(TP+FN)*100)\n",
        "print(\"Specificity\",TN/(TN+FP)*100)\n",
        "print(\"Precision\",TP/(TP+FP)*100)\n",
        "\n",
        "# When it's actually yes, how often does it predict yes\n",
        "# (FP+FN)/total \n",
        "# equivalent to 1 minus Accuracy\n",
        "# also known as \"Error Rate\"\n",
        "\n",
        "Misclassification_Rate = (FP+FN)/total\n",
        "print(\"Misclassification Rate\",Misclassification_Rate)\n",
        " \n",
        "# How often does the yes condition actually occur in our sample?\n",
        "Prevalence = (FN+TP)/total\n",
        "print(\"Prevalence\",Prevalence*100)"
      ],
      "execution_count": 37,
      "outputs": [
        {
          "output_type": "stream",
          "text": [
            "sensitivity(Recall) 98.0\n",
            "Specificity 98.0\n",
            "Precision 98.0\n",
            "Misclassification Rate 0.02\n",
            "Prevalence 50.0\n"
          ],
          "name": "stdout"
        }
      ]
    },
    {
      "cell_type": "markdown",
      "metadata": {
        "id": "xBQlrz1oI0sE"
      },
      "source": [
        "## 4 conv confusion matrix"
      ]
    },
    {
      "cell_type": "code",
      "metadata": {
        "colab": {
          "base_uri": "https://localhost:8080/",
          "height": 366
        },
        "id": "A_MpLiBp9aGc",
        "outputId": "4f7120d0-08d2-43df-e58f-254b99a08bcf"
      },
      "source": [
        "pred  = model3.predict_classes(Xtest_norm,verbose= 1)\n",
        "\n",
        "'''pred_normalized = []\n",
        "for i in range(len(pred)):\n",
        "  if(pred[i]<=0.5):\n",
        "    pred_normalized.append(1)\n",
        "  else:\n",
        "    pred_normalized.append(0)\n",
        "'''\n",
        "import seaborn as sns\n",
        "\n",
        "cm = confusion_matrix(ytest, pred)\n",
        "ax= plt.subplot()\n",
        "sns.heatmap(cm, annot=True, fmt='g', ax = ax); #annot=True to annotate cells\n",
        "\n",
        "# labels, title and ticks\n",
        "ax.set_xlabel('Predicted labels');ax.set_ylabel('True labels'); \n",
        "ax.set_title('Confusion Matrix'); \n",
        "ax.xaxis.set_ticklabels(['Covid', 'Normal']); ax.yaxis.set_ticklabels(['Covid', 'Normal']);"
      ],
      "execution_count": 38,
      "outputs": [
        {
          "output_type": "stream",
          "text": [
            "3/4 [=====================>........] - ETA: 0s"
          ],
          "name": "stdout"
        },
        {
          "output_type": "stream",
          "text": [
            "/usr/local/lib/python3.7/dist-packages/tensorflow/python/keras/engine/sequential.py:450: UserWarning: `model.predict_classes()` is deprecated and will be removed after 2021-01-01. Please use instead:* `np.argmax(model.predict(x), axis=-1)`,   if your model does multi-class classification   (e.g. if it uses a `softmax` last-layer activation).* `(model.predict(x) > 0.5).astype(\"int32\")`,   if your model does binary classification   (e.g. if it uses a `sigmoid` last-layer activation).\n",
            "  warnings.warn('`model.predict_classes()` is deprecated and '\n"
          ],
          "name": "stderr"
        },
        {
          "output_type": "stream",
          "text": [
            "\b\b\b\b\b\b\b\b\b\b\b\b\b\b\b\b\b\b\b\b\b\b\b\b\b\b\b\b\b\b\b\b\b\b\b\b\b\b\b\b\b\b\b\b\b\b\r4/4 [==============================] - 0s 31ms/step\n"
          ],
          "name": "stdout"
        },
        {
          "output_type": "display_data",
          "data": {
            "image/png": "[encoded data removed]",
            "text/plain": [
              "<Figure size 432x288 with 2 Axes>"
            ]
          },
          "metadata": {
            "tags": [],
            "needs_background": "light"
          }
        }
      ]
    },
    {
      "cell_type": "code",
      "metadata": {
        "colab": {
          "base_uri": "https://localhost:8080/"
        },
        "id": "7emhJJnm9f9d",
        "outputId": "36090cba-7431-4e98-903f-6b1bac236dd9"
      },
      "source": [
        "TP = 49\n",
        "TN = 48\n",
        "FN = 1\n",
        "FP = 2\n",
        "total  = TP+TN+FN+FP\n",
        "\n",
        "print(\"sensitivity(Recall)\",TP/(TP+FN)*100)\n",
        "print(\"Specificity\",TN/(TN+FP)*100)\n",
        "print(\"Precision\",TP/(TP+FP)*100)\n",
        "\n",
        "# When it's actually yes, how often does it predict yes\n",
        "# (FP+FN)/total \n",
        "# equivalent to 1 minus Accuracy\n",
        "# also known as \"Error Rate\"\n",
        "\n",
        "Misclassification_Rate = (FP+FN)/total\n",
        "print(\"Misclassification Rate\",Misclassification_Rate)\n",
        " \n",
        "# How often does the yes condition actually occur in our sample?\n",
        "Prevalence = (FN+TP)/total\n",
        "print(\"Prevalence\",Prevalence*100)"
      ],
      "execution_count": 39,
      "outputs": [
        {
          "output_type": "stream",
          "text": [
            "sensitivity(Recall) 98.0\n",
            "Specificity 96.0\n",
            "Precision 96.07843137254902\n",
            "Misclassification Rate 0.03\n",
            "Prevalence 50.0\n"
          ],
          "name": "stdout"
        }
      ]
    },
    {
      "cell_type": "markdown",
      "metadata": {
        "id": "f-Liq5RdItfU"
      },
      "source": [
        "## 5 conv confusion matrix"
      ]
    },
    {
      "cell_type": "code",
      "metadata": {
        "colab": {
          "base_uri": "https://localhost:8080/",
          "height": 366
        },
        "id": "PjeJ5JBw9oBw",
        "outputId": "3f35e87c-f3a0-4007-b58b-94ed1d3b2482"
      },
      "source": [
        "pred  = model4.predict_classes(Xtest_norm,verbose= 1)\n",
        "\n",
        "'''pred_normalized = []\n",
        "for i in range(len(pred)):\n",
        "  if(pred[i]<=0.5):\n",
        "    pred_normalized.append(1)\n",
        "  else:\n",
        "    pred_normalized.append(0)\n",
        "'''\n",
        "import seaborn as sns\n",
        "\n",
        "cm = confusion_matrix(ytest, pred)\n",
        "ax= plt.subplot()\n",
        "sns.heatmap(cm, annot=True, fmt='g', ax = ax); #annot=True to annotate cells\n",
        "\n",
        "# labels, title and ticks\n",
        "ax.set_xlabel('Predicted labels');ax.set_ylabel('True labels'); \n",
        "ax.set_title('Confusion Matrix'); \n",
        "ax.xaxis.set_ticklabels(['Covid', 'Normal']); ax.yaxis.set_ticklabels(['Covid', 'Normal']);"
      ],
      "execution_count": 40,
      "outputs": [
        {
          "output_type": "stream",
          "text": [
            "\r1/4 [======>.......................] - ETA: 0s"
          ],
          "name": "stdout"
        },
        {
          "output_type": "stream",
          "text": [
            "/usr/local/lib/python3.7/dist-packages/tensorflow/python/keras/engine/sequential.py:450: UserWarning: `model.predict_classes()` is deprecated and will be removed after 2021-01-01. Please use instead:* `np.argmax(model.predict(x), axis=-1)`,   if your model does multi-class classification   (e.g. if it uses a `softmax` last-layer activation).* `(model.predict(x) > 0.5).astype(\"int32\")`,   if your model does binary classification   (e.g. if it uses a `sigmoid` last-layer activation).\n",
            "  warnings.warn('`model.predict_classes()` is deprecated and '\n"
          ],
          "name": "stderr"
        },
        {
          "output_type": "stream",
          "text": [
            "4/4 [==============================] - 0s 30ms/step\n"
          ],
          "name": "stdout"
        },
        {
          "output_type": "display_data",
          "data": {
            "image/png": "[encoded data removed]",
            "text/plain": [
              "<Figure size 432x288 with 2 Axes>"
            ]
          },
          "metadata": {
            "tags": [],
            "needs_background": "light"
          }
        }
      ]
    },
    {
      "cell_type": "code",
      "metadata": {
        "colab": {
          "base_uri": "https://localhost:8080/"
        },
        "id": "bp-dQiLB9tzM",
        "outputId": "22e3952b-3241-4c61-dd24-ab36d5531a66"
      },
      "source": [
        "TP = 48\n",
        "TN = 48\n",
        "FN = 2\n",
        "FP = 2\n",
        "total  = TP+TN+FN+FP\n",
        "\n",
        "print(\"sensitivity(Recall)\",TP/(TP+FN)*100)\n",
        "print(\"Specificity\",TN/(TN+FP)*100)\n",
        "print(\"Precision\",TP/(TP+FP)*100)\n",
        "\n",
        "# When it's actually yes, how often does it predict yes\n",
        "# (FP+FN)/total \n",
        "# equivalent to 1 minus Accuracy\n",
        "# also known as \"Error Rate\"\n",
        "\n",
        "Misclassification_Rate = (FP+FN)/total\n",
        "print(\"Misclassification Rate\",Misclassification_Rate)\n",
        " \n",
        "# How often does the yes condition actually occur in our sample?\n",
        "Prevalence = (FN+TP)/total\n",
        "print(\"Prevalence\",Prevalence*100)"
      ],
      "execution_count": 41,
      "outputs": [
        {
          "output_type": "stream",
          "text": [
            "sensitivity(Recall) 96.0\n",
            "Specificity 96.0\n",
            "Precision 96.0\n",
            "Misclassification Rate 0.04\n",
            "Prevalence 50.0\n"
          ],
          "name": "stdout"
        }
      ]
    },
    {
      "cell_type": "markdown",
      "metadata": {
        "id": "muGIpNjZTssN"
      },
      "source": [
        "## Saving The Model"
      ]
    },
    {
      "cell_type": "code",
      "metadata": {
        "id": "S8JlbjbqTyDA"
      },
      "source": [
        "model_save_name = 'model.h5'\n",
        "path = F\"/content/{model_save_name}\" \n",
        "model.save(path)"
      ],
      "execution_count": 42,
      "outputs": []
    },
    {
      "cell_type": "markdown",
      "metadata": {
        "id": "EK1AFaNiKohC"
      },
      "source": [
        "# Loading the Model"
      ]
    },
    {
      "cell_type": "code",
      "metadata": {
        "id": "ObCleY2aKUyW"
      },
      "source": [
        "from google.colab import drive\n",
        "drive.mount('/content/gdrive')"
      ],
      "execution_count": null,
      "outputs": []
    },
    {
      "cell_type": "code",
      "metadata": {
        "id": "98W-dU-vPOKW"
      },
      "source": [
        "from tensorflow.keras.models import load_model\n",
        "\n",
        "model = load_model('/content/gdrive/MyDrive/Temp/Model trained without ImageDataGenerator.h5')"
      ],
      "execution_count": null,
      "outputs": []
    },
    {
      "cell_type": "code",
      "metadata": {
        "id": "Kbb6Ymdjcl5X"
      },
      "source": [
        ""
      ],
      "execution_count": null,
      "outputs": []
    },
    {
      "cell_type": "code",
      "metadata": {
        "id": "_fLeSViNcl2t"
      },
      "source": [
        ""
      ],
      "execution_count": null,
      "outputs": []
    },
    {
      "cell_type": "code",
      "metadata": {
        "id": "EqlwfxtEclz_"
      },
      "source": [
        ""
      ],
      "execution_count": null,
      "outputs": []
    },
    {
      "cell_type": "code",
      "metadata": {
        "id": "qtHg2Socclx2"
      },
      "source": [
        ""
      ],
      "execution_count": null,
      "outputs": []
    },
    {
      "cell_type": "code",
      "metadata": {
        "id": "ID6I3nmDclus"
      },
      "source": [
        ""
      ],
      "execution_count": null,
      "outputs": []
    },
    {
      "cell_type": "code",
      "metadata": {
        "id": "uHtmJUBte-ph"
      },
      "source": [
        ""
      ],
      "execution_count": null,
      "outputs": []
    },
    {
      "cell_type": "code",
      "metadata": {
        "id": "uLii-j1Ve-cx"
      },
      "source": [
        ""
      ],
      "execution_count": 43,
      "outputs": []
    },
    {
      "cell_type": "markdown",
      "metadata": {
        "id": "iXblYekrqBZ8"
      },
      "source": [
        "# ROC"
      ]
    },
    {
      "cell_type": "markdown",
      "metadata": {
        "id": "iN1-mPZiIp4z"
      },
      "source": [
        "## 2 conv ROC"
      ]
    },
    {
      "cell_type": "code",
      "metadata": {
        "id": "is32hv8RKUP9"
      },
      "source": [
        "# ROC\n",
        "from sklearn.metrics import roc_curve\n",
        "y_pred_keras = model.predict(Xtest_norm).ravel()\n",
        "fpr_keras, tpr_keras, thresholds_keras = roc_curve(ytest, y_pred_keras)\n",
        "\n",
        "# AUC\n",
        "from sklearn.metrics import auc\n",
        "auc_keras = auc(fpr_keras, tpr_keras)"
      ],
      "execution_count": 44,
      "outputs": []
    },
    {
      "cell_type": "code",
      "metadata": {
        "id": "rj6voZW4KUM2",
        "colab": {
          "base_uri": "https://localhost:8080/",
          "height": 573
        },
        "outputId": "37731736-d003-48a7-a7c4-d4083b3473b8"
      },
      "source": [
        "plt.figure(1)\n",
        "plt.plot([0, 1], [0, 1], 'k--')\n",
        "plt.plot(fpr_keras, tpr_keras, label='Keras (area = {:.3f})'.format(auc_keras))\n",
        "plt.xlabel('False positive rate')\n",
        "plt.ylabel('True positive rate')\n",
        "plt.title('ROC curve')\n",
        "plt.legend(loc='best')\n",
        "plt.show()\n",
        "# Zoom in view of the upper left corner.\n",
        "plt.figure(2)\n",
        "plt.xlim(0, 0.2)\n",
        "plt.ylim(0.8, 1)\n",
        "plt.plot([0, 1], [0, 1], 'k--')\n",
        "plt.plot(fpr_keras, tpr_keras, label='Keras (area = {:.3f})'.format(auc_keras))\n",
        "plt.xlabel('False positive rate')\n",
        "plt.ylabel('True positive rate')\n",
        "plt.title('ROC curve (zoomed in at top left)')\n",
        "plt.legend(loc='best')\n",
        "plt.show()"
      ],
      "execution_count": 45,
      "outputs": [
        {
          "output_type": "display_data",
          "data": {
            "image/png": "[encoded data removed]",
            "text/plain": [
              "<Figure size 432x288 with 1 Axes>"
            ]
          },
          "metadata": {
            "tags": [],
            "needs_background": "light"
          }
        },
        {
          "output_type": "display_data",
          "data": {
            "image/png": "[encoded data removed]",
            "text/plain": [
              "<Figure size 432x288 with 1 Axes>"
            ]
          },
          "metadata": {
            "tags": [],
            "needs_background": "light"
          }
        }
      ]
    },
    {
      "cell_type": "markdown",
      "metadata": {
        "id": "OFkdt8loIn18"
      },
      "source": [
        "## 3 conv ROC"
      ]
    },
    {
      "cell_type": "code",
      "metadata": {
        "colab": {
          "base_uri": "https://localhost:8080/",
          "height": 573
        },
        "id": "qifApiLT92jh",
        "outputId": "3be4d875-ca0a-4135-9cdb-e599f3d25675"
      },
      "source": [
        "# ROC\n",
        "from sklearn.metrics import roc_curve\n",
        "y_pred_keras = model2.predict(Xtest_norm).ravel()\n",
        "fpr_keras, tpr_keras, thresholds_keras = roc_curve(ytest, y_pred_keras)\n",
        "\n",
        "# AUC\n",
        "from sklearn.metrics import auc\n",
        "auc_keras = auc(fpr_keras, tpr_keras)\n",
        "\n",
        "plt.figure(1)\n",
        "plt.plot([0, 1], [0, 1], 'k--')\n",
        "plt.plot(fpr_keras, tpr_keras, label='Keras (area = {:.3f})'.format(auc_keras))\n",
        "plt.xlabel('False positive rate')\n",
        "plt.ylabel('True positive rate')\n",
        "plt.title('ROC curve')\n",
        "plt.legend(loc='best')\n",
        "plt.show()\n",
        "# Zoom in view of the upper left corner.\n",
        "plt.figure(2)\n",
        "plt.xlim(0, 0.2)\n",
        "plt.ylim(0.8, 1)\n",
        "plt.plot([0, 1], [0, 1], 'k--')\n",
        "plt.plot(fpr_keras, tpr_keras, label='Keras (area = {:.3f})'.format(auc_keras))\n",
        "plt.xlabel('False positive rate')\n",
        "plt.ylabel('True positive rate')\n",
        "plt.title('ROC curve (zoomed in at top left)')\n",
        "plt.legend(loc='best')\n",
        "plt.show()"
      ],
      "execution_count": 46,
      "outputs": [
        {
          "output_type": "display_data",
          "data": {
            "image/png": "[encoded data removed]",
            "text/plain": [
              "<Figure size 432x288 with 1 Axes>"
            ]
          },
          "metadata": {
            "tags": [],
            "needs_background": "light"
          }
        },
        {
          "output_type": "display_data",
          "data": {
            "image/png": "[encoded data removed]",
            "text/plain": [
              "<Figure size 432x288 with 1 Axes>"
            ]
          },
          "metadata": {
            "tags": [],
            "needs_background": "light"
          }
        }
      ]
    },
    {
      "cell_type": "markdown",
      "metadata": {
        "id": "x286j_ZrIlRa"
      },
      "source": [
        "## 4 conv ROC"
      ]
    },
    {
      "cell_type": "code",
      "metadata": {
        "colab": {
          "base_uri": "https://localhost:8080/",
          "height": 573
        },
        "id": "-ru9EyhG9__H",
        "outputId": "0b1856e4-1564-41fd-de3f-080bbdd945c1"
      },
      "source": [
        "# ROC\n",
        "from sklearn.metrics import roc_curve\n",
        "y_pred_keras = model3.predict(Xtest_norm).ravel()\n",
        "fpr_keras, tpr_keras, thresholds_keras = roc_curve(ytest, y_pred_keras)\n",
        "\n",
        "# AUC\n",
        "from sklearn.metrics import auc\n",
        "auc_keras = auc(fpr_keras, tpr_keras)\n",
        "\n",
        "plt.figure(1)\n",
        "plt.plot([0, 1], [0, 1], 'k--')\n",
        "plt.plot(fpr_keras, tpr_keras, label='Keras (area = {:.3f})'.format(auc_keras))\n",
        "plt.xlabel('False positive rate')\n",
        "plt.ylabel('True positive rate')\n",
        "plt.title('ROC curve')\n",
        "plt.legend(loc='best')\n",
        "plt.show()\n",
        "# Zoom in view of the upper left corner.\n",
        "plt.figure(2)\n",
        "plt.xlim(0, 0.2)\n",
        "plt.ylim(0.8, 1)\n",
        "plt.plot([0, 1], [0, 1], 'k--')\n",
        "plt.plot(fpr_keras, tpr_keras, label='Keras (area = {:.3f})'.format(auc_keras))\n",
        "plt.xlabel('False positive rate')\n",
        "plt.ylabel('True positive rate')\n",
        "plt.title('ROC curve (zoomed in at top left)')\n",
        "plt.legend(loc='best')\n",
        "plt.show()"
      ],
      "execution_count": 47,
      "outputs": [
        {
          "output_type": "display_data",
          "data": {
            "image/png": "[encoded data removed]",
            "text/plain": [
              "<Figure size 432x288 with 1 Axes>"
            ]
          },
          "metadata": {
            "tags": [],
            "needs_background": "light"
          }
        },
        {
          "output_type": "display_data",
          "data": {
            "image/png": "[encoded data removed]",
            "text/plain": [
              "<Figure size 432x288 with 1 Axes>"
            ]
          },
          "metadata": {
            "tags": [],
            "needs_background": "light"
          }
        }
      ]
    },
    {
      "cell_type": "markdown",
      "metadata": {
        "id": "6l4SritPIgWv"
      },
      "source": [
        "## 5 conv ROC"
      ]
    },
    {
      "cell_type": "code",
      "metadata": {
        "colab": {
          "base_uri": "https://localhost:8080/",
          "height": 573
        },
        "id": "krFKk0lC-DLI",
        "outputId": "1c38e61c-d021-4b29-c915-5f508cecc717"
      },
      "source": [
        "# ROC\n",
        "from sklearn.metrics import roc_curve\n",
        "y_pred_keras = model4.predict(Xtest_norm).ravel()\n",
        "fpr_keras, tpr_keras, thresholds_keras = roc_curve(ytest, y_pred_keras)\n",
        "\n",
        "# AUC\n",
        "from sklearn.metrics import auc\n",
        "auc_keras = auc(fpr_keras, tpr_keras)\n",
        "\n",
        "plt.figure(1)\n",
        "plt.plot([0, 1], [0, 1], 'k--')\n",
        "plt.plot(fpr_keras, tpr_keras, label='Keras (area = {:.3f})'.format(auc_keras))\n",
        "plt.xlabel('False positive rate')\n",
        "plt.ylabel('True positive rate')\n",
        "plt.title('ROC curve')\n",
        "plt.legend(loc='best')\n",
        "plt.show()\n",
        "# Zoom in view of the upper left corner.\n",
        "plt.figure(2)\n",
        "plt.xlim(0, 0.2)\n",
        "plt.ylim(0.8, 1)\n",
        "plt.plot([0, 1], [0, 1], 'k--')\n",
        "plt.plot(fpr_keras, tpr_keras, label='Keras (area = {:.3f})'.format(auc_keras))\n",
        "plt.xlabel('False positive rate')\n",
        "plt.ylabel('True positive rate')\n",
        "plt.title('ROC curve (zoomed in at top left)')\n",
        "plt.legend(loc='best')\n",
        "plt.show()"
      ],
      "execution_count": 48,
      "outputs": [
        {
          "output_type": "display_data",
          "data": {
            "image/png": "[encoded data removed]",
            "text/plain": [
              "<Figure size 432x288 with 1 Axes>"
            ]
          },
          "metadata": {
            "tags": [],
            "needs_background": "light"
          }
        },
        {
          "output_type": "display_data",
          "data": {
            "image/png": "[encoded data removed]",
            "text/plain": [
              "<Figure size 432x288 with 1 Axes>"
            ]
          },
          "metadata": {
            "tags": [],
            "needs_background": "light"
          }
        }
      ]
    },
    {
      "cell_type": "markdown",
      "metadata": {
        "id": "PrRENkyNzqjw"
      },
      "source": [
        "# precision-recall curve and f1"
      ]
    },
    {
      "cell_type": "markdown",
      "metadata": {
        "id": "6klScEqTIOK2"
      },
      "source": [
        "## 2 conv precision-recall"
      ]
    },
    {
      "cell_type": "code",
      "metadata": {
        "colab": {
          "base_uri": "https://localhost:8080/",
          "height": 350
        },
        "id": "IMDcrK798XWF",
        "outputId": "870e2cc1-22ba-4c53-dc12-93641b536009"
      },
      "source": [
        "\n",
        "\n",
        "\n",
        "from sklearn.metrics import precision_recall_curve\n",
        "from sklearn.metrics import f1_score\n",
        "from sklearn.metrics import auc\n",
        "from matplotlib import pyplot\n",
        "\n",
        "prob = model.predict_proba(Xtest_norm)\n",
        "\n",
        "lr_precision, lr_recall, _ = precision_recall_curve(ytest, prob)\n",
        "lr_f1, lr_auc = f1_score(ytest, pred), auc(lr_recall, lr_precision)\n",
        "# summarize scores\n",
        "print('Logistic: f1=%.3f auc=%.3f' % (lr_f1, lr_auc))\n",
        "# plot the precision-recall curves\n",
        "no_skill = len(ytest[ytest==1]) / len(ytest)\n",
        "pyplot.plot([0, 1], [no_skill, no_skill], linestyle='--', label='No Skill')\n",
        "pyplot.plot(lr_recall, lr_precision, marker='.', label='CNN')\n",
        "# axis labels\n",
        "pyplot.xlabel('Recall')\n",
        "pyplot.ylabel('Precision')\n",
        "# show the legend\n",
        "pyplot.legend()\n",
        "# show the plot\n",
        "pyplot.show()"
      ],
      "execution_count": 49,
      "outputs": [
        {
          "output_type": "stream",
          "text": [
            "/usr/local/lib/python3.7/dist-packages/tensorflow/python/keras/engine/sequential.py:425: UserWarning: `model.predict_proba()` is deprecated and will be removed after 2021-01-01. Please use `model.predict()` instead.\n",
            "  warnings.warn('`model.predict_proba()` is deprecated and '\n"
          ],
          "name": "stderr"
        },
        {
          "output_type": "stream",
          "text": [
            "Logistic: f1=0.990 auc=0.978\n"
          ],
          "name": "stdout"
        },
        {
          "output_type": "display_data",
          "data": {
            "image/png": "[encoded data removed]",
            "text/plain": [
              "<Figure size 432x288 with 1 Axes>"
            ]
          },
          "metadata": {
            "tags": [],
            "needs_background": "light"
          }
        }
      ]
    },
    {
      "cell_type": "markdown",
      "metadata": {
        "id": "wyE72WBlIVhp"
      },
      "source": [
        "## 3 conv precision-recall"
      ]
    },
    {
      "cell_type": "code",
      "metadata": {
        "colab": {
          "base_uri": "https://localhost:8080/",
          "height": 350
        },
        "id": "WCa_K8X3-Kpt",
        "outputId": "b36b94e9-4cec-4450-a876-71a4c6ca099f"
      },
      "source": [
        "\n",
        "\n",
        "\n",
        "from sklearn.metrics import precision_recall_curve\n",
        "from sklearn.metrics import f1_score\n",
        "from sklearn.metrics import auc\n",
        "from matplotlib import pyplot\n",
        "\n",
        "prob = model2.predict_proba(Xtest_norm)\n",
        "\n",
        "lr_precision, lr_recall, _ = precision_recall_curve(ytest, prob)\n",
        "lr_f1, lr_auc = f1_score(ytest, pred), auc(lr_recall, lr_precision)\n",
        "# summarize scores\n",
        "print('Logistic: f1=%.3f auc=%.3f' % (lr_f1, lr_auc))\n",
        "# plot the precision-recall curves\n",
        "no_skill = len(ytest[ytest==1]) / len(ytest)\n",
        "pyplot.plot([0, 1], [no_skill, no_skill], linestyle='--', label='No Skill')\n",
        "pyplot.plot(lr_recall, lr_precision, marker='.', label='CNN')\n",
        "# axis labels\n",
        "pyplot.xlabel('Recall')\n",
        "pyplot.ylabel('Precision')\n",
        "# show the legend\n",
        "pyplot.legend()\n",
        "# show the plot\n",
        "pyplot.show()"
      ],
      "execution_count": 50,
      "outputs": [
        {
          "output_type": "stream",
          "text": [
            "/usr/local/lib/python3.7/dist-packages/tensorflow/python/keras/engine/sequential.py:425: UserWarning: `model.predict_proba()` is deprecated and will be removed after 2021-01-01. Please use `model.predict()` instead.\n",
            "  warnings.warn('`model.predict_proba()` is deprecated and '\n"
          ],
          "name": "stderr"
        },
        {
          "output_type": "stream",
          "text": [
            "Logistic: f1=0.990 auc=0.996\n"
          ],
          "name": "stdout"
        },
        {
          "output_type": "display_data",
          "data": {
            "image/png": "[encoded data removed]",
            "text/plain": [
              "<Figure size 432x288 with 1 Axes>"
            ]
          },
          "metadata": {
            "tags": [],
            "needs_background": "light"
          }
        }
      ]
    },
    {
      "cell_type": "markdown",
      "metadata": {
        "id": "BIJ_5N0UIYUY"
      },
      "source": [
        "## 4 conv precision-recall"
      ]
    },
    {
      "cell_type": "code",
      "metadata": {
        "colab": {
          "base_uri": "https://localhost:8080/",
          "height": 350
        },
        "id": "_7bugTWi-Qlj",
        "outputId": "5a362731-32d7-48a5-a5d4-ab73ad11718f"
      },
      "source": [
        "\n",
        "\n",
        "\n",
        "from sklearn.metrics import precision_recall_curve\n",
        "from sklearn.metrics import f1_score\n",
        "from sklearn.metrics import auc\n",
        "from matplotlib import pyplot\n",
        "\n",
        "prob = model3.predict_proba(Xtest_norm)\n",
        "\n",
        "lr_precision, lr_recall, _ = precision_recall_curve(ytest, prob)\n",
        "lr_f1, lr_auc = f1_score(ytest, pred), auc(lr_recall, lr_precision)\n",
        "# summarize scores\n",
        "print('Logistic: f1=%.3f auc=%.3f' % (lr_f1, lr_auc))\n",
        "# plot the precision-recall curves\n",
        "no_skill = len(ytest[ytest==1]) / len(ytest)\n",
        "pyplot.plot([0, 1], [no_skill, no_skill], linestyle='--', label='No Skill')\n",
        "pyplot.plot(lr_recall, lr_precision, marker='.', label='CNN')\n",
        "# axis labels\n",
        "pyplot.xlabel('Recall')\n",
        "pyplot.ylabel('Precision')\n",
        "# show the legend\n",
        "pyplot.legend()\n",
        "# show the plot\n",
        "pyplot.show()"
      ],
      "execution_count": 51,
      "outputs": [
        {
          "output_type": "stream",
          "text": [
            "/usr/local/lib/python3.7/dist-packages/tensorflow/python/keras/engine/sequential.py:425: UserWarning: `model.predict_proba()` is deprecated and will be removed after 2021-01-01. Please use `model.predict()` instead.\n",
            "  warnings.warn('`model.predict_proba()` is deprecated and '\n"
          ],
          "name": "stderr"
        },
        {
          "output_type": "stream",
          "text": [
            "Logistic: f1=0.990 auc=0.999\n"
          ],
          "name": "stdout"
        },
        {
          "output_type": "display_data",
          "data": {
            "image/png": "[encoded data removed]",
            "text/plain": [
              "<Figure size 432x288 with 1 Axes>"
            ]
          },
          "metadata": {
            "tags": [],
            "needs_background": "light"
          }
        }
      ]
    },
    {
      "cell_type": "markdown",
      "metadata": {
        "id": "HWcA6L1OIadz"
      },
      "source": [
        "## 5 conv precision-recall"
      ]
    },
    {
      "cell_type": "code",
      "metadata": {
        "colab": {
          "base_uri": "https://localhost:8080/",
          "height": 350
        },
        "id": "vLKQhit2-VJk",
        "outputId": "be0b04df-d5da-4e05-f93b-795b70ce35a9"
      },
      "source": [
        "\n",
        "\n",
        "\n",
        "from sklearn.metrics import precision_recall_curve\n",
        "from sklearn.metrics import f1_score\n",
        "from sklearn.metrics import auc\n",
        "from matplotlib import pyplot\n",
        "\n",
        "prob = model4.predict_proba(Xtest_norm)\n",
        "\n",
        "lr_precision, lr_recall, _ = precision_recall_curve(ytest, prob)\n",
        "lr_f1, lr_auc = f1_score(ytest, pred), auc(lr_recall, lr_precision)\n",
        "# summarize scores\n",
        "print('Logistic: f1=%.3f auc=%.3f' % (lr_f1, lr_auc))\n",
        "# plot the precision-recall curves\n",
        "no_skill = len(ytest[ytest==1]) / len(ytest)\n",
        "pyplot.plot([0, 1], [no_skill, no_skill], linestyle='--', label='No Skill')\n",
        "pyplot.plot(lr_recall, lr_precision, marker='.', label='CNN')\n",
        "# axis labels\n",
        "pyplot.xlabel('Recall')\n",
        "pyplot.ylabel('Precision')\n",
        "# show the legend\n",
        "pyplot.legend()\n",
        "# show the plot\n",
        "pyplot.show()"
      ],
      "execution_count": 52,
      "outputs": [
        {
          "output_type": "stream",
          "text": [
            "/usr/local/lib/python3.7/dist-packages/tensorflow/python/keras/engine/sequential.py:425: UserWarning: `model.predict_proba()` is deprecated and will be removed after 2021-01-01. Please use `model.predict()` instead.\n",
            "  warnings.warn('`model.predict_proba()` is deprecated and '\n"
          ],
          "name": "stderr"
        },
        {
          "output_type": "stream",
          "text": [
            "Logistic: f1=0.990 auc=0.999\n"
          ],
          "name": "stdout"
        },
        {
          "output_type": "display_data",
          "data": {
            "image/png": "[encoded data removed]",
            "text/plain": [
              "<Figure size 432x288 with 1 Axes>"
            ]
          },
          "metadata": {
            "tags": [],
            "needs_background": "light"
          }
        }
      ]
    },
    {
      "cell_type": "code",
      "metadata": {
        "id": "v56pSskB8XSp",
        "colab": {
          "base_uri": "https://localhost:8080/"
        },
        "outputId": "2f23e785-ecb0-4e0a-e211-1a88d9db297e"
      },
      "source": [
        "from sklearn.metrics import precision_score,f1_score,recall_score\n",
        "pred  = model.predict_classes(Xtest_norm,verbose= 1)\n",
        "\n",
        "pr, f1, recal  = precision_score(ytest,pred), f1_score(ytest,pred), recall_score(ytest,pred)\n",
        "print('Precision = %.3f \\nF1 Score = %.3f \\nRecall = %.3f' % (pr, f1, recal))"
      ],
      "execution_count": 53,
      "outputs": [
        {
          "output_type": "stream",
          "text": [
            "4/4 [==============================] - 0s 26ms/step\n",
            "Precision = 0.941 \n",
            "F1 Score = 0.950 \n",
            "Recall = 0.960\n"
          ],
          "name": "stdout"
        },
        {
          "output_type": "stream",
          "text": [
            "/usr/local/lib/python3.7/dist-packages/tensorflow/python/keras/engine/sequential.py:450: UserWarning: `model.predict_classes()` is deprecated and will be removed after 2021-01-01. Please use instead:* `np.argmax(model.predict(x), axis=-1)`,   if your model does multi-class classification   (e.g. if it uses a `softmax` last-layer activation).* `(model.predict(x) > 0.5).astype(\"int32\")`,   if your model does binary classification   (e.g. if it uses a `sigmoid` last-layer activation).\n",
            "  warnings.warn('`model.predict_classes()` is deprecated and '\n"
          ],
          "name": "stderr"
        }
      ]
    },
    {
      "cell_type": "code",
      "metadata": {
        "colab": {
          "base_uri": "https://localhost:8080/"
        },
        "id": "-Yl22LlE_AzY",
        "outputId": "af189b28-f29e-4a4a-dd94-4e32c59b940c"
      },
      "source": [
        "pred  = model2.predict_classes(Xtest_norm,verbose= 0)\n",
        "\n",
        "pr, f1, recal  = precision_score(ytest,pred), f1_score(ytest,pred), recall_score(ytest,pred)\n",
        "print('Precision = %.3f \\nF1 Score = %.3f \\nRecall = %.3f' % (pr, f1, recal))"
      ],
      "execution_count": 54,
      "outputs": [
        {
          "output_type": "stream",
          "text": [
            "/usr/local/lib/python3.7/dist-packages/tensorflow/python/keras/engine/sequential.py:450: UserWarning: `model.predict_classes()` is deprecated and will be removed after 2021-01-01. Please use instead:* `np.argmax(model.predict(x), axis=-1)`,   if your model does multi-class classification   (e.g. if it uses a `softmax` last-layer activation).* `(model.predict(x) > 0.5).astype(\"int32\")`,   if your model does binary classification   (e.g. if it uses a `sigmoid` last-layer activation).\n",
            "  warnings.warn('`model.predict_classes()` is deprecated and '\n"
          ],
          "name": "stderr"
        },
        {
          "output_type": "stream",
          "text": [
            "Precision = 1.000 \n",
            "F1 Score = 0.990 \n",
            "Recall = 0.980\n"
          ],
          "name": "stdout"
        }
      ]
    },
    {
      "cell_type": "code",
      "metadata": {
        "colab": {
          "base_uri": "https://localhost:8080/"
        },
        "id": "tnHVXpVD_Dug",
        "outputId": "ef327dbb-4850-42a1-e8e2-b0dde19ef57d"
      },
      "source": [
        "pred  = model3.predict_classes(Xtest_norm,verbose= 0)\n",
        "\n",
        "pr, f1, recal  = precision_score(ytest,pred), f1_score(ytest,pred), recall_score(ytest,pred)\n",
        "print('Precision = %.3f \\nF1 Score = %.3f \\nRecall = %.3f' % (pr, f1, recal))"
      ],
      "execution_count": 55,
      "outputs": [
        {
          "output_type": "stream",
          "text": [
            "/usr/local/lib/python3.7/dist-packages/tensorflow/python/keras/engine/sequential.py:450: UserWarning: `model.predict_classes()` is deprecated and will be removed after 2021-01-01. Please use instead:* `np.argmax(model.predict(x), axis=-1)`,   if your model does multi-class classification   (e.g. if it uses a `softmax` last-layer activation).* `(model.predict(x) > 0.5).astype(\"int32\")`,   if your model does binary classification   (e.g. if it uses a `sigmoid` last-layer activation).\n",
            "  warnings.warn('`model.predict_classes()` is deprecated and '\n"
          ],
          "name": "stderr"
        },
        {
          "output_type": "stream",
          "text": [
            "Precision = 1.000 \n",
            "F1 Score = 0.980 \n",
            "Recall = 0.960\n"
          ],
          "name": "stdout"
        }
      ]
    },
    {
      "cell_type": "code",
      "metadata": {
        "colab": {
          "base_uri": "https://localhost:8080/"
        },
        "id": "tj_vu61O_FoL",
        "outputId": "5849795b-358b-4896-e219-4f606346a1d1"
      },
      "source": [
        "pred  = model4.predict_classes(Xtest_norm,verbose= 0)\n",
        "\n",
        "pr, f1, recal  = precision_score(ytest,pred), f1_score(ytest,pred), recall_score(ytest,pred)\n",
        "print('Precision = %.3f \\nF1 Score = %.3f \\nRecall = %.3f' % (pr, f1, recal))"
      ],
      "execution_count": 56,
      "outputs": [
        {
          "output_type": "stream",
          "text": [
            "/usr/local/lib/python3.7/dist-packages/tensorflow/python/keras/engine/sequential.py:450: UserWarning: `model.predict_classes()` is deprecated and will be removed after 2021-01-01. Please use instead:* `np.argmax(model.predict(x), axis=-1)`,   if your model does multi-class classification   (e.g. if it uses a `softmax` last-layer activation).* `(model.predict(x) > 0.5).astype(\"int32\")`,   if your model does binary classification   (e.g. if it uses a `sigmoid` last-layer activation).\n",
            "  warnings.warn('`model.predict_classes()` is deprecated and '\n"
          ],
          "name": "stderr"
        },
        {
          "output_type": "stream",
          "text": [
            "Precision = 1.000 \n",
            "F1 Score = 0.990 \n",
            "Recall = 0.980\n"
          ],
          "name": "stdout"
        }
      ]
    },
    {
      "cell_type": "code",
      "metadata": {
        "id": "xmBFzEV78XDp"
      },
      "source": [
        ""
      ],
      "execution_count": 56,
      "outputs": []
    },
    {
      "cell_type": "markdown",
      "metadata": {
        "id": "gsbsEQzawDOK"
      },
      "source": [
        "# classification_report"
      ]
    },
    {
      "cell_type": "markdown",
      "metadata": {
        "id": "bGiI3fFNFm0p"
      },
      "source": [
        "## 2 conv classification report"
      ]
    },
    {
      "cell_type": "code",
      "metadata": {
        "id": "6EFYcenaKUGa",
        "colab": {
          "base_uri": "https://localhost:8080/"
        },
        "outputId": "982edc56-b603-4137-db79-79932c09ddc2"
      },
      "source": [
        "from sklearn.metrics import classification_report\n",
        "pred  = model.predict_classes(Xtest_norm,verbose= 0)\n",
        "print(classification_report(ytest, pred))\n",
        "print('normal = 1 , covid19 = 0')"
      ],
      "execution_count": 57,
      "outputs": [
        {
          "output_type": "stream",
          "text": [
            "              precision    recall  f1-score   support\n",
            "\n",
            "         0.0       0.96      0.94      0.95        50\n",
            "         1.0       0.94      0.96      0.95        50\n",
            "\n",
            "    accuracy                           0.95       100\n",
            "   macro avg       0.95      0.95      0.95       100\n",
            "weighted avg       0.95      0.95      0.95       100\n",
            "\n",
            "normal = 1 , covid19 = 0\n"
          ],
          "name": "stdout"
        },
        {
          "output_type": "stream",
          "text": [
            "/usr/local/lib/python3.7/dist-packages/tensorflow/python/keras/engine/sequential.py:450: UserWarning: `model.predict_classes()` is deprecated and will be removed after 2021-01-01. Please use instead:* `np.argmax(model.predict(x), axis=-1)`,   if your model does multi-class classification   (e.g. if it uses a `softmax` last-layer activation).* `(model.predict(x) > 0.5).astype(\"int32\")`,   if your model does binary classification   (e.g. if it uses a `sigmoid` last-layer activation).\n",
            "  warnings.warn('`model.predict_classes()` is deprecated and '\n"
          ],
          "name": "stderr"
        }
      ]
    },
    {
      "cell_type": "markdown",
      "metadata": {
        "id": "4rmLmsCiFjzy"
      },
      "source": [
        "## 3 conv classification report"
      ]
    },
    {
      "cell_type": "code",
      "metadata": {
        "colab": {
          "base_uri": "https://localhost:8080/"
        },
        "id": "b9UwahXe_VYG",
        "outputId": "f8fbc422-6dd4-4ab2-a668-7b9c57cfebdd"
      },
      "source": [
        "from sklearn.metrics import classification_report\n",
        "pred  = model2.predict_classes(Xtest_norm,verbose= 0)\n",
        "print(classification_report(ytest, pred))\n",
        "print('normal = 1 , covid19 = 0')"
      ],
      "execution_count": 58,
      "outputs": [
        {
          "output_type": "stream",
          "text": [
            "/usr/local/lib/python3.7/dist-packages/tensorflow/python/keras/engine/sequential.py:450: UserWarning: `model.predict_classes()` is deprecated and will be removed after 2021-01-01. Please use instead:* `np.argmax(model.predict(x), axis=-1)`,   if your model does multi-class classification   (e.g. if it uses a `softmax` last-layer activation).* `(model.predict(x) > 0.5).astype(\"int32\")`,   if your model does binary classification   (e.g. if it uses a `sigmoid` last-layer activation).\n",
            "  warnings.warn('`model.predict_classes()` is deprecated and '\n"
          ],
          "name": "stderr"
        },
        {
          "output_type": "stream",
          "text": [
            "              precision    recall  f1-score   support\n",
            "\n",
            "         0.0       0.98      1.00      0.99        50\n",
            "         1.0       1.00      0.98      0.99        50\n",
            "\n",
            "    accuracy                           0.99       100\n",
            "   macro avg       0.99      0.99      0.99       100\n",
            "weighted avg       0.99      0.99      0.99       100\n",
            "\n",
            "normal = 1 , covid19 = 0\n"
          ],
          "name": "stdout"
        }
      ]
    },
    {
      "cell_type": "markdown",
      "metadata": {
        "id": "K9Bd-tltFhkF"
      },
      "source": [
        "## 4 conv classification report"
      ]
    },
    {
      "cell_type": "code",
      "metadata": {
        "colab": {
          "base_uri": "https://localhost:8080/"
        },
        "id": "XE_-5rKe_dw_",
        "outputId": "7a5af09a-7576-487d-ff55-fbfe1f7683b4"
      },
      "source": [
        "from sklearn.metrics import classification_report\n",
        "pred  = model3.predict_classes(Xtest_norm,verbose= 0)\n",
        "print(classification_report(ytest, pred))\n",
        "print('normal = 1 , covid19 = 0')"
      ],
      "execution_count": 59,
      "outputs": [
        {
          "output_type": "stream",
          "text": [
            "/usr/local/lib/python3.7/dist-packages/tensorflow/python/keras/engine/sequential.py:450: UserWarning: `model.predict_classes()` is deprecated and will be removed after 2021-01-01. Please use instead:* `np.argmax(model.predict(x), axis=-1)`,   if your model does multi-class classification   (e.g. if it uses a `softmax` last-layer activation).* `(model.predict(x) > 0.5).astype(\"int32\")`,   if your model does binary classification   (e.g. if it uses a `sigmoid` last-layer activation).\n",
            "  warnings.warn('`model.predict_classes()` is deprecated and '\n"
          ],
          "name": "stderr"
        },
        {
          "output_type": "stream",
          "text": [
            "              precision    recall  f1-score   support\n",
            "\n",
            "         0.0       0.96      1.00      0.98        50\n",
            "         1.0       1.00      0.96      0.98        50\n",
            "\n",
            "    accuracy                           0.98       100\n",
            "   macro avg       0.98      0.98      0.98       100\n",
            "weighted avg       0.98      0.98      0.98       100\n",
            "\n",
            "normal = 1 , covid19 = 0\n"
          ],
          "name": "stdout"
        }
      ]
    },
    {
      "cell_type": "markdown",
      "metadata": {
        "id": "WMjHCJijFNwL"
      },
      "source": [
        "## 5 conv classification report"
      ]
    },
    {
      "cell_type": "code",
      "metadata": {
        "colab": {
          "base_uri": "https://localhost:8080/"
        },
        "id": "5LRf61gv_fMW",
        "outputId": "9803ada0-2eb8-43fb-c4c5-cc8a8201da64"
      },
      "source": [
        "from sklearn.metrics import classification_report\n",
        "pred  = model4.predict_classes(Xtest_norm,verbose= 0)\n",
        "print(classification_report(ytest, pred))\n",
        "print('normal = 1 , covid19 = 0')"
      ],
      "execution_count": 60,
      "outputs": [
        {
          "output_type": "stream",
          "text": [
            "              precision    recall  f1-score   support\n",
            "\n",
            "         0.0       0.98      1.00      0.99        50\n",
            "         1.0       1.00      0.98      0.99        50\n",
            "\n",
            "    accuracy                           0.99       100\n",
            "   macro avg       0.99      0.99      0.99       100\n",
            "weighted avg       0.99      0.99      0.99       100\n",
            "\n",
            "normal = 1 , covid19 = 0\n"
          ],
          "name": "stdout"
        },
        {
          "output_type": "stream",
          "text": [
            "/usr/local/lib/python3.7/dist-packages/tensorflow/python/keras/engine/sequential.py:450: UserWarning: `model.predict_classes()` is deprecated and will be removed after 2021-01-01. Please use instead:* `np.argmax(model.predict(x), axis=-1)`,   if your model does multi-class classification   (e.g. if it uses a `softmax` last-layer activation).* `(model.predict(x) > 0.5).astype(\"int32\")`,   if your model does binary classification   (e.g. if it uses a `sigmoid` last-layer activation).\n",
            "  warnings.warn('`model.predict_classes()` is deprecated and '\n"
          ],
          "name": "stderr"
        }
      ]
    },
    {
      "cell_type": "markdown",
      "metadata": {
        "id": "V7Mwfz98ylRb"
      },
      "source": [
        "# K-Fold cross validation\n"
      ]
    },
    {
      "cell_type": "markdown",
      "metadata": {
        "id": "7v5IIFDlFJHn"
      },
      "source": [
        "## 2 conv K fold"
      ]
    },
    {
      "cell_type": "code",
      "metadata": {
        "id": "Jw07WB-kKUDi"
      },
      "source": [
        "# Model With Dropout Layer\n",
        "\n",
        "\n",
        "def build_model():\n",
        "  model = Sequential()\n",
        "\n",
        "# add the convolutional layer\n",
        "# filters, size of filters, padding, activation_function, inout_shape\n",
        "  model.add(Conv2D(32,(5,5), padding = 'SAME', activation = 'relu', input_shape = (size,size,3)))\n",
        "\n",
        "  # pooling layer\n",
        "  model.add(MaxPooling2D(pool_size = (2,2)))\n",
        "\n",
        "  # place a dropout layer\n",
        "  model.add(Dropout(0.5)) ## Minimizes the overfitting\n",
        "\n",
        "  # add another convolutional layer\n",
        "  model.add(Conv2D(64,(5,5), padding = 'SAME', activation = 'relu'))\n",
        "\n",
        "  # pooling layer\n",
        "  model.add(MaxPooling2D(pool_size = (2,2)))\n",
        "\n",
        "  # place a dropout layer\n",
        "  model.add(Dropout(0.5))\n",
        "\n",
        "  # Flatten the image to 1 dimensional array\n",
        "  model.add(Flatten())\n",
        "\n",
        "  # add a dense layer : amount of nodes, activation\n",
        "  model.add(Dense(256, activation = 'relu'))\n",
        "\n",
        "  # place a dropout layer\n",
        "  # 0.5 drop out rate is recommended, half input will be dropped at each update\n",
        "  model.add(Dropout(0.5))\n",
        "  model.add(Dense(1, activation = 'sigmoid'))\n",
        "\n",
        "  # compile model\n",
        "  from tensorflow.keras.optimizers import Adam # Adam is optimizer\n",
        "# Loss function definition\n",
        "  model.compile(Adam(lr = 0.001),loss = 'binary_crossentropy', metrics = ['accuracy'])\n",
        "  return model"
      ],
      "execution_count": 11,
      "outputs": []
    },
    {
      "cell_type": "code",
      "metadata": {
        "id": "HrF2Xr0IKUAV",
        "colab": {
          "base_uri": "https://localhost:8080/"
        },
        "outputId": "7bca7074-59f2-47b6-cf82-dd8e66a95232"
      },
      "source": [
        "%%time\n",
        "\n",
        "from tensorflow.keras.wrappers.scikit_learn import KerasClassifier\n",
        "from sklearn.model_selection import KFold, cross_val_score\n",
        "import time\n",
        "\n",
        "\n",
        "estimator= KerasClassifier(build_fn=build_model, epochs=30,verbose = 1)\n",
        "kfold= KFold(n_splits=5,shuffle=True)\n",
        "results= cross_val_score(estimator, X_train_norm, y_train, cv=kfold)\n",
        "print(\"Accuracies per K-Fold \", results)\n",
        "results.mean()"
      ],
      "execution_count": null,
      "outputs": [
        {
          "output_type": "stream",
          "text": [
            "Epoch 1/30\n",
            "20/20 [==============================] - 36s 88ms/step - loss: 15.5463 - accuracy: 0.6927\n",
            "Epoch 2/30\n",
            "20/20 [==============================] - 2s 83ms/step - loss: 0.2497 - accuracy: 0.9058\n",
            "Epoch 3/30\n",
            "20/20 [==============================] - 2s 85ms/step - loss: 0.1962 - accuracy: 0.9340\n",
            "Epoch 4/30\n",
            "20/20 [==============================] - 2s 85ms/step - loss: 0.1917 - accuracy: 0.9380\n",
            "Epoch 5/30\n",
            "20/20 [==============================] - 2s 84ms/step - loss: 0.1422 - accuracy: 0.9464\n",
            "Epoch 6/30\n",
            "20/20 [==============================] - 2s 84ms/step - loss: 0.1140 - accuracy: 0.9584\n",
            "Epoch 7/30\n",
            "20/20 [==============================] - 2s 83ms/step - loss: 0.1340 - accuracy: 0.9490\n",
            "Epoch 8/30\n",
            "20/20 [==============================] - 2s 84ms/step - loss: 0.1105 - accuracy: 0.9628\n",
            "Epoch 9/30\n",
            "20/20 [==============================] - 2s 83ms/step - loss: 0.0847 - accuracy: 0.9637\n",
            "Epoch 10/30\n",
            "20/20 [==============================] - 2s 84ms/step - loss: 0.0635 - accuracy: 0.9814\n",
            "Epoch 11/30\n",
            "20/20 [==============================] - 2s 83ms/step - loss: 0.0530 - accuracy: 0.9863\n",
            "Epoch 12/30\n",
            "20/20 [==============================] - 2s 84ms/step - loss: 0.0303 - accuracy: 0.9874\n",
            "Epoch 13/30\n",
            "20/20 [==============================] - 2s 84ms/step - loss: 0.0181 - accuracy: 0.9948\n",
            "Epoch 14/30\n",
            "20/20 [==============================] - 2s 83ms/step - loss: 0.0265 - accuracy: 0.9894\n",
            "Epoch 15/30\n",
            "20/20 [==============================] - 2s 84ms/step - loss: 0.0353 - accuracy: 0.9891\n",
            "Epoch 16/30\n",
            "20/20 [==============================] - 2s 83ms/step - loss: 0.0313 - accuracy: 0.9877\n",
            "Epoch 17/30\n",
            "20/20 [==============================] - 2s 84ms/step - loss: 0.0368 - accuracy: 0.9905\n",
            "Epoch 18/30\n",
            "20/20 [==============================] - 2s 83ms/step - loss: 0.0274 - accuracy: 0.9923\n",
            "Epoch 19/30\n",
            "20/20 [==============================] - 2s 83ms/step - loss: 0.0139 - accuracy: 0.9963\n",
            "Epoch 20/30\n",
            "20/20 [==============================] - 2s 84ms/step - loss: 0.0130 - accuracy: 0.9964\n",
            "Epoch 21/30\n",
            "20/20 [==============================] - 2s 84ms/step - loss: 0.0091 - accuracy: 0.9967\n",
            "Epoch 22/30\n",
            "20/20 [==============================] - 2s 84ms/step - loss: 0.0039 - accuracy: 0.9997\n",
            "Epoch 23/30\n",
            "20/20 [==============================] - 2s 84ms/step - loss: 0.0113 - accuracy: 0.9977\n",
            "Epoch 24/30\n",
            "20/20 [==============================] - 2s 85ms/step - loss: 0.0046 - accuracy: 0.9995\n",
            "Epoch 25/30\n",
            "20/20 [==============================] - 2s 84ms/step - loss: 0.0050 - accuracy: 1.0000\n",
            "Epoch 26/30\n",
            "20/20 [==============================] - 2s 84ms/step - loss: 0.0040 - accuracy: 1.0000\n",
            "Epoch 27/30\n",
            "20/20 [==============================] - 2s 84ms/step - loss: 0.0058 - accuracy: 0.9989\n",
            "Epoch 28/30\n",
            "20/20 [==============================] - 2s 85ms/step - loss: 0.0015 - accuracy: 1.0000\n",
            "Epoch 29/30\n",
            "20/20 [==============================] - 2s 83ms/step - loss: 0.0031 - accuracy: 1.0000\n",
            "Epoch 30/30\n",
            "20/20 [==============================] - 2s 83ms/step - loss: 0.0035 - accuracy: 1.0000\n",
            "5/5 [==============================] - 0s 26ms/step - loss: 0.0950 - accuracy: 0.9688\n",
            "Epoch 1/30\n",
            "20/20 [==============================] - 2s 85ms/step - loss: 24.5475 - accuracy: 0.5450\n",
            "Epoch 2/30\n",
            "20/20 [==============================] - 2s 84ms/step - loss: 0.3158 - accuracy: 0.8784\n",
            "Epoch 3/30\n",
            "20/20 [==============================] - 2s 84ms/step - loss: 0.1624 - accuracy: 0.9474\n",
            "Epoch 4/30\n",
            "20/20 [==============================] - 2s 84ms/step - loss: 0.1303 - accuracy: 0.9488\n",
            "Epoch 5/30\n",
            "20/20 [==============================] - 2s 84ms/step - loss: 0.0898 - accuracy: 0.9681\n",
            "Epoch 6/30\n",
            "20/20 [==============================] - 2s 85ms/step - loss: 0.0807 - accuracy: 0.9708\n",
            "Epoch 7/30\n",
            "20/20 [==============================] - 2s 84ms/step - loss: 0.0690 - accuracy: 0.9770\n",
            "Epoch 8/30\n",
            "20/20 [==============================] - 2s 85ms/step - loss: 0.0679 - accuracy: 0.9749\n",
            "Epoch 9/30\n",
            "20/20 [==============================] - 2s 84ms/step - loss: 0.0391 - accuracy: 0.9906\n",
            "Epoch 10/30\n",
            "20/20 [==============================] - 2s 84ms/step - loss: 0.0562 - accuracy: 0.9738\n",
            "Epoch 11/30\n",
            "20/20 [==============================] - 2s 85ms/step - loss: 0.0731 - accuracy: 0.9743\n",
            "Epoch 12/30\n",
            "20/20 [==============================] - 2s 84ms/step - loss: 0.0438 - accuracy: 0.9835\n",
            "Epoch 13/30\n",
            "20/20 [==============================] - 2s 84ms/step - loss: 0.0392 - accuracy: 0.9894\n",
            "Epoch 14/30\n",
            "20/20 [==============================] - 2s 85ms/step - loss: 0.0192 - accuracy: 0.9903\n",
            "Epoch 15/30\n",
            "20/20 [==============================] - 2s 85ms/step - loss: 0.0301 - accuracy: 0.9924\n",
            "Epoch 16/30\n",
            "20/20 [==============================] - 2s 85ms/step - loss: 0.0389 - accuracy: 0.9863\n",
            "Epoch 17/30\n",
            "20/20 [==============================] - 2s 85ms/step - loss: 0.0291 - accuracy: 0.9941\n",
            "Epoch 18/30\n",
            "20/20 [==============================] - 2s 86ms/step - loss: 0.0295 - accuracy: 0.9913\n",
            "Epoch 19/30\n",
            "20/20 [==============================] - 2s 85ms/step - loss: 0.0527 - accuracy: 0.9796\n",
            "Epoch 20/30\n",
            "20/20 [==============================] - 2s 86ms/step - loss: 0.0401 - accuracy: 0.9869\n",
            "Epoch 21/30\n",
            "20/20 [==============================] - 2s 85ms/step - loss: 0.0260 - accuracy: 0.9836\n",
            "Epoch 22/30\n",
            "20/20 [==============================] - 2s 84ms/step - loss: 0.0340 - accuracy: 0.9884\n",
            "Epoch 23/30\n",
            "20/20 [==============================] - 2s 85ms/step - loss: 0.0092 - accuracy: 0.9995\n",
            "Epoch 24/30\n",
            "20/20 [==============================] - 2s 86ms/step - loss: 0.0187 - accuracy: 0.9942\n",
            "Epoch 25/30\n",
            "20/20 [==============================] - 2s 85ms/step - loss: 0.0087 - accuracy: 1.0000\n",
            "Epoch 26/30\n",
            "20/20 [==============================] - 2s 85ms/step - loss: 0.0031 - accuracy: 0.9992\n",
            "Epoch 27/30\n",
            "20/20 [==============================] - 2s 86ms/step - loss: 0.0021 - accuracy: 1.0000\n",
            "Epoch 28/30\n",
            "20/20 [==============================] - 2s 85ms/step - loss: 7.7059e-04 - accuracy: 1.0000\n",
            "Epoch 29/30\n",
            "20/20 [==============================] - 2s 85ms/step - loss: 0.0035 - accuracy: 0.9990\n",
            "Epoch 30/30\n",
            "20/20 [==============================] - 2s 84ms/step - loss: 0.0115 - accuracy: 0.9968\n",
            "5/5 [==============================] - 0s 25ms/step - loss: 0.1323 - accuracy: 0.9625\n"
          ],
          "name": "stdout"
        }
      ]
    },
    {
      "cell_type": "code",
      "metadata": {
        "id": "QvSHfM1TKT3M"
      },
      "source": [
        "print(\"Accuracies per K-Fold \", results)\n",
        "results.mean()"
      ],
      "execution_count": null,
      "outputs": []
    },
    {
      "cell_type": "code",
      "metadata": {
        "id": "uurmjm4pKT0f"
      },
      "source": [
        "results.max()"
      ],
      "execution_count": null,
      "outputs": []
    },
    {
      "cell_type": "code",
      "metadata": {
        "id": "XAj-0d_xKTxe"
      },
      "source": [
        "results.min()"
      ],
      "execution_count": null,
      "outputs": []
    },
    {
      "cell_type": "code",
      "metadata": {
        "id": "HRAZ-CEqKTuU"
      },
      "source": [
        "results.std()"
      ],
      "execution_count": null,
      "outputs": []
    },
    {
      "cell_type": "markdown",
      "metadata": {
        "id": "xeOul1FHFFgK"
      },
      "source": [
        "## 3 conv K fold"
      ]
    },
    {
      "cell_type": "code",
      "metadata": {
        "id": "dQ2aoQsZ_4l4"
      },
      "source": [
        "# Model With Dropout Layer\n",
        "\n",
        "\n",
        "def build_model2():\n",
        "  model2 = Sequential()\n",
        "\n",
        "# add the convolutional layer\n",
        "# filters, size of filters, padding, activation_function, inout_shape\n",
        "  model2.add(Conv2D(32,(5,5),padding = 'SAME', activation = 'relu', input_shape = (size,size,3)))\n",
        "\n",
        "# pooling layer\n",
        "  model2.add(MaxPooling2D(pool_size = (2,2)))\n",
        "\n",
        "# place a dropout layer\n",
        "  model2.add(Dropout(0.5)) ## Minimizes the overfitting\n",
        "\n",
        "# add another convolutional layer\n",
        "  model2.add(Conv2D(64,(5,5),padding = 'SAME', activation = 'relu'))\n",
        "\n",
        "# pooling layer\n",
        "  model2.add(MaxPooling2D(pool_size = (2,2)))\n",
        "\n",
        "# place a dropout layer\n",
        "  model2.add(Dropout(0.5))\n",
        "\n",
        "# add another convolutional layer\n",
        "  model2.add(Conv2D(64,(5,5),padding = 'SAME', activation = 'relu'))\n",
        "\n",
        "# pooling layer\n",
        "  model2.add(MaxPooling2D(pool_size = (2,2)))\n",
        "\n",
        "# place a dropout layer\n",
        "  model2.add(Dropout(0.5))\n",
        "\n",
        "# Flatten the image to 1 dimensional array\n",
        "  model2.add(Flatten())\n",
        "\n",
        "# add a dense layer : amount of nodes, activation\n",
        "  model2.add(Dense(256, activation = 'relu'))\n",
        "\n",
        "# place a dropout layer\n",
        "# 0.5 drop out rate is recommended, half input will be dropped at each update\n",
        "  model2.add(Dropout(0.5))\n",
        "  model2.add(Dense(1, activation = 'sigmoid'))\n",
        "  # compile model\n",
        "  from tensorflow.keras.optimizers import Adam # Adam is optimizer\n",
        "  # Loss function definition\n",
        "  model2.compile(Adam(lr = 0.001),loss = 'binary_crossentropy', metrics = ['accuracy'])\n",
        "  return model2\n",
        "\n"
      ],
      "execution_count": null,
      "outputs": []
    },
    {
      "cell_type": "code",
      "metadata": {
        "id": "loLnrguVA49-"
      },
      "source": [
        "%%time\n",
        "from tensorflow.keras.wrappers.scikit_learn import KerasClassifier\n",
        "from sklearn.model_selection import KFold, cross_val_score\n",
        "import time\n",
        "\n",
        "\n",
        "estimator= KerasClassifier(build_fn=build_model2, epochs=30,verbose = 1)\n",
        "kfold= KFold(n_splits=5,shuffle=True)\n",
        "results= cross_val_score(estimator, X_train_norm, y_train, cv=kfold)\n",
        "print(\"Accuracies per K-Fold \", results)\n",
        "results.mean()"
      ],
      "execution_count": null,
      "outputs": []
    },
    {
      "cell_type": "code",
      "metadata": {
        "id": "AX4Yd4TQCBNC"
      },
      "source": [
        "print(\"Accuracies per K-Fold \", results)\n",
        "results.mean()"
      ],
      "execution_count": null,
      "outputs": []
    },
    {
      "cell_type": "code",
      "metadata": {
        "id": "UMLKL7R4CBNK"
      },
      "source": [
        "results.max()"
      ],
      "execution_count": null,
      "outputs": []
    },
    {
      "cell_type": "code",
      "metadata": {
        "id": "TXti18GJCBNM"
      },
      "source": [
        "results.min()"
      ],
      "execution_count": null,
      "outputs": []
    },
    {
      "cell_type": "code",
      "metadata": {
        "id": "S9oNRJMVCBNN"
      },
      "source": [
        "results.std()"
      ],
      "execution_count": null,
      "outputs": []
    },
    {
      "cell_type": "code",
      "metadata": {
        "id": "Ydc1ECxzC1_Y"
      },
      "source": [
        ""
      ],
      "execution_count": null,
      "outputs": []
    },
    {
      "cell_type": "markdown",
      "metadata": {
        "id": "YWW3IP7OFBpZ"
      },
      "source": [
        "## 4 conv K fold"
      ]
    },
    {
      "cell_type": "code",
      "metadata": {
        "id": "uOsDWcNjC32h"
      },
      "source": [
        "# Model With Dropout Layer\n",
        "\n",
        "def build_model3():\n",
        "  model3 = Sequential()\n",
        "\n",
        "# add the convolutional layer\n",
        "# filters, size of filters, padding, activation_function, inout_shape\n",
        "  model3.add(Conv2D(32,(5,5),padding = 'SAME', activation = 'relu', input_shape = (size,size,3)))\n",
        "\n",
        "# pooling layer\n",
        "  model3.add(MaxPooling2D(pool_size = (2,2)))\n",
        "\n",
        "# place a dropout layer\n",
        "  model3.add(Dropout(0.5)) ## Minimizes the overfitting\n",
        "\n",
        "# add another convolutional layer\n",
        "  model3.add(Conv2D(64,(5,5),padding = 'SAME', activation = 'relu'))\n",
        "\n",
        "# pooling layer\n",
        "  model3.add(MaxPooling2D(pool_size = (2,2)))\n",
        "\n",
        "# place a dropout layer\n",
        "  model3.add(Dropout(0.5))\n",
        "\n",
        "# add another convolutional layer\n",
        "  model3.add(Conv2D(64,(5,5),padding = 'SAME', activation = 'relu'))\n",
        "\n",
        "# pooling layer\n",
        "  model3.add(MaxPooling2D(pool_size = (2,2)))\n",
        "\n",
        "# place a dropout layer\n",
        "  model3.add(Dropout(0.5))\n",
        "\n",
        "# add another convolutional layer\n",
        "  model3.add(Conv2D(64,(5,5),padding = 'SAME', activation = 'relu'))\n",
        "\n",
        "# pooling layer\n",
        "  model3.add(MaxPooling2D(pool_size = (2,2)))\n",
        "\n",
        "# place a dropout layer\n",
        "  model3.add(Dropout(0.5))\n",
        "\n",
        "# Flatten the image to 1 dimensional array\n",
        "  model3.add(Flatten())\n",
        "\n",
        "# add a dense layer : amount of nodes, activation\n",
        "  model3.add(Dense(256, activation = 'relu'))\n",
        "\n",
        "# place a dropout layer\n",
        "# 0.5 drop out rate is recommended, half input will be dropped at each update\n",
        "  model3.add(Dropout(0.5))\n",
        "  model3.add(Dense(1, activation = 'sigmoid'))\n",
        "  # compile model\n",
        "  from tensorflow.keras.optimizers import Adam # Adam is optimizer\n",
        "  # Loss function definition\n",
        "  model3.compile(Adam(lr = 0.001),loss = 'binary_crossentropy', metrics = ['accuracy'])\n",
        "  return model3\n",
        "\n"
      ],
      "execution_count": null,
      "outputs": []
    },
    {
      "cell_type": "code",
      "metadata": {
        "id": "2F180C-6C32k"
      },
      "source": [
        "%%time\n",
        "from tensorflow.keras.wrappers.scikit_learn import KerasClassifier\n",
        "from sklearn.model_selection import KFold, cross_val_score\n",
        "import time\n",
        "\n",
        "\n",
        "estimator= KerasClassifier(build_fn=build_model3, epochs=30,verbose = 1)\n",
        "kfold= KFold(n_splits=5,shuffle=True)\n",
        "results= cross_val_score(estimator, X_train_norm, y_train, cv=kfold)\n",
        "print(\"Accuracies per K-Fold \", results)\n",
        "results.mean()"
      ],
      "execution_count": null,
      "outputs": []
    },
    {
      "cell_type": "code",
      "metadata": {
        "id": "tfXRX6pRC32l"
      },
      "source": [
        "print(\"Accuracies per K-Fold \", results)\n",
        "results.mean()"
      ],
      "execution_count": null,
      "outputs": []
    },
    {
      "cell_type": "code",
      "metadata": {
        "id": "tf9in_61C32l"
      },
      "source": [
        "results.max()"
      ],
      "execution_count": null,
      "outputs": []
    },
    {
      "cell_type": "code",
      "metadata": {
        "id": "NjTPKimdC32m"
      },
      "source": [
        "results.min()"
      ],
      "execution_count": null,
      "outputs": []
    },
    {
      "cell_type": "code",
      "metadata": {
        "id": "KWZuSQMhC32m"
      },
      "source": [
        "results.std()"
      ],
      "execution_count": null,
      "outputs": []
    },
    {
      "cell_type": "code",
      "metadata": {
        "id": "XiOEw37UEgDn"
      },
      "source": [
        ""
      ],
      "execution_count": null,
      "outputs": []
    },
    {
      "cell_type": "markdown",
      "metadata": {
        "id": "q8mAeM6ME6Gk"
      },
      "source": [
        "## 5 conv K fold"
      ]
    },
    {
      "cell_type": "code",
      "metadata": {
        "id": "73weJLI0EhAt"
      },
      "source": [
        "# Model With Dropout Layer\n",
        "\n",
        "def build_model4():\n",
        "  model4 = Sequential()\n",
        "\n",
        "# add the convolutional layer\n",
        "# filters, size of filters, padding, activation_function, inout_shape\n",
        "  model4.add(Conv2D(32,(5,5),padding = 'SAME', activation = 'relu', input_shape = (size,size,3)))\n",
        "\n",
        "# pooling layer\n",
        "  model4.add(MaxPooling2D(pool_size = (2,2)))\n",
        "\n",
        "# place a dropout layer\n",
        "  model4.add(Dropout(0.5)) ## Minimizes the overfitting\n",
        "\n",
        "# add another convolutional layer\n",
        "  model4.add(Conv2D(64,(5,5),padding = 'SAME', activation = 'relu'))\n",
        "\n",
        "# pooling layer\n",
        "  model4.add(MaxPooling2D(pool_size = (2,2)))\n",
        "\n",
        "# place a dropout layer\n",
        "  model4.add(Dropout(0.5))\n",
        "\n",
        "# add another convolutional layer\n",
        "  model4.add(Conv2D(64,(5,5),padding = 'SAME', activation = 'relu'))\n",
        "\n",
        "# pooling layer\n",
        "  model4.add(MaxPooling2D(pool_size = (2,2)))\n",
        "\n",
        "# place a dropout layer\n",
        "  model4.add(Dropout(0.5))\n",
        "\n",
        "# add another convolutional layer\n",
        "  model4.add(Conv2D(64,(5,5),padding = 'SAME', activation = 'relu'))\n",
        "\n",
        "# pooling layer\n",
        "  model4.add(MaxPooling2D(pool_size = (2,2)))\n",
        "\n",
        "# place a dropout layer\n",
        "  model4.add(Dropout(0.5))\n",
        "\n",
        "  # add another convolutional layer\n",
        "  model4.add(Conv2D(64,(5,5),padding = 'SAME', activation = 'relu'))\n",
        "\n",
        "# pooling layer\n",
        "  model4.add(MaxPooling2D(pool_size = (2,2)))\n",
        "\n",
        "# place a dropout layer\n",
        "  model4.add(Dropout(0.5))\n",
        "\n",
        "# Flatten the image to 1 dimensional array\n",
        "  model4.add(Flatten())\n",
        "\n",
        "# add a dense layer : amount of nodes, activation\n",
        "  model4.add(Dense(256, activation = 'relu'))\n",
        "\n",
        "# place a dropout layer\n",
        "# 0.5 drop out rate is recommended, half input will be dropped at each update\n",
        "  model4.add(Dropout(0.5))\n",
        "  model4.add(Dense(1, activation = 'sigmoid'))\n",
        "  # compile model\n",
        "  from tensorflow.keras.optimizers import Adam # Adam is optimizer\n",
        "  # Loss function definition\n",
        "  model4.compile(Adam(lr = 0.001),loss = 'binary_crossentropy', metrics = ['accuracy'])\n",
        "  return model4\n",
        "\n"
      ],
      "execution_count": null,
      "outputs": []
    },
    {
      "cell_type": "code",
      "metadata": {
        "id": "jS9qM5YIEhBD"
      },
      "source": [
        "%%time\n",
        "from tensorflow.keras.wrappers.scikit_learn import KerasClassifier\n",
        "from sklearn.model_selection import KFold, cross_val_score\n",
        "import time\n",
        "\n",
        "\n",
        "estimator= KerasClassifier(build_fn=build_model4, epochs=30,verbose = 1)\n",
        "kfold= KFold(n_splits=5,shuffle=True)\n",
        "results= cross_val_score(estimator, X_train_norm, y_train, cv=kfold)\n",
        "print(\"Accuracies per K-Fold \", results)\n",
        "results.mean()"
      ],
      "execution_count": null,
      "outputs": []
    },
    {
      "cell_type": "code",
      "metadata": {
        "id": "h4H0yFq_EhBG"
      },
      "source": [
        "print(\"Accuracies per K-Fold \", results)\n",
        "results.mean()"
      ],
      "execution_count": null,
      "outputs": []
    },
    {
      "cell_type": "code",
      "metadata": {
        "id": "6Q_yp_dWEhBH"
      },
      "source": [
        "results.max()"
      ],
      "execution_count": null,
      "outputs": []
    },
    {
      "cell_type": "code",
      "metadata": {
        "id": "SSqYC5CCEhBI"
      },
      "source": [
        "results.min()"
      ],
      "execution_count": null,
      "outputs": []
    },
    {
      "cell_type": "code",
      "metadata": {
        "id": "B_kQFKWXEhBM"
      },
      "source": [
        "results.std()"
      ],
      "execution_count": null,
      "outputs": []
    },
    {
      "cell_type": "code",
      "metadata": {
        "id": "hljsaOnZKTlX"
      },
      "source": [
        "%%time\n",
        "from sklearn.model_selection import cross_val_predict,\n",
        "from sklearn.metrics import confusion_matrix\n",
        "\n",
        "y_pred = cross_val_predict(estimator, Xtest_norm, ytest, cv=kfold)\n",
        "conf_mat = confusion_matrix(ytest, y_pred)"
      ],
      "execution_count": null,
      "outputs": []
    },
    {
      "cell_type": "code",
      "metadata": {
        "id": "wcVeYsr4KTiS"
      },
      "source": [
        ""
      ],
      "execution_count": null,
      "outputs": []
    },
    {
      "cell_type": "code",
      "metadata": {
        "id": "ZPbCAME9KTfU"
      },
      "source": [
        ""
      ],
      "execution_count": null,
      "outputs": []
    },
    {
      "cell_type": "code",
      "metadata": {
        "id": "dkauMqROKTcT"
      },
      "source": [
        ""
      ],
      "execution_count": null,
      "outputs": []
    }
  ]
}